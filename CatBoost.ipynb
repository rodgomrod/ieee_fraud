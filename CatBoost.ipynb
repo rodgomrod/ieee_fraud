{
 "cells": [
  {
   "cell_type": "markdown",
   "metadata": {},
   "source": [
    "# CatBoost"
   ]
  },
  {
   "cell_type": "markdown",
   "metadata": {},
   "source": [
    "### Libraries"
   ]
  },
  {
   "cell_type": "code",
   "execution_count": 1,
   "metadata": {},
   "outputs": [],
   "source": [
    "import warnings\n",
    "warnings.filterwarnings('ignore')\n",
    "\n",
    "import pandas as pd\n",
    "import numpy as np\n",
    "import matplotlib.pyplot as plt\n",
    "from collections import Counter, defaultdict\n",
    "import gc\n",
    "import logging\n",
    "from catboost import CatBoostClassifier\n",
    "from sklearn.model_selection import StratifiedKFold\n",
    "import datetime\n",
    "\n",
    "from utils.schemas import *\n",
    "from utils.functions import *"
   ]
  },
  {
   "cell_type": "markdown",
   "metadata": {},
   "source": [
    "### Logging"
   ]
  },
  {
   "cell_type": "code",
   "execution_count": 2,
   "metadata": {},
   "outputs": [],
   "source": [
    "LOG_NAME = 'logs/CatBoost.log'\n",
    "logging.basicConfig(filename=LOG_NAME, level=logging.WARNING, format='%(asctime)s %(message)s')\n",
    "logging.warning(\"\")\n",
    "logging.warning(\"##### New Catboot Model #####\")"
   ]
  },
  {
   "cell_type": "markdown",
   "metadata": {},
   "source": [
    "### Data"
   ]
  },
  {
   "cell_type": "code",
   "execution_count": 3,
   "metadata": {},
   "outputs": [],
   "source": [
    "df_imp = pd.read_csv('docs/ft_importances_20190831.csv')"
   ]
  },
  {
   "cell_type": "code",
   "execution_count": 4,
   "metadata": {},
   "outputs": [],
   "source": [
    "X_cols = df_imp[df_imp.importance > 0.08].feature.to_list()"
   ]
  },
  {
   "cell_type": "code",
   "execution_count": 9,
   "metadata": {},
   "outputs": [
    {
     "data": {
      "text/plain": [
       "227"
      ]
     },
     "execution_count": 9,
     "metadata": {},
     "output_type": "execute_result"
    }
   ],
   "source": [
    "len(X_cols)"
   ]
  },
  {
   "cell_type": "code",
   "execution_count": 10,
   "metadata": {},
   "outputs": [
    {
     "data": {
      "text/plain": [
       "['R1',\n",
       " 'card1',\n",
       " 'R12',\n",
       " 'TransactionAmt',\n",
       " 'N6',\n",
       " 'C1',\n",
       " 'N1',\n",
       " 'N5',\n",
       " 'card2',\n",
       " 'R4',\n",
       " 'addr1',\n",
       " 'R11',\n",
       " 'R3',\n",
       " 'R7',\n",
       " 'N3',\n",
       " 'R29',\n",
       " 'C13',\n",
       " 'card1_fe1',\n",
       " 'R8',\n",
       " 'R28',\n",
       " 'R9',\n",
       " 'C11',\n",
       " 'R17',\n",
       " 'D2',\n",
       " 'C14',\n",
       " 'R13',\n",
       " 'D1',\n",
       " 'R5',\n",
       " 'C6',\n",
       " 'Transaction_hour',\n",
       " 'card2_fe1',\n",
       " 'dist1',\n",
       " 'C2',\n",
       " 'R21',\n",
       " 'R2',\n",
       " 'addr1_fe1',\n",
       " 'M5',\n",
       " 'card5',\n",
       " 'N2',\n",
       " 'V307',\n",
       " 'card1_fe2',\n",
       " 'M5_fe2',\n",
       " 'id_02',\n",
       " 'R19',\n",
       " 'P_emaildomain',\n",
       " 'P_emaildomain_0_fe1',\n",
       " 'N4',\n",
       " 'DeviceInfo',\n",
       " 'Transaction_day_of_week',\n",
       " 'P_emaildomain_0',\n",
       " 'addr1_fe2',\n",
       " 'V258',\n",
       " 'V257',\n",
       " 'C12',\n",
       " 'C9',\n",
       " 'M4_fe2',\n",
       " 'id_31',\n",
       " 'V317',\n",
       " 'card2_fe2',\n",
       " 'V45',\n",
       " 'id_20',\n",
       " 'id_19',\n",
       " 'card6',\n",
       " 'P_emaildomain_fe1',\n",
       " 'V308',\n",
       " 'P_emaildomain_fe2',\n",
       " 'R20',\n",
       " 'V315',\n",
       " 'V310',\n",
       " 'V53',\n",
       " 'C8',\n",
       " 'M6_fe1',\n",
       " 'V313',\n",
       " 'V201',\n",
       " 'M4',\n",
       " 'R18',\n",
       " 'C4',\n",
       " 'card6_fe1',\n",
       " 'card6_fe2',\n",
       " 'R_emaildomain_0',\n",
       " 'V314',\n",
       " 'V283',\n",
       " 'P_emaildomain_0_fe2',\n",
       " 'V282',\n",
       " 'V285',\n",
       " 'V200',\n",
       " 'C10',\n",
       " 'V83',\n",
       " 'R14',\n",
       " 'R27',\n",
       " 'card5_fe1',\n",
       " 'V189',\n",
       " 'card5_fe2',\n",
       " 'V294',\n",
       " 'R22',\n",
       " 'C7',\n",
       " 'V127',\n",
       " 'M6',\n",
       " 'V54',\n",
       " 'V244',\n",
       " 'M5_fe1',\n",
       " 'card4',\n",
       " 'id_05',\n",
       " 'V87',\n",
       " 'V62',\n",
       " 'V188',\n",
       " 'V246',\n",
       " 'id_33',\n",
       " 'id_13',\n",
       " 'id_06',\n",
       " 'R10',\n",
       " 'V243',\n",
       " 'V312',\n",
       " 'V44',\n",
       " 'V281',\n",
       " 'V280',\n",
       " 'dist2',\n",
       " 'C5',\n",
       " 'id_01',\n",
       " 'V187',\n",
       " 'R_emaildomain',\n",
       " 'M6_fe2',\n",
       " 'V318',\n",
       " 'V75',\n",
       " 'proc_id_31_0',\n",
       " 'V242',\n",
       " 'V82',\n",
       " 'R16',\n",
       " 'M3',\n",
       " 'id_31_fe1',\n",
       " 'V259',\n",
       " 'R_emaildomain_fe2',\n",
       " 'V320',\n",
       " 'id_20_fe1',\n",
       " 'card3',\n",
       " 'V306',\n",
       " 'V130',\n",
       " 'V67',\n",
       " 'id_03',\n",
       " 'V245',\n",
       " 'V76',\n",
       " 'V13',\n",
       " 'device_name',\n",
       " 'M4_fe1',\n",
       " 'device_version',\n",
       " 'ProductCD',\n",
       " 'V86',\n",
       " 'V61',\n",
       " 'V133',\n",
       " 'V199',\n",
       " 'V12',\n",
       " 'V128',\n",
       " 'V291',\n",
       " 'id_30',\n",
       " 'V316',\n",
       " 'V38',\n",
       " 'card4_fe1',\n",
       " 'id_20_fe2',\n",
       " 'R15',\n",
       " 'V295',\n",
       " 'id_19_fe1',\n",
       " 'device_name_fe1',\n",
       " 'V149',\n",
       " 'V78',\n",
       " 'D9',\n",
       " 'card4_fe2',\n",
       " 'M2',\n",
       " 'V131',\n",
       " 'id_38_fe1',\n",
       " 'id_19_fe2',\n",
       " 'V274',\n",
       " 'V19',\n",
       " 'R_emaildomain_0_fe2',\n",
       " 'card3_fe2',\n",
       " 'V36',\n",
       " 'V156',\n",
       " 'V20',\n",
       " 'V309',\n",
       " 'id_09',\n",
       " 'V264',\n",
       " 'V279',\n",
       " 'V233',\n",
       " 'V287',\n",
       " 'D13',\n",
       " 'V186',\n",
       " 'id_31_fe2',\n",
       " 'R25',\n",
       " 'P_emaildomain_1',\n",
       " 'M7',\n",
       " 'V190',\n",
       " 'V96',\n",
       " 'V29',\n",
       " 'V102',\n",
       " 'id_18_fe1',\n",
       " 'addr2',\n",
       " 'V136',\n",
       " 'R_emaildomain_fe1',\n",
       " 'id_18',\n",
       " 'M3_fe2',\n",
       " 'V134',\n",
       " 'M9',\n",
       " 'id_17',\n",
       " 'V296',\n",
       " 'card3_fe1',\n",
       " 'V129',\n",
       " 'V56',\n",
       " 'id_38',\n",
       " 'V99',\n",
       " 'id_14',\n",
       " 'V97',\n",
       " 'V126',\n",
       " 'V275',\n",
       " 'DeviceType_fe1',\n",
       " 'M3_fe1',\n",
       " 'V35',\n",
       " 'M8',\n",
       " 'V273',\n",
       " 'addr2_fe1',\n",
       " 'R23',\n",
       " 'D14',\n",
       " 'R_emaildomain_0_fe1',\n",
       " 'V289',\n",
       " 'R26',\n",
       " 'id_13_fe1',\n",
       " 'device_name_fe2',\n",
       " 'proc_id_31_0_fe1',\n",
       " 'V311']"
      ]
     },
     "execution_count": 10,
     "metadata": {},
     "output_type": "execute_result"
    }
   ],
   "source": [
    "X_cols"
   ]
  },
  {
   "cell_type": "code",
   "execution_count": 6,
   "metadata": {},
   "outputs": [],
   "source": [
    "data_folder = 'input'"
   ]
  },
  {
   "cell_type": "code",
   "execution_count": 7,
   "metadata": {},
   "outputs": [],
   "source": [
    "train = pd.read_csv(data_folder+'/train_ft_eng_1.csv', dtype = schema_ft_eng_1, usecols=X_cols+['isFraud', 'TransactionDT'])\n",
    "test = pd.read_csv(data_folder+'/test_ft_eng_1.csv', dtype = schema_ft_eng_1, usecols=X_cols)"
   ]
  },
  {
   "cell_type": "code",
   "execution_count": 8,
   "metadata": {},
   "outputs": [],
   "source": [
    "X = train[X_cols]\n",
    "y = train.isFraud"
   ]
  },
  {
   "cell_type": "markdown",
   "metadata": {},
   "source": [
    "### Model"
   ]
  },
  {
   "cell_type": "code",
   "execution_count": 11,
   "metadata": {},
   "outputs": [],
   "source": [
    "logging.warning(\"Used columns: {}\".format(X_cols))\n",
    "k = 5\n",
    "logging.warning(\"Folds number: {}\".format(k))"
   ]
  },
  {
   "cell_type": "code",
   "execution_count": 12,
   "metadata": {},
   "outputs": [],
   "source": [
    "train_ids = X.index\n",
    "skf = StratifiedKFold(n_splits=k, shuffle=True, random_state=42)"
   ]
  },
  {
   "cell_type": "markdown",
   "metadata": {},
   "source": [
    "#### CatBoost"
   ]
  },
  {
   "cell_type": "code",
   "execution_count": 13,
   "metadata": {},
   "outputs": [],
   "source": [
    "params = {'depth':11,\n",
    "          'iterations':20000,\n",
    "          'eval_metric':'AUC',\n",
    "          'random_seed':42,\n",
    "          'logging_level':'Verbose',\n",
    "          'allow_writing_files':False,\n",
    "          'early_stopping_rounds':20,\n",
    "          'learning_rate':0.01,\n",
    "          'thread_count':8,\n",
    "          'boosting_type':'Plain',\n",
    "          'bootstrap_type':'Bernoulli',\n",
    "          'rsm':0.6}"
   ]
  },
  {
   "cell_type": "code",
   "execution_count": 14,
   "metadata": {},
   "outputs": [],
   "source": [
    "model_cb = CatBoostClassifier(**params)"
   ]
  },
  {
   "cell_type": "code",
   "execution_count": 15,
   "metadata": {},
   "outputs": [],
   "source": [
    "logging.warning(\"Params: {}\".format(str(model_cb.get_params())))"
   ]
  },
  {
   "cell_type": "code",
   "execution_count": 16,
   "metadata": {},
   "outputs": [],
   "source": [
    "cat_ft_id = list()\n",
    "n = 0\n",
    "for c in X.columns:\n",
    "    if c in cat_ft:\n",
    "        cat_ft_id.append(n)\n",
    "    n += 1"
   ]
  },
  {
   "cell_type": "code",
   "execution_count": 17,
   "metadata": {
    "scrolled": true
   },
   "outputs": [
    {
     "name": "stdout",
     "output_type": "stream",
     "text": [
      "Fold 1\n",
      "\n",
      "0:\ttest: 0.8080485\tbest: 0.8080485 (0)\ttotal: 3.66s\tremaining: 20h 19m 58s\n",
      "100:\ttest: 0.8686341\tbest: 0.8686915 (99)\ttotal: 5m 45s\tremaining: 18h 54m 3s\n"
     ]
    },
    {
     "ename": "KeyboardInterrupt",
     "evalue": "",
     "output_type": "error",
     "traceback": [
      "\u001b[0;31m---------------------------------------------------------------------------\u001b[0m",
      "\u001b[0;31mKeyboardInterrupt\u001b[0m                         Traceback (most recent call last)",
      "\u001b[0;32m<ipython-input-17-aaa83412d578>\u001b[0m in \u001b[0;36m<module>\u001b[0;34m\u001b[0m\n\u001b[1;32m     13\u001b[0m              \u001b[0mcat_features\u001b[0m\u001b[0;34m=\u001b[0m\u001b[0mcat_ft_id\u001b[0m\u001b[0;34m,\u001b[0m\u001b[0;34m\u001b[0m\u001b[0;34m\u001b[0m\u001b[0m\n\u001b[1;32m     14\u001b[0m              \u001b[0meval_set\u001b[0m\u001b[0;34m=\u001b[0m\u001b[0;34m(\u001b[0m\u001b[0mX_val\u001b[0m\u001b[0;34m,\u001b[0m \u001b[0my_val\u001b[0m\u001b[0;34m)\u001b[0m\u001b[0;34m,\u001b[0m\u001b[0;34m\u001b[0m\u001b[0;34m\u001b[0m\u001b[0m\n\u001b[0;32m---> 15\u001b[0;31m              \u001b[0mverbose\u001b[0m\u001b[0;34m=\u001b[0m\u001b[0;36m100\u001b[0m\u001b[0;34m\u001b[0m\u001b[0;34m\u001b[0m\u001b[0m\n\u001b[0m\u001b[1;32m     16\u001b[0m              )\n\u001b[1;32m     17\u001b[0m \u001b[0;34m\u001b[0m\u001b[0m\n",
      "\u001b[0;32m~/.local/lib/python3.6/site-packages/catboost/core.py\u001b[0m in \u001b[0;36mfit\u001b[0;34m(self, X, y, cat_features, sample_weight, baseline, use_best_model, eval_set, verbose, logging_level, plot, column_description, verbose_eval, metric_period, silent, early_stopping_rounds, save_snapshot, snapshot_file, snapshot_interval, init_model)\u001b[0m\n\u001b[1;32m   2801\u001b[0m         self._fit(X, y, cat_features, None, sample_weight, None, None, None, None, baseline, use_best_model,\n\u001b[1;32m   2802\u001b[0m                   \u001b[0meval_set\u001b[0m\u001b[0;34m,\u001b[0m \u001b[0mverbose\u001b[0m\u001b[0;34m,\u001b[0m \u001b[0mlogging_level\u001b[0m\u001b[0;34m,\u001b[0m \u001b[0mplot\u001b[0m\u001b[0;34m,\u001b[0m \u001b[0mcolumn_description\u001b[0m\u001b[0;34m,\u001b[0m \u001b[0mverbose_eval\u001b[0m\u001b[0;34m,\u001b[0m \u001b[0mmetric_period\u001b[0m\u001b[0;34m,\u001b[0m\u001b[0;34m\u001b[0m\u001b[0;34m\u001b[0m\u001b[0m\n\u001b[0;32m-> 2803\u001b[0;31m                   silent, early_stopping_rounds, save_snapshot, snapshot_file, snapshot_interval, init_model)\n\u001b[0m\u001b[1;32m   2804\u001b[0m         \u001b[0;32mreturn\u001b[0m \u001b[0mself\u001b[0m\u001b[0;34m\u001b[0m\u001b[0;34m\u001b[0m\u001b[0m\n\u001b[1;32m   2805\u001b[0m \u001b[0;34m\u001b[0m\u001b[0m\n",
      "\u001b[0;32m~/.local/lib/python3.6/site-packages/catboost/core.py\u001b[0m in \u001b[0;36m_fit\u001b[0;34m(self, X, y, cat_features, pairs, sample_weight, group_id, group_weight, subgroup_id, pairs_weight, baseline, use_best_model, eval_set, verbose, logging_level, plot, column_description, verbose_eval, metric_period, silent, early_stopping_rounds, save_snapshot, snapshot_file, snapshot_interval, init_model)\u001b[0m\n\u001b[1;32m   1277\u001b[0m \u001b[0;34m\u001b[0m\u001b[0m\n\u001b[1;32m   1278\u001b[0m         \u001b[0;32mwith\u001b[0m \u001b[0mlog_fixup\u001b[0m\u001b[0;34m(\u001b[0m\u001b[0;34m)\u001b[0m\u001b[0;34m,\u001b[0m \u001b[0mplot_wrapper\u001b[0m\u001b[0;34m(\u001b[0m\u001b[0mplot\u001b[0m\u001b[0;34m,\u001b[0m \u001b[0;34m[\u001b[0m\u001b[0m_get_train_dir\u001b[0m\u001b[0;34m(\u001b[0m\u001b[0mself\u001b[0m\u001b[0;34m.\u001b[0m\u001b[0mget_params\u001b[0m\u001b[0;34m(\u001b[0m\u001b[0;34m)\u001b[0m\u001b[0;34m)\u001b[0m\u001b[0;34m]\u001b[0m\u001b[0;34m)\u001b[0m\u001b[0;34m:\u001b[0m\u001b[0;34m\u001b[0m\u001b[0;34m\u001b[0m\u001b[0m\n\u001b[0;32m-> 1279\u001b[0;31m             \u001b[0mself\u001b[0m\u001b[0;34m.\u001b[0m\u001b[0m_train\u001b[0m\u001b[0;34m(\u001b[0m\u001b[0mtrain_pool\u001b[0m\u001b[0;34m,\u001b[0m \u001b[0meval_sets\u001b[0m\u001b[0;34m,\u001b[0m \u001b[0mparams\u001b[0m\u001b[0;34m,\u001b[0m \u001b[0mallow_clear_pool\u001b[0m\u001b[0;34m,\u001b[0m \u001b[0minit_model\u001b[0m\u001b[0;34m)\u001b[0m\u001b[0;34m\u001b[0m\u001b[0;34m\u001b[0m\u001b[0m\n\u001b[0m\u001b[1;32m   1280\u001b[0m \u001b[0;34m\u001b[0m\u001b[0m\n\u001b[1;32m   1281\u001b[0m         \u001b[0;32mif\u001b[0m \u001b[0;34m(\u001b[0m\u001b[0;32mnot\u001b[0m \u001b[0mself\u001b[0m\u001b[0;34m.\u001b[0m\u001b[0m_object\u001b[0m\u001b[0;34m.\u001b[0m\u001b[0m_has_leaf_weights_in_model\u001b[0m\u001b[0;34m(\u001b[0m\u001b[0;34m)\u001b[0m\u001b[0;34m)\u001b[0m \u001b[0;32mand\u001b[0m \u001b[0mallow_clear_pool\u001b[0m\u001b[0;34m:\u001b[0m\u001b[0;34m\u001b[0m\u001b[0;34m\u001b[0m\u001b[0m\n",
      "\u001b[0;32m~/.local/lib/python3.6/site-packages/catboost/core.py\u001b[0m in \u001b[0;36m_train\u001b[0;34m(self, train_pool, test_pool, params, allow_clear_pool, init_model)\u001b[0m\n\u001b[1;32m    893\u001b[0m \u001b[0;34m\u001b[0m\u001b[0m\n\u001b[1;32m    894\u001b[0m     \u001b[0;32mdef\u001b[0m \u001b[0m_train\u001b[0m\u001b[0;34m(\u001b[0m\u001b[0mself\u001b[0m\u001b[0;34m,\u001b[0m \u001b[0mtrain_pool\u001b[0m\u001b[0;34m,\u001b[0m \u001b[0mtest_pool\u001b[0m\u001b[0;34m,\u001b[0m \u001b[0mparams\u001b[0m\u001b[0;34m,\u001b[0m \u001b[0mallow_clear_pool\u001b[0m\u001b[0;34m,\u001b[0m \u001b[0minit_model\u001b[0m\u001b[0;34m)\u001b[0m\u001b[0;34m:\u001b[0m\u001b[0;34m\u001b[0m\u001b[0;34m\u001b[0m\u001b[0m\n\u001b[0;32m--> 895\u001b[0;31m         \u001b[0mself\u001b[0m\u001b[0;34m.\u001b[0m\u001b[0m_object\u001b[0m\u001b[0;34m.\u001b[0m\u001b[0m_train\u001b[0m\u001b[0;34m(\u001b[0m\u001b[0mtrain_pool\u001b[0m\u001b[0;34m,\u001b[0m \u001b[0mtest_pool\u001b[0m\u001b[0;34m,\u001b[0m \u001b[0mparams\u001b[0m\u001b[0;34m,\u001b[0m \u001b[0mallow_clear_pool\u001b[0m\u001b[0;34m,\u001b[0m \u001b[0minit_model\u001b[0m\u001b[0;34m.\u001b[0m\u001b[0m_object\u001b[0m \u001b[0;32mif\u001b[0m \u001b[0minit_model\u001b[0m \u001b[0;32melse\u001b[0m \u001b[0;32mNone\u001b[0m\u001b[0;34m)\u001b[0m\u001b[0;34m\u001b[0m\u001b[0;34m\u001b[0m\u001b[0m\n\u001b[0m\u001b[1;32m    896\u001b[0m         \u001b[0mself\u001b[0m\u001b[0;34m.\u001b[0m\u001b[0m_set_trained_model_attributes\u001b[0m\u001b[0;34m(\u001b[0m\u001b[0;34m)\u001b[0m\u001b[0;34m\u001b[0m\u001b[0;34m\u001b[0m\u001b[0m\n\u001b[1;32m    897\u001b[0m \u001b[0;34m\u001b[0m\u001b[0m\n",
      "\u001b[0;32m_catboost.pyx\u001b[0m in \u001b[0;36m_catboost._CatBoost._train\u001b[0;34m()\u001b[0m\n",
      "\u001b[0;32m_catboost.pyx\u001b[0m in \u001b[0;36m_catboost._CatBoost._train\u001b[0;34m()\u001b[0m\n",
      "\u001b[0;31mKeyboardInterrupt\u001b[0m: "
     ]
    }
   ],
   "source": [
    "counter = 1\n",
    "auc_score = 0\n",
    "iterat = 0\n",
    "for train_index, test_index in skf.split(train_ids, y):\n",
    "    print('Fold {}\\n'.format(counter))\n",
    "    logging.warning(\"Training fold {}\".format(counter))\n",
    "\n",
    "    X_fit, X_val = X.iloc[train_index, :], X.iloc[test_index, :]\n",
    "    y_fit, y_val = y.iloc[train_index], y.iloc[test_index]\n",
    "    \n",
    "    model_cb.fit(X_fit,\n",
    "             y_fit,\n",
    "             cat_features=cat_ft_id,\n",
    "             eval_set=(X_val, y_val),\n",
    "             verbose=100\n",
    "             )\n",
    "    \n",
    "    logging.warning(\"Best AUC in this fold: {}\".format(model_cb.best_score_['validation']['AUC']))\n",
    "    logging.warning(\"Best iteration in this fold: {}\".format(model_cb.best_iteration_))\n",
    "    auc_score += model_cb.best_score_['validation']['AUC']\n",
    "    iterat += model_cb.best_iteration_\n",
    "\n",
    "    del X_fit\n",
    "    del X_val\n",
    "    del y_fit\n",
    "    del y_val\n",
    "    del train_index\n",
    "    del test_index\n",
    "    gc.collect()\n",
    "    \n",
    "    counter += 1\n",
    "    \n",
    "mean_auc_score = auc_score/k\n",
    "mean_iterat = iterat/k\n",
    "\n",
    "logging.warning(\"Mean AUC in {0} folds: {1}\".format(k, mean_auc_score))\n",
    "logging.warning(\"Mean iterations in {0} folds: {1}\".format(k, mean_iterat))"
   ]
  },
  {
   "cell_type": "code",
   "execution_count": 38,
   "metadata": {},
   "outputs": [
    {
     "data": {
      "text/plain": [
       "2052"
      ]
     },
     "execution_count": 38,
     "metadata": {},
     "output_type": "execute_result"
    }
   ],
   "source": [
    "params['iterations'] = int(mean_iterat*1.1)\n",
    "params['iterations']"
   ]
  },
  {
   "cell_type": "code",
   "execution_count": 39,
   "metadata": {},
   "outputs": [
    {
     "data": {
      "text/plain": [
       "LGBMClassifier(bagging_fraction=0.8, bagging_freq=5, bagging_seed=42,\n",
       "               boosting_type='gbdt', class_weight=None, colsample_bytree=0.5,\n",
       "               data_random_seed=42, drop_seed=42, feature_fraction_seed=42,\n",
       "               first_metric_only=True, importance_type='split', lambda_l1=0,\n",
       "               lambda_l2=0, learning_rate=0.01, max_depth=-1, metric=['AUC'],\n",
       "               min_child_samples=20, min_child_weight=0.001, min_split_gain=0.0,\n",
       "               n_estimators=2052, n_jobs=-1, num_leaves=351,\n",
       "               objective='xentropy', random_state=None, reg_alpha=0.0,\n",
       "               reg_lambda=0.0, seed=42, silent=True, subsample=1.0,\n",
       "               subsample_for_bin=200000, ...)"
      ]
     },
     "execution_count": 39,
     "metadata": {},
     "output_type": "execute_result"
    }
   ],
   "source": [
    "model_cb = CatBoostClassifier(**params)\n",
    "model_cb.fit(X, y, cat_features=cat_ft_id, verbose=200)"
   ]
  },
  {
   "cell_type": "code",
   "execution_count": 40,
   "metadata": {},
   "outputs": [],
   "source": [
    "y_preds = model_cb.predict_proba(test[X.columns])"
   ]
  },
  {
   "cell_type": "code",
   "execution_count": 41,
   "metadata": {},
   "outputs": [],
   "source": [
    "df_sub = pd.read_csv(data_folder+'/sample_submission.csv')"
   ]
  },
  {
   "cell_type": "code",
   "execution_count": 42,
   "metadata": {},
   "outputs": [],
   "source": [
    "df_sub['isFraud'] = y_preds[:,1]"
   ]
  },
  {
   "cell_type": "code",
   "execution_count": 43,
   "metadata": {},
   "outputs": [
    {
     "data": {
      "text/html": [
       "<div>\n",
       "<style scoped>\n",
       "    .dataframe tbody tr th:only-of-type {\n",
       "        vertical-align: middle;\n",
       "    }\n",
       "\n",
       "    .dataframe tbody tr th {\n",
       "        vertical-align: top;\n",
       "    }\n",
       "\n",
       "    .dataframe thead th {\n",
       "        text-align: right;\n",
       "    }\n",
       "</style>\n",
       "<table border=\"1\" class=\"dataframe\">\n",
       "  <thead>\n",
       "    <tr style=\"text-align: right;\">\n",
       "      <th></th>\n",
       "      <th>TransactionID</th>\n",
       "      <th>isFraud</th>\n",
       "    </tr>\n",
       "  </thead>\n",
       "  <tbody>\n",
       "    <tr>\n",
       "      <th>0</th>\n",
       "      <td>3663549</td>\n",
       "      <td>0.000243</td>\n",
       "    </tr>\n",
       "    <tr>\n",
       "      <th>1</th>\n",
       "      <td>3663550</td>\n",
       "      <td>0.001092</td>\n",
       "    </tr>\n",
       "    <tr>\n",
       "      <th>2</th>\n",
       "      <td>3663551</td>\n",
       "      <td>0.000159</td>\n",
       "    </tr>\n",
       "    <tr>\n",
       "      <th>3</th>\n",
       "      <td>3663552</td>\n",
       "      <td>0.001502</td>\n",
       "    </tr>\n",
       "    <tr>\n",
       "      <th>4</th>\n",
       "      <td>3663553</td>\n",
       "      <td>0.000712</td>\n",
       "    </tr>\n",
       "  </tbody>\n",
       "</table>\n",
       "</div>"
      ],
      "text/plain": [
       "   TransactionID   isFraud\n",
       "0        3663549  0.000243\n",
       "1        3663550  0.001092\n",
       "2        3663551  0.000159\n",
       "3        3663552  0.001502\n",
       "4        3663553  0.000712"
      ]
     },
     "execution_count": 43,
     "metadata": {},
     "output_type": "execute_result"
    }
   ],
   "source": [
    "df_sub.head()"
   ]
  },
  {
   "cell_type": "code",
   "execution_count": 42,
   "metadata": {},
   "outputs": [],
   "source": [
    "today = datetime.date.today()\n",
    "D = today.strftime('%Y%m%d')"
   ]
  },
  {
   "cell_type": "code",
   "execution_count": 43,
   "metadata": {},
   "outputs": [],
   "source": [
    "submission_name = '{0}_CatBoost_{1}'.format(D, mean_auc_score)"
   ]
  },
  {
   "cell_type": "code",
   "execution_count": 46,
   "metadata": {},
   "outputs": [],
   "source": [
    "logging.warning(\"Submission name: {}\".format(submission_name))"
   ]
  },
  {
   "cell_type": "code",
   "execution_count": 47,
   "metadata": {},
   "outputs": [],
   "source": [
    "df_sub.to_csv('submissions/{}.csv'.format(submission_name), sep=',', header=True, index=None)"
   ]
  },
  {
   "cell_type": "code",
   "execution_count": 48,
   "metadata": {},
   "outputs": [],
   "source": [
    "logging.warning(\"End\")"
   ]
  },
  {
   "cell_type": "code",
   "execution_count": null,
   "metadata": {},
   "outputs": [],
   "source": []
  }
 ],
 "metadata": {
  "kernelspec": {
   "display_name": "Python 3",
   "language": "python",
   "name": "python3"
  },
  "language_info": {
   "codemirror_mode": {
    "name": "ipython",
    "version": 3
   },
   "file_extension": ".py",
   "mimetype": "text/x-python",
   "name": "python",
   "nbconvert_exporter": "python",
   "pygments_lexer": "ipython3",
   "version": "3.6.8"
  }
 },
 "nbformat": 4,
 "nbformat_minor": 2
}
