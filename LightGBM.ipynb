{
 "cells": [
  {
   "cell_type": "markdown",
   "metadata": {},
   "source": [
    "# LightGBM"
   ]
  },
  {
   "cell_type": "markdown",
   "metadata": {},
   "source": [
    "### Libraries"
   ]
  },
  {
   "cell_type": "code",
   "execution_count": 1,
   "metadata": {},
   "outputs": [],
   "source": [
    "import warnings\n",
    "warnings.filterwarnings('ignore')\n",
    "\n",
    "import pandas as pd\n",
    "import numpy as np\n",
    "import matplotlib.pyplot as plt\n",
    "from collections import Counter, defaultdict\n",
    "import gc\n",
    "import logging\n",
    "import lightgbm as lgb\n",
    "from sklearn.model_selection import StratifiedKFold\n",
    "import datetime\n",
    "\n",
    "from utils.schemas import *\n",
    "from utils.functions import *"
   ]
  },
  {
   "cell_type": "markdown",
   "metadata": {},
   "source": [
    "### Logging"
   ]
  },
  {
   "cell_type": "code",
   "execution_count": 2,
   "metadata": {},
   "outputs": [],
   "source": [
    "LOG_NAME = 'logs/LightGBM.log'\n",
    "logging.basicConfig(filename=LOG_NAME, level=logging.WARNING, format='%(asctime)s %(message)s')\n",
    "logging.warning(\"\")\n",
    "logging.warning(\"##### New LightGBM Model #####\")"
   ]
  },
  {
   "cell_type": "markdown",
   "metadata": {},
   "source": [
    "### Data"
   ]
  },
  {
   "cell_type": "code",
   "execution_count": 3,
   "metadata": {},
   "outputs": [],
   "source": [
    "df_imp = pd.read_csv('docs/20190901_PermitationImportance_Rf1.csv')"
   ]
  },
  {
   "cell_type": "code",
   "execution_count": 4,
   "metadata": {},
   "outputs": [],
   "source": [
    "X_cols = df_imp.feature[:50].to_list()"
   ]
  },
  {
   "cell_type": "code",
   "execution_count": 5,
   "metadata": {},
   "outputs": [
    {
     "data": {
      "text/plain": [
       "50"
      ]
     },
     "execution_count": 5,
     "metadata": {},
     "output_type": "execute_result"
    }
   ],
   "source": [
    "len(X_cols)"
   ]
  },
  {
   "cell_type": "code",
   "execution_count": 28,
   "metadata": {},
   "outputs": [
    {
     "data": {
      "text/plain": [
       "['R1',\n",
       " 'C1',\n",
       " 'C13',\n",
       " 'C14',\n",
       " 'R12',\n",
       " 'C10',\n",
       " 'N3',\n",
       " 'card2_fe2',\n",
       " 'TransactionAmt',\n",
       " 'C2',\n",
       " 'N5',\n",
       " 'V90',\n",
       " 'card6_fe1',\n",
       " 'card2',\n",
       " 'addr1',\n",
       " 'V283',\n",
       " 'addr1_fe1',\n",
       " 'R3',\n",
       " 'R4',\n",
       " 'V45',\n",
       " 'card1_fe2',\n",
       " 'R11',\n",
       " 'id_31',\n",
       " 'card1',\n",
       " 'C11',\n",
       " 'id_31_fe1',\n",
       " 'card1_fe1',\n",
       " 'C5',\n",
       " 'V282',\n",
       " 'addr2',\n",
       " 'N1',\n",
       " 'V308',\n",
       " 'card2_fe1',\n",
       " 'V310',\n",
       " 'D1',\n",
       " 'V91',\n",
       " 'R_emaildomain_0_fe2',\n",
       " 'R20',\n",
       " 'addr2_fe1',\n",
       " 'card3',\n",
       " 'N2',\n",
       " 'id_17_fe1',\n",
       " 'V233',\n",
       " 'N4',\n",
       " 'id_31_fe2',\n",
       " 'V201',\n",
       " 'R2',\n",
       " 'V258',\n",
       " 'M4_fe2',\n",
       " 'N6']"
      ]
     },
     "execution_count": 28,
     "metadata": {},
     "output_type": "execute_result"
    }
   ],
   "source": [
    "X_cols"
   ]
  },
  {
   "cell_type": "code",
   "execution_count": 6,
   "metadata": {},
   "outputs": [],
   "source": [
    "data_folder = 'input'"
   ]
  },
  {
   "cell_type": "code",
   "execution_count": 8,
   "metadata": {},
   "outputs": [],
   "source": [
    "train = pd.read_csv(data_folder+'/train_ft_eng_1.zip', dtype = schema_ft_eng_1, usecols=X_cols+['isFraud', 'TransactionDT'])\n",
    "test = pd.read_csv(data_folder+'/test_ft_eng_1.zip', dtype = schema_ft_eng_1, usecols=X_cols)"
   ]
  },
  {
   "cell_type": "code",
   "execution_count": 9,
   "metadata": {},
   "outputs": [],
   "source": [
    "X = train[X_cols]\n",
    "y = train.isFraud"
   ]
  },
  {
   "cell_type": "markdown",
   "metadata": {},
   "source": [
    "### Model"
   ]
  },
  {
   "cell_type": "code",
   "execution_count": 10,
   "metadata": {},
   "outputs": [],
   "source": [
    "logging.warning(\"Used columns: {}\".format(X_cols))\n",
    "k = 5\n",
    "logging.warning(\"Folds number: {}\".format(k))"
   ]
  },
  {
   "cell_type": "code",
   "execution_count": 11,
   "metadata": {},
   "outputs": [],
   "source": [
    "train_ids = X.index\n",
    "skf = StratifiedKFold(n_splits=k, shuffle=True, random_state=42)"
   ]
  },
  {
   "cell_type": "markdown",
   "metadata": {},
   "source": [
    "#### LightGBM"
   ]
  },
  {
   "cell_type": "code",
   "execution_count": 12,
   "metadata": {},
   "outputs": [],
   "source": [
    "params = {\n",
    "    'num_leaves': 91,\n",
    "    'max_depth': 11,\n",
    "    'metric': ['AUC'],\n",
    "    'first_metric_only': True,\n",
    "    'n_estimators': 20000,\n",
    "    'learning_rate': 0.01,\n",
    "    'colsample_bytree': 0.3,\n",
    "    'objective': 'xentropy',\n",
    "    'n_jobs': -1,\n",
    "    'bagging_fraction': 0.8,\n",
    "    'bagging_freq': 5,\n",
    "    'lambda_l1': 0,\n",
    "    'lambda_l2': 0,\n",
    "    'bagging_seed': 42,\n",
    "    'random_state':42,\n",
    "    'seed': 42,\n",
    "    'feature_fraction_seed': 42,\n",
    "    'drop_seed': 42,\n",
    "    'data_random_seed': 42,\n",
    "}"
   ]
  },
  {
   "cell_type": "code",
   "execution_count": 13,
   "metadata": {},
   "outputs": [],
   "source": [
    "lgb_model = lgb.LGBMClassifier(**params)"
   ]
  },
  {
   "cell_type": "code",
   "execution_count": 14,
   "metadata": {},
   "outputs": [],
   "source": [
    "logging.warning(\"Params: {}\".format(str(lgb_model.get_params())))"
   ]
  },
  {
   "cell_type": "code",
   "execution_count": 15,
   "metadata": {
    "scrolled": true
   },
   "outputs": [
    {
     "name": "stdout",
     "output_type": "stream",
     "text": [
      "Fold 1\n",
      "\n",
      "Training until validation scores don't improve for 50 rounds.\n",
      "[100]\ttraining's auc: 0.901311\tvalid_0's auc: 0.894143\n",
      "[200]\ttraining's auc: 0.91718\tvalid_0's auc: 0.90679\n",
      "[300]\ttraining's auc: 0.930636\tvalid_0's auc: 0.917193\n",
      "[400]\ttraining's auc: 0.94079\tvalid_0's auc: 0.924574\n",
      "[500]\ttraining's auc: 0.948169\tvalid_0's auc: 0.930591\n",
      "[600]\ttraining's auc: 0.954032\tvalid_0's auc: 0.934998\n",
      "[700]\ttraining's auc: 0.958442\tvalid_0's auc: 0.938292\n",
      "[800]\ttraining's auc: 0.962137\tvalid_0's auc: 0.940951\n",
      "[900]\ttraining's auc: 0.965408\tvalid_0's auc: 0.943348\n",
      "[1000]\ttraining's auc: 0.968203\tvalid_0's auc: 0.944965\n",
      "[1100]\ttraining's auc: 0.970906\tvalid_0's auc: 0.946892\n",
      "[1200]\ttraining's auc: 0.97327\tvalid_0's auc: 0.948341\n",
      "[1300]\ttraining's auc: 0.97548\tvalid_0's auc: 0.949865\n",
      "[1400]\ttraining's auc: 0.977409\tvalid_0's auc: 0.951181\n",
      "[1500]\ttraining's auc: 0.979172\tvalid_0's auc: 0.952413\n",
      "[1600]\ttraining's auc: 0.980528\tvalid_0's auc: 0.95332\n",
      "[1700]\ttraining's auc: 0.98191\tvalid_0's auc: 0.95425\n",
      "[1800]\ttraining's auc: 0.983206\tvalid_0's auc: 0.955072\n",
      "[1900]\ttraining's auc: 0.984419\tvalid_0's auc: 0.955955\n",
      "[2000]\ttraining's auc: 0.985521\tvalid_0's auc: 0.956607\n",
      "[2100]\ttraining's auc: 0.986555\tvalid_0's auc: 0.957305\n",
      "[2200]\ttraining's auc: 0.987475\tvalid_0's auc: 0.957856\n",
      "[2300]\ttraining's auc: 0.988276\tvalid_0's auc: 0.958338\n",
      "[2400]\ttraining's auc: 0.989108\tvalid_0's auc: 0.958937\n",
      "[2500]\ttraining's auc: 0.989873\tvalid_0's auc: 0.959471\n",
      "[2600]\ttraining's auc: 0.990511\tvalid_0's auc: 0.959927\n",
      "[2700]\ttraining's auc: 0.991121\tvalid_0's auc: 0.960309\n",
      "[2800]\ttraining's auc: 0.99173\tvalid_0's auc: 0.960726\n",
      "[2900]\ttraining's auc: 0.992293\tvalid_0's auc: 0.961174\n",
      "[3000]\ttraining's auc: 0.992748\tvalid_0's auc: 0.96153\n",
      "[3100]\ttraining's auc: 0.993206\tvalid_0's auc: 0.961887\n",
      "[3200]\ttraining's auc: 0.993647\tvalid_0's auc: 0.962226\n",
      "[3300]\ttraining's auc: 0.994021\tvalid_0's auc: 0.962539\n",
      "[3400]\ttraining's auc: 0.994395\tvalid_0's auc: 0.962837\n",
      "[3500]\ttraining's auc: 0.994756\tvalid_0's auc: 0.963135\n",
      "[3600]\ttraining's auc: 0.9951\tvalid_0's auc: 0.963372\n",
      "[3700]\ttraining's auc: 0.995419\tvalid_0's auc: 0.963662\n",
      "[3800]\ttraining's auc: 0.995698\tvalid_0's auc: 0.963852\n",
      "[3900]\ttraining's auc: 0.995987\tvalid_0's auc: 0.964083\n",
      "[4000]\ttraining's auc: 0.996242\tvalid_0's auc: 0.964289\n",
      "[4100]\ttraining's auc: 0.996472\tvalid_0's auc: 0.96446\n",
      "[4200]\ttraining's auc: 0.99669\tvalid_0's auc: 0.964609\n",
      "[4300]\ttraining's auc: 0.996894\tvalid_0's auc: 0.964788\n",
      "[4400]\ttraining's auc: 0.997074\tvalid_0's auc: 0.964992\n",
      "[4500]\ttraining's auc: 0.997234\tvalid_0's auc: 0.965146\n",
      "[4600]\ttraining's auc: 0.997399\tvalid_0's auc: 0.965286\n",
      "[4700]\ttraining's auc: 0.997551\tvalid_0's auc: 0.965421\n",
      "[4800]\ttraining's auc: 0.997702\tvalid_0's auc: 0.965545\n",
      "[4900]\ttraining's auc: 0.997834\tvalid_0's auc: 0.96569\n",
      "[5000]\ttraining's auc: 0.997961\tvalid_0's auc: 0.965857\n",
      "[5100]\ttraining's auc: 0.9981\tvalid_0's auc: 0.96595\n",
      "[5200]\ttraining's auc: 0.998223\tvalid_0's auc: 0.966049\n",
      "[5300]\ttraining's auc: 0.998357\tvalid_0's auc: 0.966152\n",
      "[5400]\ttraining's auc: 0.99846\tvalid_0's auc: 0.966278\n",
      "[5500]\ttraining's auc: 0.99856\tvalid_0's auc: 0.966344\n",
      "[5600]\ttraining's auc: 0.998648\tvalid_0's auc: 0.966491\n",
      "[5700]\ttraining's auc: 0.998736\tvalid_0's auc: 0.966541\n",
      "[5800]\ttraining's auc: 0.998805\tvalid_0's auc: 0.966599\n",
      "[5900]\ttraining's auc: 0.998882\tvalid_0's auc: 0.966632\n",
      "[6000]\ttraining's auc: 0.998944\tvalid_0's auc: 0.96675\n",
      "[6100]\ttraining's auc: 0.999008\tvalid_0's auc: 0.966836\n",
      "[6200]\ttraining's auc: 0.999069\tvalid_0's auc: 0.966911\n",
      "[6300]\ttraining's auc: 0.999138\tvalid_0's auc: 0.966973\n",
      "[6400]\ttraining's auc: 0.999196\tvalid_0's auc: 0.967051\n",
      "[6500]\ttraining's auc: 0.999267\tvalid_0's auc: 0.967112\n",
      "[6600]\ttraining's auc: 0.999318\tvalid_0's auc: 0.967167\n",
      "[6700]\ttraining's auc: 0.999362\tvalid_0's auc: 0.967274\n",
      "[6800]\ttraining's auc: 0.999409\tvalid_0's auc: 0.967354\n",
      "[6900]\ttraining's auc: 0.999453\tvalid_0's auc: 0.967382\n",
      "Early stopping, best iteration is:\n",
      "[6886]\ttraining's auc: 0.999445\tvalid_0's auc: 0.967386\n",
      "Fold 2\n",
      "\n",
      "Training until validation scores don't improve for 50 rounds.\n",
      "[100]\ttraining's auc: 0.901304\tvalid_0's auc: 0.898664\n",
      "[200]\ttraining's auc: 0.916353\tvalid_0's auc: 0.910505\n",
      "[300]\ttraining's auc: 0.930178\tvalid_0's auc: 0.920746\n",
      "[400]\ttraining's auc: 0.940178\tvalid_0's auc: 0.928252\n",
      "[500]\ttraining's auc: 0.947723\tvalid_0's auc: 0.933865\n",
      "[600]\ttraining's auc: 0.953403\tvalid_0's auc: 0.938287\n",
      "[700]\ttraining's auc: 0.9579\tvalid_0's auc: 0.941453\n",
      "[800]\ttraining's auc: 0.961595\tvalid_0's auc: 0.944137\n",
      "[900]\ttraining's auc: 0.965021\tvalid_0's auc: 0.946511\n",
      "[1000]\ttraining's auc: 0.967748\tvalid_0's auc: 0.948369\n",
      "[1100]\ttraining's auc: 0.970386\tvalid_0's auc: 0.950165\n",
      "[1200]\ttraining's auc: 0.972772\tvalid_0's auc: 0.951616\n",
      "[1300]\ttraining's auc: 0.974932\tvalid_0's auc: 0.952869\n",
      "[1400]\ttraining's auc: 0.97674\tvalid_0's auc: 0.954017\n",
      "[1500]\ttraining's auc: 0.978471\tvalid_0's auc: 0.955156\n",
      "[1600]\ttraining's auc: 0.980143\tvalid_0's auc: 0.956108\n",
      "[1700]\ttraining's auc: 0.981554\tvalid_0's auc: 0.957001\n",
      "[1800]\ttraining's auc: 0.982898\tvalid_0's auc: 0.957789\n",
      "[1900]\ttraining's auc: 0.984173\tvalid_0's auc: 0.958563\n",
      "[2000]\ttraining's auc: 0.985301\tvalid_0's auc: 0.959269\n",
      "[2100]\ttraining's auc: 0.986415\tvalid_0's auc: 0.960051\n",
      "[2200]\ttraining's auc: 0.987366\tvalid_0's auc: 0.96066\n",
      "[2300]\ttraining's auc: 0.98816\tvalid_0's auc: 0.961278\n",
      "[2400]\ttraining's auc: 0.989029\tvalid_0's auc: 0.961915\n",
      "[2500]\ttraining's auc: 0.98973\tvalid_0's auc: 0.962363\n",
      "[2600]\ttraining's auc: 0.990463\tvalid_0's auc: 0.962854\n",
      "[2700]\ttraining's auc: 0.991051\tvalid_0's auc: 0.963262\n",
      "[2800]\ttraining's auc: 0.991664\tvalid_0's auc: 0.963673\n",
      "[2900]\ttraining's auc: 0.992276\tvalid_0's auc: 0.964043\n",
      "[3000]\ttraining's auc: 0.992686\tvalid_0's auc: 0.964446\n",
      "[3100]\ttraining's auc: 0.993131\tvalid_0's auc: 0.964778\n",
      "[3200]\ttraining's auc: 0.993526\tvalid_0's auc: 0.965057\n",
      "[3300]\ttraining's auc: 0.993964\tvalid_0's auc: 0.965427\n",
      "[3400]\ttraining's auc: 0.994344\tvalid_0's auc: 0.965823\n",
      "[3500]\ttraining's auc: 0.994694\tvalid_0's auc: 0.966109\n",
      "[3600]\ttraining's auc: 0.995069\tvalid_0's auc: 0.966388\n",
      "[3700]\ttraining's auc: 0.995379\tvalid_0's auc: 0.966644\n",
      "[3800]\ttraining's auc: 0.995659\tvalid_0's auc: 0.966897\n",
      "[3900]\ttraining's auc: 0.995932\tvalid_0's auc: 0.967175\n",
      "[4000]\ttraining's auc: 0.99618\tvalid_0's auc: 0.967351\n",
      "[4100]\ttraining's auc: 0.996416\tvalid_0's auc: 0.967547\n",
      "[4200]\ttraining's auc: 0.996654\tvalid_0's auc: 0.967758\n",
      "[4300]\ttraining's auc: 0.996902\tvalid_0's auc: 0.967969\n",
      "[4400]\ttraining's auc: 0.997085\tvalid_0's auc: 0.968121\n",
      "[4500]\ttraining's auc: 0.997253\tvalid_0's auc: 0.968275\n",
      "[4600]\ttraining's auc: 0.997441\tvalid_0's auc: 0.968462\n",
      "[4700]\ttraining's auc: 0.997601\tvalid_0's auc: 0.968631\n",
      "[4800]\ttraining's auc: 0.99776\tvalid_0's auc: 0.968755\n",
      "[4900]\ttraining's auc: 0.997904\tvalid_0's auc: 0.968888\n",
      "[5000]\ttraining's auc: 0.998048\tvalid_0's auc: 0.969041\n",
      "[5100]\ttraining's auc: 0.998185\tvalid_0's auc: 0.969141\n",
      "[5200]\ttraining's auc: 0.998291\tvalid_0's auc: 0.969275\n",
      "[5300]\ttraining's auc: 0.998393\tvalid_0's auc: 0.969394\n",
      "[5400]\ttraining's auc: 0.998482\tvalid_0's auc: 0.969568\n",
      "[5500]\ttraining's auc: 0.998576\tvalid_0's auc: 0.969697\n",
      "[5600]\ttraining's auc: 0.998669\tvalid_0's auc: 0.969816\n",
      "[5700]\ttraining's auc: 0.998749\tvalid_0's auc: 0.969925\n",
      "[5800]\ttraining's auc: 0.998832\tvalid_0's auc: 0.970013\n",
      "[5900]\ttraining's auc: 0.998911\tvalid_0's auc: 0.970139\n",
      "[6000]\ttraining's auc: 0.998973\tvalid_0's auc: 0.970212\n",
      "[6100]\ttraining's auc: 0.999045\tvalid_0's auc: 0.970288\n",
      "[6200]\ttraining's auc: 0.999106\tvalid_0's auc: 0.970431\n",
      "[6300]\ttraining's auc: 0.999161\tvalid_0's auc: 0.970482\n",
      "[6400]\ttraining's auc: 0.999214\tvalid_0's auc: 0.970544\n",
      "[6500]\ttraining's auc: 0.999267\tvalid_0's auc: 0.970611\n",
      "[6600]\ttraining's auc: 0.999313\tvalid_0's auc: 0.970687\n",
      "[6700]\ttraining's auc: 0.999358\tvalid_0's auc: 0.970751\n",
      "[6800]\ttraining's auc: 0.999396\tvalid_0's auc: 0.970825\n",
      "[6900]\ttraining's auc: 0.999435\tvalid_0's auc: 0.970877\n",
      "Early stopping, best iteration is:\n",
      "[6881]\ttraining's auc: 0.999425\tvalid_0's auc: 0.970882\n",
      "Fold 3\n",
      "\n",
      "Training until validation scores don't improve for 50 rounds.\n",
      "[100]\ttraining's auc: 0.902523\tvalid_0's auc: 0.900489\n",
      "[200]\ttraining's auc: 0.916799\tvalid_0's auc: 0.910678\n",
      "[300]\ttraining's auc: 0.930365\tvalid_0's auc: 0.920181\n"
     ]
    },
    {
     "name": "stdout",
     "output_type": "stream",
     "text": [
      "[400]\ttraining's auc: 0.94044\tvalid_0's auc: 0.927364\n",
      "[500]\ttraining's auc: 0.947911\tvalid_0's auc: 0.933344\n",
      "[600]\ttraining's auc: 0.953779\tvalid_0's auc: 0.937895\n",
      "[700]\ttraining's auc: 0.958095\tvalid_0's auc: 0.940974\n",
      "[800]\ttraining's auc: 0.96211\tvalid_0's auc: 0.94383\n",
      "[900]\ttraining's auc: 0.965425\tvalid_0's auc: 0.945984\n",
      "[1000]\ttraining's auc: 0.968215\tvalid_0's auc: 0.947823\n",
      "[1100]\ttraining's auc: 0.970657\tvalid_0's auc: 0.94937\n",
      "[1200]\ttraining's auc: 0.973073\tvalid_0's auc: 0.950841\n",
      "[1300]\ttraining's auc: 0.975108\tvalid_0's auc: 0.952103\n",
      "[1400]\ttraining's auc: 0.97695\tvalid_0's auc: 0.953264\n",
      "[1500]\ttraining's auc: 0.978674\tvalid_0's auc: 0.954478\n",
      "[1600]\ttraining's auc: 0.980135\tvalid_0's auc: 0.955331\n",
      "[1700]\ttraining's auc: 0.981532\tvalid_0's auc: 0.956317\n",
      "[1800]\ttraining's auc: 0.982965\tvalid_0's auc: 0.957052\n",
      "[1900]\ttraining's auc: 0.984148\tvalid_0's auc: 0.957779\n",
      "[2000]\ttraining's auc: 0.985282\tvalid_0's auc: 0.958529\n",
      "[2100]\ttraining's auc: 0.986332\tvalid_0's auc: 0.959201\n",
      "[2200]\ttraining's auc: 0.987259\tvalid_0's auc: 0.959751\n",
      "[2300]\ttraining's auc: 0.98823\tvalid_0's auc: 0.960454\n",
      "[2400]\ttraining's auc: 0.989004\tvalid_0's auc: 0.961033\n",
      "[2500]\ttraining's auc: 0.989684\tvalid_0's auc: 0.961432\n",
      "[2600]\ttraining's auc: 0.990282\tvalid_0's auc: 0.961859\n",
      "[2700]\ttraining's auc: 0.990863\tvalid_0's auc: 0.962306\n",
      "[2800]\ttraining's auc: 0.991536\tvalid_0's auc: 0.962745\n",
      "[2900]\ttraining's auc: 0.992044\tvalid_0's auc: 0.96314\n",
      "[3000]\ttraining's auc: 0.992561\tvalid_0's auc: 0.963589\n",
      "[3100]\ttraining's auc: 0.99304\tvalid_0's auc: 0.963899\n",
      "[3200]\ttraining's auc: 0.993517\tvalid_0's auc: 0.964216\n",
      "[3300]\ttraining's auc: 0.993932\tvalid_0's auc: 0.964548\n",
      "[3400]\ttraining's auc: 0.994312\tvalid_0's auc: 0.964922\n",
      "[3500]\ttraining's auc: 0.994672\tvalid_0's auc: 0.965224\n",
      "[3600]\ttraining's auc: 0.995004\tvalid_0's auc: 0.965592\n",
      "[3700]\ttraining's auc: 0.99531\tvalid_0's auc: 0.965811\n",
      "[3800]\ttraining's auc: 0.995595\tvalid_0's auc: 0.966008\n",
      "[3900]\ttraining's auc: 0.995871\tvalid_0's auc: 0.966205\n",
      "[4000]\ttraining's auc: 0.996131\tvalid_0's auc: 0.966455\n",
      "[4100]\ttraining's auc: 0.996369\tvalid_0's auc: 0.966718\n",
      "[4200]\ttraining's auc: 0.99659\tvalid_0's auc: 0.966978\n",
      "[4300]\ttraining's auc: 0.996783\tvalid_0's auc: 0.967189\n",
      "[4400]\ttraining's auc: 0.996982\tvalid_0's auc: 0.967398\n",
      "[4500]\ttraining's auc: 0.997172\tvalid_0's auc: 0.96761\n",
      "[4600]\ttraining's auc: 0.997338\tvalid_0's auc: 0.967809\n",
      "[4700]\ttraining's auc: 0.997505\tvalid_0's auc: 0.967978\n",
      "[4800]\ttraining's auc: 0.997643\tvalid_0's auc: 0.968136\n",
      "[4900]\ttraining's auc: 0.997784\tvalid_0's auc: 0.968245\n",
      "[5000]\ttraining's auc: 0.997911\tvalid_0's auc: 0.96838\n",
      "[5100]\ttraining's auc: 0.998035\tvalid_0's auc: 0.968475\n",
      "[5200]\ttraining's auc: 0.998141\tvalid_0's auc: 0.968608\n",
      "[5300]\ttraining's auc: 0.99827\tvalid_0's auc: 0.968725\n",
      "[5400]\ttraining's auc: 0.998369\tvalid_0's auc: 0.968873\n",
      "[5500]\ttraining's auc: 0.998465\tvalid_0's auc: 0.968994\n",
      "[5600]\ttraining's auc: 0.998551\tvalid_0's auc: 0.969114\n",
      "[5700]\ttraining's auc: 0.998641\tvalid_0's auc: 0.969214\n",
      "[5800]\ttraining's auc: 0.99872\tvalid_0's auc: 0.969306\n",
      "[5900]\ttraining's auc: 0.99882\tvalid_0's auc: 0.969354\n",
      "[6000]\ttraining's auc: 0.998891\tvalid_0's auc: 0.969459\n",
      "[6100]\ttraining's auc: 0.998966\tvalid_0's auc: 0.969558\n",
      "[6200]\ttraining's auc: 0.999044\tvalid_0's auc: 0.969684\n",
      "[6300]\ttraining's auc: 0.999102\tvalid_0's auc: 0.969759\n",
      "[6400]\ttraining's auc: 0.999165\tvalid_0's auc: 0.969789\n",
      "[6500]\ttraining's auc: 0.999229\tvalid_0's auc: 0.969878\n",
      "[6600]\ttraining's auc: 0.999275\tvalid_0's auc: 0.969929\n",
      "[6700]\ttraining's auc: 0.999327\tvalid_0's auc: 0.969986\n",
      "[6800]\ttraining's auc: 0.999369\tvalid_0's auc: 0.970054\n",
      "[6900]\ttraining's auc: 0.999416\tvalid_0's auc: 0.970128\n",
      "[7000]\ttraining's auc: 0.999449\tvalid_0's auc: 0.970188\n",
      "[7100]\ttraining's auc: 0.999482\tvalid_0's auc: 0.970231\n",
      "[7200]\ttraining's auc: 0.999513\tvalid_0's auc: 0.970337\n",
      "[7300]\ttraining's auc: 0.999551\tvalid_0's auc: 0.970404\n",
      "[7400]\ttraining's auc: 0.999577\tvalid_0's auc: 0.970489\n",
      "Early stopping, best iteration is:\n",
      "[7428]\ttraining's auc: 0.999583\tvalid_0's auc: 0.970508\n",
      "Fold 4\n",
      "\n",
      "Training until validation scores don't improve for 50 rounds.\n",
      "[100]\ttraining's auc: 0.90272\tvalid_0's auc: 0.893466\n",
      "[200]\ttraining's auc: 0.91689\tvalid_0's auc: 0.906433\n",
      "[300]\ttraining's auc: 0.930811\tvalid_0's auc: 0.917408\n",
      "[400]\ttraining's auc: 0.941249\tvalid_0's auc: 0.925547\n",
      "[500]\ttraining's auc: 0.948573\tvalid_0's auc: 0.931461\n",
      "[600]\ttraining's auc: 0.954447\tvalid_0's auc: 0.936106\n",
      "[700]\ttraining's auc: 0.958785\tvalid_0's auc: 0.939225\n",
      "[800]\ttraining's auc: 0.962539\tvalid_0's auc: 0.941651\n",
      "[900]\ttraining's auc: 0.965717\tvalid_0's auc: 0.943825\n",
      "[1000]\ttraining's auc: 0.968626\tvalid_0's auc: 0.945811\n",
      "[1100]\ttraining's auc: 0.971049\tvalid_0's auc: 0.94746\n",
      "[1200]\ttraining's auc: 0.973444\tvalid_0's auc: 0.948909\n",
      "[1300]\ttraining's auc: 0.975394\tvalid_0's auc: 0.950185\n",
      "[1400]\ttraining's auc: 0.977348\tvalid_0's auc: 0.951432\n",
      "[1500]\ttraining's auc: 0.979103\tvalid_0's auc: 0.952466\n",
      "[1600]\ttraining's auc: 0.980589\tvalid_0's auc: 0.953503\n",
      "[1700]\ttraining's auc: 0.982033\tvalid_0's auc: 0.954354\n",
      "[1800]\ttraining's auc: 0.983149\tvalid_0's auc: 0.955173\n",
      "[1900]\ttraining's auc: 0.984246\tvalid_0's auc: 0.955854\n",
      "[2000]\ttraining's auc: 0.985305\tvalid_0's auc: 0.956513\n",
      "[2100]\ttraining's auc: 0.986361\tvalid_0's auc: 0.957151\n",
      "[2200]\ttraining's auc: 0.987322\tvalid_0's auc: 0.957815\n",
      "[2300]\ttraining's auc: 0.988134\tvalid_0's auc: 0.958343\n",
      "[2400]\ttraining's auc: 0.988833\tvalid_0's auc: 0.958822\n",
      "[2500]\ttraining's auc: 0.989573\tvalid_0's auc: 0.959291\n",
      "[2600]\ttraining's auc: 0.990281\tvalid_0's auc: 0.959725\n",
      "[2700]\ttraining's auc: 0.990941\tvalid_0's auc: 0.960231\n",
      "[2800]\ttraining's auc: 0.991505\tvalid_0's auc: 0.960642\n",
      "[2900]\ttraining's auc: 0.992026\tvalid_0's auc: 0.961084\n",
      "[3000]\ttraining's auc: 0.99262\tvalid_0's auc: 0.96149\n",
      "[3100]\ttraining's auc: 0.99308\tvalid_0's auc: 0.961863\n",
      "[3200]\ttraining's auc: 0.993482\tvalid_0's auc: 0.962238\n",
      "[3300]\ttraining's auc: 0.993856\tvalid_0's auc: 0.962627\n",
      "[3400]\ttraining's auc: 0.994255\tvalid_0's auc: 0.96296\n",
      "[3500]\ttraining's auc: 0.994599\tvalid_0's auc: 0.963249\n",
      "[3600]\ttraining's auc: 0.994946\tvalid_0's auc: 0.96349\n",
      "[3700]\ttraining's auc: 0.995289\tvalid_0's auc: 0.963791\n",
      "[3800]\ttraining's auc: 0.995574\tvalid_0's auc: 0.963997\n",
      "[3900]\ttraining's auc: 0.99587\tvalid_0's auc: 0.964237\n",
      "[4000]\ttraining's auc: 0.996114\tvalid_0's auc: 0.964564\n",
      "[4100]\ttraining's auc: 0.996334\tvalid_0's auc: 0.964836\n",
      "[4200]\ttraining's auc: 0.996542\tvalid_0's auc: 0.964989\n",
      "[4300]\ttraining's auc: 0.99677\tvalid_0's auc: 0.965198\n",
      "[4400]\ttraining's auc: 0.996964\tvalid_0's auc: 0.965395\n",
      "[4500]\ttraining's auc: 0.997135\tvalid_0's auc: 0.965544\n",
      "[4600]\ttraining's auc: 0.997317\tvalid_0's auc: 0.965711\n",
      "[4700]\ttraining's auc: 0.997478\tvalid_0's auc: 0.965873\n",
      "[4800]\ttraining's auc: 0.997642\tvalid_0's auc: 0.96605\n",
      "[4900]\ttraining's auc: 0.997807\tvalid_0's auc: 0.966227\n",
      "[5000]\ttraining's auc: 0.997955\tvalid_0's auc: 0.966394\n",
      "[5100]\ttraining's auc: 0.998077\tvalid_0's auc: 0.966524\n",
      "[5200]\ttraining's auc: 0.998198\tvalid_0's auc: 0.966698\n",
      "[5300]\ttraining's auc: 0.998307\tvalid_0's auc: 0.966807\n",
      "[5400]\ttraining's auc: 0.998399\tvalid_0's auc: 0.966951\n",
      "[5500]\ttraining's auc: 0.998496\tvalid_0's auc: 0.967056\n",
      "[5600]\ttraining's auc: 0.998578\tvalid_0's auc: 0.967168\n",
      "[5700]\ttraining's auc: 0.998675\tvalid_0's auc: 0.967252\n",
      "[5800]\ttraining's auc: 0.998758\tvalid_0's auc: 0.96739\n",
      "[5900]\ttraining's auc: 0.998845\tvalid_0's auc: 0.967509\n",
      "[6000]\ttraining's auc: 0.998913\tvalid_0's auc: 0.96761\n",
      "[6100]\ttraining's auc: 0.998986\tvalid_0's auc: 0.967694\n",
      "Early stopping, best iteration is:\n",
      "[6094]\ttraining's auc: 0.998979\tvalid_0's auc: 0.967699\n",
      "Fold 5\n",
      "\n",
      "Training until validation scores don't improve for 50 rounds.\n",
      "[100]\ttraining's auc: 0.902217\tvalid_0's auc: 0.894802\n",
      "[200]\ttraining's auc: 0.91708\tvalid_0's auc: 0.907452\n",
      "[300]\ttraining's auc: 0.930209\tvalid_0's auc: 0.918746\n",
      "[400]\ttraining's auc: 0.939901\tvalid_0's auc: 0.927573\n",
      "[500]\ttraining's auc: 0.947523\tvalid_0's auc: 0.933816\n",
      "[600]\ttraining's auc: 0.95341\tvalid_0's auc: 0.938438\n",
      "[700]\ttraining's auc: 0.957876\tvalid_0's auc: 0.941878\n",
      "[800]\ttraining's auc: 0.961552\tvalid_0's auc: 0.944734\n",
      "[900]\ttraining's auc: 0.964895\tvalid_0's auc: 0.947189\n",
      "[1000]\ttraining's auc: 0.96793\tvalid_0's auc: 0.949396\n"
     ]
    },
    {
     "name": "stdout",
     "output_type": "stream",
     "text": [
      "[1100]\ttraining's auc: 0.970534\tvalid_0's auc: 0.951109\n",
      "[1200]\ttraining's auc: 0.972998\tvalid_0's auc: 0.952718\n",
      "[1300]\ttraining's auc: 0.975056\tvalid_0's auc: 0.954017\n",
      "[1400]\ttraining's auc: 0.977073\tvalid_0's auc: 0.955061\n",
      "[1500]\ttraining's auc: 0.97875\tvalid_0's auc: 0.956146\n",
      "[1600]\ttraining's auc: 0.980407\tvalid_0's auc: 0.957084\n",
      "[1700]\ttraining's auc: 0.981819\tvalid_0's auc: 0.957973\n",
      "[1800]\ttraining's auc: 0.983037\tvalid_0's auc: 0.958723\n",
      "[1900]\ttraining's auc: 0.984329\tvalid_0's auc: 0.959472\n",
      "[2000]\ttraining's auc: 0.985344\tvalid_0's auc: 0.960191\n",
      "[2100]\ttraining's auc: 0.986409\tvalid_0's auc: 0.960828\n",
      "[2200]\ttraining's auc: 0.987421\tvalid_0's auc: 0.961391\n",
      "[2300]\ttraining's auc: 0.988245\tvalid_0's auc: 0.961874\n",
      "[2400]\ttraining's auc: 0.989057\tvalid_0's auc: 0.962427\n",
      "[2500]\ttraining's auc: 0.989787\tvalid_0's auc: 0.962961\n",
      "[2600]\ttraining's auc: 0.990407\tvalid_0's auc: 0.963374\n",
      "[2700]\ttraining's auc: 0.991045\tvalid_0's auc: 0.963767\n",
      "[2800]\ttraining's auc: 0.991653\tvalid_0's auc: 0.964181\n",
      "[2900]\ttraining's auc: 0.992184\tvalid_0's auc: 0.964607\n",
      "[3000]\ttraining's auc: 0.992692\tvalid_0's auc: 0.964983\n",
      "[3100]\ttraining's auc: 0.99313\tvalid_0's auc: 0.965355\n",
      "[3200]\ttraining's auc: 0.993526\tvalid_0's auc: 0.965619\n",
      "[3300]\ttraining's auc: 0.993874\tvalid_0's auc: 0.965963\n",
      "[3400]\ttraining's auc: 0.994258\tvalid_0's auc: 0.966313\n",
      "[3500]\ttraining's auc: 0.994579\tvalid_0's auc: 0.966622\n",
      "[3600]\ttraining's auc: 0.994911\tvalid_0's auc: 0.966863\n",
      "[3700]\ttraining's auc: 0.99519\tvalid_0's auc: 0.96707\n",
      "[3800]\ttraining's auc: 0.995506\tvalid_0's auc: 0.967334\n",
      "[3900]\ttraining's auc: 0.995746\tvalid_0's auc: 0.96763\n",
      "[4000]\ttraining's auc: 0.996028\tvalid_0's auc: 0.967875\n",
      "[4100]\ttraining's auc: 0.996264\tvalid_0's auc: 0.96808\n",
      "[4200]\ttraining's auc: 0.9965\tvalid_0's auc: 0.968257\n",
      "[4300]\ttraining's auc: 0.996706\tvalid_0's auc: 0.968494\n",
      "[4400]\ttraining's auc: 0.996898\tvalid_0's auc: 0.968725\n",
      "[4500]\ttraining's auc: 0.997134\tvalid_0's auc: 0.968908\n",
      "[4600]\ttraining's auc: 0.997299\tvalid_0's auc: 0.969102\n",
      "[4700]\ttraining's auc: 0.997449\tvalid_0's auc: 0.969319\n",
      "[4800]\ttraining's auc: 0.997622\tvalid_0's auc: 0.969472\n",
      "[4900]\ttraining's auc: 0.99776\tvalid_0's auc: 0.969614\n",
      "[5000]\ttraining's auc: 0.997889\tvalid_0's auc: 0.969713\n",
      "[5100]\ttraining's auc: 0.998037\tvalid_0's auc: 0.969809\n",
      "[5200]\ttraining's auc: 0.99816\tvalid_0's auc: 0.969932\n",
      "[5300]\ttraining's auc: 0.998297\tvalid_0's auc: 0.970071\n",
      "[5400]\ttraining's auc: 0.9984\tvalid_0's auc: 0.970214\n",
      "[5500]\ttraining's auc: 0.998509\tvalid_0's auc: 0.970326\n",
      "[5600]\ttraining's auc: 0.998597\tvalid_0's auc: 0.970468\n",
      "[5700]\ttraining's auc: 0.998702\tvalid_0's auc: 0.970544\n",
      "[5800]\ttraining's auc: 0.998792\tvalid_0's auc: 0.970632\n",
      "[5900]\ttraining's auc: 0.99887\tvalid_0's auc: 0.970729\n",
      "[6000]\ttraining's auc: 0.998936\tvalid_0's auc: 0.970821\n",
      "[6100]\ttraining's auc: 0.998997\tvalid_0's auc: 0.9709\n",
      "[6200]\ttraining's auc: 0.999055\tvalid_0's auc: 0.971016\n",
      "[6300]\ttraining's auc: 0.999122\tvalid_0's auc: 0.971097\n",
      "[6400]\ttraining's auc: 0.999175\tvalid_0's auc: 0.971189\n",
      "[6500]\ttraining's auc: 0.999228\tvalid_0's auc: 0.971249\n",
      "[6600]\ttraining's auc: 0.999275\tvalid_0's auc: 0.971313\n",
      "[6700]\ttraining's auc: 0.999319\tvalid_0's auc: 0.971387\n",
      "[6800]\ttraining's auc: 0.999355\tvalid_0's auc: 0.971471\n",
      "[6900]\ttraining's auc: 0.999396\tvalid_0's auc: 0.971526\n",
      "Early stopping, best iteration is:\n",
      "[6901]\ttraining's auc: 0.999397\tvalid_0's auc: 0.971527\n"
     ]
    }
   ],
   "source": [
    "counter = 1\n",
    "auc_score = 0\n",
    "iterat = 0\n",
    "for train_index, test_index in skf.split(train_ids, y):\n",
    "    print('Fold {}\\n'.format(counter))\n",
    "    logging.warning(\"Training fold {}\".format(counter))\n",
    "\n",
    "    X_fit, X_val = X.iloc[train_index, :], X.iloc[test_index, :]\n",
    "    y_fit, y_val = y.iloc[train_index], y.iloc[test_index]\n",
    "\n",
    "    lgb_model.fit(X_fit,\n",
    "                  y_fit,\n",
    "                  eval_set=[(X_val, y_val), (X_fit, y_fit)],\n",
    "                  verbose=100,\n",
    "                  early_stopping_rounds=50)\n",
    "    \n",
    "    logging.warning(\"Best AUC in this fold: {}\".format(lgb_model.best_score_['valid_0']['auc']))\n",
    "    logging.warning(\"Best iteration in this fold: {}\".format(lgb_model.best_iteration_))\n",
    "    auc_score += lgb_model.best_score_['valid_0']['auc']\n",
    "    iterat += lgb_model.best_iteration_\n",
    "\n",
    "    del X_fit\n",
    "    del X_val\n",
    "    del y_fit\n",
    "    del y_val\n",
    "    del train_index\n",
    "    del test_index\n",
    "    gc.collect()\n",
    "    \n",
    "    counter += 1\n",
    "    \n",
    "mean_auc_score = auc_score/k\n",
    "mean_iterat = iterat/k\n",
    "\n",
    "logging.warning(\"Mean AUC in {0} folds: {1}\".format(k, mean_auc_score))\n",
    "logging.warning(\"Mean iterations in {0} folds: {1}\".format(k, mean_iterat))"
   ]
  },
  {
   "cell_type": "code",
   "execution_count": 16,
   "metadata": {},
   "outputs": [
    {
     "data": {
      "text/plain": [
       "6838"
      ]
     },
     "execution_count": 16,
     "metadata": {},
     "output_type": "execute_result"
    }
   ],
   "source": [
    "params['n_estimators'] = int(mean_iterat)\n",
    "params['n_estimators']"
   ]
  },
  {
   "cell_type": "code",
   "execution_count": 17,
   "metadata": {},
   "outputs": [
    {
     "data": {
      "text/plain": [
       "LGBMClassifier(bagging_fraction=0.8, bagging_freq=5, bagging_seed=42,\n",
       "               boosting_type='gbdt', class_weight=None, colsample_bytree=0.3,\n",
       "               data_random_seed=42, drop_seed=42, feature_fraction_seed=42,\n",
       "               first_metric_only=True, importance_type='split', lambda_l1=0,\n",
       "               lambda_l2=0, learning_rate=0.01, max_depth=11, metric=['AUC'],\n",
       "               min_child_samples=20, min_child_weight=0.001, min_split_gain=0.0,\n",
       "               n_estimators=6838, n_jobs=-1, num_leaves=91,\n",
       "               objective='xentropy', random_state=42, reg_alpha=0.0,\n",
       "               reg_lambda=0.0, seed=42, silent=True, subsample=1.0,\n",
       "               subsample_for_bin=200000, ...)"
      ]
     },
     "execution_count": 17,
     "metadata": {},
     "output_type": "execute_result"
    }
   ],
   "source": [
    "lgb_model = lgb.LGBMClassifier(**params)\n",
    "lgb_model.fit(train[X_cols], train.isFraud)"
   ]
  },
  {
   "cell_type": "code",
   "execution_count": 18,
   "metadata": {},
   "outputs": [],
   "source": [
    "y_preds = lgb_model.predict_proba(test[X.columns])"
   ]
  },
  {
   "cell_type": "code",
   "execution_count": 19,
   "metadata": {},
   "outputs": [],
   "source": [
    "df_sub = pd.read_csv(data_folder+'/sample_submission.csv')"
   ]
  },
  {
   "cell_type": "code",
   "execution_count": 20,
   "metadata": {},
   "outputs": [],
   "source": [
    "df_sub['isFraud'] = y_preds[:,1]"
   ]
  },
  {
   "cell_type": "code",
   "execution_count": 21,
   "metadata": {},
   "outputs": [
    {
     "data": {
      "text/html": [
       "<div>\n",
       "<style scoped>\n",
       "    .dataframe tbody tr th:only-of-type {\n",
       "        vertical-align: middle;\n",
       "    }\n",
       "\n",
       "    .dataframe tbody tr th {\n",
       "        vertical-align: top;\n",
       "    }\n",
       "\n",
       "    .dataframe thead th {\n",
       "        text-align: right;\n",
       "    }\n",
       "</style>\n",
       "<table border=\"1\" class=\"dataframe\">\n",
       "  <thead>\n",
       "    <tr style=\"text-align: right;\">\n",
       "      <th></th>\n",
       "      <th>TransactionID</th>\n",
       "      <th>isFraud</th>\n",
       "    </tr>\n",
       "  </thead>\n",
       "  <tbody>\n",
       "    <tr>\n",
       "      <th>0</th>\n",
       "      <td>3663549</td>\n",
       "      <td>0.000014</td>\n",
       "    </tr>\n",
       "    <tr>\n",
       "      <th>1</th>\n",
       "      <td>3663550</td>\n",
       "      <td>0.001307</td>\n",
       "    </tr>\n",
       "    <tr>\n",
       "      <th>2</th>\n",
       "      <td>3663551</td>\n",
       "      <td>0.000176</td>\n",
       "    </tr>\n",
       "    <tr>\n",
       "      <th>3</th>\n",
       "      <td>3663552</td>\n",
       "      <td>0.002968</td>\n",
       "    </tr>\n",
       "    <tr>\n",
       "      <th>4</th>\n",
       "      <td>3663553</td>\n",
       "      <td>0.000423</td>\n",
       "    </tr>\n",
       "  </tbody>\n",
       "</table>\n",
       "</div>"
      ],
      "text/plain": [
       "   TransactionID   isFraud\n",
       "0        3663549  0.000014\n",
       "1        3663550  0.001307\n",
       "2        3663551  0.000176\n",
       "3        3663552  0.002968\n",
       "4        3663553  0.000423"
      ]
     },
     "execution_count": 21,
     "metadata": {},
     "output_type": "execute_result"
    }
   ],
   "source": [
    "df_sub.head()"
   ]
  },
  {
   "cell_type": "code",
   "execution_count": 22,
   "metadata": {},
   "outputs": [],
   "source": [
    "today = datetime.date.today()\n",
    "D = today.strftime('%Y%m%d')"
   ]
  },
  {
   "cell_type": "code",
   "execution_count": 23,
   "metadata": {},
   "outputs": [],
   "source": [
    "submission_name = '{0}_LightGBM_{1}'.format(D, mean_auc_score)"
   ]
  },
  {
   "cell_type": "code",
   "execution_count": 24,
   "metadata": {},
   "outputs": [],
   "source": [
    "logging.warning(\"Submission name: {}\".format(submission_name))"
   ]
  },
  {
   "cell_type": "code",
   "execution_count": 25,
   "metadata": {},
   "outputs": [],
   "source": [
    "df_sub.to_csv('submissions/{}.csv'.format(submission_name), sep=',', header=True, index=None)"
   ]
  },
  {
   "cell_type": "code",
   "execution_count": 26,
   "metadata": {},
   "outputs": [],
   "source": [
    "logging.warning(\"End\")"
   ]
  },
  {
   "cell_type": "code",
   "execution_count": 27,
   "metadata": {},
   "outputs": [
    {
     "data": {
      "text/plain": [
       "(1659, 2)"
      ]
     },
     "execution_count": 27,
     "metadata": {},
     "output_type": "execute_result"
    }
   ],
   "source": [
    "df_sub[df_sub.isFraud>0.99].shape"
   ]
  },
  {
   "cell_type": "code",
   "execution_count": null,
   "metadata": {},
   "outputs": [],
   "source": []
  }
 ],
 "metadata": {
  "kernelspec": {
   "display_name": "Python 3",
   "language": "python",
   "name": "python3"
  },
  "language_info": {
   "codemirror_mode": {
    "name": "ipython",
    "version": 3
   },
   "file_extension": ".py",
   "mimetype": "text/x-python",
   "name": "python",
   "nbconvert_exporter": "python",
   "pygments_lexer": "ipython3",
   "version": "3.6.8"
  }
 },
 "nbformat": 4,
 "nbformat_minor": 2
}
