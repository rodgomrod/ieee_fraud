{
 "cells": [
  {
   "cell_type": "markdown",
   "metadata": {},
   "source": [
    "# LightGBM"
   ]
  },
  {
   "cell_type": "markdown",
   "metadata": {},
   "source": [
    "### Libraries"
   ]
  },
  {
   "cell_type": "code",
   "execution_count": 42,
   "metadata": {},
   "outputs": [],
   "source": [
    "import warnings\n",
    "warnings.filterwarnings('ignore')\n",
    "\n",
    "# import pandas as pd\n",
    "import modin.pandas as pd\n",
    "import numpy as np\n",
    "import matplotlib.pyplot as plt\n",
    "from collections import Counter, defaultdict\n",
    "import gc\n",
    "import logging\n",
    "import lightgbm as lgb\n",
    "from sklearn.model_selection import StratifiedKFold, GroupKFold\n",
    "import datetime\n",
    "\n",
    "from utils.schemas import *\n",
    "from utils.functions import *"
   ]
  },
  {
   "cell_type": "markdown",
   "metadata": {},
   "source": [
    "### Logging"
   ]
  },
  {
   "cell_type": "code",
   "execution_count": 5,
   "metadata": {},
   "outputs": [],
   "source": [
    "LOG_NAME = 'logs/LightGBM.log'\n",
    "logging.basicConfig(filename=LOG_NAME, level=logging.WARNING, format='%(asctime)s %(message)s')\n",
    "logging.warning(\"\")\n",
    "logging.warning(\"##### New LightGBM Model #####\")"
   ]
  },
  {
   "cell_type": "markdown",
   "metadata": {},
   "source": [
    "### Data"
   ]
  },
  {
   "cell_type": "code",
   "execution_count": 6,
   "metadata": {},
   "outputs": [],
   "source": [
    "df_imp = pd.read_csv('docs/20190902_PermitationImportance_Rf3.csv')"
   ]
  },
  {
   "cell_type": "code",
   "execution_count": 10,
   "metadata": {},
   "outputs": [],
   "source": [
    "X_cols = df_imp[df_imp.Importance > 0].feature.to_list()"
   ]
  },
  {
   "cell_type": "code",
   "execution_count": 11,
   "metadata": {},
   "outputs": [
    {
     "data": {
      "text/plain": [
       "267"
      ]
     },
     "execution_count": 11,
     "metadata": {},
     "output_type": "execute_result"
    }
   ],
   "source": [
    "len(X_cols)"
   ]
  },
  {
   "cell_type": "code",
   "execution_count": 12,
   "metadata": {},
   "outputs": [
    {
     "data": {
      "text/plain": [
       "['R1', 'C1', 'C13', 'V258', 'C14', 'V201', 'C8', 'V199', 'V274']"
      ]
     },
     "execution_count": 12,
     "metadata": {},
     "output_type": "execute_result"
    }
   ],
   "source": [
    "X_cols[:9]"
   ]
  },
  {
   "cell_type": "code",
   "execution_count": 13,
   "metadata": {},
   "outputs": [],
   "source": [
    "data_folder = 'input'"
   ]
  },
  {
   "cell_type": "code",
   "execution_count": 14,
   "metadata": {},
   "outputs": [],
   "source": [
    "train = pd.read_csv(data_folder+'/train_ft_eng_1.csv', dtype = schema_ft_eng_1, usecols=X_cols+['isFraud', 'TransactionDT'])\n",
    "test = pd.read_csv(data_folder+'/test_ft_eng_1.csv', dtype = schema_ft_eng_1, usecols=X_cols)"
   ]
  },
  {
   "cell_type": "code",
   "execution_count": 15,
   "metadata": {},
   "outputs": [],
   "source": [
    "X = train[X_cols]\n",
    "y = train.isFraud"
   ]
  },
  {
   "cell_type": "code",
   "execution_count": 25,
   "metadata": {},
   "outputs": [],
   "source": [
    "id_cols = ['addr1', 'addr2', 'card1', 'P_emaildomain']\n",
    "\n",
    "groups = train.groupby(id_cols).grouper.group_info[0]"
   ]
  },
  {
   "cell_type": "markdown",
   "metadata": {},
   "source": [
    "### Model"
   ]
  },
  {
   "cell_type": "code",
   "execution_count": 54,
   "metadata": {},
   "outputs": [],
   "source": [
    "logging.warning(\"Used columns: {}\".format(X_cols))\n",
    "k = 3\n",
    "logging.warning(\"Folds number: {}\".format(k))"
   ]
  },
  {
   "cell_type": "code",
   "execution_count": 56,
   "metadata": {},
   "outputs": [],
   "source": [
    "group_kfold = GroupKFold(n_splits=k)"
   ]
  },
  {
   "cell_type": "code",
   "execution_count": 57,
   "metadata": {},
   "outputs": [],
   "source": [
    "train_ids = X.index\n",
    "skf = StratifiedKFold(n_splits=k, shuffle=True, random_state=42)"
   ]
  },
  {
   "cell_type": "markdown",
   "metadata": {},
   "source": [
    "#### LightGBM"
   ]
  },
  {
   "cell_type": "code",
   "execution_count": 58,
   "metadata": {},
   "outputs": [],
   "source": [
    "params = {\n",
    "    'num_leaves': 256,\n",
    "    'max_depth': -1,\n",
    "    'metric': ['AUC'],\n",
    "    'first_metric_only': True,\n",
    "    'n_estimators': 20000,\n",
    "    'learning_rate': 0.01,\n",
    "    'colsample_bytree': 0.4,\n",
    "    'objective': 'xentropy',\n",
    "    'n_jobs': -1,\n",
    "    'bagging_fraction': 0.8,\n",
    "    'bagging_freq': 5,\n",
    "    'lambda_l1': 0,\n",
    "    'lambda_l2': 0,\n",
    "    'bagging_seed': 42,\n",
    "    'random_state':42,\n",
    "    'seed': 42,\n",
    "    'feature_fraction_seed': 42,\n",
    "    'drop_seed': 42,\n",
    "    'data_random_seed': 42,\n",
    "}"
   ]
  },
  {
   "cell_type": "markdown",
   "metadata": {},
   "source": [
    "### Best max_depth"
   ]
  },
  {
   "cell_type": "code",
   "execution_count": null,
   "metadata": {},
   "outputs": [],
   "source": [
    "logging.warning(\"Searching best max_depth\")"
   ]
  },
  {
   "cell_type": "code",
   "execution_count": 80,
   "metadata": {
    "scrolled": true
   },
   "outputs": [
    {
     "name": "stdout",
     "output_type": "stream",
     "text": [
      "Max depth = 5\n",
      "Training until validation scores don't improve for 100 rounds.\n",
      "[100]\ttraining's auc: 0.876001\tvalid_0's auc: 0.868347\n",
      "[200]\ttraining's auc: 0.889415\tvalid_0's auc: 0.875198\n",
      "[300]\ttraining's auc: 0.898851\tvalid_0's auc: 0.880354\n",
      "[400]\ttraining's auc: 0.906328\tvalid_0's auc: 0.884393\n",
      "Did not meet early stopping. Best iteration is:\n",
      "[448]\ttraining's auc: 0.908602\tvalid_0's auc: 0.885995\n",
      "Max depth = 6\n",
      "Training until validation scores don't improve for 100 rounds.\n",
      "[100]\ttraining's auc: 0.884189\tvalid_0's auc: 0.873093\n",
      "[200]\ttraining's auc: 0.901483\tvalid_0's auc: 0.880355\n",
      "[300]\ttraining's auc: 0.913456\tvalid_0's auc: 0.885806\n",
      "[400]\ttraining's auc: 0.921941\tvalid_0's auc: 0.890356\n",
      "Did not meet early stopping. Best iteration is:\n",
      "[448]\ttraining's auc: 0.924902\tvalid_0's auc: 0.892198\n",
      "Max depth = 7\n",
      "Training until validation scores don't improve for 100 rounds.\n",
      "[100]\ttraining's auc: 0.894282\tvalid_0's auc: 0.876881\n",
      "[200]\ttraining's auc: 0.915056\tvalid_0's auc: 0.884701\n",
      "[300]\ttraining's auc: 0.929579\tvalid_0's auc: 0.890411\n",
      "[400]\ttraining's auc: 0.938932\tvalid_0's auc: 0.894878\n",
      "Did not meet early stopping. Best iteration is:\n",
      "[448]\ttraining's auc: 0.942092\tvalid_0's auc: 0.896869\n",
      "Max depth = 8\n",
      "Training until validation scores don't improve for 100 rounds.\n",
      "[100]\ttraining's auc: 0.905748\tvalid_0's auc: 0.881248\n",
      "[200]\ttraining's auc: 0.929479\tvalid_0's auc: 0.889684\n",
      "[300]\ttraining's auc: 0.944967\tvalid_0's auc: 0.894969\n",
      "[400]\ttraining's auc: 0.954957\tvalid_0's auc: 0.899501\n",
      "Did not meet early stopping. Best iteration is:\n",
      "[448]\ttraining's auc: 0.958039\tvalid_0's auc: 0.901\n",
      "Max depth = 9\n",
      "Training until validation scores don't improve for 100 rounds.\n",
      "[100]\ttraining's auc: 0.917675\tvalid_0's auc: 0.885172\n",
      "[200]\ttraining's auc: 0.942259\tvalid_0's auc: 0.893188\n",
      "[300]\ttraining's auc: 0.957805\tvalid_0's auc: 0.898824\n",
      "[400]\ttraining's auc: 0.967943\tvalid_0's auc: 0.902552\n",
      "Did not meet early stopping. Best iteration is:\n",
      "[448]\ttraining's auc: 0.970774\tvalid_0's auc: 0.903665\n",
      "Max depth = 10\n",
      "Training until validation scores don't improve for 100 rounds.\n",
      "[100]\ttraining's auc: 0.924015\tvalid_0's auc: 0.886834\n",
      "[200]\ttraining's auc: 0.949043\tvalid_0's auc: 0.895301\n",
      "[300]\ttraining's auc: 0.964447\tvalid_0's auc: 0.900731\n",
      "[400]\ttraining's auc: 0.974396\tvalid_0's auc: 0.903705\n",
      "Did not meet early stopping. Best iteration is:\n",
      "[448]\ttraining's auc: 0.977195\tvalid_0's auc: 0.904881\n",
      "Max depth = 11\n",
      "Training until validation scores don't improve for 100 rounds.\n",
      "[100]\ttraining's auc: 0.927233\tvalid_0's auc: 0.887659\n",
      "[200]\ttraining's auc: 0.952745\tvalid_0's auc: 0.896567\n",
      "[300]\ttraining's auc: 0.968173\tvalid_0's auc: 0.901217\n",
      "[400]\ttraining's auc: 0.97786\tvalid_0's auc: 0.904304\n",
      "Did not meet early stopping. Best iteration is:\n",
      "[448]\ttraining's auc: 0.980457\tvalid_0's auc: 0.905372\n",
      "Max depth = 12\n",
      "Training until validation scores don't improve for 100 rounds.\n",
      "[100]\ttraining's auc: 0.928224\tvalid_0's auc: 0.88868\n",
      "[200]\ttraining's auc: 0.954297\tvalid_0's auc: 0.896569\n",
      "[300]\ttraining's auc: 0.970157\tvalid_0's auc: 0.901533\n",
      "[400]\ttraining's auc: 0.979826\tvalid_0's auc: 0.904416\n",
      "Did not meet early stopping. Best iteration is:\n",
      "[448]\ttraining's auc: 0.982492\tvalid_0's auc: 0.905268\n",
      "Max depth = 13\n",
      "Training until validation scores don't improve for 100 rounds.\n",
      "[100]\ttraining's auc: 0.929387\tvalid_0's auc: 0.88877\n",
      "[200]\ttraining's auc: 0.955599\tvalid_0's auc: 0.896936\n",
      "[300]\ttraining's auc: 0.97141\tvalid_0's auc: 0.901748\n",
      "[400]\ttraining's auc: 0.981\tvalid_0's auc: 0.904498\n",
      "Did not meet early stopping. Best iteration is:\n",
      "[448]\ttraining's auc: 0.983686\tvalid_0's auc: 0.905521\n",
      "Max depth = 14\n",
      "Training until validation scores don't improve for 100 rounds.\n",
      "[100]\ttraining's auc: 0.930649\tvalid_0's auc: 0.888654\n",
      "[200]\ttraining's auc: 0.956371\tvalid_0's auc: 0.897079\n",
      "[300]\ttraining's auc: 0.972624\tvalid_0's auc: 0.90188\n",
      "[400]\ttraining's auc: 0.982093\tvalid_0's auc: 0.904981\n",
      "Did not meet early stopping. Best iteration is:\n",
      "[448]\ttraining's auc: 0.984846\tvalid_0's auc: 0.906084\n",
      "Max depth = 15\n",
      "Training until validation scores don't improve for 100 rounds.\n",
      "[100]\ttraining's auc: 0.931277\tvalid_0's auc: 0.888714\n",
      "[200]\ttraining's auc: 0.957419\tvalid_0's auc: 0.896848\n",
      "[300]\ttraining's auc: 0.973128\tvalid_0's auc: 0.901538\n",
      "[400]\ttraining's auc: 0.982599\tvalid_0's auc: 0.904462\n",
      "Did not meet early stopping. Best iteration is:\n",
      "[448]\ttraining's auc: 0.985312\tvalid_0's auc: 0.905753\n",
      "Max depth = 16\n",
      "Training until validation scores don't improve for 100 rounds.\n",
      "[100]\ttraining's auc: 0.931595\tvalid_0's auc: 0.888379\n",
      "[200]\ttraining's auc: 0.957904\tvalid_0's auc: 0.897246\n",
      "[300]\ttraining's auc: 0.97359\tvalid_0's auc: 0.901914\n",
      "[400]\ttraining's auc: 0.982976\tvalid_0's auc: 0.904746\n",
      "Did not meet early stopping. Best iteration is:\n",
      "[448]\ttraining's auc: 0.985809\tvalid_0's auc: 0.905932\n",
      "Max depth = 17\n",
      "Training until validation scores don't improve for 100 rounds.\n",
      "[100]\ttraining's auc: 0.9317\tvalid_0's auc: 0.8891\n",
      "[200]\ttraining's auc: 0.957859\tvalid_0's auc: 0.897832\n",
      "[300]\ttraining's auc: 0.973963\tvalid_0's auc: 0.90254\n",
      "[400]\ttraining's auc: 0.983678\tvalid_0's auc: 0.90539\n",
      "Did not meet early stopping. Best iteration is:\n",
      "[448]\ttraining's auc: 0.986487\tvalid_0's auc: 0.906336\n",
      "Max depth = 18\n",
      "Training until validation scores don't improve for 100 rounds.\n",
      "[100]\ttraining's auc: 0.932034\tvalid_0's auc: 0.88916\n",
      "[200]\ttraining's auc: 0.958388\tvalid_0's auc: 0.897654\n",
      "[300]\ttraining's auc: 0.974352\tvalid_0's auc: 0.901893\n",
      "[400]\ttraining's auc: 0.983844\tvalid_0's auc: 0.905095\n",
      "Did not meet early stopping. Best iteration is:\n",
      "[448]\ttraining's auc: 0.986724\tvalid_0's auc: 0.906058\n",
      "Max depth = 19\n",
      "Training until validation scores don't improve for 100 rounds.\n",
      "[100]\ttraining's auc: 0.931934\tvalid_0's auc: 0.888761\n",
      "[200]\ttraining's auc: 0.958317\tvalid_0's auc: 0.897173\n",
      "[300]\ttraining's auc: 0.974111\tvalid_0's auc: 0.901153\n",
      "[400]\ttraining's auc: 0.984127\tvalid_0's auc: 0.904487\n",
      "Did not meet early stopping. Best iteration is:\n",
      "[448]\ttraining's auc: 0.987031\tvalid_0's auc: 0.905499\n"
     ]
    }
   ],
   "source": [
    "for train_index, test_index in group_kfold.split(X, y, groups):\n",
    "    X_fit, X_val = X.iloc[train_index, :], X.iloc[test_index, :]\n",
    "    y_fit, y_val = y.iloc[train_index], y.iloc[test_index]\n",
    "\n",
    "scores_dict = dict()\n",
    "for i in range(5, 20):\n",
    "    print('Max depth = {}'.format(i))\n",
    "    logging.warning('Max depth = {}'.format(i))\n",
    "    params['max_depth'] = i\n",
    "    lgb_model = lgb.LGBMClassifier(**params)\n",
    "    lgb_model.fit(X_fit,\n",
    "                  y_fit,\n",
    "                  eval_set=[(X_val, y_val), (X_fit, y_fit)],\n",
    "                  verbose=100,\n",
    "                  early_stopping_rounds=100)\n",
    "    scores_dict[i] = lgb_model.best_score_['valid_0']['auc']"
   ]
  },
  {
   "cell_type": "code",
   "execution_count": 91,
   "metadata": {},
   "outputs": [
    {
     "data": {
      "text/plain": [
       "17"
      ]
     },
     "execution_count": 91,
     "metadata": {},
     "output_type": "execute_result"
    }
   ],
   "source": [
    "b = pd.DataFrame({'Depth': [x for x in scores_dict.keys()], 'AUC': [x for x in scores_dict.values()]})\n",
    "md = b[b.AUC == b.AUC.max()].Depth\n",
    "md.values[0]"
   ]
  },
  {
   "cell_type": "code",
   "execution_count": null,
   "metadata": {},
   "outputs": [],
   "source": [
    "params['max_depth'] = md.values[0]"
   ]
  },
  {
   "cell_type": "code",
   "execution_count": 59,
   "metadata": {},
   "outputs": [],
   "source": [
    "lgb_model = lgb.LGBMClassifier(**params)"
   ]
  },
  {
   "cell_type": "code",
   "execution_count": 60,
   "metadata": {},
   "outputs": [],
   "source": [
    "logging.warning(\"Params: {}\".format(str(lgb_model.get_params())))"
   ]
  },
  {
   "cell_type": "code",
   "execution_count": 64,
   "metadata": {
    "scrolled": false
   },
   "outputs": [
    {
     "name": "stdout",
     "output_type": "stream",
     "text": [
      "Fold 1\n",
      "\n",
      "Training until validation scores don't improve for 100 rounds.\n",
      "[100]\ttraining's auc: 0.934737\tvalid_0's auc: 0.877548\n",
      "[200]\ttraining's auc: 0.960015\tvalid_0's auc: 0.88549\n",
      "[300]\ttraining's auc: 0.975274\tvalid_0's auc: 0.886796\n",
      "Early stopping, best iteration is:\n",
      "[249]\ttraining's auc: 0.968586\tvalid_0's auc: 0.887004\n",
      "Fold 2\n",
      "\n",
      "Training until validation scores don't improve for 100 rounds.\n",
      "[100]\ttraining's auc: 0.934875\tvalid_0's auc: 0.886468\n",
      "[200]\ttraining's auc: 0.957847\tvalid_0's auc: 0.893972\n",
      "[300]\ttraining's auc: 0.97504\tvalid_0's auc: 0.898208\n",
      "[400]\ttraining's auc: 0.984539\tvalid_0's auc: 0.901038\n",
      "[500]\ttraining's auc: 0.990353\tvalid_0's auc: 0.901948\n",
      "Did not meet early stopping. Best iteration is:\n",
      "[548]\ttraining's auc: 0.992245\tvalid_0's auc: 0.902299\n",
      "Fold 3\n",
      "\n",
      "Training until validation scores don't improve for 100 rounds.\n",
      "[100]\ttraining's auc: 0.931893\tvalid_0's auc: 0.888802\n",
      "[200]\ttraining's auc: 0.95858\tvalid_0's auc: 0.897061\n",
      "[300]\ttraining's auc: 0.974551\tvalid_0's auc: 0.901677\n",
      "[400]\ttraining's auc: 0.984698\tvalid_0's auc: 0.904688\n",
      "[500]\ttraining's auc: 0.990589\tvalid_0's auc: 0.906502\n",
      "Did not meet early stopping. Best iteration is:\n",
      "[548]\ttraining's auc: 0.992459\tvalid_0's auc: 0.906705\n"
     ]
    }
   ],
   "source": [
    "counter = 1\n",
    "auc_score = 0\n",
    "iterat = 0\n",
    "# for train_index, test_index in skf.split(train_ids, y):\n",
    "for train_index, test_index in group_kfold.split(X, y, groups):\n",
    "    print('Fold {}\\n'.format(counter))\n",
    "    logging.warning(\"Training fold {}\".format(counter))\n",
    "\n",
    "    X_fit, X_val = X.iloc[train_index, :], X.iloc[test_index, :]\n",
    "    y_fit, y_val = y.iloc[train_index], y.iloc[test_index]\n",
    "\n",
    "    lgb_model.fit(X_fit,\n",
    "                  y_fit,\n",
    "                  eval_set=[(X_val, y_val), (X_fit, y_fit)],\n",
    "                  verbose=100,\n",
    "                  early_stopping_rounds=100)\n",
    "    \n",
    "    logging.warning(\"Best AUC in this fold: {}\".format(lgb_model.best_score_['valid_0']['auc']))\n",
    "    logging.warning(\"Best iteration in this fold: {}\".format(lgb_model.best_iteration_))\n",
    "    auc_score += lgb_model.best_score_['valid_0']['auc']\n",
    "    iterat += lgb_model.best_iteration_\n",
    "\n",
    "    del X_fit\n",
    "    del X_val\n",
    "    del y_fit\n",
    "    del y_val\n",
    "    del train_index\n",
    "    del test_index\n",
    "    gc.collect()\n",
    "    \n",
    "    counter += 1\n",
    "    \n",
    "mean_auc_score = auc_score/k\n",
    "mean_iterat = iterat/k\n",
    "\n",
    "logging.warning(\"Mean AUC in {0} folds: {1}\".format(k, mean_auc_score))\n",
    "logging.warning(\"Mean iterations in {0} folds: {1}\".format(k, mean_iterat))"
   ]
  },
  {
   "cell_type": "code",
   "execution_count": 65,
   "metadata": {},
   "outputs": [
    {
     "data": {
      "text/plain": [
       "448"
      ]
     },
     "execution_count": 65,
     "metadata": {},
     "output_type": "execute_result"
    }
   ],
   "source": [
    "params['n_estimators'] = int(mean_iterat)\n",
    "params['n_estimators']"
   ]
  },
  {
   "cell_type": "code",
   "execution_count": 66,
   "metadata": {},
   "outputs": [
    {
     "data": {
      "text/plain": [
       "LGBMClassifier(bagging_fraction=0.8, bagging_freq=5, bagging_seed=42,\n",
       "               boosting_type='gbdt', class_weight=None, colsample_bytree=0.4,\n",
       "               data_random_seed=42, drop_seed=42, feature_fraction_seed=42,\n",
       "               first_metric_only=True, importance_type='split', lambda_l1=0,\n",
       "               lambda_l2=0, learning_rate=0.01, max_depth=-1, metric=['AUC'],\n",
       "               min_child_samples=20, min_child_weight=0.001, min_split_gain=0.0,\n",
       "               n_estimators=448, n_jobs=-1, num_leaves=256,\n",
       "               objective='xentropy', random_state=42, reg_alpha=0.0,\n",
       "               reg_lambda=0.0, seed=42, silent=True, subsample=1.0,\n",
       "               subsample_for_bin=200000, ...)"
      ]
     },
     "execution_count": 66,
     "metadata": {},
     "output_type": "execute_result"
    }
   ],
   "source": [
    "lgb_model = lgb.LGBMClassifier(**params)\n",
    "lgb_model.fit(train[X_cols], train.isFraud)"
   ]
  },
  {
   "cell_type": "code",
   "execution_count": 67,
   "metadata": {},
   "outputs": [],
   "source": [
    "y_preds = lgb_model.predict_proba(test[X.columns])"
   ]
  },
  {
   "cell_type": "code",
   "execution_count": 68,
   "metadata": {},
   "outputs": [],
   "source": [
    "df_sub = pd.read_csv(data_folder+'/sample_submission.csv')"
   ]
  },
  {
   "cell_type": "code",
   "execution_count": 69,
   "metadata": {},
   "outputs": [],
   "source": [
    "df_sub['isFraud'] = y_preds[:,1]"
   ]
  },
  {
   "cell_type": "code",
   "execution_count": 70,
   "metadata": {},
   "outputs": [
    {
     "data": {
      "text/html": [
       "<div>\n",
       "<style scoped>\n",
       "    .dataframe tbody tr th:only-of-type {\n",
       "        vertical-align: middle;\n",
       "    }\n",
       "\n",
       "    .dataframe tbody tr th {\n",
       "        vertical-align: top;\n",
       "    }\n",
       "\n",
       "    .dataframe thead th {\n",
       "        text-align: right;\n",
       "    }\n",
       "</style>\n",
       "<table border=\"1\" class=\"dataframe\">\n",
       "  <thead>\n",
       "    <tr style=\"text-align: right;\">\n",
       "      <th></th>\n",
       "      <th>TransactionID</th>\n",
       "      <th>isFraud</th>\n",
       "    </tr>\n",
       "  </thead>\n",
       "  <tbody>\n",
       "    <tr>\n",
       "      <td>0</td>\n",
       "      <td>3663549</td>\n",
       "      <td>0.003384</td>\n",
       "    </tr>\n",
       "    <tr>\n",
       "      <td>1</td>\n",
       "      <td>3663550</td>\n",
       "      <td>0.005506</td>\n",
       "    </tr>\n",
       "    <tr>\n",
       "      <td>2</td>\n",
       "      <td>3663551</td>\n",
       "      <td>0.004588</td>\n",
       "    </tr>\n",
       "    <tr>\n",
       "      <td>3</td>\n",
       "      <td>3663552</td>\n",
       "      <td>0.006006</td>\n",
       "    </tr>\n",
       "    <tr>\n",
       "      <td>4</td>\n",
       "      <td>3663553</td>\n",
       "      <td>0.005722</td>\n",
       "    </tr>\n",
       "  </tbody>\n",
       "</table>\n",
       "</div>"
      ],
      "text/plain": [
       "   TransactionID   isFraud\n",
       "0        3663549  0.003384\n",
       "1        3663550  0.005506\n",
       "2        3663551  0.004588\n",
       "3        3663552  0.006006\n",
       "4        3663553  0.005722"
      ]
     },
     "execution_count": 70,
     "metadata": {},
     "output_type": "execute_result"
    }
   ],
   "source": [
    "df_sub.head()"
   ]
  },
  {
   "cell_type": "code",
   "execution_count": 71,
   "metadata": {},
   "outputs": [],
   "source": [
    "today = datetime.date.today()\n",
    "D = today.strftime('%Y%m%d')"
   ]
  },
  {
   "cell_type": "code",
   "execution_count": 72,
   "metadata": {},
   "outputs": [],
   "source": [
    "submission_name = '{0}_LightGBM_{1}'.format(D, mean_auc_score)"
   ]
  },
  {
   "cell_type": "code",
   "execution_count": 73,
   "metadata": {},
   "outputs": [],
   "source": [
    "logging.warning(\"Submission name: {}\".format(submission_name))"
   ]
  },
  {
   "cell_type": "code",
   "execution_count": 74,
   "metadata": {},
   "outputs": [],
   "source": [
    "df_sub.to_csv('submissions/{}.csv'.format(submission_name), sep=',', header=True, index=None)"
   ]
  },
  {
   "cell_type": "code",
   "execution_count": 75,
   "metadata": {},
   "outputs": [],
   "source": [
    "logging.warning(\"End\")"
   ]
  },
  {
   "cell_type": "code",
   "execution_count": 78,
   "metadata": {},
   "outputs": [
    {
     "data": {
      "text/plain": [
       "(2947, 2)"
      ]
     },
     "execution_count": 78,
     "metadata": {},
     "output_type": "execute_result"
    }
   ],
   "source": [
    "df_sub[df_sub.isFraud>0.9].shape"
   ]
  },
  {
   "cell_type": "code",
   "execution_count": null,
   "metadata": {},
   "outputs": [],
   "source": []
  }
 ],
 "metadata": {
  "kernelspec": {
   "display_name": "Python 3",
   "language": "python",
   "name": "python3"
  },
  "language_info": {
   "codemirror_mode": {
    "name": "ipython",
    "version": 3
   },
   "file_extension": ".py",
   "mimetype": "text/x-python",
   "name": "python",
   "nbconvert_exporter": "python",
   "pygments_lexer": "ipython3",
   "version": "3.6.8"
  }
 },
 "nbformat": 4,
 "nbformat_minor": 2
}
