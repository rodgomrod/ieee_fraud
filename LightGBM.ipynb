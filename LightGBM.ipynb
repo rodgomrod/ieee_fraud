{
 "cells": [
  {
   "cell_type": "markdown",
   "metadata": {},
   "source": [
    "# LightGBM"
   ]
  },
  {
   "cell_type": "markdown",
   "metadata": {},
   "source": [
    "### Libraries"
   ]
  },
  {
   "cell_type": "code",
   "execution_count": 22,
   "metadata": {},
   "outputs": [],
   "source": [
    "import warnings\n",
    "warnings.filterwarnings('ignore')\n",
    "\n",
    "# import pandas as pd\n",
    "import modin.pandas as pd\n",
    "import numpy as np\n",
    "import matplotlib.pyplot as plt\n",
    "from collections import Counter, defaultdict\n",
    "import gc\n",
    "import logging\n",
    "import lightgbm as lgb\n",
    "from sklearn.model_selection import StratifiedKFold, GroupKFold, TimeSeriesSplit\n",
    "from sklearn.metrics import roc_auc_score\n",
    "import datetime\n",
    "\n",
    "from utils.schemas import *\n",
    "from utils.functions import *"
   ]
  },
  {
   "cell_type": "markdown",
   "metadata": {},
   "source": [
    "### Logging"
   ]
  },
  {
   "cell_type": "code",
   "execution_count": 2,
   "metadata": {},
   "outputs": [],
   "source": [
    "LOG_NAME = 'logs/LightGBM.log'\n",
    "logging.basicConfig(filename=LOG_NAME, level=logging.WARNING, format='%(asctime)s %(message)s')\n",
    "logging.warning(\"\")\n",
    "logging.warning(\"##### New LightGBM Model #####\")"
   ]
  },
  {
   "cell_type": "markdown",
   "metadata": {},
   "source": [
    "### Data"
   ]
  },
  {
   "cell_type": "code",
   "execution_count": 4,
   "metadata": {},
   "outputs": [],
   "source": [
    "df_imp = pd.read_csv('docs/20190903_PermitationImportance_Rf4.csv')"
   ]
  },
  {
   "cell_type": "code",
   "execution_count": 24,
   "metadata": {},
   "outputs": [],
   "source": [
    "drop_cols = ['D1','D10','D11','D12','D13','D14','D15','D2','D3','D4','D5','D6',\n",
    "             'D7','D8','D9','C1','C10','C11','C12','C13','C14','C2','C3','C4','C5','C6','C7','C8','C9']"
   ]
  },
  {
   "cell_type": "code",
   "execution_count": 5,
   "metadata": {},
   "outputs": [],
   "source": [
    "X_cols = df_imp[df_imp.Importance > 0].feature.to_list()\n",
    "# X_cols = df_imp.feature[:400].to_list()"
   ]
  },
  {
   "cell_type": "code",
   "execution_count": 26,
   "metadata": {},
   "outputs": [
    {
     "data": {
      "text/plain": [
       "268"
      ]
     },
     "execution_count": 26,
     "metadata": {},
     "output_type": "execute_result"
    }
   ],
   "source": [
    "len(X_cols)"
   ]
  },
  {
   "cell_type": "code",
   "execution_count": 7,
   "metadata": {},
   "outputs": [
    {
     "data": {
      "text/plain": [
       "['R1', 'V258', 'V201', 'V257', 'R71', 'V200', 'R43', 'V199', 'V189']"
      ]
     },
     "execution_count": 7,
     "metadata": {},
     "output_type": "execute_result"
    }
   ],
   "source": [
    "X_cols[:9]"
   ]
  },
  {
   "cell_type": "code",
   "execution_count": 4,
   "metadata": {},
   "outputs": [],
   "source": [
    "data_folder = 'input'"
   ]
  },
  {
   "cell_type": "code",
   "execution_count": 8,
   "metadata": {},
   "outputs": [],
   "source": [
    "id_cols = ['addr1', 'addr2', 'card1', 'card2', 'card3', 'card4', 'card5', 'card6', 'P_emaildomain']"
   ]
  },
  {
   "cell_type": "code",
   "execution_count": 6,
   "metadata": {},
   "outputs": [],
   "source": [
    "# train = pd.read_csv(data_folder+'/train_syn_ft_eng_0.zip', dtype = schema_synthetic_ft_eng_0, usecols=X_cols+['isFraud']+id_cols+drop_cols)\n",
    "# test = pd.read_csv(data_folder+'/test_syn_ft_eng_0.zip', dtype = schema_synthetic_ft_eng_0, usecols=X_cols+id_cols+drop_cols)\n",
    "train = pd.read_csv(data_folder+'/train_syn_ft_eng_0.zip', dtype = schema_synthetic_ft_eng_0)\n",
    "test = pd.read_csv(data_folder+'/test_syn_ft_eng_0.zip', dtype = schema_synthetic_ft_eng_0)"
   ]
  },
  {
   "cell_type": "code",
   "execution_count": 9,
   "metadata": {},
   "outputs": [],
   "source": [
    "groups = train.groupby(id_cols).grouper.group_info[0]"
   ]
  },
  {
   "cell_type": "code",
   "execution_count": 10,
   "metadata": {},
   "outputs": [],
   "source": [
    "# X_cols.remove('addr1')\n",
    "# X_cols.remove('addr2')\n",
    "# X_cols.remove('card1')"
   ]
  },
  {
   "cell_type": "code",
   "execution_count": 96,
   "metadata": {},
   "outputs": [],
   "source": [
    "imp_dict = dict()\n",
    "for c in X_cols:\n",
    "    if c not in cat_ft:\n",
    "        imp_dict[c] = train[c].median()"
   ]
  },
  {
   "cell_type": "code",
   "execution_count": 13,
   "metadata": {},
   "outputs": [],
   "source": [
    "X_cols = [x for x in train.columns if x not in ['isFraud', 'TransactionDT', 'Transaction_day_of_week', 'Transaction_hour']]"
   ]
  },
  {
   "cell_type": "code",
   "execution_count": 15,
   "metadata": {},
   "outputs": [],
   "source": [
    "X = train[X_cols]#.fillna(imp_dict)\n",
    "y = train.isFraud"
   ]
  },
  {
   "cell_type": "code",
   "execution_count": 16,
   "metadata": {},
   "outputs": [],
   "source": [
    "X_test = test[X_cols]\n",
    "y_test = test.isFraud"
   ]
  },
  {
   "cell_type": "markdown",
   "metadata": {},
   "source": [
    "### Model"
   ]
  },
  {
   "cell_type": "code",
   "execution_count": 37,
   "metadata": {},
   "outputs": [],
   "source": [
    "logging.warning(\"Used columns: {}\".format(X_cols))\n",
    "k = 3\n",
    "logging.warning(\"Folds number: {}\".format(k))"
   ]
  },
  {
   "cell_type": "code",
   "execution_count": 38,
   "metadata": {},
   "outputs": [],
   "source": [
    "group_kfold = GroupKFold(n_splits=k)"
   ]
  },
  {
   "cell_type": "code",
   "execution_count": 39,
   "metadata": {},
   "outputs": [],
   "source": [
    "train_ids = X.index\n",
    "skf = StratifiedKFold(n_splits=k, shuffle=True, random_state=42)"
   ]
  },
  {
   "cell_type": "code",
   "execution_count": 40,
   "metadata": {},
   "outputs": [],
   "source": [
    "tscv = TimeSeriesSplit(n_splits=k)"
   ]
  },
  {
   "cell_type": "markdown",
   "metadata": {},
   "source": [
    "#### LightGBM"
   ]
  },
  {
   "cell_type": "code",
   "execution_count": 41,
   "metadata": {},
   "outputs": [],
   "source": [
    "params = {\n",
    "    'num_leaves': 111,\n",
    "    'max_depth': -1,\n",
    "    'metric': ['AUC'],\n",
    "    'first_metric_only': True,\n",
    "    'n_estimators': 20000,\n",
    "    'num_threads': 64,\n",
    "    'learning_rate': 0.01,\n",
    "    'colsample_bytree': 0.5,\n",
    "    'objective': 'xentropy',\n",
    "    'n_jobs': -1,\n",
    "    'bagging_fraction': 0.7,\n",
    "    'bagging_freq': 2,\n",
    "    'lambda_l1': 0,\n",
    "    'lambda_l2': 0,\n",
    "    'bagging_seed': 42,\n",
    "    'random_state':42,\n",
    "    'seed': 42,\n",
    "    'feature_fraction_seed': 42,\n",
    "    'drop_seed': 42,\n",
    "    'data_random_seed': 42,\n",
    "}"
   ]
  },
  {
   "cell_type": "markdown",
   "metadata": {},
   "source": [
    "### Best max_depth"
   ]
  },
  {
   "cell_type": "code",
   "execution_count": 22,
   "metadata": {},
   "outputs": [],
   "source": [
    "logging.warning(\"Searching best max_depth\")"
   ]
  },
  {
   "cell_type": "code",
   "execution_count": null,
   "metadata": {
    "scrolled": true
   },
   "outputs": [
    {
     "name": "stdout",
     "output_type": "stream",
     "text": [
      "Max depth = 5\n"
     ]
    }
   ],
   "source": [
    "for train_index, test_index in group_kfold.split(X, y, groups):\n",
    "    X_fit, X_val = X.iloc[train_index, :], X.iloc[test_index, :]\n",
    "    y_fit, y_val = y.iloc[train_index], y.iloc[test_index]\n",
    "\n",
    "scores_dict = dict()\n",
    "for i in range(5, 20):\n",
    "    print('Max depth = {}'.format(i))\n",
    "    logging.warning('Max depth = {}'.format(i))\n",
    "    params['max_depth'] = i\n",
    "    lgb_model = lgb.LGBMClassifier(**params)\n",
    "    lgb_model.fit(X_fit,\n",
    "                  y_fit,\n",
    "                  eval_set=[(X_val, y_val), (X_fit, y_fit)],\n",
    "                  verbose=100,\n",
    "                  early_stopping_rounds=40)\n",
    "    scores_dict[i] = lgb_model.best_score_['valid_0']['auc']"
   ]
  },
  {
   "cell_type": "code",
   "execution_count": 91,
   "metadata": {},
   "outputs": [
    {
     "data": {
      "text/plain": [
       "17"
      ]
     },
     "execution_count": 91,
     "metadata": {},
     "output_type": "execute_result"
    }
   ],
   "source": [
    "b = pd.DataFrame({'Depth': [x for x in scores_dict.keys()], 'AUC': [x for x in scores_dict.values()]})\n",
    "md = b[b.AUC == b.AUC.max()].Depth\n",
    "md.values[0]"
   ]
  },
  {
   "cell_type": "code",
   "execution_count": null,
   "metadata": {},
   "outputs": [],
   "source": [
    "params['max_depth'] = md.values[0]"
   ]
  },
  {
   "cell_type": "code",
   "execution_count": 23,
   "metadata": {},
   "outputs": [],
   "source": [
    "lgb_model = lgb.LGBMClassifier(**params)"
   ]
  },
  {
   "cell_type": "code",
   "execution_count": 24,
   "metadata": {},
   "outputs": [],
   "source": [
    "logging.warning(\"Params: {}\".format(str(lgb_model.get_params())))"
   ]
  },
  {
   "cell_type": "code",
   "execution_count": 29,
   "metadata": {},
   "outputs": [
    {
     "data": {
      "text/plain": [
       "((221908, 712), (221908,))"
      ]
     },
     "execution_count": 29,
     "metadata": {},
     "output_type": "execute_result"
    }
   ],
   "source": [
    "X_test.shape, y_test.shape"
   ]
  },
  {
   "cell_type": "code",
   "execution_count": 42,
   "metadata": {
    "scrolled": false
   },
   "outputs": [
    {
     "name": "stdout",
     "output_type": "stream",
     "text": [
      "Fold 1\n",
      "\n",
      "Training until validation scores don't improve for 40 rounds.\n",
      "[200]\ttraining's auc: 0.959987\tvalid_0's auc: 0.924216\n",
      "[400]\ttraining's auc: 0.990751\tvalid_0's auc: 0.944575\n",
      "[600]\ttraining's auc: 0.997483\tvalid_0's auc: 0.952096\n",
      "[800]\ttraining's auc: 0.999295\tvalid_0's auc: 0.955946\n",
      "[1000]\ttraining's auc: 0.999771\tvalid_0's auc: 0.957985\n",
      "[1200]\ttraining's auc: 0.999928\tvalid_0's auc: 0.959514\n",
      "[1400]\ttraining's auc: 0.999981\tvalid_0's auc: 0.960553\n",
      "[1600]\ttraining's auc: 0.999996\tvalid_0's auc: 0.961286\n",
      "[1800]\ttraining's auc: 0.999999\tvalid_0's auc: 0.96183\n",
      "[2000]\ttraining's auc: 1\tvalid_0's auc: 0.962213\n",
      "Early stopping, best iteration is:\n",
      "[2158]\ttraining's auc: 1\tvalid_0's auc: 0.962469\n",
      "AUC test score: 0.8861013374743754\n",
      "Fold 2\n",
      "\n",
      "Training until validation scores don't improve for 40 rounds.\n",
      "[200]\ttraining's auc: 0.958945\tvalid_0's auc: 0.928088\n",
      "[400]\ttraining's auc: 0.990271\tvalid_0's auc: 0.948327\n",
      "[600]\ttraining's auc: 0.997528\tvalid_0's auc: 0.956223\n",
      "[800]\ttraining's auc: 0.999278\tvalid_0's auc: 0.96023\n",
      "[1000]\ttraining's auc: 0.999763\tvalid_0's auc: 0.962653\n",
      "[1200]\ttraining's auc: 0.999923\tvalid_0's auc: 0.964192\n",
      "[1400]\ttraining's auc: 0.999971\tvalid_0's auc: 0.965371\n",
      "[1600]\ttraining's auc: 0.999984\tvalid_0's auc: 0.966296\n",
      "Early stopping, best iteration is:\n",
      "[1751]\ttraining's auc: 0.999988\tvalid_0's auc: 0.966709\n",
      "AUC test score: 0.8895605093480881\n",
      "Fold 3\n",
      "\n",
      "Training until validation scores don't improve for 40 rounds.\n",
      "[200]\ttraining's auc: 0.960729\tvalid_0's auc: 0.926989\n",
      "[400]\ttraining's auc: 0.989469\tvalid_0's auc: 0.946051\n",
      "[600]\ttraining's auc: 0.997308\tvalid_0's auc: 0.954206\n",
      "[800]\ttraining's auc: 0.999271\tvalid_0's auc: 0.958113\n",
      "[1000]\ttraining's auc: 0.999787\tvalid_0's auc: 0.960635\n",
      "[1200]\ttraining's auc: 0.999937\tvalid_0's auc: 0.962451\n",
      "[1400]\ttraining's auc: 0.999984\tvalid_0's auc: 0.963585\n",
      "[1600]\ttraining's auc: 0.999997\tvalid_0's auc: 0.964259\n",
      "[1800]\ttraining's auc: 0.999999\tvalid_0's auc: 0.965025\n",
      "[2000]\ttraining's auc: 1\tvalid_0's auc: 0.965577\n",
      "[2200]\ttraining's auc: 1\tvalid_0's auc: 0.965954\n",
      "Early stopping, best iteration is:\n",
      "[2200]\ttraining's auc: 1\tvalid_0's auc: 0.965954\n",
      "AUC test score: 0.8848917254888984\n"
     ]
    }
   ],
   "source": [
    "counter = 1\n",
    "auc_score = 0\n",
    "iterat = 0\n",
    "list_iter = list()\n",
    "for train_index, test_index in skf.split(train_ids, y):\n",
    "# for train_index, test_index in group_kfold.split(X, y, groups):\n",
    "# for train_index, test_index in tscv.split(X=X, y=y):\n",
    "    print('Fold {}\\n'.format(counter))\n",
    "    logging.warning(\"Training fold {}\".format(counter))\n",
    "\n",
    "    X_fit, X_val = X.iloc[train_index, :], X.iloc[test_index, :]\n",
    "    y_fit, y_val = y.iloc[train_index], y.iloc[test_index]\n",
    "\n",
    "    lgb_model.fit(X_fit,\n",
    "                  y_fit,\n",
    "                  eval_set=[(X_val, y_val), (X_fit, y_fit)],\n",
    "                  verbose=200,\n",
    "                  early_stopping_rounds=40)\n",
    "    \n",
    "    logging.warning(\"Best AUC in this fold: {}\".format(lgb_model.best_score_['valid_0']['auc']))\n",
    "    logging.warning(\"Best iteration in this fold: {}\".format(lgb_model.best_iteration_))\n",
    "    auc_score += lgb_model.best_score_['valid_0']['auc']\n",
    "    print('AUC test score: {}'.format(roc_auc_score(y_test, lgb_model.predict_proba(X_test[X.columns])[:,1])))\n",
    "    it = lgb_model.best_iteration_\n",
    "    iterat += it\n",
    "    list_iter.append(it)\n",
    "\n",
    "    del X_fit\n",
    "    del X_val\n",
    "    del y_fit\n",
    "    del y_val\n",
    "    del train_index\n",
    "    del test_index\n",
    "    gc.collect()\n",
    "    \n",
    "    counter += 1\n",
    "    \n",
    "mean_auc_score = auc_score/k\n",
    "mean_iterat = iterat/k\n",
    "\n",
    "logging.warning(\"Mean AUC in {0} folds: {1}\".format(k, mean_auc_score))\n",
    "logging.warning(\"Mean iterations in {0} folds: {1}\".format(k, mean_iterat))"
   ]
  },
  {
   "cell_type": "code",
   "execution_count": 44,
   "metadata": {
    "scrolled": false
   },
   "outputs": [
    {
     "name": "stdout",
     "output_type": "stream",
     "text": [
      "Fold 1\n",
      "\n",
      "Training until validation scores don't improve for 100 rounds.\n",
      "[100]\ttraining's auc: 0.967128\tvalid_0's auc: 0.892336\n",
      "[200]\ttraining's auc: 0.993069\tvalid_0's auc: 0.9012\n",
      "[300]\ttraining's auc: 0.999273\tvalid_0's auc: 0.904383\n",
      "[400]\ttraining's auc: 0.999925\tvalid_0's auc: 0.906741\n",
      "[500]\ttraining's auc: 0.999991\tvalid_0's auc: 0.908083\n",
      "[600]\ttraining's auc: 0.999999\tvalid_0's auc: 0.90866\n",
      "[700]\ttraining's auc: 1\tvalid_0's auc: 0.909145\n",
      "Early stopping, best iteration is:\n",
      "[690]\ttraining's auc: 1\tvalid_0's auc: 0.908917\n",
      "AUC test score: 0.8672260532455773\n",
      "Fold 2\n",
      "\n",
      "Training until validation scores don't improve for 100 rounds.\n",
      "[100]\ttraining's auc: 0.946903\tvalid_0's auc: 0.876507\n",
      "[200]\ttraining's auc: 0.976229\tvalid_0's auc: 0.886164\n",
      "[300]\ttraining's auc: 0.992189\tvalid_0's auc: 0.895813\n",
      "[400]\ttraining's auc: 0.997899\tvalid_0's auc: 0.90281\n",
      "[500]\ttraining's auc: 0.999403\tvalid_0's auc: 0.907363\n",
      "[600]\ttraining's auc: 0.99981\tvalid_0's auc: 0.909443\n",
      "[700]\ttraining's auc: 0.999932\tvalid_0's auc: 0.911939\n",
      "[800]\ttraining's auc: 0.999978\tvalid_0's auc: 0.913279\n",
      "[900]\ttraining's auc: 0.999993\tvalid_0's auc: 0.914162\n",
      "[1000]\ttraining's auc: 0.999998\tvalid_0's auc: 0.915685\n",
      "[1100]\ttraining's auc: 1\tvalid_0's auc: 0.916157\n",
      "[1200]\ttraining's auc: 1\tvalid_0's auc: 0.917007\n",
      "[1300]\ttraining's auc: 1\tvalid_0's auc: 0.91719\n",
      "[1400]\ttraining's auc: 1\tvalid_0's auc: 0.91737\n",
      "Early stopping, best iteration is:\n",
      "[1313]\ttraining's auc: 1\tvalid_0's auc: 0.9172\n",
      "AUC test score: 0.8731326021111581\n",
      "Fold 3\n",
      "\n",
      "Training until validation scores don't improve for 100 rounds.\n",
      "[100]\ttraining's auc: 0.92775\tvalid_0's auc: 0.897639\n",
      "[200]\ttraining's auc: 0.962853\tvalid_0's auc: 0.908265\n",
      "[300]\ttraining's auc: 0.982229\tvalid_0's auc: 0.918944\n",
      "[400]\ttraining's auc: 0.990945\tvalid_0's auc: 0.924523\n",
      "[500]\ttraining's auc: 0.995654\tvalid_0's auc: 0.927446\n",
      "[600]\ttraining's auc: 0.997825\tvalid_0's auc: 0.929311\n",
      "[700]\ttraining's auc: 0.998881\tvalid_0's auc: 0.930403\n",
      "[800]\ttraining's auc: 0.999368\tvalid_0's auc: 0.930784\n",
      "[900]\ttraining's auc: 0.999646\tvalid_0's auc: 0.931448\n",
      "[1000]\ttraining's auc: 0.999792\tvalid_0's auc: 0.931927\n",
      "[1100]\ttraining's auc: 0.999877\tvalid_0's auc: 0.932567\n",
      "[1200]\ttraining's auc: 0.999922\tvalid_0's auc: 0.93273\n",
      "[1300]\ttraining's auc: 0.999949\tvalid_0's auc: 0.933182\n",
      "[1400]\ttraining's auc: 0.999964\tvalid_0's auc: 0.933314\n",
      "[1500]\ttraining's auc: 0.99997\tvalid_0's auc: 0.933589\n",
      "[1600]\ttraining's auc: 0.999974\tvalid_0's auc: 0.933436\n",
      "Early stopping, best iteration is:\n",
      "[1530]\ttraining's auc: 0.999971\tvalid_0's auc: 0.933712\n",
      "AUC test score: 0.87103497437592\n"
     ]
    }
   ],
   "source": [
    "counter = 1\n",
    "auc_score = 0\n",
    "iterat = 0\n",
    "list_iter = list()\n",
    "# for train_index, test_index in skf.split(train_ids, y):\n",
    "# for train_index, test_index in group_kfold.split(X, y, groups):\n",
    "for train_index, test_index in tscv.split(X=X, y=y):\n",
    "    print('Fold {}\\n'.format(counter))\n",
    "    logging.warning(\"Training fold {}\".format(counter))\n",
    "\n",
    "    X_fit, X_val = X.iloc[train_index, :], X.iloc[test_index, :]\n",
    "    y_fit, y_val = y.iloc[train_index], y.iloc[test_index]\n",
    "\n",
    "    lgb_model.fit(X_fit,\n",
    "                  y_fit,\n",
    "                  eval_set=[(X_val, y_val), (X_fit, y_fit)],\n",
    "                  verbose=100,\n",
    "                  early_stopping_rounds=200)\n",
    "    \n",
    "    logging.warning(\"Best AUC in this fold: {}\".format(lgb_model.best_score_['valid_0']['auc']))\n",
    "    logging.warning(\"Best iteration in this fold: {}\".format(lgb_model.best_iteration_))\n",
    "    auc_score += lgb_model.best_score_['valid_0']['auc']\n",
    "    print('AUC test score: {}'.format(roc_auc_score(y_test, lgb_model.predict_proba(X_test[X.columns])[:,1])))\n",
    "    it = lgb_model.best_iteration_\n",
    "    iterat += it\n",
    "    list_iter.append(it)\n",
    "\n",
    "    del X_fit\n",
    "    del X_val\n",
    "    del y_fit\n",
    "    del y_val\n",
    "    del train_index\n",
    "    del test_index\n",
    "    gc.collect()\n",
    "    \n",
    "    counter += 1\n",
    "    \n",
    "mean_auc_score = auc_score/k\n",
    "mean_iterat = iterat/k\n",
    "\n",
    "logging.warning(\"Mean AUC in {0} folds: {1}\".format(k, mean_auc_score))\n",
    "logging.warning(\"Mean iterations in {0} folds: {1}\".format(k, mean_iterat))"
   ]
  },
  {
   "cell_type": "code",
   "execution_count": 45,
   "metadata": {
    "scrolled": false
   },
   "outputs": [
    {
     "name": "stdout",
     "output_type": "stream",
     "text": [
      "Fold 1\n",
      "\n",
      "Training until validation scores don't improve for 200 rounds.\n",
      "[100]\ttraining's auc: 0.928305\tvalid_0's auc: 0.888832\n",
      "[200]\ttraining's auc: 0.964239\tvalid_0's auc: 0.898152\n",
      "[300]\ttraining's auc: 0.982017\tvalid_0's auc: 0.903248\n",
      "[400]\ttraining's auc: 0.990634\tvalid_0's auc: 0.906894\n",
      "[500]\ttraining's auc: 0.995258\tvalid_0's auc: 0.908936\n",
      "[600]\ttraining's auc: 0.99749\tvalid_0's auc: 0.91027\n",
      "[700]\ttraining's auc: 0.998663\tvalid_0's auc: 0.910604\n",
      "[800]\ttraining's auc: 0.999298\tvalid_0's auc: 0.910388\n",
      "[900]\ttraining's auc: 0.999639\tvalid_0's auc: 0.910408\n",
      "Early stopping, best iteration is:\n",
      "[708]\ttraining's auc: 0.998737\tvalid_0's auc: 0.910678\n",
      "AUC test score: 0.8871782651772717\n",
      "Fold 2\n",
      "\n",
      "Training until validation scores don't improve for 200 rounds.\n",
      "[100]\ttraining's auc: 0.931735\tvalid_0's auc: 0.875267\n",
      "[200]\ttraining's auc: 0.968147\tvalid_0's auc: 0.885825\n",
      "[300]\ttraining's auc: 0.985178\tvalid_0's auc: 0.892866\n",
      "[400]\ttraining's auc: 0.993111\tvalid_0's auc: 0.896827\n",
      "[500]\ttraining's auc: 0.996694\tvalid_0's auc: 0.898452\n",
      "[600]\ttraining's auc: 0.99833\tvalid_0's auc: 0.900296\n",
      "[700]\ttraining's auc: 0.999137\tvalid_0's auc: 0.901306\n",
      "[800]\ttraining's auc: 0.999547\tvalid_0's auc: 0.901502\n",
      "[900]\ttraining's auc: 0.999756\tvalid_0's auc: 0.901841\n",
      "[1000]\ttraining's auc: 0.999867\tvalid_0's auc: 0.902085\n",
      "[1100]\ttraining's auc: 0.999927\tvalid_0's auc: 0.902234\n",
      "[1200]\ttraining's auc: 0.999965\tvalid_0's auc: 0.90233\n",
      "[1300]\ttraining's auc: 0.999984\tvalid_0's auc: 0.901852\n",
      "Early stopping, best iteration is:\n",
      "[1184]\ttraining's auc: 0.999961\tvalid_0's auc: 0.902426\n",
      "AUC test score: 0.8795129814094855\n",
      "Fold 3\n",
      "\n",
      "Training until validation scores don't improve for 200 rounds.\n",
      "[100]\ttraining's auc: 0.932387\tvalid_0's auc: 0.881811\n",
      "[200]\ttraining's auc: 0.964409\tvalid_0's auc: 0.891627\n",
      "[300]\ttraining's auc: 0.984241\tvalid_0's auc: 0.89568\n",
      "[400]\ttraining's auc: 0.992638\tvalid_0's auc: 0.898504\n",
      "[500]\ttraining's auc: 0.996557\tvalid_0's auc: 0.89977\n",
      "[600]\ttraining's auc: 0.998245\tvalid_0's auc: 0.900761\n",
      "[700]\ttraining's auc: 0.999172\tvalid_0's auc: 0.900845\n",
      "[800]\ttraining's auc: 0.999588\tvalid_0's auc: 0.900959\n",
      "[900]\ttraining's auc: 0.99979\tvalid_0's auc: 0.901032\n",
      "[1000]\ttraining's auc: 0.999893\tvalid_0's auc: 0.900425\n",
      "Early stopping, best iteration is:\n",
      "[855]\ttraining's auc: 0.999711\tvalid_0's auc: 0.901204\n",
      "AUC test score: 0.8825572855068438\n"
     ]
    }
   ],
   "source": [
    "counter = 1\n",
    "auc_score = 0\n",
    "iterat = 0\n",
    "list_iter = list()\n",
    "# for train_index, test_index in skf.split(train_ids, y):\n",
    "for train_index, test_index in group_kfold.split(X, y, groups):\n",
    "# for train_index, test_index in tscv.split(X=X, y=y):\n",
    "    print('Fold {}\\n'.format(counter))\n",
    "    logging.warning(\"Training fold {}\".format(counter))\n",
    "\n",
    "    X_fit, X_val = X.iloc[train_index, :], X.iloc[test_index, :]\n",
    "    y_fit, y_val = y.iloc[train_index], y.iloc[test_index]\n",
    "\n",
    "    lgb_model.fit(X_fit,\n",
    "                  y_fit,\n",
    "                  eval_set=[(X_val, y_val), (X_fit, y_fit)],\n",
    "                  verbose=100,\n",
    "                  early_stopping_rounds=200)\n",
    "    \n",
    "    logging.warning(\"Best AUC in this fold: {}\".format(lgb_model.best_score_['valid_0']['auc']))\n",
    "    logging.warning(\"Best iteration in this fold: {}\".format(lgb_model.best_iteration_))\n",
    "    auc_score += lgb_model.best_score_['valid_0']['auc']\n",
    "    print('AUC test score: {}'.format(roc_auc_score(y_test, lgb_model.predict_proba(X_test[X.columns])[:,1])))\n",
    "    it = lgb_model.best_iteration_\n",
    "    iterat += it\n",
    "    list_iter.append(it)\n",
    "\n",
    "    del X_fit\n",
    "    del X_val\n",
    "    del y_fit\n",
    "    del y_val\n",
    "    del train_index\n",
    "    del test_index\n",
    "    gc.collect()\n",
    "    \n",
    "    counter += 1\n",
    "    \n",
    "mean_auc_score = auc_score/k\n",
    "mean_iterat = iterat/k\n",
    "\n",
    "logging.warning(\"Mean AUC in {0} folds: {1}\".format(k, mean_auc_score))\n",
    "logging.warning(\"Mean iterations in {0} folds: {1}\".format(k, mean_iterat))"
   ]
  },
  {
   "cell_type": "code",
   "execution_count": 38,
   "metadata": {},
   "outputs": [
    {
     "data": {
      "text/plain": [
       "2624.6"
      ]
     },
     "execution_count": 38,
     "metadata": {},
     "output_type": "execute_result"
    }
   ],
   "source": [
    "mean_iterat"
   ]
  },
  {
   "cell_type": "code",
   "execution_count": 39,
   "metadata": {},
   "outputs": [
    {
     "data": {
      "text/plain": [
       "2624"
      ]
     },
     "execution_count": 39,
     "metadata": {},
     "output_type": "execute_result"
    }
   ],
   "source": [
    "params['n_estimators'] = int(mean_iterat)\n",
    "params['n_estimators']"
   ]
  },
  {
   "cell_type": "code",
   "execution_count": 43,
   "metadata": {},
   "outputs": [
    {
     "data": {
      "text/plain": [
       "LGBMClassifier(bagging_fraction=0.7, bagging_freq=2, bagging_seed=42,\n",
       "               boosting_type='gbdt', class_weight=None, colsample_bytree=0.3,\n",
       "               data_random_seed=42, drop_seed=42, feature_fraction_seed=42,\n",
       "               first_metric_only=True, importance_type='split', lambda_l1=0,\n",
       "               lambda_l2=0, learning_rate=0.01, max_depth=-1, metric=['AUC'],\n",
       "               min_child_samples=20, min_child_weight=0.001, min_split_gain=0.0,\n",
       "               n_estimators=2624, n_jobs=-1, num_leaves=311, num_threads=64,\n",
       "               objective='xentropy', random_state=42, reg_alpha=0.0,\n",
       "               reg_lambda=0.0, seed=42, silent=True, subsample=1.0, ...)"
      ]
     },
     "execution_count": 43,
     "metadata": {},
     "output_type": "execute_result"
    }
   ],
   "source": [
    "lgb_model = lgb.LGBMClassifier(**params)\n",
    "lgb_model.fit(train[X_cols+drop_cols], train.isFraud)"
   ]
  },
  {
   "cell_type": "code",
   "execution_count": 44,
   "metadata": {},
   "outputs": [],
   "source": [
    "y_preds = lgb_model.predict_proba(test[X.columns])"
   ]
  },
  {
   "cell_type": "code",
   "execution_count": 45,
   "metadata": {},
   "outputs": [],
   "source": [
    "df_sub = pd.read_csv(data_folder+'/sample_submission.csv')"
   ]
  },
  {
   "cell_type": "code",
   "execution_count": 46,
   "metadata": {},
   "outputs": [],
   "source": [
    "df_sub['isFraud'] = y_preds[:,1]"
   ]
  },
  {
   "cell_type": "code",
   "execution_count": 47,
   "metadata": {},
   "outputs": [
    {
     "data": {
      "text/html": [
       "<div>\n",
       "<style scoped>\n",
       "    .dataframe tbody tr th:only-of-type {\n",
       "        vertical-align: middle;\n",
       "    }\n",
       "\n",
       "    .dataframe tbody tr th {\n",
       "        vertical-align: top;\n",
       "    }\n",
       "\n",
       "    .dataframe thead th {\n",
       "        text-align: right;\n",
       "    }\n",
       "</style>\n",
       "<table border=\"1\" class=\"dataframe\">\n",
       "  <thead>\n",
       "    <tr style=\"text-align: right;\">\n",
       "      <th></th>\n",
       "      <th>TransactionID</th>\n",
       "      <th>isFraud</th>\n",
       "    </tr>\n",
       "  </thead>\n",
       "  <tbody>\n",
       "    <tr>\n",
       "      <td>0</td>\n",
       "      <td>3663549</td>\n",
       "      <td>0.000113</td>\n",
       "    </tr>\n",
       "    <tr>\n",
       "      <td>1</td>\n",
       "      <td>3663550</td>\n",
       "      <td>0.000302</td>\n",
       "    </tr>\n",
       "    <tr>\n",
       "      <td>2</td>\n",
       "      <td>3663551</td>\n",
       "      <td>0.000472</td>\n",
       "    </tr>\n",
       "    <tr>\n",
       "      <td>3</td>\n",
       "      <td>3663552</td>\n",
       "      <td>0.000826</td>\n",
       "    </tr>\n",
       "    <tr>\n",
       "      <td>4</td>\n",
       "      <td>3663553</td>\n",
       "      <td>0.000374</td>\n",
       "    </tr>\n",
       "  </tbody>\n",
       "</table>\n",
       "</div>"
      ],
      "text/plain": [
       "   TransactionID   isFraud\n",
       "0        3663549  0.000113\n",
       "1        3663550  0.000302\n",
       "2        3663551  0.000472\n",
       "3        3663552  0.000826\n",
       "4        3663553  0.000374"
      ]
     },
     "execution_count": 47,
     "metadata": {},
     "output_type": "execute_result"
    }
   ],
   "source": [
    "df_sub.head()"
   ]
  },
  {
   "cell_type": "code",
   "execution_count": 48,
   "metadata": {},
   "outputs": [],
   "source": [
    "today = datetime.date.today()\n",
    "D = today.strftime('%Y%m%d')"
   ]
  },
  {
   "cell_type": "code",
   "execution_count": 49,
   "metadata": {},
   "outputs": [],
   "source": [
    "submission_name = '{0}_LightGBM_{1}'.format(D, mean_auc_score)"
   ]
  },
  {
   "cell_type": "code",
   "execution_count": 50,
   "metadata": {},
   "outputs": [
    {
     "data": {
      "text/plain": [
       "'20190903_LightGBM_0.9732650305281695'"
      ]
     },
     "execution_count": 50,
     "metadata": {},
     "output_type": "execute_result"
    }
   ],
   "source": [
    "submission_name"
   ]
  },
  {
   "cell_type": "code",
   "execution_count": 51,
   "metadata": {},
   "outputs": [],
   "source": [
    "logging.warning(\"Submission name: {}\".format(submission_name))"
   ]
  },
  {
   "cell_type": "code",
   "execution_count": 52,
   "metadata": {},
   "outputs": [],
   "source": [
    "df_sub.to_csv('submissions/{}.csv'.format(submission_name), sep=',', header=True, index=None)"
   ]
  },
  {
   "cell_type": "code",
   "execution_count": 53,
   "metadata": {},
   "outputs": [],
   "source": [
    "logging.warning(\"End\")"
   ]
  },
  {
   "cell_type": "code",
   "execution_count": 54,
   "metadata": {},
   "outputs": [
    {
     "data": {
      "text/plain": [
       "(5084, 2)"
      ]
     },
     "execution_count": 54,
     "metadata": {},
     "output_type": "execute_result"
    }
   ],
   "source": [
    "df_sub[df_sub.isFraud>0.9].shape"
   ]
  },
  {
   "cell_type": "code",
   "execution_count": null,
   "metadata": {},
   "outputs": [],
   "source": []
  }
 ],
 "metadata": {
  "kernelspec": {
   "display_name": "Python 3",
   "language": "python",
   "name": "python3"
  },
  "language_info": {
   "codemirror_mode": {
    "name": "ipython",
    "version": 3
   },
   "file_extension": ".py",
   "mimetype": "text/x-python",
   "name": "python",
   "nbconvert_exporter": "python",
   "pygments_lexer": "ipython3",
   "version": "3.6.8"
  }
 },
 "nbformat": 4,
 "nbformat_minor": 2
}
