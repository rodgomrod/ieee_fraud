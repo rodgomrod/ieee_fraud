{
 "cells": [
  {
   "cell_type": "markdown",
   "metadata": {},
   "source": [
    "# LightGBM"
   ]
  },
  {
   "cell_type": "markdown",
   "metadata": {},
   "source": [
    "### Libraries"
   ]
  },
  {
   "cell_type": "code",
   "execution_count": 1,
   "metadata": {},
   "outputs": [],
   "source": [
    "import warnings\n",
    "warnings.filterwarnings('ignore')\n",
    "\n",
    "import pandas as pd\n",
    "import numpy as np\n",
    "import matplotlib.pyplot as plt\n",
    "from collections import Counter, defaultdict\n",
    "import gc\n",
    "import logging\n",
    "import lightgbm as lgb\n",
    "from sklearn.model_selection import StratifiedKFold\n",
    "import datetime\n",
    "\n",
    "from utils.schemas import *\n",
    "from utils.functions import *"
   ]
  },
  {
   "cell_type": "markdown",
   "metadata": {},
   "source": [
    "### Logging"
   ]
  },
  {
   "cell_type": "code",
   "execution_count": 2,
   "metadata": {},
   "outputs": [],
   "source": [
    "LOG_NAME = 'logs/LightGBM.log'\n",
    "logging.basicConfig(filename=LOG_NAME, level=logging.WARNING, format='%(asctime)s %(message)s')\n",
    "logging.warning(\"\")\n",
    "logging.warning(\"##### New LightGBM Model #####\")"
   ]
  },
  {
   "cell_type": "markdown",
   "metadata": {},
   "source": [
    "### Data"
   ]
  },
  {
   "cell_type": "code",
   "execution_count": 3,
   "metadata": {},
   "outputs": [],
   "source": [
    "df_imp = pd.read_csv('docs/ft_importances_20190831.csv')"
   ]
  },
  {
   "cell_type": "code",
   "execution_count": 4,
   "metadata": {},
   "outputs": [],
   "source": [
    "X_cols = df_imp.feature[:50].to_list()"
   ]
  },
  {
   "cell_type": "code",
   "execution_count": 5,
   "metadata": {},
   "outputs": [
    {
     "data": {
      "text/plain": [
       "50"
      ]
     },
     "execution_count": 5,
     "metadata": {},
     "output_type": "execute_result"
    }
   ],
   "source": [
    "len(X_cols)"
   ]
  },
  {
   "cell_type": "code",
   "execution_count": 7,
   "metadata": {},
   "outputs": [],
   "source": [
    "data_folder = 'input'"
   ]
  },
  {
   "cell_type": "code",
   "execution_count": 8,
   "metadata": {},
   "outputs": [],
   "source": [
    "train = pd.read_csv(data_folder+'/train_ft_eng_1.csv', dtype = schema_ft_eng_1, usecols=X_cols+['isFraud', 'TransactionDT'])\n",
    "test = pd.read_csv(data_folder+'/test_ft_eng_1.csv', dtype = schema_ft_eng_1, usecols=X_cols)"
   ]
  },
  {
   "cell_type": "code",
   "execution_count": 9,
   "metadata": {},
   "outputs": [],
   "source": [
    "X = train[X_cols]\n",
    "y = train.isFraud"
   ]
  },
  {
   "cell_type": "markdown",
   "metadata": {},
   "source": [
    "### Model"
   ]
  },
  {
   "cell_type": "code",
   "execution_count": 10,
   "metadata": {},
   "outputs": [],
   "source": [
    "logging.warning(\"Used columns: {}\".format(X_cols))\n",
    "k = 5\n",
    "logging.warning(\"Folds number: {}\".format(k))"
   ]
  },
  {
   "cell_type": "code",
   "execution_count": 11,
   "metadata": {},
   "outputs": [],
   "source": [
    "train_ids = X.index\n",
    "skf = StratifiedKFold(n_splits=k, shuffle=True, random_state=42)"
   ]
  },
  {
   "cell_type": "markdown",
   "metadata": {},
   "source": [
    "#### LightGBM"
   ]
  },
  {
   "cell_type": "code",
   "execution_count": 12,
   "metadata": {},
   "outputs": [],
   "source": [
    "params = {\n",
    "    'num_leaves': 91,\n",
    "    'max_depth': 11,\n",
    "    'metric': ['AUC'],\n",
    "    'first_metric_only': True,\n",
    "    'n_estimators': 20000,\n",
    "    'learning_rate': 0.01,\n",
    "    'colsample_bytree': 0.3,\n",
    "    'objective': 'xentropy',\n",
    "    'n_jobs': -1,\n",
    "    'bagging_fraction': 0.8,\n",
    "    'bagging_freq': 5,\n",
    "    'lambda_l1': 0,\n",
    "    'lambda_l2': 0,\n",
    "    'bagging_seed': 42,\n",
    "    'random_state':42,\n",
    "    'seed': 42,\n",
    "    'feature_fraction_seed': 42,\n",
    "    'drop_seed': 42,\n",
    "    'data_random_seed': 42,\n",
    "}"
   ]
  },
  {
   "cell_type": "code",
   "execution_count": 13,
   "metadata": {},
   "outputs": [],
   "source": [
    "lgb_model = lgb.LGBMClassifier(**params)"
   ]
  },
  {
   "cell_type": "code",
   "execution_count": 14,
   "metadata": {},
   "outputs": [],
   "source": [
    "logging.warning(\"Params: {}\".format(str(lgb_model.get_params())))"
   ]
  },
  {
   "cell_type": "code",
   "execution_count": 15,
   "metadata": {
    "scrolled": false
   },
   "outputs": [
    {
     "name": "stdout",
     "output_type": "stream",
     "text": [
      "Fold 1\n",
      "\n",
      "Training until validation scores don't improve for 50 rounds.\n",
      "[100]\ttraining's auc: 0.908197\tvalid_0's auc: 0.899146\n",
      "[200]\ttraining's auc: 0.924045\tvalid_0's auc: 0.912624\n",
      "[300]\ttraining's auc: 0.935257\tvalid_0's auc: 0.921827\n",
      "[400]\ttraining's auc: 0.944456\tvalid_0's auc: 0.928706\n",
      "[500]\ttraining's auc: 0.951277\tvalid_0's auc: 0.93333\n",
      "[600]\ttraining's auc: 0.956934\tvalid_0's auc: 0.937216\n",
      "[700]\ttraining's auc: 0.961556\tvalid_0's auc: 0.939998\n",
      "[800]\ttraining's auc: 0.965618\tvalid_0's auc: 0.942628\n",
      "[900]\ttraining's auc: 0.968932\tvalid_0's auc: 0.94467\n",
      "[1000]\ttraining's auc: 0.971986\tvalid_0's auc: 0.946523\n",
      "[1100]\ttraining's auc: 0.974641\tvalid_0's auc: 0.948195\n",
      "[1200]\ttraining's auc: 0.977048\tvalid_0's auc: 0.949511\n",
      "[1300]\ttraining's auc: 0.979119\tvalid_0's auc: 0.950664\n",
      "[1400]\ttraining's auc: 0.98101\tvalid_0's auc: 0.951758\n",
      "[1500]\ttraining's auc: 0.982793\tvalid_0's auc: 0.952794\n",
      "[1600]\ttraining's auc: 0.984385\tvalid_0's auc: 0.95383\n",
      "[1700]\ttraining's auc: 0.985903\tvalid_0's auc: 0.954692\n",
      "[1800]\ttraining's auc: 0.987163\tvalid_0's auc: 0.955504\n",
      "[1900]\ttraining's auc: 0.988365\tvalid_0's auc: 0.956422\n",
      "[2000]\ttraining's auc: 0.989343\tvalid_0's auc: 0.957026\n",
      "[2100]\ttraining's auc: 0.990273\tvalid_0's auc: 0.957585\n",
      "[2200]\ttraining's auc: 0.991114\tvalid_0's auc: 0.958223\n",
      "[2300]\ttraining's auc: 0.991802\tvalid_0's auc: 0.958723\n",
      "[2400]\ttraining's auc: 0.992584\tvalid_0's auc: 0.959184\n",
      "[2500]\ttraining's auc: 0.993233\tvalid_0's auc: 0.959631\n",
      "[2600]\ttraining's auc: 0.993802\tvalid_0's auc: 0.960063\n",
      "[2700]\ttraining's auc: 0.99433\tvalid_0's auc: 0.960391\n",
      "[2800]\ttraining's auc: 0.994765\tvalid_0's auc: 0.960782\n",
      "[2900]\ttraining's auc: 0.995167\tvalid_0's auc: 0.961144\n",
      "[3000]\ttraining's auc: 0.995573\tvalid_0's auc: 0.961502\n",
      "[3100]\ttraining's auc: 0.995927\tvalid_0's auc: 0.961863\n",
      "[3200]\ttraining's auc: 0.99626\tvalid_0's auc: 0.962144\n",
      "[3300]\ttraining's auc: 0.996567\tvalid_0's auc: 0.962476\n",
      "[3400]\ttraining's auc: 0.996846\tvalid_0's auc: 0.962774\n",
      "[3500]\ttraining's auc: 0.997071\tvalid_0's auc: 0.962966\n",
      "[3600]\ttraining's auc: 0.997376\tvalid_0's auc: 0.963266\n",
      "[3700]\ttraining's auc: 0.997621\tvalid_0's auc: 0.963524\n",
      "[3800]\ttraining's auc: 0.997801\tvalid_0's auc: 0.963787\n",
      "[3900]\ttraining's auc: 0.997997\tvalid_0's auc: 0.963987\n",
      "[4000]\ttraining's auc: 0.998188\tvalid_0's auc: 0.964172\n",
      "[4100]\ttraining's auc: 0.998333\tvalid_0's auc: 0.964335\n",
      "[4200]\ttraining's auc: 0.998474\tvalid_0's auc: 0.96455\n",
      "[4300]\ttraining's auc: 0.998603\tvalid_0's auc: 0.964725\n",
      "[4400]\ttraining's auc: 0.998741\tvalid_0's auc: 0.964905\n",
      "[4500]\ttraining's auc: 0.998872\tvalid_0's auc: 0.965081\n",
      "[4600]\ttraining's auc: 0.998971\tvalid_0's auc: 0.965271\n",
      "[4700]\ttraining's auc: 0.999071\tvalid_0's auc: 0.965415\n",
      "[4800]\ttraining's auc: 0.999165\tvalid_0's auc: 0.965522\n",
      "[4900]\ttraining's auc: 0.999244\tvalid_0's auc: 0.965629\n",
      "[5000]\ttraining's auc: 0.999317\tvalid_0's auc: 0.965729\n",
      "[5100]\ttraining's auc: 0.99938\tvalid_0's auc: 0.965852\n",
      "[5200]\ttraining's auc: 0.999438\tvalid_0's auc: 0.965946\n",
      "[5300]\ttraining's auc: 0.999497\tvalid_0's auc: 0.966019\n",
      "[5400]\ttraining's auc: 0.999537\tvalid_0's auc: 0.966158\n",
      "[5500]\ttraining's auc: 0.999585\tvalid_0's auc: 0.966306\n",
      "[5600]\ttraining's auc: 0.999627\tvalid_0's auc: 0.966429\n",
      "[5700]\ttraining's auc: 0.999666\tvalid_0's auc: 0.966478\n",
      "[5800]\ttraining's auc: 0.999697\tvalid_0's auc: 0.966571\n",
      "[5900]\ttraining's auc: 0.999723\tvalid_0's auc: 0.966677\n",
      "[6000]\ttraining's auc: 0.99975\tvalid_0's auc: 0.966747\n",
      "Early stopping, best iteration is:\n",
      "[6025]\ttraining's auc: 0.999757\tvalid_0's auc: 0.966788\n",
      "Fold 2\n",
      "\n",
      "Training until validation scores don't improve for 50 rounds.\n",
      "[100]\ttraining's auc: 0.907405\tvalid_0's auc: 0.901654\n",
      "[200]\ttraining's auc: 0.924445\tvalid_0's auc: 0.914497\n",
      "[300]\ttraining's auc: 0.935492\tvalid_0's auc: 0.923122\n",
      "[400]\ttraining's auc: 0.944392\tvalid_0's auc: 0.929902\n",
      "[500]\ttraining's auc: 0.951446\tvalid_0's auc: 0.934749\n",
      "[600]\ttraining's auc: 0.957097\tvalid_0's auc: 0.938621\n",
      "[700]\ttraining's auc: 0.961838\tvalid_0's auc: 0.941537\n",
      "[800]\ttraining's auc: 0.965817\tvalid_0's auc: 0.944184\n",
      "[900]\ttraining's auc: 0.969301\tvalid_0's auc: 0.946421\n",
      "[1000]\ttraining's auc: 0.971997\tvalid_0's auc: 0.948145\n",
      "[1100]\ttraining's auc: 0.974647\tvalid_0's auc: 0.949665\n",
      "[1200]\ttraining's auc: 0.977007\tvalid_0's auc: 0.951084\n",
      "[1300]\ttraining's auc: 0.979057\tvalid_0's auc: 0.952306\n",
      "[1400]\ttraining's auc: 0.980932\tvalid_0's auc: 0.953416\n",
      "[1500]\ttraining's auc: 0.982647\tvalid_0's auc: 0.954441\n",
      "[1600]\ttraining's auc: 0.984182\tvalid_0's auc: 0.955144\n",
      "[1700]\ttraining's auc: 0.985575\tvalid_0's auc: 0.955968\n",
      "[1800]\ttraining's auc: 0.986794\tvalid_0's auc: 0.956721\n",
      "[1900]\ttraining's auc: 0.987965\tvalid_0's auc: 0.957416\n",
      "[2000]\ttraining's auc: 0.989041\tvalid_0's auc: 0.958058\n",
      "[2100]\ttraining's auc: 0.989986\tvalid_0's auc: 0.958679\n",
      "[2200]\ttraining's auc: 0.990873\tvalid_0's auc: 0.959189\n",
      "[2300]\ttraining's auc: 0.991643\tvalid_0's auc: 0.959617\n",
      "[2400]\ttraining's auc: 0.992376\tvalid_0's auc: 0.960169\n",
      "[2500]\ttraining's auc: 0.993009\tvalid_0's auc: 0.960609\n",
      "[2600]\ttraining's auc: 0.993642\tvalid_0's auc: 0.961072\n",
      "[2700]\ttraining's auc: 0.994136\tvalid_0's auc: 0.961468\n",
      "[2800]\ttraining's auc: 0.994613\tvalid_0's auc: 0.961737\n",
      "[2900]\ttraining's auc: 0.99505\tvalid_0's auc: 0.962126\n",
      "[3000]\ttraining's auc: 0.995449\tvalid_0's auc: 0.962465\n",
      "[3100]\ttraining's auc: 0.995841\tvalid_0's auc: 0.962767\n",
      "[3200]\ttraining's auc: 0.996237\tvalid_0's auc: 0.963077\n",
      "[3300]\ttraining's auc: 0.996578\tvalid_0's auc: 0.963368\n",
      "[3400]\ttraining's auc: 0.996893\tvalid_0's auc: 0.963593\n",
      "[3500]\ttraining's auc: 0.997138\tvalid_0's auc: 0.963849\n",
      "[3600]\ttraining's auc: 0.997385\tvalid_0's auc: 0.964102\n",
      "[3700]\ttraining's auc: 0.997615\tvalid_0's auc: 0.964333\n",
      "[3800]\ttraining's auc: 0.997844\tvalid_0's auc: 0.964516\n",
      "[3900]\ttraining's auc: 0.998026\tvalid_0's auc: 0.964725\n",
      "[4000]\ttraining's auc: 0.998186\tvalid_0's auc: 0.96485\n",
      "[4100]\ttraining's auc: 0.998344\tvalid_0's auc: 0.965052\n",
      "[4200]\ttraining's auc: 0.998485\tvalid_0's auc: 0.965239\n",
      "[4300]\ttraining's auc: 0.998628\tvalid_0's auc: 0.965447\n",
      "[4400]\ttraining's auc: 0.998742\tvalid_0's auc: 0.96561\n",
      "[4500]\ttraining's auc: 0.998858\tvalid_0's auc: 0.965806\n",
      "[4600]\ttraining's auc: 0.998961\tvalid_0's auc: 0.965998\n",
      "[4700]\ttraining's auc: 0.999053\tvalid_0's auc: 0.966164\n",
      "[4800]\ttraining's auc: 0.999135\tvalid_0's auc: 0.966294\n",
      "[4900]\ttraining's auc: 0.999221\tvalid_0's auc: 0.966451\n",
      "[5000]\ttraining's auc: 0.999308\tvalid_0's auc: 0.966544\n",
      "[5100]\ttraining's auc: 0.999384\tvalid_0's auc: 0.966703\n",
      "[5200]\ttraining's auc: 0.999444\tvalid_0's auc: 0.966826\n",
      "[5300]\ttraining's auc: 0.999494\tvalid_0's auc: 0.966934\n",
      "[5400]\ttraining's auc: 0.999534\tvalid_0's auc: 0.967013\n",
      "[5500]\ttraining's auc: 0.999577\tvalid_0's auc: 0.967093\n",
      "[5600]\ttraining's auc: 0.999612\tvalid_0's auc: 0.967193\n",
      "[5700]\ttraining's auc: 0.999648\tvalid_0's auc: 0.967254\n",
      "[5800]\ttraining's auc: 0.999681\tvalid_0's auc: 0.967353\n",
      "[5900]\ttraining's auc: 0.999709\tvalid_0's auc: 0.967446\n",
      "[6000]\ttraining's auc: 0.999736\tvalid_0's auc: 0.967518\n",
      "[6100]\ttraining's auc: 0.999762\tvalid_0's auc: 0.967605\n",
      "[6200]\ttraining's auc: 0.999783\tvalid_0's auc: 0.967702\n",
      "[6300]\ttraining's auc: 0.999806\tvalid_0's auc: 0.967805\n",
      "[6400]\ttraining's auc: 0.999824\tvalid_0's auc: 0.967834\n",
      "[6500]\ttraining's auc: 0.99984\tvalid_0's auc: 0.967925\n",
      "[6600]\ttraining's auc: 0.999855\tvalid_0's auc: 0.96801\n",
      "Early stopping, best iteration is:\n",
      "[6644]\ttraining's auc: 0.99986\tvalid_0's auc: 0.968036\n",
      "Fold 3\n",
      "\n",
      "Training until validation scores don't improve for 50 rounds.\n",
      "[100]\ttraining's auc: 0.9072\tvalid_0's auc: 0.904348\n",
      "[200]\ttraining's auc: 0.924848\tvalid_0's auc: 0.917087\n",
      "[300]\ttraining's auc: 0.935771\tvalid_0's auc: 0.924913\n",
      "[400]\ttraining's auc: 0.944689\tvalid_0's auc: 0.931267\n",
      "[500]\ttraining's auc: 0.95127\tvalid_0's auc: 0.935776\n",
      "[600]\ttraining's auc: 0.956925\tvalid_0's auc: 0.939487\n",
      "[700]\ttraining's auc: 0.961632\tvalid_0's auc: 0.942563\n",
      "[800]\ttraining's auc: 0.965438\tvalid_0's auc: 0.945236\n",
      "[900]\ttraining's auc: 0.968931\tvalid_0's auc: 0.94728\n",
      "[1000]\ttraining's auc: 0.971979\tvalid_0's auc: 0.949164\n",
      "[1100]\ttraining's auc: 0.974546\tvalid_0's auc: 0.950629\n",
      "[1200]\ttraining's auc: 0.97684\tvalid_0's auc: 0.952109\n",
      "[1300]\ttraining's auc: 0.979053\tvalid_0's auc: 0.953162\n",
      "[1400]\ttraining's auc: 0.981123\tvalid_0's auc: 0.954263\n",
      "[1500]\ttraining's auc: 0.982748\tvalid_0's auc: 0.955244\n"
     ]
    },
    {
     "name": "stdout",
     "output_type": "stream",
     "text": [
      "[1600]\ttraining's auc: 0.984321\tvalid_0's auc: 0.956182\n",
      "[1700]\ttraining's auc: 0.985744\tvalid_0's auc: 0.956876\n",
      "[1800]\ttraining's auc: 0.986965\tvalid_0's auc: 0.957474\n",
      "[1900]\ttraining's auc: 0.988075\tvalid_0's auc: 0.958191\n",
      "[2000]\ttraining's auc: 0.989064\tvalid_0's auc: 0.958761\n",
      "[2100]\ttraining's auc: 0.989981\tvalid_0's auc: 0.959349\n",
      "[2200]\ttraining's auc: 0.990758\tvalid_0's auc: 0.959892\n",
      "[2300]\ttraining's auc: 0.991595\tvalid_0's auc: 0.960441\n",
      "[2400]\ttraining's auc: 0.992305\tvalid_0's auc: 0.960945\n",
      "[2500]\ttraining's auc: 0.992908\tvalid_0's auc: 0.961352\n",
      "[2600]\ttraining's auc: 0.993486\tvalid_0's auc: 0.961803\n",
      "[2700]\ttraining's auc: 0.99402\tvalid_0's auc: 0.962228\n",
      "[2800]\ttraining's auc: 0.994493\tvalid_0's auc: 0.962569\n",
      "[2900]\ttraining's auc: 0.994922\tvalid_0's auc: 0.962945\n",
      "[3000]\ttraining's auc: 0.995326\tvalid_0's auc: 0.963202\n",
      "[3100]\ttraining's auc: 0.995683\tvalid_0's auc: 0.963545\n",
      "[3200]\ttraining's auc: 0.996048\tvalid_0's auc: 0.963812\n",
      "[3300]\ttraining's auc: 0.996392\tvalid_0's auc: 0.964043\n",
      "[3400]\ttraining's auc: 0.996668\tvalid_0's auc: 0.964308\n",
      "[3500]\ttraining's auc: 0.996941\tvalid_0's auc: 0.964586\n",
      "[3600]\ttraining's auc: 0.997199\tvalid_0's auc: 0.964853\n",
      "[3700]\ttraining's auc: 0.997432\tvalid_0's auc: 0.965068\n",
      "[3800]\ttraining's auc: 0.997664\tvalid_0's auc: 0.965202\n",
      "[3900]\ttraining's auc: 0.997892\tvalid_0's auc: 0.96541\n",
      "[4000]\ttraining's auc: 0.99807\tvalid_0's auc: 0.96558\n",
      "[4100]\ttraining's auc: 0.998239\tvalid_0's auc: 0.965783\n",
      "[4200]\ttraining's auc: 0.99838\tvalid_0's auc: 0.965938\n",
      "[4300]\ttraining's auc: 0.998513\tvalid_0's auc: 0.966113\n",
      "[4400]\ttraining's auc: 0.998628\tvalid_0's auc: 0.966247\n",
      "[4500]\ttraining's auc: 0.998743\tvalid_0's auc: 0.966364\n",
      "[4600]\ttraining's auc: 0.998843\tvalid_0's auc: 0.966555\n",
      "[4700]\ttraining's auc: 0.998964\tvalid_0's auc: 0.966628\n",
      "[4800]\ttraining's auc: 0.999051\tvalid_0's auc: 0.966788\n",
      "[4900]\ttraining's auc: 0.999148\tvalid_0's auc: 0.966928\n",
      "[5000]\ttraining's auc: 0.999219\tvalid_0's auc: 0.967005\n",
      "[5100]\ttraining's auc: 0.999285\tvalid_0's auc: 0.967143\n",
      "[5200]\ttraining's auc: 0.999354\tvalid_0's auc: 0.967267\n",
      "[5300]\ttraining's auc: 0.999427\tvalid_0's auc: 0.967387\n",
      "[5400]\ttraining's auc: 0.999478\tvalid_0's auc: 0.967461\n",
      "[5500]\ttraining's auc: 0.999526\tvalid_0's auc: 0.967527\n",
      "[5600]\ttraining's auc: 0.99957\tvalid_0's auc: 0.967634\n",
      "[5700]\ttraining's auc: 0.999606\tvalid_0's auc: 0.967715\n",
      "[5800]\ttraining's auc: 0.99964\tvalid_0's auc: 0.967798\n",
      "[5900]\ttraining's auc: 0.999674\tvalid_0's auc: 0.967891\n",
      "[6000]\ttraining's auc: 0.999705\tvalid_0's auc: 0.967954\n",
      "[6100]\ttraining's auc: 0.999739\tvalid_0's auc: 0.96806\n",
      "[6200]\ttraining's auc: 0.999769\tvalid_0's auc: 0.968146\n",
      "[6300]\ttraining's auc: 0.999787\tvalid_0's auc: 0.968233\n",
      "[6400]\ttraining's auc: 0.999812\tvalid_0's auc: 0.968326\n",
      "[6500]\ttraining's auc: 0.99983\tvalid_0's auc: 0.968398\n",
      "[6600]\ttraining's auc: 0.999846\tvalid_0's auc: 0.968489\n",
      "[6700]\ttraining's auc: 0.999864\tvalid_0's auc: 0.968542\n",
      "[6800]\ttraining's auc: 0.999877\tvalid_0's auc: 0.968572\n",
      "[6900]\ttraining's auc: 0.999889\tvalid_0's auc: 0.968615\n",
      "[7000]\ttraining's auc: 0.999897\tvalid_0's auc: 0.968675\n",
      "[7100]\ttraining's auc: 0.999908\tvalid_0's auc: 0.968709\n",
      "[7200]\ttraining's auc: 0.999919\tvalid_0's auc: 0.968752\n",
      "[7300]\ttraining's auc: 0.999928\tvalid_0's auc: 0.968852\n",
      "[7400]\ttraining's auc: 0.999937\tvalid_0's auc: 0.968908\n",
      "[7500]\ttraining's auc: 0.999944\tvalid_0's auc: 0.968936\n",
      "[7600]\ttraining's auc: 0.999951\tvalid_0's auc: 0.968971\n",
      "[7700]\ttraining's auc: 0.999956\tvalid_0's auc: 0.969026\n",
      "[7800]\ttraining's auc: 0.99996\tvalid_0's auc: 0.969093\n",
      "[7900]\ttraining's auc: 0.999965\tvalid_0's auc: 0.969129\n",
      "[8000]\ttraining's auc: 0.999969\tvalid_0's auc: 0.969221\n",
      "[8100]\ttraining's auc: 0.999973\tvalid_0's auc: 0.969243\n",
      "[8200]\ttraining's auc: 0.999976\tvalid_0's auc: 0.969308\n",
      "[8300]\ttraining's auc: 0.999978\tvalid_0's auc: 0.96934\n",
      "[8400]\ttraining's auc: 0.999981\tvalid_0's auc: 0.969406\n",
      "[8500]\ttraining's auc: 0.999983\tvalid_0's auc: 0.969453\n",
      "[8600]\ttraining's auc: 0.999986\tvalid_0's auc: 0.96947\n",
      "Early stopping, best iteration is:\n",
      "[8559]\ttraining's auc: 0.999985\tvalid_0's auc: 0.969472\n",
      "Fold 4\n",
      "\n",
      "Training until validation scores don't improve for 50 rounds.\n",
      "[100]\ttraining's auc: 0.908388\tvalid_0's auc: 0.896496\n",
      "[200]\ttraining's auc: 0.925922\tvalid_0's auc: 0.911349\n",
      "[300]\ttraining's auc: 0.936298\tvalid_0's auc: 0.920195\n",
      "[400]\ttraining's auc: 0.944868\tvalid_0's auc: 0.9265\n",
      "[500]\ttraining's auc: 0.951487\tvalid_0's auc: 0.931078\n",
      "[600]\ttraining's auc: 0.957346\tvalid_0's auc: 0.93516\n",
      "[700]\ttraining's auc: 0.96211\tvalid_0's auc: 0.938461\n",
      "[800]\ttraining's auc: 0.965996\tvalid_0's auc: 0.940896\n",
      "[900]\ttraining's auc: 0.969328\tvalid_0's auc: 0.94301\n",
      "[1000]\ttraining's auc: 0.972429\tvalid_0's auc: 0.944872\n",
      "[1100]\ttraining's auc: 0.975132\tvalid_0's auc: 0.946392\n",
      "[1200]\ttraining's auc: 0.977485\tvalid_0's auc: 0.94773\n",
      "[1300]\ttraining's auc: 0.979628\tvalid_0's auc: 0.949217\n",
      "[1400]\ttraining's auc: 0.98158\tvalid_0's auc: 0.950306\n",
      "[1500]\ttraining's auc: 0.983145\tvalid_0's auc: 0.951454\n",
      "[1600]\ttraining's auc: 0.98463\tvalid_0's auc: 0.952322\n",
      "[1700]\ttraining's auc: 0.985987\tvalid_0's auc: 0.953226\n",
      "[1800]\ttraining's auc: 0.987087\tvalid_0's auc: 0.954005\n",
      "[1900]\ttraining's auc: 0.988217\tvalid_0's auc: 0.954561\n",
      "[2000]\ttraining's auc: 0.989217\tvalid_0's auc: 0.955241\n",
      "[2100]\ttraining's auc: 0.990275\tvalid_0's auc: 0.955835\n",
      "[2200]\ttraining's auc: 0.991126\tvalid_0's auc: 0.956479\n",
      "[2300]\ttraining's auc: 0.991909\tvalid_0's auc: 0.957072\n",
      "[2400]\ttraining's auc: 0.99255\tvalid_0's auc: 0.957532\n",
      "[2500]\ttraining's auc: 0.993147\tvalid_0's auc: 0.958027\n",
      "[2600]\ttraining's auc: 0.993738\tvalid_0's auc: 0.958417\n",
      "[2700]\ttraining's auc: 0.994333\tvalid_0's auc: 0.958823\n",
      "[2800]\ttraining's auc: 0.994815\tvalid_0's auc: 0.959246\n",
      "[2900]\ttraining's auc: 0.995285\tvalid_0's auc: 0.959648\n",
      "[3000]\ttraining's auc: 0.99576\tvalid_0's auc: 0.960054\n",
      "[3100]\ttraining's auc: 0.996082\tvalid_0's auc: 0.960418\n",
      "[3200]\ttraining's auc: 0.996356\tvalid_0's auc: 0.960792\n",
      "[3300]\ttraining's auc: 0.996661\tvalid_0's auc: 0.961069\n",
      "[3400]\ttraining's auc: 0.996933\tvalid_0's auc: 0.961324\n",
      "[3500]\ttraining's auc: 0.997202\tvalid_0's auc: 0.96159\n",
      "[3600]\ttraining's auc: 0.997449\tvalid_0's auc: 0.961981\n",
      "[3700]\ttraining's auc: 0.997689\tvalid_0's auc: 0.962221\n",
      "[3800]\ttraining's auc: 0.997884\tvalid_0's auc: 0.962466\n",
      "[3900]\ttraining's auc: 0.998069\tvalid_0's auc: 0.962701\n",
      "[4000]\ttraining's auc: 0.998232\tvalid_0's auc: 0.962904\n",
      "[4100]\ttraining's auc: 0.998376\tvalid_0's auc: 0.963136\n",
      "[4200]\ttraining's auc: 0.998521\tvalid_0's auc: 0.963307\n",
      "[4300]\ttraining's auc: 0.998669\tvalid_0's auc: 0.963499\n",
      "[4400]\ttraining's auc: 0.998796\tvalid_0's auc: 0.963643\n",
      "[4500]\ttraining's auc: 0.998895\tvalid_0's auc: 0.963778\n",
      "[4600]\ttraining's auc: 0.998994\tvalid_0's auc: 0.963926\n",
      "[4700]\ttraining's auc: 0.999085\tvalid_0's auc: 0.964124\n",
      "[4800]\ttraining's auc: 0.999161\tvalid_0's auc: 0.964344\n",
      "[4900]\ttraining's auc: 0.999236\tvalid_0's auc: 0.964469\n",
      "[5000]\ttraining's auc: 0.999315\tvalid_0's auc: 0.964586\n",
      "[5100]\ttraining's auc: 0.999373\tvalid_0's auc: 0.964748\n",
      "[5200]\ttraining's auc: 0.999436\tvalid_0's auc: 0.964891\n",
      "[5300]\ttraining's auc: 0.999492\tvalid_0's auc: 0.965036\n",
      "[5400]\ttraining's auc: 0.999536\tvalid_0's auc: 0.965165\n",
      "[5500]\ttraining's auc: 0.99958\tvalid_0's auc: 0.965258\n",
      "[5600]\ttraining's auc: 0.999621\tvalid_0's auc: 0.965392\n",
      "[5700]\ttraining's auc: 0.999659\tvalid_0's auc: 0.965528\n",
      "[5800]\ttraining's auc: 0.999691\tvalid_0's auc: 0.965682\n",
      "[5900]\ttraining's auc: 0.99972\tvalid_0's auc: 0.965807\n",
      "[6000]\ttraining's auc: 0.999743\tvalid_0's auc: 0.965949\n",
      "[6100]\ttraining's auc: 0.999769\tvalid_0's auc: 0.966056\n",
      "[6200]\ttraining's auc: 0.99979\tvalid_0's auc: 0.966154\n",
      "Early stopping, best iteration is:\n",
      "[6225]\ttraining's auc: 0.999796\tvalid_0's auc: 0.966207\n",
      "Fold 5\n",
      "\n",
      "Training until validation scores don't improve for 50 rounds.\n",
      "[100]\ttraining's auc: 0.908411\tvalid_0's auc: 0.900818\n",
      "[200]\ttraining's auc: 0.925128\tvalid_0's auc: 0.914481\n",
      "[300]\ttraining's auc: 0.93563\tvalid_0's auc: 0.923184\n",
      "[400]\ttraining's auc: 0.944337\tvalid_0's auc: 0.92962\n",
      "[500]\ttraining's auc: 0.951262\tvalid_0's auc: 0.934926\n",
      "[600]\ttraining's auc: 0.956986\tvalid_0's auc: 0.938801\n",
      "[700]\ttraining's auc: 0.961632\tvalid_0's auc: 0.941923\n",
      "[800]\ttraining's auc: 0.965809\tvalid_0's auc: 0.944717\n",
      "[900]\ttraining's auc: 0.969384\tvalid_0's auc: 0.946908\n"
     ]
    },
    {
     "name": "stdout",
     "output_type": "stream",
     "text": [
      "[1000]\ttraining's auc: 0.972178\tvalid_0's auc: 0.94877\n",
      "[1100]\ttraining's auc: 0.974854\tvalid_0's auc: 0.950261\n",
      "[1200]\ttraining's auc: 0.977109\tvalid_0's auc: 0.951568\n",
      "[1300]\ttraining's auc: 0.979282\tvalid_0's auc: 0.953009\n",
      "[1400]\ttraining's auc: 0.981238\tvalid_0's auc: 0.954212\n",
      "[1500]\ttraining's auc: 0.983\tvalid_0's auc: 0.95536\n",
      "[1600]\ttraining's auc: 0.984512\tvalid_0's auc: 0.956181\n",
      "[1700]\ttraining's auc: 0.98596\tvalid_0's auc: 0.956895\n",
      "[1800]\ttraining's auc: 0.987214\tvalid_0's auc: 0.9576\n",
      "[1900]\ttraining's auc: 0.988349\tvalid_0's auc: 0.958302\n",
      "[2000]\ttraining's auc: 0.989323\tvalid_0's auc: 0.958915\n",
      "[2100]\ttraining's auc: 0.99028\tvalid_0's auc: 0.959502\n",
      "[2200]\ttraining's auc: 0.991101\tvalid_0's auc: 0.96001\n",
      "[2300]\ttraining's auc: 0.99191\tvalid_0's auc: 0.96058\n",
      "[2400]\ttraining's auc: 0.992595\tvalid_0's auc: 0.961155\n",
      "[2500]\ttraining's auc: 0.99324\tvalid_0's auc: 0.961641\n",
      "[2600]\ttraining's auc: 0.993822\tvalid_0's auc: 0.961964\n",
      "[2700]\ttraining's auc: 0.994363\tvalid_0's auc: 0.962333\n",
      "[2800]\ttraining's auc: 0.994834\tvalid_0's auc: 0.962572\n",
      "[2900]\ttraining's auc: 0.995259\tvalid_0's auc: 0.962926\n",
      "[3000]\ttraining's auc: 0.995666\tvalid_0's auc: 0.963165\n",
      "[3100]\ttraining's auc: 0.99604\tvalid_0's auc: 0.963446\n",
      "[3200]\ttraining's auc: 0.996329\tvalid_0's auc: 0.963772\n",
      "[3300]\ttraining's auc: 0.996683\tvalid_0's auc: 0.964042\n",
      "[3400]\ttraining's auc: 0.99697\tvalid_0's auc: 0.964331\n",
      "[3500]\ttraining's auc: 0.997202\tvalid_0's auc: 0.964556\n",
      "[3600]\ttraining's auc: 0.997446\tvalid_0's auc: 0.964806\n",
      "[3700]\ttraining's auc: 0.997643\tvalid_0's auc: 0.965005\n",
      "[3800]\ttraining's auc: 0.997864\tvalid_0's auc: 0.965305\n",
      "[3900]\ttraining's auc: 0.99804\tvalid_0's auc: 0.965576\n",
      "[4000]\ttraining's auc: 0.998216\tvalid_0's auc: 0.965765\n",
      "[4100]\ttraining's auc: 0.998347\tvalid_0's auc: 0.965945\n",
      "[4200]\ttraining's auc: 0.998489\tvalid_0's auc: 0.966079\n",
      "[4300]\ttraining's auc: 0.998624\tvalid_0's auc: 0.966257\n",
      "[4400]\ttraining's auc: 0.998744\tvalid_0's auc: 0.966425\n",
      "[4500]\ttraining's auc: 0.998861\tvalid_0's auc: 0.966566\n",
      "[4600]\ttraining's auc: 0.998954\tvalid_0's auc: 0.966744\n",
      "[4700]\ttraining's auc: 0.999049\tvalid_0's auc: 0.966832\n",
      "[4800]\ttraining's auc: 0.999139\tvalid_0's auc: 0.966994\n",
      "[4900]\ttraining's auc: 0.999221\tvalid_0's auc: 0.967124\n",
      "[5000]\ttraining's auc: 0.99929\tvalid_0's auc: 0.967207\n",
      "[5100]\ttraining's auc: 0.999352\tvalid_0's auc: 0.967332\n",
      "[5200]\ttraining's auc: 0.999416\tvalid_0's auc: 0.967373\n",
      "[5300]\ttraining's auc: 0.999481\tvalid_0's auc: 0.967491\n",
      "[5400]\ttraining's auc: 0.999532\tvalid_0's auc: 0.967579\n",
      "[5500]\ttraining's auc: 0.999576\tvalid_0's auc: 0.967683\n",
      "[5600]\ttraining's auc: 0.999617\tvalid_0's auc: 0.967806\n",
      "[5700]\ttraining's auc: 0.999655\tvalid_0's auc: 0.967858\n",
      "[5800]\ttraining's auc: 0.999684\tvalid_0's auc: 0.967957\n",
      "[5900]\ttraining's auc: 0.999713\tvalid_0's auc: 0.968033\n",
      "[6000]\ttraining's auc: 0.999739\tvalid_0's auc: 0.968093\n",
      "[6100]\ttraining's auc: 0.999767\tvalid_0's auc: 0.968121\n",
      "[6200]\ttraining's auc: 0.999789\tvalid_0's auc: 0.968196\n",
      "[6300]\ttraining's auc: 0.999812\tvalid_0's auc: 0.968311\n",
      "[6400]\ttraining's auc: 0.99983\tvalid_0's auc: 0.968414\n",
      "[6500]\ttraining's auc: 0.999847\tvalid_0's auc: 0.968487\n",
      "[6600]\ttraining's auc: 0.999861\tvalid_0's auc: 0.968553\n",
      "[6700]\ttraining's auc: 0.999875\tvalid_0's auc: 0.968601\n",
      "[6800]\ttraining's auc: 0.999887\tvalid_0's auc: 0.968696\n",
      "[6900]\ttraining's auc: 0.999898\tvalid_0's auc: 0.968768\n",
      "[7000]\ttraining's auc: 0.999908\tvalid_0's auc: 0.968857\n",
      "Early stopping, best iteration is:\n",
      "[7014]\ttraining's auc: 0.999909\tvalid_0's auc: 0.968863\n"
     ]
    }
   ],
   "source": [
    "counter = 1\n",
    "auc_score = 0\n",
    "iterat = 0\n",
    "for train_index, test_index in skf.split(train_ids, y):\n",
    "    print('Fold {}\\n'.format(counter))\n",
    "    logging.warning(\"Training fold {}\".format(counter))\n",
    "\n",
    "    X_fit, X_val = X.iloc[train_index, :], X.iloc[test_index, :]\n",
    "    y_fit, y_val = y.iloc[train_index], y.iloc[test_index]\n",
    "\n",
    "    lgb_model.fit(X_fit,\n",
    "                  y_fit,\n",
    "                  eval_set=[(X_val, y_val), (X_fit, y_fit)],\n",
    "                  verbose=100,\n",
    "                  early_stopping_rounds=50)\n",
    "    \n",
    "    logging.warning(\"Best AUC in this fold: {}\".format(lgb_model.best_score_['valid_0']['auc']))\n",
    "    logging.warning(\"Best iteration in this fold: {}\".format(lgb_model.best_iteration_))\n",
    "    auc_score += lgb_model.best_score_['valid_0']['auc']\n",
    "    iterat += lgb_model.best_iteration_\n",
    "\n",
    "    del X_fit\n",
    "    del X_val\n",
    "    del y_fit\n",
    "    del y_val\n",
    "    del train_index\n",
    "    del test_index\n",
    "    gc.collect()\n",
    "    \n",
    "    counter += 1\n",
    "    \n",
    "mean_auc_score = auc_score/k\n",
    "mean_iterat = iterat/k\n",
    "\n",
    "logging.warning(\"Mean AUC in {0} folds: {1}\".format(k, mean_auc_score))\n",
    "logging.warning(\"Mean iterations in {0} folds: {1}\".format(k, mean_iterat))"
   ]
  },
  {
   "cell_type": "code",
   "execution_count": 19,
   "metadata": {},
   "outputs": [
    {
     "data": {
      "text/plain": [
       "6893"
      ]
     },
     "execution_count": 19,
     "metadata": {},
     "output_type": "execute_result"
    }
   ],
   "source": [
    "params['n_estimators'] = int(mean_iterat)\n",
    "params['n_estimators']"
   ]
  },
  {
   "cell_type": "code",
   "execution_count": 20,
   "metadata": {},
   "outputs": [
    {
     "data": {
      "text/plain": [
       "LGBMClassifier(bagging_fraction=0.8, bagging_freq=5, bagging_seed=42,\n",
       "               boosting_type='gbdt', class_weight=None, colsample_bytree=0.3,\n",
       "               data_random_seed=42, drop_seed=42, feature_fraction_seed=42,\n",
       "               first_metric_only=True, importance_type='split', lambda_l1=0,\n",
       "               lambda_l2=0, learning_rate=0.01, max_depth=11, metric=['AUC'],\n",
       "               min_child_samples=20, min_child_weight=0.001, min_split_gain=0.0,\n",
       "               n_estimators=6893, n_jobs=-1, num_leaves=91,\n",
       "               objective='xentropy', random_state=None, reg_alpha=0.0,\n",
       "               reg_lambda=0.0, seed=42, silent=True, subsample=1.0,\n",
       "               subsample_for_bin=200000, ...)"
      ]
     },
     "execution_count": 20,
     "metadata": {},
     "output_type": "execute_result"
    }
   ],
   "source": [
    "lgb_model = lgb.LGBMClassifier(**params)\n",
    "lgb_model.fit(train[X_cols], train.isFraud)"
   ]
  },
  {
   "cell_type": "code",
   "execution_count": 21,
   "metadata": {},
   "outputs": [],
   "source": [
    "y_preds = lgb_model.predict_proba(test[X.columns])"
   ]
  },
  {
   "cell_type": "code",
   "execution_count": 22,
   "metadata": {},
   "outputs": [],
   "source": [
    "df_sub = pd.read_csv(data_folder+'/sample_submission.csv')"
   ]
  },
  {
   "cell_type": "code",
   "execution_count": 23,
   "metadata": {},
   "outputs": [],
   "source": [
    "df_sub['isFraud'] = y_preds[:,1]"
   ]
  },
  {
   "cell_type": "code",
   "execution_count": 24,
   "metadata": {},
   "outputs": [
    {
     "data": {
      "text/html": [
       "<div>\n",
       "<style scoped>\n",
       "    .dataframe tbody tr th:only-of-type {\n",
       "        vertical-align: middle;\n",
       "    }\n",
       "\n",
       "    .dataframe tbody tr th {\n",
       "        vertical-align: top;\n",
       "    }\n",
       "\n",
       "    .dataframe thead th {\n",
       "        text-align: right;\n",
       "    }\n",
       "</style>\n",
       "<table border=\"1\" class=\"dataframe\">\n",
       "  <thead>\n",
       "    <tr style=\"text-align: right;\">\n",
       "      <th></th>\n",
       "      <th>TransactionID</th>\n",
       "      <th>isFraud</th>\n",
       "    </tr>\n",
       "  </thead>\n",
       "  <tbody>\n",
       "    <tr>\n",
       "      <th>0</th>\n",
       "      <td>3663549</td>\n",
       "      <td>0.000078</td>\n",
       "    </tr>\n",
       "    <tr>\n",
       "      <th>1</th>\n",
       "      <td>3663550</td>\n",
       "      <td>0.001336</td>\n",
       "    </tr>\n",
       "    <tr>\n",
       "      <th>2</th>\n",
       "      <td>3663551</td>\n",
       "      <td>0.000121</td>\n",
       "    </tr>\n",
       "    <tr>\n",
       "      <th>3</th>\n",
       "      <td>3663552</td>\n",
       "      <td>0.001579</td>\n",
       "    </tr>\n",
       "    <tr>\n",
       "      <th>4</th>\n",
       "      <td>3663553</td>\n",
       "      <td>0.000823</td>\n",
       "    </tr>\n",
       "  </tbody>\n",
       "</table>\n",
       "</div>"
      ],
      "text/plain": [
       "   TransactionID   isFraud\n",
       "0        3663549  0.000078\n",
       "1        3663550  0.001336\n",
       "2        3663551  0.000121\n",
       "3        3663552  0.001579\n",
       "4        3663553  0.000823"
      ]
     },
     "execution_count": 24,
     "metadata": {},
     "output_type": "execute_result"
    }
   ],
   "source": [
    "df_sub.head()"
   ]
  },
  {
   "cell_type": "code",
   "execution_count": 25,
   "metadata": {},
   "outputs": [],
   "source": [
    "today = datetime.date.today()\n",
    "D = today.strftime('%Y%m%d')"
   ]
  },
  {
   "cell_type": "code",
   "execution_count": 26,
   "metadata": {},
   "outputs": [],
   "source": [
    "submission_name = '{0}_LightGBM_{1}'.format(D, mean_auc_score)"
   ]
  },
  {
   "cell_type": "code",
   "execution_count": 27,
   "metadata": {},
   "outputs": [],
   "source": [
    "logging.warning(\"Submission name: {}\".format(submission_name))"
   ]
  },
  {
   "cell_type": "code",
   "execution_count": 28,
   "metadata": {},
   "outputs": [],
   "source": [
    "df_sub.to_csv('submissions/{}.csv'.format(submission_name), sep=',', header=True, index=None)"
   ]
  },
  {
   "cell_type": "code",
   "execution_count": 29,
   "metadata": {},
   "outputs": [],
   "source": [
    "logging.warning(\"End\")"
   ]
  },
  {
   "cell_type": "code",
   "execution_count": 37,
   "metadata": {},
   "outputs": [
    {
     "data": {
      "text/plain": [
       "(910, 2)"
      ]
     },
     "execution_count": 37,
     "metadata": {},
     "output_type": "execute_result"
    }
   ],
   "source": [
    "df_sub[df_sub.isFraud>0.99].shape"
   ]
  }
 ],
 "metadata": {
  "kernelspec": {
   "display_name": "Python 3",
   "language": "python",
   "name": "python3"
  },
  "language_info": {
   "codemirror_mode": {
    "name": "ipython",
    "version": 3
   },
   "file_extension": ".py",
   "mimetype": "text/x-python",
   "name": "python",
   "nbconvert_exporter": "python",
   "pygments_lexer": "ipython3",
   "version": "3.6.8"
  }
 },
 "nbformat": 4,
 "nbformat_minor": 2
}
