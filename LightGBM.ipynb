{
 "cells": [
  {
   "cell_type": "markdown",
   "metadata": {},
   "source": [
    "# LightGBM"
   ]
  },
  {
   "cell_type": "markdown",
   "metadata": {},
   "source": [
    "### Libraries"
   ]
  },
  {
   "cell_type": "code",
   "execution_count": 2,
   "metadata": {},
   "outputs": [],
   "source": [
    "import warnings\n",
    "warnings.filterwarnings('ignore')\n",
    "\n",
    "import pandas as pd\n",
    "# import modin.pandas as pd\n",
    "import numpy as np\n",
    "import matplotlib.pyplot as plt\n",
    "from collections import Counter, defaultdict\n",
    "import gc\n",
    "import logging\n",
    "import lightgbm as lgb\n",
    "from sklearn.model_selection import StratifiedKFold, GroupKFold, TimeSeriesSplit\n",
    "from sklearn.metrics import roc_auc_score\n",
    "import datetime\n",
    "\n",
    "from utils.schemas import *\n",
    "from utils.functions import *"
   ]
  },
  {
   "cell_type": "markdown",
   "metadata": {},
   "source": [
    "### Logging"
   ]
  },
  {
   "cell_type": "code",
   "execution_count": 3,
   "metadata": {},
   "outputs": [],
   "source": [
    "LOG_NAME = 'logs/LightGBM.log'\n",
    "logging.basicConfig(filename=LOG_NAME, level=logging.WARNING, format='%(asctime)s %(message)s')\n",
    "logging.warning(\"\")\n",
    "logging.warning(\"##### New LightGBM Model #####\")"
   ]
  },
  {
   "cell_type": "markdown",
   "metadata": {},
   "source": [
    "### Data"
   ]
  },
  {
   "cell_type": "code",
   "execution_count": 4,
   "metadata": {},
   "outputs": [],
   "source": [
    "df_imp = pd.read_csv('docs/20190906_PermitationImportance_Rf5.csv')"
   ]
  },
  {
   "cell_type": "code",
   "execution_count": 24,
   "metadata": {},
   "outputs": [],
   "source": [
    "drop_cols = ['D1','D10','D11','D12','D13','D14','D15','D2','D3','D4','D5','D6',\n",
    "             'D7','D8','D9','C1','C10','C11','C12','C13','C14','C2','C3','C4','C5','C6','C7','C8','C9']"
   ]
  },
  {
   "cell_type": "code",
   "execution_count": 5,
   "metadata": {},
   "outputs": [],
   "source": [
    "# X_cols = df_imp[df_imp.Importance > 0].feature.to_list()\n",
    "X_cols = df_imp.feature[:250].to_list()"
   ]
  },
  {
   "cell_type": "code",
   "execution_count": 6,
   "metadata": {},
   "outputs": [
    {
     "data": {
      "text/plain": [
       "250"
      ]
     },
     "execution_count": 6,
     "metadata": {},
     "output_type": "execute_result"
    }
   ],
   "source": [
    "len(X_cols)"
   ]
  },
  {
   "cell_type": "code",
   "execution_count": 7,
   "metadata": {},
   "outputs": [
    {
     "data": {
      "text/plain": [
       "['R1', 'V258', 'C7', 'V45', 'C1', 'C12', 'C8', 'C4', 'V257']"
      ]
     },
     "execution_count": 7,
     "metadata": {},
     "output_type": "execute_result"
    }
   ],
   "source": [
    "X_cols[:9]"
   ]
  },
  {
   "cell_type": "code",
   "execution_count": 8,
   "metadata": {},
   "outputs": [],
   "source": [
    "data_folder = 'input'"
   ]
  },
  {
   "cell_type": "code",
   "execution_count": 9,
   "metadata": {},
   "outputs": [],
   "source": [
    "id_cols = ['addr1', 'addr2', 'card1', 'card2', 'card3', 'card4', 'card5', 'card6', 'P_emaildomain']"
   ]
  },
  {
   "cell_type": "code",
   "execution_count": 14,
   "metadata": {},
   "outputs": [],
   "source": [
    "train = pd.read_csv(data_folder+'/train_syn_ft_eng_0.zip', dtype = schema_synthetic_ft_eng_0, usecols=list(set(X_cols+['isFraud']+id_cols)))\n",
    "test = pd.read_csv(data_folder+'/test_syn_ft_eng_0.zip', dtype = schema_synthetic_ft_eng_0, usecols=list(set(X_cols+['isFraud']+id_cols)))\n",
    "# train = pd.read_csv(data_folder+'/train_syn_ft_eng_0.zip', dtype = schema_synthetic_ft_eng_0)\n",
    "# test = pd.read_csv(data_folder+'/test_syn_ft_eng_0.zip', dtype = schema_synthetic_ft_eng_0)"
   ]
  },
  {
   "cell_type": "code",
   "execution_count": 11,
   "metadata": {},
   "outputs": [],
   "source": [
    "groups = train.groupby(id_cols).grouper.group_info[0]"
   ]
  },
  {
   "cell_type": "code",
   "execution_count": 10,
   "metadata": {},
   "outputs": [],
   "source": [
    "# X_cols.remove('addr1')\n",
    "# X_cols.remove('addr2')\n",
    "# X_cols.remove('card1')"
   ]
  },
  {
   "cell_type": "code",
   "execution_count": 96,
   "metadata": {},
   "outputs": [],
   "source": [
    "imp_dict = dict()\n",
    "for c in X_cols:\n",
    "    if c not in cat_ft:\n",
    "        imp_dict[c] = train[c].median()"
   ]
  },
  {
   "cell_type": "code",
   "execution_count": 13,
   "metadata": {},
   "outputs": [],
   "source": [
    "X_cols = [x for x in train.columns if x not in ['isFraud', 'TransactionDT', 'Transaction_day_of_week', 'Transaction_hour']]"
   ]
  },
  {
   "cell_type": "code",
   "execution_count": 15,
   "metadata": {},
   "outputs": [],
   "source": [
    "X = train[X_cols]#.fillna(imp_dict)\n",
    "y = train.isFraud"
   ]
  },
  {
   "cell_type": "code",
   "execution_count": 16,
   "metadata": {},
   "outputs": [],
   "source": [
    "X_test = test[X_cols]\n",
    "y_test = test.isFraud"
   ]
  },
  {
   "cell_type": "markdown",
   "metadata": {},
   "source": [
    "### Model"
   ]
  },
  {
   "cell_type": "code",
   "execution_count": 17,
   "metadata": {},
   "outputs": [],
   "source": [
    "logging.warning(\"Used columns: {}\".format(X_cols))\n",
    "k = 3\n",
    "logging.warning(\"Folds number: {}\".format(k))"
   ]
  },
  {
   "cell_type": "code",
   "execution_count": 18,
   "metadata": {},
   "outputs": [],
   "source": [
    "group_kfold = GroupKFold(n_splits=k)"
   ]
  },
  {
   "cell_type": "code",
   "execution_count": 19,
   "metadata": {},
   "outputs": [],
   "source": [
    "train_ids = X.index\n",
    "skf = StratifiedKFold(n_splits=k, shuffle=True, random_state=42)"
   ]
  },
  {
   "cell_type": "code",
   "execution_count": 20,
   "metadata": {},
   "outputs": [],
   "source": [
    "tscv = TimeSeriesSplit(n_splits=k)"
   ]
  },
  {
   "cell_type": "markdown",
   "metadata": {},
   "source": [
    "#### LightGBM"
   ]
  },
  {
   "cell_type": "code",
   "execution_count": 21,
   "metadata": {},
   "outputs": [],
   "source": [
    "params = {\n",
    "    'num_leaves': 111,\n",
    "    'max_depth': -1,\n",
    "    'metric': ['AUC'],\n",
    "    'first_metric_only': True,\n",
    "    'n_estimators': 20000,\n",
    "    'num_threads': 64,\n",
    "    'learning_rate': 0.01,\n",
    "    'colsample_bytree': 0.5,\n",
    "    'objective': 'xentropy',\n",
    "    'n_jobs': -1,\n",
    "    'bagging_fraction': 0.7,\n",
    "    'bagging_freq': 2,\n",
    "    'lambda_l1': 0,\n",
    "    'lambda_l2': 0,\n",
    "    'bagging_seed': 42,\n",
    "    'random_state':42,\n",
    "    'seed': 42,\n",
    "    'feature_fraction_seed': 42,\n",
    "    'drop_seed': 42,\n",
    "    'data_random_seed': 42,\n",
    "}"
   ]
  },
  {
   "cell_type": "markdown",
   "metadata": {},
   "source": [
    "### Best max_depth"
   ]
  },
  {
   "cell_type": "code",
   "execution_count": 22,
   "metadata": {},
   "outputs": [],
   "source": [
    "logging.warning(\"Searching best max_depth\")"
   ]
  },
  {
   "cell_type": "code",
   "execution_count": null,
   "metadata": {
    "scrolled": true
   },
   "outputs": [
    {
     "name": "stdout",
     "output_type": "stream",
     "text": [
      "Max depth = 5\n"
     ]
    }
   ],
   "source": [
    "for train_index, test_index in group_kfold.split(X, y, groups):\n",
    "    X_fit, X_val = X.iloc[train_index, :], X.iloc[test_index, :]\n",
    "    y_fit, y_val = y.iloc[train_index], y.iloc[test_index]\n",
    "\n",
    "scores_dict = dict()\n",
    "for i in range(5, 20):\n",
    "    print('Max depth = {}'.format(i))\n",
    "    logging.warning('Max depth = {}'.format(i))\n",
    "    params['max_depth'] = i\n",
    "    lgb_model = lgb.LGBMClassifier(**params)\n",
    "    lgb_model.fit(X_fit,\n",
    "                  y_fit,\n",
    "                  eval_set=[(X_val, y_val), (X_fit, y_fit)],\n",
    "                  verbose=100,\n",
    "                  early_stopping_rounds=40)\n",
    "    scores_dict[i] = lgb_model.best_score_['valid_0']['auc']"
   ]
  },
  {
   "cell_type": "code",
   "execution_count": 91,
   "metadata": {},
   "outputs": [
    {
     "data": {
      "text/plain": [
       "17"
      ]
     },
     "execution_count": 91,
     "metadata": {},
     "output_type": "execute_result"
    }
   ],
   "source": [
    "b = pd.DataFrame({'Depth': [x for x in scores_dict.keys()], 'AUC': [x for x in scores_dict.values()]})\n",
    "md = b[b.AUC == b.AUC.max()].Depth\n",
    "md.values[0]"
   ]
  },
  {
   "cell_type": "code",
   "execution_count": null,
   "metadata": {},
   "outputs": [],
   "source": [
    "params['max_depth'] = md.values[0]"
   ]
  },
  {
   "cell_type": "code",
   "execution_count": 22,
   "metadata": {},
   "outputs": [],
   "source": [
    "lgb_model = lgb.LGBMClassifier(**params)"
   ]
  },
  {
   "cell_type": "code",
   "execution_count": 23,
   "metadata": {},
   "outputs": [],
   "source": [
    "logging.warning(\"Params: {}\".format(str(lgb_model.get_params())))"
   ]
  },
  {
   "cell_type": "code",
   "execution_count": 24,
   "metadata": {},
   "outputs": [
    {
     "data": {
      "text/plain": [
       "((221908, 250), (221908,))"
      ]
     },
     "execution_count": 24,
     "metadata": {},
     "output_type": "execute_result"
    }
   ],
   "source": [
    "X_test.shape, y_test.shape"
   ]
  },
  {
   "cell_type": "code",
   "execution_count": 29,
   "metadata": {
    "scrolled": false
   },
   "outputs": [
    {
     "name": "stdout",
     "output_type": "stream",
     "text": [
      "Fold 1\n",
      "\n",
      "Training until validation scores don't improve for 40 rounds.\n",
      "[200]\ttraining's auc: 0.951347\tvalid_0's auc: 0.920025\n",
      "[400]\ttraining's auc: 0.985832\tvalid_0's auc: 0.94231\n",
      "[600]\ttraining's auc: 0.994921\tvalid_0's auc: 0.950316\n",
      "[800]\ttraining's auc: 0.997984\tvalid_0's auc: 0.954149\n",
      "[1000]\ttraining's auc: 0.999204\tvalid_0's auc: 0.956683\n",
      "[1200]\ttraining's auc: 0.999704\tvalid_0's auc: 0.958197\n",
      "[1400]\ttraining's auc: 0.999884\tvalid_0's auc: 0.959197\n",
      "[1600]\ttraining's auc: 0.999958\tvalid_0's auc: 0.959941\n",
      "Early stopping, best iteration is:\n",
      "[1636]\ttraining's auc: 0.999965\tvalid_0's auc: 0.960055\n",
      "AUC test score: 0.8793276630938798\n",
      "AUC 20% test score: 0.905425794475954\n",
      "AUC 80% test score: 0.8708170266848886\n",
      "Fold 2\n",
      "\n",
      "Training until validation scores don't improve for 40 rounds.\n",
      "[200]\ttraining's auc: 0.95117\tvalid_0's auc: 0.924911\n",
      "[400]\ttraining's auc: 0.984763\tvalid_0's auc: 0.947603\n",
      "[600]\ttraining's auc: 0.994594\tvalid_0's auc: 0.955233\n",
      "[800]\ttraining's auc: 0.997809\tvalid_0's auc: 0.959065\n",
      "[1000]\ttraining's auc: 0.999119\tvalid_0's auc: 0.961459\n",
      "[1200]\ttraining's auc: 0.99963\tvalid_0's auc: 0.963058\n",
      "[1400]\ttraining's auc: 0.999852\tvalid_0's auc: 0.964049\n",
      "[1600]\ttraining's auc: 0.999939\tvalid_0's auc: 0.964767\n",
      "[1800]\ttraining's auc: 0.999974\tvalid_0's auc: 0.965304\n",
      "[2000]\ttraining's auc: 0.999988\tvalid_0's auc: 0.965719\n",
      "[2200]\ttraining's auc: 0.999994\tvalid_0's auc: 0.966033\n",
      "[2400]\ttraining's auc: 0.999996\tvalid_0's auc: 0.96632\n",
      "Early stopping, best iteration is:\n",
      "[2408]\ttraining's auc: 0.999996\tvalid_0's auc: 0.966342\n",
      "AUC test score: 0.8797148841163075\n",
      "AUC 20% test score: 0.9010821733274502\n",
      "AUC 80% test score: 0.8725740404371622\n",
      "Fold 3\n",
      "\n",
      "Training until validation scores don't improve for 40 rounds.\n",
      "[200]\ttraining's auc: 0.9522\tvalid_0's auc: 0.922828\n",
      "[400]\ttraining's auc: 0.984051\tvalid_0's auc: 0.944287\n",
      "[600]\ttraining's auc: 0.994311\tvalid_0's auc: 0.953407\n",
      "[800]\ttraining's auc: 0.997922\tvalid_0's auc: 0.957454\n",
      "[1000]\ttraining's auc: 0.99919\tvalid_0's auc: 0.959903\n",
      "[1200]\ttraining's auc: 0.999694\tvalid_0's auc: 0.961339\n",
      "[1400]\ttraining's auc: 0.999884\tvalid_0's auc: 0.962077\n",
      "[1600]\ttraining's auc: 0.999956\tvalid_0's auc: 0.962664\n",
      "[1800]\ttraining's auc: 0.999985\tvalid_0's auc: 0.963115\n",
      "[2000]\ttraining's auc: 0.999995\tvalid_0's auc: 0.963526\n",
      "Early stopping, best iteration is:\n",
      "[2147]\ttraining's auc: 0.999998\tvalid_0's auc: 0.963689\n",
      "AUC test score: 0.8753184324245789\n",
      "AUC 20% test score: 0.9035621891003658\n",
      "AUC 80% test score: 0.866013362067663\n"
     ]
    }
   ],
   "source": [
    "counter = 1\n",
    "auc_score = 0\n",
    "iterat = 0\n",
    "list_iter = list()\n",
    "for train_index, test_index in skf.split(train_ids, y):\n",
    "# for train_index, test_index in group_kfold.split(X, y, groups):\n",
    "# for train_index, test_index in tscv.split(X=X, y=y):\n",
    "    print('Fold {}\\n'.format(counter))\n",
    "    logging.warning(\"Training fold {}\".format(counter))\n",
    "\n",
    "    X_fit, X_val = X.iloc[train_index, :], X.iloc[test_index, :]\n",
    "    y_fit, y_val = y.iloc[train_index], y.iloc[test_index]\n",
    "\n",
    "    lgb_model.fit(X_fit,\n",
    "                  y_fit,\n",
    "                  eval_set=[(X_val, y_val), (X_fit, y_fit)],\n",
    "                  verbose=200,\n",
    "                  early_stopping_rounds=40)\n",
    "    \n",
    "    logging.warning(\"Best AUC in this fold: {}\".format(lgb_model.best_score_['valid_0']['auc']))\n",
    "    logging.warning(\"Best iteration in this fold: {}\".format(lgb_model.best_iteration_))\n",
    "    auc_score += lgb_model.best_score_['valid_0']['auc']\n",
    "    preds = lgb_model.predict_proba(X_test[X.columns])[:,1]\n",
    "    print('AUC test score: {}'.format(roc_auc_score(y_test, preds)))\n",
    "    print('AUC 20% test score: {}'.format(roc_auc_score(y_test[:int(len(y_test)*0.2)],\n",
    "                                                        preds[:int(len(y_test)*0.2)])))\n",
    "    print('AUC 80% test score: {}'.format(roc_auc_score(y_test[int(len(y_test)*0.2):],\n",
    "                                                        preds[int(len(y_test)*0.2):])))\n",
    "    it = lgb_model.best_iteration_\n",
    "    iterat += it\n",
    "    list_iter.append(it)\n",
    "\n",
    "    del X_fit\n",
    "    del X_val\n",
    "    del y_fit\n",
    "    del y_val\n",
    "    del train_index\n",
    "    del test_index\n",
    "    gc.collect()\n",
    "    \n",
    "    counter += 1\n",
    "    \n",
    "mean_auc_score = auc_score/k\n",
    "mean_iterat = iterat/k\n",
    "\n",
    "logging.warning(\"Mean AUC in {0} folds: {1}\".format(k, mean_auc_score))\n",
    "logging.warning(\"Mean iterations in {0} folds: {1}\".format(k, mean_iterat))"
   ]
  },
  {
   "cell_type": "code",
   "execution_count": 30,
   "metadata": {
    "scrolled": false
   },
   "outputs": [
    {
     "name": "stdout",
     "output_type": "stream",
     "text": [
      "Fold 1\n",
      "\n",
      "Training until validation scores don't improve for 200 rounds.\n",
      "[100]\ttraining's auc: 0.960607\tvalid_0's auc: 0.891849\n",
      "[200]\ttraining's auc: 0.98904\tvalid_0's auc: 0.898369\n",
      "[300]\ttraining's auc: 0.998456\tvalid_0's auc: 0.901349\n",
      "[400]\ttraining's auc: 0.999735\tvalid_0's auc: 0.903452\n",
      "[500]\ttraining's auc: 0.99995\tvalid_0's auc: 0.90415\n",
      "[600]\ttraining's auc: 0.999991\tvalid_0's auc: 0.90399\n",
      "Early stopping, best iteration is:\n",
      "[476]\ttraining's auc: 0.999924\tvalid_0's auc: 0.904318\n",
      "AUC test score: 0.8677025995003822\n",
      "AUC 20% test score: 0.88908105624142\n",
      "AUC 80% test score: 0.8604771775912445\n",
      "Fold 2\n",
      "\n",
      "Training until validation scores don't improve for 200 rounds.\n",
      "[100]\ttraining's auc: 0.940898\tvalid_0's auc: 0.871545\n",
      "[200]\ttraining's auc: 0.969847\tvalid_0's auc: 0.882346\n",
      "[300]\ttraining's auc: 0.988016\tvalid_0's auc: 0.891528\n",
      "[400]\ttraining's auc: 0.996004\tvalid_0's auc: 0.899527\n",
      "[500]\ttraining's auc: 0.998511\tvalid_0's auc: 0.904167\n",
      "[600]\ttraining's auc: 0.999376\tvalid_0's auc: 0.906716\n",
      "[700]\ttraining's auc: 0.999718\tvalid_0's auc: 0.908034\n",
      "[800]\ttraining's auc: 0.999878\tvalid_0's auc: 0.909129\n",
      "[900]\ttraining's auc: 0.999948\tvalid_0's auc: 0.91009\n",
      "[1000]\ttraining's auc: 0.999976\tvalid_0's auc: 0.910858\n",
      "[1100]\ttraining's auc: 0.999989\tvalid_0's auc: 0.911577\n",
      "[1200]\ttraining's auc: 0.999996\tvalid_0's auc: 0.911458\n",
      "[1300]\ttraining's auc: 0.999999\tvalid_0's auc: 0.91178\n",
      "Early stopping, best iteration is:\n",
      "[1133]\ttraining's auc: 0.999993\tvalid_0's auc: 0.911894\n",
      "AUC test score: 0.8662067967892154\n",
      "AUC 20% test score: 0.88917069508664\n",
      "AUC 80% test score: 0.8585226352786859\n",
      "Fold 3\n",
      "\n",
      "Training until validation scores don't improve for 200 rounds.\n",
      "[100]\ttraining's auc: 0.92322\tvalid_0's auc: 0.896953\n",
      "[200]\ttraining's auc: 0.952823\tvalid_0's auc: 0.907327\n",
      "[300]\ttraining's auc: 0.975152\tvalid_0's auc: 0.918601\n",
      "[400]\ttraining's auc: 0.986029\tvalid_0's auc: 0.924267\n",
      "[500]\ttraining's auc: 0.991981\tvalid_0's auc: 0.926098\n",
      "[600]\ttraining's auc: 0.995222\tvalid_0's auc: 0.927857\n",
      "[700]\ttraining's auc: 0.99711\tvalid_0's auc: 0.928367\n",
      "[800]\ttraining's auc: 0.99828\tvalid_0's auc: 0.928698\n",
      "[900]\ttraining's auc: 0.998939\tvalid_0's auc: 0.928682\n",
      "[1000]\ttraining's auc: 0.999328\tvalid_0's auc: 0.928664\n",
      "Early stopping, best iteration is:\n",
      "[868]\ttraining's auc: 0.998784\tvalid_0's auc: 0.929041\n",
      "AUC test score: 0.8764451158753634\n",
      "AUC 20% test score: 0.900510003215601\n",
      "AUC 80% test score: 0.8683678198314884\n"
     ]
    }
   ],
   "source": [
    "counter = 1\n",
    "auc_score = 0\n",
    "iterat = 0\n",
    "list_iter = list()\n",
    "# for train_index, test_index in skf.split(train_ids, y):\n",
    "# for train_index, test_index in group_kfold.split(X, y, groups):\n",
    "for train_index, test_index in tscv.split(X=X, y=y):\n",
    "    print('Fold {}\\n'.format(counter))\n",
    "    logging.warning(\"Training fold {}\".format(counter))\n",
    "\n",
    "    X_fit, X_val = X.iloc[train_index, :], X.iloc[test_index, :]\n",
    "    y_fit, y_val = y.iloc[train_index], y.iloc[test_index]\n",
    "\n",
    "    lgb_model.fit(X_fit,\n",
    "                  y_fit,\n",
    "                  eval_set=[(X_val, y_val), (X_fit, y_fit)],\n",
    "                  verbose=100,\n",
    "                  early_stopping_rounds=200)\n",
    "    \n",
    "    logging.warning(\"Best AUC in this fold: {}\".format(lgb_model.best_score_['valid_0']['auc']))\n",
    "    logging.warning(\"Best iteration in this fold: {}\".format(lgb_model.best_iteration_))\n",
    "    auc_score += lgb_model.best_score_['valid_0']['auc']\n",
    "    preds = lgb_model.predict_proba(X_test[X.columns])[:,1]\n",
    "    print('AUC test score: {}'.format(roc_auc_score(y_test, preds)))\n",
    "    print('AUC 20% test score: {}'.format(roc_auc_score(y_test[:int(len(y_test)*0.2)],\n",
    "                                                        preds[:int(len(y_test)*0.2)])))\n",
    "    print('AUC 80% test score: {}'.format(roc_auc_score(y_test[int(len(y_test)*0.2):],\n",
    "                                                        preds[int(len(y_test)*0.2):])))\n",
    "    it = lgb_model.best_iteration_\n",
    "    iterat += it\n",
    "    list_iter.append(it)\n",
    "\n",
    "    del X_fit\n",
    "    del X_val\n",
    "    del y_fit\n",
    "    del y_val\n",
    "    del train_index\n",
    "    del test_index\n",
    "    gc.collect()\n",
    "    \n",
    "    counter += 1\n",
    "    \n",
    "mean_auc_score = auc_score/k\n",
    "mean_iterat = iterat/k\n",
    "\n",
    "logging.warning(\"Mean AUC in {0} folds: {1}\".format(k, mean_auc_score))\n",
    "logging.warning(\"Mean iterations in {0} folds: {1}\".format(k, mean_iterat))"
   ]
  },
  {
   "cell_type": "code",
   "execution_count": 31,
   "metadata": {
    "scrolled": false
   },
   "outputs": [
    {
     "name": "stdout",
     "output_type": "stream",
     "text": [
      "Fold 1\n",
      "\n",
      "Training until validation scores don't improve for 200 rounds.\n",
      "[100]\ttraining's auc: 0.923513\tvalid_0's auc: 0.89026\n",
      "[200]\ttraining's auc: 0.956628\tvalid_0's auc: 0.899366\n",
      "[300]\ttraining's auc: 0.975139\tvalid_0's auc: 0.902766\n",
      "[400]\ttraining's auc: 0.985418\tvalid_0's auc: 0.906665\n",
      "[500]\ttraining's auc: 0.991427\tvalid_0's auc: 0.907277\n",
      "[600]\ttraining's auc: 0.994761\tvalid_0's auc: 0.907889\n",
      "[700]\ttraining's auc: 0.996787\tvalid_0's auc: 0.90839\n",
      "[800]\ttraining's auc: 0.997939\tvalid_0's auc: 0.908247\n",
      "[900]\ttraining's auc: 0.99864\tvalid_0's auc: 0.908108\n",
      "Early stopping, best iteration is:\n",
      "[783]\ttraining's auc: 0.997784\tvalid_0's auc: 0.908551\n",
      "AUC test score: 0.8750298467986156\n",
      "AUC 20% test score: 0.9022601556271199\n",
      "AUC 80% test score: 0.8661937555687873\n",
      "Fold 2\n",
      "\n",
      "Training until validation scores don't improve for 200 rounds.\n",
      "[100]\ttraining's auc: 0.930921\tvalid_0's auc: 0.873159\n",
      "[200]\ttraining's auc: 0.95947\tvalid_0's auc: 0.882607\n",
      "[300]\ttraining's auc: 0.978422\tvalid_0's auc: 0.887474\n",
      "[400]\ttraining's auc: 0.988019\tvalid_0's auc: 0.891077\n",
      "[500]\ttraining's auc: 0.993195\tvalid_0's auc: 0.891994\n",
      "[600]\ttraining's auc: 0.99599\tvalid_0's auc: 0.893283\n",
      "[700]\ttraining's auc: 0.997664\tvalid_0's auc: 0.893844\n",
      "[800]\ttraining's auc: 0.998548\tvalid_0's auc: 0.894119\n",
      "[900]\ttraining's auc: 0.999065\tvalid_0's auc: 0.893983\n",
      "Early stopping, best iteration is:\n",
      "[774]\ttraining's auc: 0.998358\tvalid_0's auc: 0.894286\n",
      "AUC test score: 0.8768573951114725\n",
      "AUC 20% test score: 0.9035056884818127\n",
      "AUC 80% test score: 0.8681146126632777\n",
      "Fold 3\n",
      "\n",
      "Training until validation scores don't improve for 200 rounds.\n",
      "[100]\ttraining's auc: 0.927631\tvalid_0's auc: 0.883574\n",
      "[200]\ttraining's auc: 0.958689\tvalid_0's auc: 0.891753\n",
      "[300]\ttraining's auc: 0.978357\tvalid_0's auc: 0.895126\n",
      "[400]\ttraining's auc: 0.988273\tvalid_0's auc: 0.897163\n",
      "[500]\ttraining's auc: 0.993299\tvalid_0's auc: 0.896938\n",
      "[600]\ttraining's auc: 0.996072\tvalid_0's auc: 0.897697\n",
      "[700]\ttraining's auc: 0.997625\tvalid_0's auc: 0.897579\n",
      "[800]\ttraining's auc: 0.998611\tvalid_0's auc: 0.897459\n",
      "Early stopping, best iteration is:\n",
      "[675]\ttraining's auc: 0.99726\tvalid_0's auc: 0.897873\n",
      "AUC test score: 0.8812076500836306\n",
      "AUC 20% test score: 0.900100113119381\n",
      "AUC 80% test score: 0.8748938874055894\n"
     ]
    }
   ],
   "source": [
    "counter = 1\n",
    "auc_score = 0\n",
    "iterat = 0\n",
    "list_iter = list()\n",
    "# for train_index, test_index in skf.split(train_ids, y):\n",
    "for train_index, test_index in group_kfold.split(X, y, groups):\n",
    "# for train_index, test_index in tscv.split(X=X, y=y):\n",
    "    print('Fold {}\\n'.format(counter))\n",
    "    logging.warning(\"Training fold {}\".format(counter))\n",
    "\n",
    "    X_fit, X_val = X.iloc[train_index, :], X.iloc[test_index, :]\n",
    "    y_fit, y_val = y.iloc[train_index], y.iloc[test_index]\n",
    "\n",
    "    lgb_model.fit(X_fit,\n",
    "                  y_fit,\n",
    "                  eval_set=[(X_val, y_val), (X_fit, y_fit)],\n",
    "                  verbose=100,\n",
    "                  early_stopping_rounds=200)\n",
    "    \n",
    "    logging.warning(\"Best AUC in this fold: {}\".format(lgb_model.best_score_['valid_0']['auc']))\n",
    "    logging.warning(\"Best iteration in this fold: {}\".format(lgb_model.best_iteration_))\n",
    "    auc_score += lgb_model.best_score_['valid_0']['auc']\n",
    "    preds = lgb_model.predict_proba(X_test[X.columns])[:,1]\n",
    "    print('AUC test score: {}'.format(roc_auc_score(y_test, preds)))\n",
    "    print('AUC 20% test score: {}'.format(roc_auc_score(y_test[:int(len(y_test)*0.2)],\n",
    "                                                        preds[:int(len(y_test)*0.2)])))\n",
    "    print('AUC 80% test score: {}'.format(roc_auc_score(y_test[int(len(y_test)*0.2):],\n",
    "                                                        preds[int(len(y_test)*0.2):])))\n",
    "    it = lgb_model.best_iteration_\n",
    "    iterat += it\n",
    "    list_iter.append(it)\n",
    "\n",
    "    del X_fit\n",
    "    del X_val\n",
    "    del y_fit\n",
    "    del y_val\n",
    "    del train_index\n",
    "    del test_index\n",
    "    gc.collect()\n",
    "    \n",
    "    counter += 1\n",
    "    \n",
    "mean_auc_score = auc_score/k\n",
    "mean_iterat = iterat/k\n",
    "\n",
    "logging.warning(\"Mean AUC in {0} folds: {1}\".format(k, mean_auc_score))\n",
    "logging.warning(\"Mean iterations in {0} folds: {1}\".format(k, mean_iterat))"
   ]
  },
  {
   "cell_type": "code",
   "execution_count": 38,
   "metadata": {},
   "outputs": [
    {
     "data": {
      "text/plain": [
       "2624.6"
      ]
     },
     "execution_count": 38,
     "metadata": {},
     "output_type": "execute_result"
    }
   ],
   "source": [
    "mean_iterat"
   ]
  },
  {
   "cell_type": "code",
   "execution_count": 39,
   "metadata": {},
   "outputs": [
    {
     "data": {
      "text/plain": [
       "2624"
      ]
     },
     "execution_count": 39,
     "metadata": {},
     "output_type": "execute_result"
    }
   ],
   "source": [
    "params['n_estimators'] = int(mean_iterat)\n",
    "params['n_estimators']"
   ]
  },
  {
   "cell_type": "code",
   "execution_count": 43,
   "metadata": {},
   "outputs": [
    {
     "data": {
      "text/plain": [
       "LGBMClassifier(bagging_fraction=0.7, bagging_freq=2, bagging_seed=42,\n",
       "               boosting_type='gbdt', class_weight=None, colsample_bytree=0.3,\n",
       "               data_random_seed=42, drop_seed=42, feature_fraction_seed=42,\n",
       "               first_metric_only=True, importance_type='split', lambda_l1=0,\n",
       "               lambda_l2=0, learning_rate=0.01, max_depth=-1, metric=['AUC'],\n",
       "               min_child_samples=20, min_child_weight=0.001, min_split_gain=0.0,\n",
       "               n_estimators=2624, n_jobs=-1, num_leaves=311, num_threads=64,\n",
       "               objective='xentropy', random_state=42, reg_alpha=0.0,\n",
       "               reg_lambda=0.0, seed=42, silent=True, subsample=1.0, ...)"
      ]
     },
     "execution_count": 43,
     "metadata": {},
     "output_type": "execute_result"
    }
   ],
   "source": [
    "lgb_model = lgb.LGBMClassifier(**params)\n",
    "lgb_model.fit(train[X_cols+drop_cols], train.isFraud)"
   ]
  },
  {
   "cell_type": "code",
   "execution_count": 44,
   "metadata": {},
   "outputs": [],
   "source": [
    "y_preds = lgb_model.predict_proba(test[X.columns])"
   ]
  },
  {
   "cell_type": "code",
   "execution_count": 45,
   "metadata": {},
   "outputs": [],
   "source": [
    "df_sub = pd.read_csv(data_folder+'/sample_submission.csv')"
   ]
  },
  {
   "cell_type": "code",
   "execution_count": 46,
   "metadata": {},
   "outputs": [],
   "source": [
    "df_sub['isFraud'] = y_preds[:,1]"
   ]
  },
  {
   "cell_type": "code",
   "execution_count": 47,
   "metadata": {},
   "outputs": [
    {
     "data": {
      "text/html": [
       "<div>\n",
       "<style scoped>\n",
       "    .dataframe tbody tr th:only-of-type {\n",
       "        vertical-align: middle;\n",
       "    }\n",
       "\n",
       "    .dataframe tbody tr th {\n",
       "        vertical-align: top;\n",
       "    }\n",
       "\n",
       "    .dataframe thead th {\n",
       "        text-align: right;\n",
       "    }\n",
       "</style>\n",
       "<table border=\"1\" class=\"dataframe\">\n",
       "  <thead>\n",
       "    <tr style=\"text-align: right;\">\n",
       "      <th></th>\n",
       "      <th>TransactionID</th>\n",
       "      <th>isFraud</th>\n",
       "    </tr>\n",
       "  </thead>\n",
       "  <tbody>\n",
       "    <tr>\n",
       "      <td>0</td>\n",
       "      <td>3663549</td>\n",
       "      <td>0.000113</td>\n",
       "    </tr>\n",
       "    <tr>\n",
       "      <td>1</td>\n",
       "      <td>3663550</td>\n",
       "      <td>0.000302</td>\n",
       "    </tr>\n",
       "    <tr>\n",
       "      <td>2</td>\n",
       "      <td>3663551</td>\n",
       "      <td>0.000472</td>\n",
       "    </tr>\n",
       "    <tr>\n",
       "      <td>3</td>\n",
       "      <td>3663552</td>\n",
       "      <td>0.000826</td>\n",
       "    </tr>\n",
       "    <tr>\n",
       "      <td>4</td>\n",
       "      <td>3663553</td>\n",
       "      <td>0.000374</td>\n",
       "    </tr>\n",
       "  </tbody>\n",
       "</table>\n",
       "</div>"
      ],
      "text/plain": [
       "   TransactionID   isFraud\n",
       "0        3663549  0.000113\n",
       "1        3663550  0.000302\n",
       "2        3663551  0.000472\n",
       "3        3663552  0.000826\n",
       "4        3663553  0.000374"
      ]
     },
     "execution_count": 47,
     "metadata": {},
     "output_type": "execute_result"
    }
   ],
   "source": [
    "df_sub.head()"
   ]
  },
  {
   "cell_type": "code",
   "execution_count": 48,
   "metadata": {},
   "outputs": [],
   "source": [
    "today = datetime.date.today()\n",
    "D = today.strftime('%Y%m%d')"
   ]
  },
  {
   "cell_type": "code",
   "execution_count": 49,
   "metadata": {},
   "outputs": [],
   "source": [
    "submission_name = '{0}_LightGBM_{1}'.format(D, mean_auc_score)"
   ]
  },
  {
   "cell_type": "code",
   "execution_count": 50,
   "metadata": {},
   "outputs": [
    {
     "data": {
      "text/plain": [
       "'20190903_LightGBM_0.9732650305281695'"
      ]
     },
     "execution_count": 50,
     "metadata": {},
     "output_type": "execute_result"
    }
   ],
   "source": [
    "submission_name"
   ]
  },
  {
   "cell_type": "code",
   "execution_count": 51,
   "metadata": {},
   "outputs": [],
   "source": [
    "logging.warning(\"Submission name: {}\".format(submission_name))"
   ]
  },
  {
   "cell_type": "code",
   "execution_count": 52,
   "metadata": {},
   "outputs": [],
   "source": [
    "df_sub.to_csv('submissions/{}.csv'.format(submission_name), sep=',', header=True, index=None)"
   ]
  },
  {
   "cell_type": "code",
   "execution_count": 53,
   "metadata": {},
   "outputs": [],
   "source": [
    "logging.warning(\"End\")"
   ]
  },
  {
   "cell_type": "code",
   "execution_count": 54,
   "metadata": {},
   "outputs": [
    {
     "data": {
      "text/plain": [
       "(5084, 2)"
      ]
     },
     "execution_count": 54,
     "metadata": {},
     "output_type": "execute_result"
    }
   ],
   "source": [
    "df_sub[df_sub.isFraud>0.9].shape"
   ]
  },
  {
   "cell_type": "code",
   "execution_count": null,
   "metadata": {},
   "outputs": [],
   "source": []
  }
 ],
 "metadata": {
  "kernelspec": {
   "display_name": "Python 3",
   "language": "python",
   "name": "python3"
  },
  "language_info": {
   "codemirror_mode": {
    "name": "ipython",
    "version": 3
   },
   "file_extension": ".py",
   "mimetype": "text/x-python",
   "name": "python",
   "nbconvert_exporter": "python",
   "pygments_lexer": "ipython3",
   "version": "3.6.8"
  }
 },
 "nbformat": 4,
 "nbformat_minor": 2
}
