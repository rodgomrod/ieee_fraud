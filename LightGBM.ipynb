{
 "cells": [
  {
   "cell_type": "markdown",
   "metadata": {},
   "source": [
    "# LightGBM"
   ]
  },
  {
   "cell_type": "markdown",
   "metadata": {},
   "source": [
    "### Libraries"
   ]
  },
  {
   "cell_type": "code",
   "execution_count": 12,
   "metadata": {},
   "outputs": [],
   "source": [
    "import warnings\n",
    "warnings.filterwarnings('ignore')\n",
    "\n",
    "# import pandas as pd\n",
    "import modin.pandas as pd\n",
    "import numpy as np\n",
    "import matplotlib.pyplot as plt\n",
    "from collections import Counter, defaultdict\n",
    "import gc\n",
    "import logging\n",
    "import lightgbm as lgb\n",
    "from sklearn.model_selection import StratifiedKFold, GroupKFold, TimeSeriesSplit\n",
    "import datetime\n",
    "\n",
    "from utils.schemas import *\n",
    "from utils.functions import *"
   ]
  },
  {
   "cell_type": "markdown",
   "metadata": {},
   "source": [
    "### Logging"
   ]
  },
  {
   "cell_type": "code",
   "execution_count": 3,
   "metadata": {},
   "outputs": [],
   "source": [
    "LOG_NAME = 'logs/LightGBM.log'\n",
    "logging.basicConfig(filename=LOG_NAME, level=logging.WARNING, format='%(asctime)s %(message)s')\n",
    "logging.warning(\"\")\n",
    "logging.warning(\"##### New LightGBM Model #####\")"
   ]
  },
  {
   "cell_type": "markdown",
   "metadata": {},
   "source": [
    "### Data"
   ]
  },
  {
   "cell_type": "code",
   "execution_count": 4,
   "metadata": {},
   "outputs": [],
   "source": [
    "df_imp = pd.read_csv('docs/20190903_PermitationImportance_Rf4.csv')"
   ]
  },
  {
   "cell_type": "code",
   "execution_count": 24,
   "metadata": {},
   "outputs": [],
   "source": [
    "drop_cols = ['D1','D10','D11','D12','D13','D14','D15','D2','D3','D4','D5','D6',\n",
    "             'D7','D8','D9','C1','C10','C11','C12','C13','C14','C2','C3','C4','C5','C6','C7','C8','C9']"
   ]
  },
  {
   "cell_type": "code",
   "execution_count": 5,
   "metadata": {},
   "outputs": [],
   "source": [
    "X_cols = df_imp[df_imp.Importance > 0].feature.to_list()\n",
    "# X_cols = df_imp.feature[:400].to_list()"
   ]
  },
  {
   "cell_type": "code",
   "execution_count": 26,
   "metadata": {},
   "outputs": [
    {
     "data": {
      "text/plain": [
       "268"
      ]
     },
     "execution_count": 26,
     "metadata": {},
     "output_type": "execute_result"
    }
   ],
   "source": [
    "len(X_cols)"
   ]
  },
  {
   "cell_type": "code",
   "execution_count": 7,
   "metadata": {},
   "outputs": [
    {
     "data": {
      "text/plain": [
       "['R1', 'V258', 'V201', 'V257', 'R71', 'V200', 'R43', 'V199', 'V189']"
      ]
     },
     "execution_count": 7,
     "metadata": {},
     "output_type": "execute_result"
    }
   ],
   "source": [
    "X_cols[:9]"
   ]
  },
  {
   "cell_type": "code",
   "execution_count": 8,
   "metadata": {},
   "outputs": [],
   "source": [
    "data_folder = 'input'"
   ]
  },
  {
   "cell_type": "code",
   "execution_count": 9,
   "metadata": {},
   "outputs": [],
   "source": [
    "id_cols = ['addr1', 'addr2', 'card1', 'P_emaildomain']"
   ]
  },
  {
   "cell_type": "code",
   "execution_count": 25,
   "metadata": {},
   "outputs": [],
   "source": [
    "train = pd.read_csv(data_folder+'/train_ft_eng_2.csv', dtype = schema_ft_eng_2, usecols=X_cols+['isFraud']+id_cols+drop_cols)\n",
    "test = pd.read_csv(data_folder+'/test_ft_eng_2.csv', dtype = schema_ft_eng_2, usecols=X_cols+id_cols+drop_cols)"
   ]
  },
  {
   "cell_type": "code",
   "execution_count": 11,
   "metadata": {},
   "outputs": [],
   "source": [
    "groups = train.groupby(id_cols).grouper.group_info[0]"
   ]
  },
  {
   "cell_type": "code",
   "execution_count": 92,
   "metadata": {},
   "outputs": [],
   "source": [
    "# X_cols.remove('addr1')\n",
    "# X_cols.remove('addr2')\n",
    "# X_cols.remove('card1')"
   ]
  },
  {
   "cell_type": "code",
   "execution_count": 96,
   "metadata": {},
   "outputs": [],
   "source": [
    "imp_dict = dict()\n",
    "for c in X_cols:\n",
    "    if c not in cat_ft:\n",
    "        imp_dict[c] = train[c].median()"
   ]
  },
  {
   "cell_type": "code",
   "execution_count": 27,
   "metadata": {},
   "outputs": [],
   "source": [
    "X = train[X_cols+drop_cols]#.fillna(imp_dict)\n",
    "y = train.isFraud"
   ]
  },
  {
   "cell_type": "markdown",
   "metadata": {},
   "source": [
    "### Model"
   ]
  },
  {
   "cell_type": "code",
   "execution_count": 28,
   "metadata": {},
   "outputs": [],
   "source": [
    "logging.warning(\"Used columns: {}\".format(X_cols))\n",
    "k = 5\n",
    "logging.warning(\"Folds number: {}\".format(k))"
   ]
  },
  {
   "cell_type": "code",
   "execution_count": 29,
   "metadata": {},
   "outputs": [],
   "source": [
    "group_kfold = GroupKFold(n_splits=k)"
   ]
  },
  {
   "cell_type": "code",
   "execution_count": 30,
   "metadata": {},
   "outputs": [],
   "source": [
    "train_ids = X.index\n",
    "skf = StratifiedKFold(n_splits=k, shuffle=True, random_state=42)"
   ]
  },
  {
   "cell_type": "code",
   "execution_count": 31,
   "metadata": {},
   "outputs": [],
   "source": [
    "tscv = TimeSeriesSplit(n_splits=k)"
   ]
  },
  {
   "cell_type": "markdown",
   "metadata": {},
   "source": [
    "#### LightGBM"
   ]
  },
  {
   "cell_type": "code",
   "execution_count": 32,
   "metadata": {},
   "outputs": [],
   "source": [
    "params = {\n",
    "    'num_leaves': 311,\n",
    "    'max_depth': -1,\n",
    "    'metric': ['AUC'],\n",
    "    'first_metric_only': True,\n",
    "    'n_estimators': 20000,\n",
    "    'num_threads': 64,\n",
    "    'learning_rate': 0.01,\n",
    "    'colsample_bytree': 0.3,\n",
    "    'objective': 'xentropy',\n",
    "    'n_jobs': -1,\n",
    "    'bagging_fraction': 0.7,\n",
    "    'bagging_freq': 2,\n",
    "    'lambda_l1': 0,\n",
    "    'lambda_l2': 0,\n",
    "    'bagging_seed': 42,\n",
    "    'random_state':42,\n",
    "    'seed': 42,\n",
    "    'feature_fraction_seed': 42,\n",
    "    'drop_seed': 42,\n",
    "    'data_random_seed': 42,\n",
    "}"
   ]
  },
  {
   "cell_type": "markdown",
   "metadata": {},
   "source": [
    "### Best max_depth"
   ]
  },
  {
   "cell_type": "code",
   "execution_count": 22,
   "metadata": {},
   "outputs": [],
   "source": [
    "logging.warning(\"Searching best max_depth\")"
   ]
  },
  {
   "cell_type": "code",
   "execution_count": null,
   "metadata": {
    "scrolled": true
   },
   "outputs": [
    {
     "name": "stdout",
     "output_type": "stream",
     "text": [
      "Max depth = 5\n"
     ]
    }
   ],
   "source": [
    "for train_index, test_index in group_kfold.split(X, y, groups):\n",
    "    X_fit, X_val = X.iloc[train_index, :], X.iloc[test_index, :]\n",
    "    y_fit, y_val = y.iloc[train_index], y.iloc[test_index]\n",
    "\n",
    "scores_dict = dict()\n",
    "for i in range(5, 20):\n",
    "    print('Max depth = {}'.format(i))\n",
    "    logging.warning('Max depth = {}'.format(i))\n",
    "    params['max_depth'] = i\n",
    "    lgb_model = lgb.LGBMClassifier(**params)\n",
    "    lgb_model.fit(X_fit,\n",
    "                  y_fit,\n",
    "                  eval_set=[(X_val, y_val), (X_fit, y_fit)],\n",
    "                  verbose=100,\n",
    "                  early_stopping_rounds=100)\n",
    "    scores_dict[i] = lgb_model.best_score_['valid_0']['auc']"
   ]
  },
  {
   "cell_type": "code",
   "execution_count": 91,
   "metadata": {},
   "outputs": [
    {
     "data": {
      "text/plain": [
       "17"
      ]
     },
     "execution_count": 91,
     "metadata": {},
     "output_type": "execute_result"
    }
   ],
   "source": [
    "b = pd.DataFrame({'Depth': [x for x in scores_dict.keys()], 'AUC': [x for x in scores_dict.values()]})\n",
    "md = b[b.AUC == b.AUC.max()].Depth\n",
    "md.values[0]"
   ]
  },
  {
   "cell_type": "code",
   "execution_count": null,
   "metadata": {},
   "outputs": [],
   "source": [
    "params['max_depth'] = md.values[0]"
   ]
  },
  {
   "cell_type": "code",
   "execution_count": 35,
   "metadata": {},
   "outputs": [],
   "source": [
    "lgb_model = lgb.LGBMClassifier(**params)"
   ]
  },
  {
   "cell_type": "code",
   "execution_count": 36,
   "metadata": {},
   "outputs": [],
   "source": [
    "logging.warning(\"Params: {}\".format(str(lgb_model.get_params())))"
   ]
  },
  {
   "cell_type": "code",
   "execution_count": 37,
   "metadata": {
    "scrolled": false
   },
   "outputs": [
    {
     "name": "stdout",
     "output_type": "stream",
     "text": [
      "Fold 1\n",
      "\n",
      "Training until validation scores don't improve for 100 rounds.\n",
      "[100]\ttraining's auc: 0.936755\tvalid_0's auc: 0.918009\n",
      "[200]\ttraining's auc: 0.962995\tvalid_0's auc: 0.93626\n",
      "[300]\ttraining's auc: 0.978778\tvalid_0's auc: 0.947616\n",
      "[400]\ttraining's auc: 0.988072\tvalid_0's auc: 0.955333\n",
      "[500]\ttraining's auc: 0.993126\tvalid_0's auc: 0.959785\n",
      "[600]\ttraining's auc: 0.995964\tvalid_0's auc: 0.962954\n",
      "[700]\ttraining's auc: 0.997647\tvalid_0's auc: 0.964918\n",
      "[800]\ttraining's auc: 0.998563\tvalid_0's auc: 0.966301\n",
      "[900]\ttraining's auc: 0.999135\tvalid_0's auc: 0.96743\n",
      "[1000]\ttraining's auc: 0.99949\tvalid_0's auc: 0.96831\n",
      "[1100]\ttraining's auc: 0.999698\tvalid_0's auc: 0.968976\n",
      "[1200]\ttraining's auc: 0.999827\tvalid_0's auc: 0.969497\n",
      "[1300]\ttraining's auc: 0.999898\tvalid_0's auc: 0.970057\n",
      "[1400]\ttraining's auc: 0.999942\tvalid_0's auc: 0.970406\n",
      "[1500]\ttraining's auc: 0.999967\tvalid_0's auc: 0.970786\n",
      "[1600]\ttraining's auc: 0.999981\tvalid_0's auc: 0.9711\n",
      "[1700]\ttraining's auc: 0.99999\tvalid_0's auc: 0.971357\n",
      "[1800]\ttraining's auc: 0.999995\tvalid_0's auc: 0.971493\n",
      "[1900]\ttraining's auc: 0.999997\tvalid_0's auc: 0.971746\n",
      "[2000]\ttraining's auc: 0.999998\tvalid_0's auc: 0.971945\n",
      "[2100]\ttraining's auc: 0.999998\tvalid_0's auc: 0.972036\n",
      "[2200]\ttraining's auc: 0.999999\tvalid_0's auc: 0.972091\n",
      "[2300]\ttraining's auc: 0.999999\tvalid_0's auc: 0.972164\n",
      "[2400]\ttraining's auc: 0.999999\tvalid_0's auc: 0.972238\n",
      "[2500]\ttraining's auc: 0.999999\tvalid_0's auc: 0.972331\n",
      "Early stopping, best iteration is:\n",
      "[2469]\ttraining's auc: 0.999999\tvalid_0's auc: 0.972344\n",
      "Fold 2\n",
      "\n",
      "Training until validation scores don't improve for 100 rounds.\n",
      "[100]\ttraining's auc: 0.937541\tvalid_0's auc: 0.921564\n",
      "[200]\ttraining's auc: 0.962878\tvalid_0's auc: 0.937866\n",
      "[300]\ttraining's auc: 0.978954\tvalid_0's auc: 0.949211\n",
      "[400]\ttraining's auc: 0.987954\tvalid_0's auc: 0.955876\n",
      "[500]\ttraining's auc: 0.993106\tvalid_0's auc: 0.96064\n",
      "[600]\ttraining's auc: 0.995904\tvalid_0's auc: 0.963618\n",
      "[700]\ttraining's auc: 0.997563\tvalid_0's auc: 0.965585\n",
      "[800]\ttraining's auc: 0.998533\tvalid_0's auc: 0.966936\n",
      "[900]\ttraining's auc: 0.999124\tvalid_0's auc: 0.96805\n",
      "[1000]\ttraining's auc: 0.999482\tvalid_0's auc: 0.968936\n",
      "[1100]\ttraining's auc: 0.999686\tvalid_0's auc: 0.969677\n",
      "[1200]\ttraining's auc: 0.999817\tvalid_0's auc: 0.970217\n",
      "[1300]\ttraining's auc: 0.999896\tvalid_0's auc: 0.970743\n",
      "[1400]\ttraining's auc: 0.999943\tvalid_0's auc: 0.971073\n",
      "[1500]\ttraining's auc: 0.999969\tvalid_0's auc: 0.971451\n",
      "[1600]\ttraining's auc: 0.999983\tvalid_0's auc: 0.971697\n",
      "[1700]\ttraining's auc: 0.999991\tvalid_0's auc: 0.972015\n",
      "[1800]\ttraining's auc: 0.999995\tvalid_0's auc: 0.972137\n",
      "[1900]\ttraining's auc: 0.999998\tvalid_0's auc: 0.972354\n",
      "[2000]\ttraining's auc: 0.999999\tvalid_0's auc: 0.972538\n",
      "[2100]\ttraining's auc: 0.999999\tvalid_0's auc: 0.9727\n",
      "[2200]\ttraining's auc: 1\tvalid_0's auc: 0.97276\n",
      "[2300]\ttraining's auc: 1\tvalid_0's auc: 0.972855\n",
      "[2400]\ttraining's auc: 1\tvalid_0's auc: 0.972964\n",
      "[2500]\ttraining's auc: 1\tvalid_0's auc: 0.973055\n",
      "[2600]\ttraining's auc: 1\tvalid_0's auc: 0.973081\n",
      "Early stopping, best iteration is:\n",
      "[2549]\ttraining's auc: 1\tvalid_0's auc: 0.973107\n",
      "Fold 3\n",
      "\n",
      "Training until validation scores don't improve for 100 rounds.\n",
      "[100]\ttraining's auc: 0.939412\tvalid_0's auc: 0.923198\n",
      "[200]\ttraining's auc: 0.963276\tvalid_0's auc: 0.938048\n",
      "[300]\ttraining's auc: 0.979078\tvalid_0's auc: 0.949077\n",
      "[400]\ttraining's auc: 0.988062\tvalid_0's auc: 0.95599\n",
      "[500]\ttraining's auc: 0.993123\tvalid_0's auc: 0.960718\n",
      "[600]\ttraining's auc: 0.995891\tvalid_0's auc: 0.963843\n",
      "[700]\ttraining's auc: 0.997506\tvalid_0's auc: 0.96591\n",
      "[800]\ttraining's auc: 0.998548\tvalid_0's auc: 0.967446\n",
      "[900]\ttraining's auc: 0.999112\tvalid_0's auc: 0.968556\n",
      "[1000]\ttraining's auc: 0.999467\tvalid_0's auc: 0.969596\n",
      "[1100]\ttraining's auc: 0.999681\tvalid_0's auc: 0.970399\n",
      "[1200]\ttraining's auc: 0.999812\tvalid_0's auc: 0.971016\n",
      "[1300]\ttraining's auc: 0.999887\tvalid_0's auc: 0.971586\n",
      "[1400]\ttraining's auc: 0.999935\tvalid_0's auc: 0.971979\n",
      "[1500]\ttraining's auc: 0.999963\tvalid_0's auc: 0.972464\n",
      "[1600]\ttraining's auc: 0.99998\tvalid_0's auc: 0.972769\n",
      "[1700]\ttraining's auc: 0.999989\tvalid_0's auc: 0.973094\n",
      "[1800]\ttraining's auc: 0.999994\tvalid_0's auc: 0.973368\n",
      "[1900]\ttraining's auc: 0.999997\tvalid_0's auc: 0.973636\n",
      "[2000]\ttraining's auc: 0.999998\tvalid_0's auc: 0.973838\n",
      "[2100]\ttraining's auc: 0.999999\tvalid_0's auc: 0.974096\n",
      "[2200]\ttraining's auc: 1\tvalid_0's auc: 0.974269\n",
      "[2300]\ttraining's auc: 1\tvalid_0's auc: 0.974421\n",
      "[2400]\ttraining's auc: 1\tvalid_0's auc: 0.97456\n",
      "[2500]\ttraining's auc: 1\tvalid_0's auc: 0.974727\n",
      "[2600]\ttraining's auc: 1\tvalid_0's auc: 0.974833\n",
      "[2700]\ttraining's auc: 1\tvalid_0's auc: 0.974909\n",
      "[2800]\ttraining's auc: 1\tvalid_0's auc: 0.974982\n",
      "[2900]\ttraining's auc: 1\tvalid_0's auc: 0.975083\n",
      "[3000]\ttraining's auc: 1\tvalid_0's auc: 0.975092\n",
      "Early stopping, best iteration is:\n",
      "[2991]\ttraining's auc: 1\tvalid_0's auc: 0.975122\n",
      "Fold 4\n",
      "\n",
      "Training until validation scores don't improve for 100 rounds.\n",
      "[100]\ttraining's auc: 0.937909\tvalid_0's auc: 0.917234\n",
      "[200]\ttraining's auc: 0.962362\tvalid_0's auc: 0.935477\n",
      "[300]\ttraining's auc: 0.978879\tvalid_0's auc: 0.947282\n",
      "[400]\ttraining's auc: 0.988182\tvalid_0's auc: 0.954496\n",
      "[500]\ttraining's auc: 0.993158\tvalid_0's auc: 0.958725\n",
      "[600]\ttraining's auc: 0.995943\tvalid_0's auc: 0.961629\n",
      "[700]\ttraining's auc: 0.997612\tvalid_0's auc: 0.963561\n",
      "[800]\ttraining's auc: 0.99856\tvalid_0's auc: 0.96486\n",
      "[900]\ttraining's auc: 0.999128\tvalid_0's auc: 0.965958\n",
      "[1000]\ttraining's auc: 0.999475\tvalid_0's auc: 0.966829\n",
      "[1100]\ttraining's auc: 0.999678\tvalid_0's auc: 0.967526\n",
      "[1200]\ttraining's auc: 0.999802\tvalid_0's auc: 0.968093\n",
      "[1300]\ttraining's auc: 0.999872\tvalid_0's auc: 0.968582\n",
      "[1400]\ttraining's auc: 0.999912\tvalid_0's auc: 0.969068\n",
      "[1500]\ttraining's auc: 0.999937\tvalid_0's auc: 0.969481\n",
      "[1600]\ttraining's auc: 0.999952\tvalid_0's auc: 0.96987\n",
      "[1700]\ttraining's auc: 0.999961\tvalid_0's auc: 0.970017\n",
      "[1800]\ttraining's auc: 0.999967\tvalid_0's auc: 0.970279\n",
      "[1900]\ttraining's auc: 0.999969\tvalid_0's auc: 0.970508\n",
      "[2000]\ttraining's auc: 0.999971\tvalid_0's auc: 0.970686\n",
      "[2100]\ttraining's auc: 0.999971\tvalid_0's auc: 0.970754\n",
      "[2200]\ttraining's auc: 0.999971\tvalid_0's auc: 0.970933\n",
      "Early stopping, best iteration is:\n",
      "[2196]\ttraining's auc: 0.999971\tvalid_0's auc: 0.970943\n",
      "Fold 5\n",
      "\n",
      "Training until validation scores don't improve for 100 rounds.\n",
      "[100]\ttraining's auc: 0.936467\tvalid_0's auc: 0.916735\n",
      "[200]\ttraining's auc: 0.96235\tvalid_0's auc: 0.936301\n",
      "[300]\ttraining's auc: 0.978943\tvalid_0's auc: 0.948904\n",
      "[400]\ttraining's auc: 0.988122\tvalid_0's auc: 0.956676\n",
      "[500]\ttraining's auc: 0.993293\tvalid_0's auc: 0.961442\n",
      "[600]\ttraining's auc: 0.995992\tvalid_0's auc: 0.964374\n",
      "[700]\ttraining's auc: 0.997638\tvalid_0's auc: 0.966503\n",
      "[800]\ttraining's auc: 0.998585\tvalid_0's auc: 0.967981\n",
      "[900]\ttraining's auc: 0.999136\tvalid_0's auc: 0.969101\n",
      "[1000]\ttraining's auc: 0.999479\tvalid_0's auc: 0.970022\n",
      "[1100]\ttraining's auc: 0.999694\tvalid_0's auc: 0.970732\n",
      "[1200]\ttraining's auc: 0.999814\tvalid_0's auc: 0.971342\n",
      "[1300]\ttraining's auc: 0.999886\tvalid_0's auc: 0.971873\n",
      "[1400]\ttraining's auc: 0.999928\tvalid_0's auc: 0.972356\n",
      "[1500]\ttraining's auc: 0.999955\tvalid_0's auc: 0.972773\n",
      "[1600]\ttraining's auc: 0.999972\tvalid_0's auc: 0.972969\n",
      "[1700]\ttraining's auc: 0.999987\tvalid_0's auc: 0.973272\n",
      "[1800]\ttraining's auc: 0.999994\tvalid_0's auc: 0.973564\n",
      "[1900]\ttraining's auc: 0.999998\tvalid_0's auc: 0.973605\n",
      "[2000]\ttraining's auc: 0.999999\tvalid_0's auc: 0.973891\n",
      "[2100]\ttraining's auc: 0.999999\tvalid_0's auc: 0.974087\n",
      "[2200]\ttraining's auc: 1\tvalid_0's auc: 0.974213\n",
      "[2300]\ttraining's auc: 1\tvalid_0's auc: 0.974374\n",
      "[2400]\ttraining's auc: 1\tvalid_0's auc: 0.974425\n",
      "[2500]\ttraining's auc: 1\tvalid_0's auc: 0.974531\n",
      "[2600]\ttraining's auc: 1\tvalid_0's auc: 0.974571\n",
      "[2700]\ttraining's auc: 1\tvalid_0's auc: 0.974617\n",
      "[2800]\ttraining's auc: 1\tvalid_0's auc: 0.974796\n",
      "[2900]\ttraining's auc: 1\tvalid_0's auc: 0.97476\n",
      "[3000]\ttraining's auc: 1\tvalid_0's auc: 0.974789\n",
      "Early stopping, best iteration is:\n",
      "[2918]\ttraining's auc: 1\tvalid_0's auc: 0.974809\n"
     ]
    }
   ],
   "source": [
    "counter = 1\n",
    "auc_score = 0\n",
    "iterat = 0\n",
    "list_iter = list()\n",
    "for train_index, test_index in skf.split(train_ids, y):\n",
    "# for train_index, test_index in group_kfold.split(X, y, groups):\n",
    "# for train_index, test_index in tscv.split(X=X, y=y):\n",
    "    print('Fold {}\\n'.format(counter))\n",
    "    logging.warning(\"Training fold {}\".format(counter))\n",
    "\n",
    "    X_fit, X_val = X.iloc[train_index, :], X.iloc[test_index, :]\n",
    "    y_fit, y_val = y.iloc[train_index], y.iloc[test_index]\n",
    "\n",
    "    lgb_model.fit(X_fit,\n",
    "                  y_fit,\n",
    "                  eval_set=[(X_val, y_val), (X_fit, y_fit)],\n",
    "                  verbose=100,\n",
    "                  early_stopping_rounds=100)\n",
    "    \n",
    "    logging.warning(\"Best AUC in this fold: {}\".format(lgb_model.best_score_['valid_0']['auc']))\n",
    "    logging.warning(\"Best iteration in this fold: {}\".format(lgb_model.best_iteration_))\n",
    "    auc_score += lgb_model.best_score_['valid_0']['auc']\n",
    "    it = lgb_model.best_iteration_\n",
    "    iterat += it\n",
    "    list_iter.append(it)\n",
    "\n",
    "    del X_fit\n",
    "    del X_val\n",
    "    del y_fit\n",
    "    del y_val\n",
    "    del train_index\n",
    "    del test_index\n",
    "    gc.collect()\n",
    "    \n",
    "    counter += 1\n",
    "    \n",
    "mean_auc_score = auc_score/k\n",
    "mean_iterat = iterat/k\n",
    "\n",
    "logging.warning(\"Mean AUC in {0} folds: {1}\".format(k, mean_auc_score))\n",
    "logging.warning(\"Mean iterations in {0} folds: {1}\".format(k, mean_iterat))"
   ]
  },
  {
   "cell_type": "code",
   "execution_count": 38,
   "metadata": {},
   "outputs": [
    {
     "data": {
      "text/plain": [
       "2624.6"
      ]
     },
     "execution_count": 38,
     "metadata": {},
     "output_type": "execute_result"
    }
   ],
   "source": [
    "mean_iterat"
   ]
  },
  {
   "cell_type": "code",
   "execution_count": 39,
   "metadata": {},
   "outputs": [
    {
     "data": {
      "text/plain": [
       "2624"
      ]
     },
     "execution_count": 39,
     "metadata": {},
     "output_type": "execute_result"
    }
   ],
   "source": [
    "params['n_estimators'] = int(mean_iterat)\n",
    "params['n_estimators']"
   ]
  },
  {
   "cell_type": "code",
   "execution_count": 43,
   "metadata": {},
   "outputs": [
    {
     "data": {
      "text/plain": [
       "LGBMClassifier(bagging_fraction=0.7, bagging_freq=2, bagging_seed=42,\n",
       "               boosting_type='gbdt', class_weight=None, colsample_bytree=0.3,\n",
       "               data_random_seed=42, drop_seed=42, feature_fraction_seed=42,\n",
       "               first_metric_only=True, importance_type='split', lambda_l1=0,\n",
       "               lambda_l2=0, learning_rate=0.01, max_depth=-1, metric=['AUC'],\n",
       "               min_child_samples=20, min_child_weight=0.001, min_split_gain=0.0,\n",
       "               n_estimators=2624, n_jobs=-1, num_leaves=311, num_threads=64,\n",
       "               objective='xentropy', random_state=42, reg_alpha=0.0,\n",
       "               reg_lambda=0.0, seed=42, silent=True, subsample=1.0, ...)"
      ]
     },
     "execution_count": 43,
     "metadata": {},
     "output_type": "execute_result"
    }
   ],
   "source": [
    "lgb_model = lgb.LGBMClassifier(**params)\n",
    "lgb_model.fit(train[X_cols+drop_cols], train.isFraud)"
   ]
  },
  {
   "cell_type": "code",
   "execution_count": 44,
   "metadata": {},
   "outputs": [],
   "source": [
    "y_preds = lgb_model.predict_proba(test[X.columns])"
   ]
  },
  {
   "cell_type": "code",
   "execution_count": 45,
   "metadata": {},
   "outputs": [],
   "source": [
    "df_sub = pd.read_csv(data_folder+'/sample_submission.csv')"
   ]
  },
  {
   "cell_type": "code",
   "execution_count": 46,
   "metadata": {},
   "outputs": [],
   "source": [
    "df_sub['isFraud'] = y_preds[:,1]"
   ]
  },
  {
   "cell_type": "code",
   "execution_count": 47,
   "metadata": {},
   "outputs": [
    {
     "data": {
      "text/html": [
       "<div>\n",
       "<style scoped>\n",
       "    .dataframe tbody tr th:only-of-type {\n",
       "        vertical-align: middle;\n",
       "    }\n",
       "\n",
       "    .dataframe tbody tr th {\n",
       "        vertical-align: top;\n",
       "    }\n",
       "\n",
       "    .dataframe thead th {\n",
       "        text-align: right;\n",
       "    }\n",
       "</style>\n",
       "<table border=\"1\" class=\"dataframe\">\n",
       "  <thead>\n",
       "    <tr style=\"text-align: right;\">\n",
       "      <th></th>\n",
       "      <th>TransactionID</th>\n",
       "      <th>isFraud</th>\n",
       "    </tr>\n",
       "  </thead>\n",
       "  <tbody>\n",
       "    <tr>\n",
       "      <td>0</td>\n",
       "      <td>3663549</td>\n",
       "      <td>0.000113</td>\n",
       "    </tr>\n",
       "    <tr>\n",
       "      <td>1</td>\n",
       "      <td>3663550</td>\n",
       "      <td>0.000302</td>\n",
       "    </tr>\n",
       "    <tr>\n",
       "      <td>2</td>\n",
       "      <td>3663551</td>\n",
       "      <td>0.000472</td>\n",
       "    </tr>\n",
       "    <tr>\n",
       "      <td>3</td>\n",
       "      <td>3663552</td>\n",
       "      <td>0.000826</td>\n",
       "    </tr>\n",
       "    <tr>\n",
       "      <td>4</td>\n",
       "      <td>3663553</td>\n",
       "      <td>0.000374</td>\n",
       "    </tr>\n",
       "  </tbody>\n",
       "</table>\n",
       "</div>"
      ],
      "text/plain": [
       "   TransactionID   isFraud\n",
       "0        3663549  0.000113\n",
       "1        3663550  0.000302\n",
       "2        3663551  0.000472\n",
       "3        3663552  0.000826\n",
       "4        3663553  0.000374"
      ]
     },
     "execution_count": 47,
     "metadata": {},
     "output_type": "execute_result"
    }
   ],
   "source": [
    "df_sub.head()"
   ]
  },
  {
   "cell_type": "code",
   "execution_count": 48,
   "metadata": {},
   "outputs": [],
   "source": [
    "today = datetime.date.today()\n",
    "D = today.strftime('%Y%m%d')"
   ]
  },
  {
   "cell_type": "code",
   "execution_count": 49,
   "metadata": {},
   "outputs": [],
   "source": [
    "submission_name = '{0}_LightGBM_{1}'.format(D, mean_auc_score)"
   ]
  },
  {
   "cell_type": "code",
   "execution_count": 50,
   "metadata": {},
   "outputs": [
    {
     "data": {
      "text/plain": [
       "'20190903_LightGBM_0.9732650305281695'"
      ]
     },
     "execution_count": 50,
     "metadata": {},
     "output_type": "execute_result"
    }
   ],
   "source": [
    "submission_name"
   ]
  },
  {
   "cell_type": "code",
   "execution_count": 51,
   "metadata": {},
   "outputs": [],
   "source": [
    "logging.warning(\"Submission name: {}\".format(submission_name))"
   ]
  },
  {
   "cell_type": "code",
   "execution_count": 52,
   "metadata": {},
   "outputs": [],
   "source": [
    "df_sub.to_csv('submissions/{}.csv'.format(submission_name), sep=',', header=True, index=None)"
   ]
  },
  {
   "cell_type": "code",
   "execution_count": 53,
   "metadata": {},
   "outputs": [],
   "source": [
    "logging.warning(\"End\")"
   ]
  },
  {
   "cell_type": "code",
   "execution_count": 54,
   "metadata": {},
   "outputs": [
    {
     "data": {
      "text/plain": [
       "(5084, 2)"
      ]
     },
     "execution_count": 54,
     "metadata": {},
     "output_type": "execute_result"
    }
   ],
   "source": [
    "df_sub[df_sub.isFraud>0.9].shape"
   ]
  },
  {
   "cell_type": "code",
   "execution_count": null,
   "metadata": {},
   "outputs": [],
   "source": []
  }
 ],
 "metadata": {
  "kernelspec": {
   "display_name": "Python 3",
   "language": "python",
   "name": "python3"
  },
  "language_info": {
   "codemirror_mode": {
    "name": "ipython",
    "version": 3
   },
   "file_extension": ".py",
   "mimetype": "text/x-python",
   "name": "python",
   "nbconvert_exporter": "python",
   "pygments_lexer": "ipython3",
   "version": "3.6.8"
  }
 },
 "nbformat": 4,
 "nbformat_minor": 2
}
