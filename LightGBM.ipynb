{
 "cells": [
  {
   "cell_type": "markdown",
   "metadata": {},
   "source": [
    "# LightGBM"
   ]
  },
  {
   "cell_type": "markdown",
   "metadata": {},
   "source": [
    "### Libraries"
   ]
  },
  {
   "cell_type": "code",
   "execution_count": 2,
   "metadata": {},
   "outputs": [],
   "source": [
    "import warnings\n",
    "warnings.filterwarnings('ignore')\n",
    "\n",
    "import pandas as pd\n",
    "# import modin.pandas as pd\n",
    "import numpy as np\n",
    "import matplotlib.pyplot as plt\n",
    "from collections import Counter, defaultdict\n",
    "import gc\n",
    "import logging\n",
    "import lightgbm as lgb\n",
    "from sklearn.model_selection import StratifiedKFold, GroupKFold, TimeSeriesSplit\n",
    "from sklearn.metrics import roc_auc_score\n",
    "from sklearn.preprocessing import MinMaxScaler\n",
    "import datetime\n",
    "\n",
    "from utils.schemas import *\n",
    "from utils.functions import *"
   ]
  },
  {
   "cell_type": "markdown",
   "metadata": {},
   "source": [
    "### Logging"
   ]
  },
  {
   "cell_type": "code",
   "execution_count": 3,
   "metadata": {},
   "outputs": [],
   "source": [
    "LOG_NAME = 'logs/LightGBM.log'\n",
    "logging.basicConfig(filename=LOG_NAME, level=logging.WARNING, format='%(asctime)s %(message)s')\n",
    "logging.warning(\"\")\n",
    "logging.warning(\"##### New LightGBM Model #####\")"
   ]
  },
  {
   "cell_type": "markdown",
   "metadata": {},
   "source": [
    "### Data"
   ]
  },
  {
   "cell_type": "code",
   "execution_count": 3,
   "metadata": {},
   "outputs": [],
   "source": [
    "df_imp = pd.read_csv('docs/20190906_PermitationImportance_Rf5.csv')"
   ]
  },
  {
   "cell_type": "code",
   "execution_count": 3,
   "metadata": {},
   "outputs": [],
   "source": [
    "drop_cols = ['D1','D10','D11','D12','D13','D14','D15','D2','D3','D4','D5','D6',\n",
    "             'D7','D8','D9','C1','C10','C11','C12','C13','C14','C2','C3','C4','C5','C6','C7','C8','C9']"
   ]
  },
  {
   "cell_type": "code",
   "execution_count": 5,
   "metadata": {},
   "outputs": [],
   "source": [
    "X_cols = df_imp[df_imp.Importance > 0].feature.to_list()\n",
    "# X_cols = df_imp.feature[:100].to_list()"
   ]
  },
  {
   "cell_type": "code",
   "execution_count": 4,
   "metadata": {},
   "outputs": [
    {
     "ename": "NameError",
     "evalue": "name 'X_cols' is not defined",
     "output_type": "error",
     "traceback": [
      "\u001b[0;31m---------------------------------------------------------------------------\u001b[0m",
      "\u001b[0;31mNameError\u001b[0m                                 Traceback (most recent call last)",
      "\u001b[0;32m<ipython-input-4-f289c4252c6d>\u001b[0m in \u001b[0;36m<module>\u001b[0;34m\u001b[0m\n\u001b[0;32m----> 1\u001b[0;31m \u001b[0mlen\u001b[0m\u001b[0;34m(\u001b[0m\u001b[0mX_cols\u001b[0m\u001b[0;34m)\u001b[0m\u001b[0;34m\u001b[0m\u001b[0;34m\u001b[0m\u001b[0m\n\u001b[0m",
      "\u001b[0;31mNameError\u001b[0m: name 'X_cols' is not defined"
     ]
    }
   ],
   "source": [
    "len(X_cols)"
   ]
  },
  {
   "cell_type": "code",
   "execution_count": 7,
   "metadata": {},
   "outputs": [
    {
     "data": {
      "text/plain": [
       "['R1', 'V258', 'C7', 'V45', 'C1', 'C12', 'C8', 'C4', 'V257']"
      ]
     },
     "execution_count": 7,
     "metadata": {},
     "output_type": "execute_result"
    }
   ],
   "source": [
    "X_cols[:9]"
   ]
  },
  {
   "cell_type": "code",
   "execution_count": 5,
   "metadata": {},
   "outputs": [],
   "source": [
    "data_folder = 'input'"
   ]
  },
  {
   "cell_type": "code",
   "execution_count": 4,
   "metadata": {},
   "outputs": [],
   "source": [
    "id1 = ['addr1', 'addr2', 'card1', 'day']"
   ]
  },
  {
   "cell_type": "code",
   "execution_count": 8,
   "metadata": {},
   "outputs": [],
   "source": [
    "id2 = ['card1', 'card2', 'card3', 'card5']"
   ]
  },
  {
   "cell_type": "code",
   "execution_count": 11,
   "metadata": {},
   "outputs": [],
   "source": [
    "id_cols = ['addr1', 'addr2', 'card1', 'card2', 'card3', 'card4', 'card5', 'card6']"
   ]
  },
  {
   "cell_type": "code",
   "execution_count": 17,
   "metadata": {},
   "outputs": [],
   "source": [
    "group_cols = id2"
   ]
  },
  {
   "cell_type": "code",
   "execution_count": 6,
   "metadata": {},
   "outputs": [],
   "source": [
    "# train = pd.read_csv(data_folder+'/train_syn_ft_eng_1.csv', dtype = schema_synthetic_ft_eng_1, usecols=list(set(X_cols+['isFraud']+id_cols)))\n",
    "# test = pd.read_csv(data_folder+'/test_syn_ft_eng_1.csv', dtype = schema_synthetic_ft_eng_1, usecols=list(set(X_cols+['isFraud']+id_cols)))\n",
    "train = pd.read_csv(data_folder+'/train_ft_eng_3.csv', dtype = schema_ft_eng_3)\n",
    "test = pd.read_csv(data_folder+'/test_ft_eng_3.csv', dtype = schema_ft_eng_3)"
   ]
  },
  {
   "cell_type": "code",
   "execution_count": 121,
   "metadata": {},
   "outputs": [
    {
     "data": {
      "text/plain": [
       "(9025, 677)"
      ]
     },
     "execution_count": 121,
     "metadata": {},
     "output_type": "execute_result"
    }
   ],
   "source": [
    "# train_1 = train[train.isFraud == 1]\n",
    "# train_1.shape\n",
    "\n",
    "# train_0 = train[train.isFraud == 0].sample(train_1.shape[0]*3, random_state=42)\n",
    "\n",
    "# mini_train = pd.concat([train_1, train_0], axis=0).reset_index(drop=True)"
   ]
  },
  {
   "cell_type": "code",
   "execution_count": 18,
   "metadata": {},
   "outputs": [],
   "source": [
    "train['day'] = np.floor((train['TransactionDT'] / (3600 * 24) - 1))\n",
    "test['day'] = np.floor((test['TransactionDT'] / (3600 * 24) - 1))"
   ]
  },
  {
   "cell_type": "code",
   "execution_count": 7,
   "metadata": {},
   "outputs": [],
   "source": [
    "groups = train.groupby(['month']).grouper.group_info[0]"
   ]
  },
  {
   "cell_type": "code",
   "execution_count": 96,
   "metadata": {},
   "outputs": [],
   "source": [
    "imp_dict = dict()\n",
    "for c in X_cols:\n",
    "    if c not in cat_ft:\n",
    "        imp_dict[c] = train[c].median()"
   ]
  },
  {
   "cell_type": "code",
   "execution_count": 41,
   "metadata": {},
   "outputs": [
    {
     "data": {
      "text/plain": [
       "['C1',\n",
       " 'C10',\n",
       " 'C11',\n",
       " 'C12',\n",
       " 'C13',\n",
       " 'C14',\n",
       " 'C2',\n",
       " 'C3',\n",
       " 'C4',\n",
       " 'C5',\n",
       " 'C6',\n",
       " 'C7',\n",
       " 'C8',\n",
       " 'C9',\n",
       " 'D1',\n",
       " 'D10',\n",
       " 'D11',\n",
       " 'D12',\n",
       " 'D13',\n",
       " 'D14',\n",
       " 'D15',\n",
       " 'D2',\n",
       " 'D3',\n",
       " 'D4',\n",
       " 'D5',\n",
       " 'D6',\n",
       " 'D7',\n",
       " 'D8',\n",
       " 'DeviceInfo',\n",
       " 'DeviceType_0',\n",
       " 'DeviceType_1',\n",
       " 'DeviceType_2',\n",
       " 'M1',\n",
       " 'M2',\n",
       " 'M3',\n",
       " 'M4',\n",
       " 'M5',\n",
       " 'M6',\n",
       " 'M7',\n",
       " 'M8',\n",
       " 'M9',\n",
       " 'P_emaildomain',\n",
       " 'ProductCD',\n",
       " 'R_emaildomain',\n",
       " 'TransactionAmt',\n",
       " 'TransactionAmt_decimal',\n",
       " 'TransactionDT',\n",
       " 'V1',\n",
       " 'V10',\n",
       " 'V100',\n",
       " 'V101',\n",
       " 'V102',\n",
       " 'V103',\n",
       " 'V104',\n",
       " 'V105',\n",
       " 'V106',\n",
       " 'V107',\n",
       " 'V108',\n",
       " 'V109',\n",
       " 'V11',\n",
       " 'V110',\n",
       " 'V111',\n",
       " 'V112',\n",
       " 'V113',\n",
       " 'V114',\n",
       " 'V115',\n",
       " 'V116',\n",
       " 'V117',\n",
       " 'V118',\n",
       " 'V119',\n",
       " 'V12',\n",
       " 'V120',\n",
       " 'V121',\n",
       " 'V122',\n",
       " 'V123',\n",
       " 'V124',\n",
       " 'V125',\n",
       " 'V126',\n",
       " 'V127',\n",
       " 'V128',\n",
       " 'V129',\n",
       " 'V13',\n",
       " 'V130',\n",
       " 'V131',\n",
       " 'V132',\n",
       " 'V133',\n",
       " 'V134',\n",
       " 'V135',\n",
       " 'V136',\n",
       " 'V137',\n",
       " 'V138',\n",
       " 'V139',\n",
       " 'V14',\n",
       " 'V140',\n",
       " 'V141',\n",
       " 'V142',\n",
       " 'V143',\n",
       " 'V144',\n",
       " 'V145',\n",
       " 'V146',\n",
       " 'V147',\n",
       " 'V148',\n",
       " 'V149',\n",
       " 'V15',\n",
       " 'V150',\n",
       " 'V151',\n",
       " 'V152',\n",
       " 'V153',\n",
       " 'V154',\n",
       " 'V155',\n",
       " 'V156',\n",
       " 'V157',\n",
       " 'V158',\n",
       " 'V159',\n",
       " 'V16',\n",
       " 'V160',\n",
       " 'V161',\n",
       " 'V162',\n",
       " 'V163',\n",
       " 'V164',\n",
       " 'V165',\n",
       " 'V166',\n",
       " 'V167',\n",
       " 'V168',\n",
       " 'V169',\n",
       " 'V17',\n",
       " 'V170',\n",
       " 'V171',\n",
       " 'V172',\n",
       " 'V173',\n",
       " 'V174',\n",
       " 'V175',\n",
       " 'V176',\n",
       " 'V177',\n",
       " 'V178',\n",
       " 'V179',\n",
       " 'V18',\n",
       " 'V180',\n",
       " 'V181',\n",
       " 'V182',\n",
       " 'V183',\n",
       " 'V184',\n",
       " 'V185',\n",
       " 'V186',\n",
       " 'V187',\n",
       " 'V188',\n",
       " 'V189',\n",
       " 'V19',\n",
       " 'V190',\n",
       " 'V191',\n",
       " 'V192',\n",
       " 'V193',\n",
       " 'V194',\n",
       " 'V195',\n",
       " 'V196',\n",
       " 'V197',\n",
       " 'V198',\n",
       " 'V199',\n",
       " 'V2',\n",
       " 'V20',\n",
       " 'V200',\n",
       " 'V201',\n",
       " 'V202',\n",
       " 'V203',\n",
       " 'V204',\n",
       " 'V205',\n",
       " 'V206',\n",
       " 'V207',\n",
       " 'V208',\n",
       " 'V209',\n",
       " 'V21',\n",
       " 'V210',\n",
       " 'V211',\n",
       " 'V212',\n",
       " 'V213',\n",
       " 'V214',\n",
       " 'V215',\n",
       " 'V216',\n",
       " 'V217',\n",
       " 'V218',\n",
       " 'V219',\n",
       " 'V22',\n",
       " 'V220',\n",
       " 'V221',\n",
       " 'V222',\n",
       " 'V223',\n",
       " 'V224',\n",
       " 'V225',\n",
       " 'V226',\n",
       " 'V227',\n",
       " 'V228',\n",
       " 'V229',\n",
       " 'V23',\n",
       " 'V230',\n",
       " 'V231',\n",
       " 'V232',\n",
       " 'V233',\n",
       " 'V234',\n",
       " 'V235',\n",
       " 'V236',\n",
       " 'V237',\n",
       " 'V238',\n",
       " 'V239',\n",
       " 'V24',\n",
       " 'V240',\n",
       " 'V241',\n",
       " 'V242',\n",
       " 'V243',\n",
       " 'V244',\n",
       " 'V245',\n",
       " 'V246',\n",
       " 'V247',\n",
       " 'V248',\n",
       " 'V249',\n",
       " 'V25',\n",
       " 'V250',\n",
       " 'V251',\n",
       " 'V252',\n",
       " 'V253',\n",
       " 'V254',\n",
       " 'V255',\n",
       " 'V256',\n",
       " 'V257',\n",
       " 'V258',\n",
       " 'V259',\n",
       " 'V26',\n",
       " 'V260',\n",
       " 'V261',\n",
       " 'V262',\n",
       " 'V263',\n",
       " 'V264',\n",
       " 'V265',\n",
       " 'V266',\n",
       " 'V267',\n",
       " 'V268',\n",
       " 'V269',\n",
       " 'V27',\n",
       " 'V270',\n",
       " 'V271',\n",
       " 'V272',\n",
       " 'V273',\n",
       " 'V274',\n",
       " 'V275',\n",
       " 'V276',\n",
       " 'V277',\n",
       " 'V278',\n",
       " 'V279',\n",
       " 'V28',\n",
       " 'V280',\n",
       " 'V281',\n",
       " 'V282',\n",
       " 'V283',\n",
       " 'V284',\n",
       " 'V285',\n",
       " 'V286',\n",
       " 'V287',\n",
       " 'V288',\n",
       " 'V289',\n",
       " 'V29',\n",
       " 'V290',\n",
       " 'V291',\n",
       " 'V292',\n",
       " 'V293',\n",
       " 'V294',\n",
       " 'V295',\n",
       " 'V296',\n",
       " 'V297',\n",
       " 'V298',\n",
       " 'V299',\n",
       " 'V3',\n",
       " 'V30',\n",
       " 'V300',\n",
       " 'V301',\n",
       " 'V302',\n",
       " 'V303',\n",
       " 'V304',\n",
       " 'V305',\n",
       " 'V306',\n",
       " 'V307',\n",
       " 'V308',\n",
       " 'V309',\n",
       " 'V31',\n",
       " 'V310',\n",
       " 'V311',\n",
       " 'V312',\n",
       " 'V313',\n",
       " 'V314',\n",
       " 'V315',\n",
       " 'V316',\n",
       " 'V317',\n",
       " 'V318',\n",
       " 'V319',\n",
       " 'V32',\n",
       " 'V320',\n",
       " 'V321',\n",
       " 'V322',\n",
       " 'V323',\n",
       " 'V324',\n",
       " 'V325',\n",
       " 'V326',\n",
       " 'V327',\n",
       " 'V328',\n",
       " 'V329',\n",
       " 'V33',\n",
       " 'V330',\n",
       " 'V331',\n",
       " 'V332',\n",
       " 'V333',\n",
       " 'V334',\n",
       " 'V335',\n",
       " 'V336',\n",
       " 'V337',\n",
       " 'V338',\n",
       " 'V339',\n",
       " 'V34',\n",
       " 'V35',\n",
       " 'V36',\n",
       " 'V37',\n",
       " 'V38',\n",
       " 'V39',\n",
       " 'V4',\n",
       " 'V40',\n",
       " 'V41',\n",
       " 'V42',\n",
       " 'V43',\n",
       " 'V44',\n",
       " 'V45',\n",
       " 'V46',\n",
       " 'V47',\n",
       " 'V48',\n",
       " 'V49',\n",
       " 'V5',\n",
       " 'V50',\n",
       " 'V51',\n",
       " 'V52',\n",
       " 'V53',\n",
       " 'V54',\n",
       " 'V55',\n",
       " 'V56',\n",
       " 'V57',\n",
       " 'V58',\n",
       " 'V59',\n",
       " 'V6',\n",
       " 'V60',\n",
       " 'V61',\n",
       " 'V62',\n",
       " 'V63',\n",
       " 'V64',\n",
       " 'V65',\n",
       " 'V66',\n",
       " 'V67',\n",
       " 'V68',\n",
       " 'V69',\n",
       " 'V7',\n",
       " 'V70',\n",
       " 'V71',\n",
       " 'V72',\n",
       " 'V73',\n",
       " 'V74',\n",
       " 'V75',\n",
       " 'V76',\n",
       " 'V77',\n",
       " 'V78',\n",
       " 'V79',\n",
       " 'V8',\n",
       " 'V80',\n",
       " 'V81',\n",
       " 'V82',\n",
       " 'V83',\n",
       " 'V84',\n",
       " 'V85',\n",
       " 'V86',\n",
       " 'V87',\n",
       " 'V88',\n",
       " 'V89',\n",
       " 'V9',\n",
       " 'V90',\n",
       " 'V91',\n",
       " 'V92',\n",
       " 'V93',\n",
       " 'V94',\n",
       " 'V95',\n",
       " 'V96',\n",
       " 'V97',\n",
       " 'V98',\n",
       " 'V99',\n",
       " 'V_group_1',\n",
       " 'V_group_10',\n",
       " 'V_group_10_is_null',\n",
       " 'V_group_11',\n",
       " 'V_group_11_is_null',\n",
       " 'V_group_1_is_null',\n",
       " 'V_group_2',\n",
       " 'V_group_2_is_null',\n",
       " 'V_group_3',\n",
       " 'V_group_3_is_null',\n",
       " 'V_group_4',\n",
       " 'V_group_4_is_null',\n",
       " 'V_group_5',\n",
       " 'V_group_5_is_null',\n",
       " 'V_group_6',\n",
       " 'V_group_6_is_null',\n",
       " 'V_group_7',\n",
       " 'V_group_7_is_null',\n",
       " 'V_group_8',\n",
       " 'V_group_8_is_null',\n",
       " 'V_group_9',\n",
       " 'V_group_9_is_null',\n",
       " 'addr1',\n",
       " 'addr2',\n",
       " 'card_0',\n",
       " 'card_1',\n",
       " 'card_2',\n",
       " 'card_3',\n",
       " 'card_4',\n",
       " 'card_5',\n",
       " 'card_6',\n",
       " 'card_7',\n",
       " 'card_8',\n",
       " 'card_9',\n",
       " 'card_10',\n",
       " 'card_11',\n",
       " 'card_12',\n",
       " 'card_13',\n",
       " 'card_14',\n",
       " 'card_15',\n",
       " 'card1',\n",
       " 'card2',\n",
       " 'card3',\n",
       " 'card4',\n",
       " 'card5',\n",
       " 'card6',\n",
       " 'date',\n",
       " 'day',\n",
       " 'dayofweek_0',\n",
       " 'dayofweek_1',\n",
       " 'dayofweek_2',\n",
       " 'dayofweek_3',\n",
       " 'dist1',\n",
       " 'has_identity',\n",
       " 'hour_0',\n",
       " 'hour_1',\n",
       " 'hour_2',\n",
       " 'hour_3',\n",
       " 'hour_4',\n",
       " 'hour_5',\n",
       " 'id_01',\n",
       " 'id_02',\n",
       " 'id_03',\n",
       " 'id_04',\n",
       " 'id_05',\n",
       " 'id_06',\n",
       " 'id_09',\n",
       " 'id_10',\n",
       " 'id_11',\n",
       " 'id_12',\n",
       " 'id_13',\n",
       " 'id_14',\n",
       " 'id_15',\n",
       " 'id_16',\n",
       " 'id_17',\n",
       " 'id_18',\n",
       " 'id_19',\n",
       " 'id_20',\n",
       " 'id_28',\n",
       " 'id_29',\n",
       " 'id_30',\n",
       " 'id_31',\n",
       " 'id_32',\n",
       " 'id_33',\n",
       " 'id_34',\n",
       " 'id_35',\n",
       " 'id_36',\n",
       " 'id_37',\n",
       " 'id_38',\n",
       " 'isFraud',\n",
       " 'month',\n",
       " 'year',\n",
       " 'P_emaildomain_0',\n",
       " 'P_emaildomain_1',\n",
       " 'R_emaildomain_0',\n",
       " 'R_emaildomain_1',\n",
       " 'proc_id_30_0_0',\n",
       " 'proc_id_30_0_1',\n",
       " 'proc_id_30_0_2',\n",
       " 'proc_id_30_0_3',\n",
       " 'proc_id_30_0_4',\n",
       " 'proc_id_30_0_5',\n",
       " 'proc_id_30_0_6',\n",
       " 'proc_id_30_1_0',\n",
       " 'proc_id_30_1_1',\n",
       " 'proc_id_30_1_2',\n",
       " 'proc_id_30_1_3',\n",
       " 'proc_id_31_0_0',\n",
       " 'proc_id_31_0_1',\n",
       " 'proc_id_31_0_2',\n",
       " 'proc_id_31_0_3',\n",
       " 'proc_id_31_0_4',\n",
       " 'device_name',\n",
       " 'device_version',\n",
       " 'ProductCD_fe1',\n",
       " 'P_emaildomain_fe1',\n",
       " 'R_emaildomain_fe1',\n",
       " 'card1_fe1',\n",
       " 'card2_fe1',\n",
       " 'card3_fe1',\n",
       " 'card4_fe1',\n",
       " 'card5_fe1',\n",
       " 'card6_fe1',\n",
       " 'addr1_fe1',\n",
       " 'addr2_fe1',\n",
       " 'M1_fe1',\n",
       " 'M2_fe1',\n",
       " 'M3_fe1',\n",
       " 'M4_fe1',\n",
       " 'M5_fe1',\n",
       " 'M6_fe1',\n",
       " 'M7_fe1',\n",
       " 'M8_fe1',\n",
       " 'M9_fe1',\n",
       " 'DeviceType_fe1',\n",
       " 'DeviceInfo_fe1',\n",
       " 'id_12_fe1',\n",
       " 'id_13_fe1',\n",
       " 'id_14_fe1',\n",
       " 'id_15_fe1',\n",
       " 'id_16_fe1',\n",
       " 'id_17_fe1',\n",
       " 'id_18_fe1',\n",
       " 'id_19_fe1',\n",
       " 'id_20_fe1',\n",
       " 'id_21_fe1',\n",
       " 'id_22_fe1',\n",
       " 'id_23_fe1',\n",
       " 'id_24_fe1',\n",
       " 'id_25_fe1',\n",
       " 'id_26_fe1',\n",
       " 'id_27_fe1',\n",
       " 'id_28_fe1',\n",
       " 'id_29_fe1',\n",
       " 'id_30_fe1',\n",
       " 'id_31_fe1',\n",
       " 'id_32_fe1',\n",
       " 'id_33_fe1',\n",
       " 'id_34_fe1',\n",
       " 'id_35_fe1',\n",
       " 'id_36_fe1',\n",
       " 'id_37_fe1',\n",
       " 'id_38_fe1',\n",
       " 'date_fe1',\n",
       " 'R_emaildomain_0_fe1',\n",
       " 'proc_id_31_0_fe1',\n",
       " 'P_emaildomain_0_fe1',\n",
       " 'proc_id_30_0_fe1',\n",
       " 'P_emaildomain_1_fe1',\n",
       " 'R_emaildomain_1_fe1',\n",
       " 'proc_id_30_1_fe1',\n",
       " 'card_fe1',\n",
       " 'device_name_fe1',\n",
       " 'device_version_fe1',\n",
       " 'ProductCD_fe2',\n",
       " 'P_emaildomain_fe2',\n",
       " 'R_emaildomain_fe2',\n",
       " 'card1_fe2',\n",
       " 'card2_fe2',\n",
       " 'card3_fe2',\n",
       " 'card4_fe2',\n",
       " 'card5_fe2',\n",
       " 'card6_fe2',\n",
       " 'addr1_fe2',\n",
       " 'addr2_fe2',\n",
       " 'M1_fe2',\n",
       " 'M2_fe2',\n",
       " 'M3_fe2',\n",
       " 'M4_fe2',\n",
       " 'M5_fe2',\n",
       " 'M6_fe2',\n",
       " 'M7_fe2',\n",
       " 'M8_fe2',\n",
       " 'M9_fe2',\n",
       " 'DeviceType_fe2',\n",
       " 'DeviceInfo_fe2',\n",
       " 'id_12_fe2',\n",
       " 'id_13_fe2',\n",
       " 'id_14_fe2',\n",
       " 'id_15_fe2',\n",
       " 'id_16_fe2',\n",
       " 'id_17_fe2',\n",
       " 'id_18_fe2',\n",
       " 'id_19_fe2',\n",
       " 'id_20_fe2',\n",
       " 'id_21_fe2',\n",
       " 'id_22_fe2',\n",
       " 'id_23_fe2',\n",
       " 'id_24_fe2',\n",
       " 'id_25_fe2',\n",
       " 'id_26_fe2',\n",
       " 'id_27_fe2',\n",
       " 'id_28_fe2',\n",
       " 'id_29_fe2',\n",
       " 'id_30_fe2',\n",
       " 'id_31_fe2',\n",
       " 'id_32_fe2',\n",
       " 'id_33_fe2',\n",
       " 'id_34_fe2',\n",
       " 'id_35_fe2',\n",
       " 'id_36_fe2',\n",
       " 'id_37_fe2',\n",
       " 'id_38_fe2',\n",
       " 'date_fe2',\n",
       " 'R_emaildomain_0_fe2',\n",
       " 'proc_id_31_0_fe2',\n",
       " 'P_emaildomain_0_fe2',\n",
       " 'proc_id_30_0_fe2',\n",
       " 'P_emaildomain_1_fe2',\n",
       " 'R_emaildomain_1_fe2',\n",
       " 'proc_id_30_1_fe2',\n",
       " 'card_fe2',\n",
       " 'device_name_fe2',\n",
       " 'device_version_fe2',\n",
       " 'addr',\n",
       " 'M_0',\n",
       " 'M_1',\n",
       " 'M_2',\n",
       " 'M_3',\n",
       " 'M_4',\n",
       " 'M_5',\n",
       " 'M_6',\n",
       " 'M_7',\n",
       " 'M_8',\n",
       " 'M_9',\n",
       " 'M_10',\n",
       " 'email_0',\n",
       " 'email_1',\n",
       " 'email_2',\n",
       " 'email_3',\n",
       " 'email_4',\n",
       " 'email_5',\n",
       " 'email_6',\n",
       " 'email_7',\n",
       " 'email_8',\n",
       " 'email_9',\n",
       " 'email_10',\n",
       " 'N1',\n",
       " 'N2',\n",
       " 'N3',\n",
       " 'N4',\n",
       " 'N5',\n",
       " 'N6',\n",
       " 'R1',\n",
       " 'R1_2',\n",
       " 'R1_3',\n",
       " 'R1_4',\n",
       " 'R1_5',\n",
       " 'R2',\n",
       " 'R3',\n",
       " 'R4',\n",
       " 'R5',\n",
       " 'R6',\n",
       " 'R8',\n",
       " 'R9',\n",
       " 'R10',\n",
       " 'R11',\n",
       " 'R12',\n",
       " 'R13',\n",
       " 'R14',\n",
       " 'R15',\n",
       " 'R16',\n",
       " 'R17',\n",
       " 'R18',\n",
       " 'R19',\n",
       " 'R20',\n",
       " 'R21',\n",
       " 'R22',\n",
       " 'R23',\n",
       " 'R24',\n",
       " 'R25',\n",
       " 'R26',\n",
       " 'R27',\n",
       " 'R28',\n",
       " 'R29',\n",
       " 'R30',\n",
       " 'R32',\n",
       " 'R33',\n",
       " 'R34',\n",
       " 'R35',\n",
       " 'R36',\n",
       " 'R37',\n",
       " 'R38',\n",
       " 'R39',\n",
       " 'R40',\n",
       " 'R41',\n",
       " 'R42',\n",
       " 'R43',\n",
       " 'R44',\n",
       " 'R45',\n",
       " 'R46',\n",
       " 'R47',\n",
       " 'R48',\n",
       " 'R49',\n",
       " 'R50',\n",
       " 'R51',\n",
       " 'R52',\n",
       " 'R53',\n",
       " 'R54',\n",
       " 'R55',\n",
       " 'R56',\n",
       " 'R57',\n",
       " 'R58',\n",
       " 'R59',\n",
       " 'R60',\n",
       " 'R61',\n",
       " 'R62',\n",
       " 'R63',\n",
       " 'R64',\n",
       " 'R65',\n",
       " 'R66',\n",
       " 'R67',\n",
       " 'R68',\n",
       " 'R69',\n",
       " 'R70',\n",
       " 'R71',\n",
       " 'R72',\n",
       " 'R73']"
      ]
     },
     "execution_count": 41,
     "metadata": {},
     "output_type": "execute_result"
    }
   ],
   "source": [
    "list(train.columns)"
   ]
  },
  {
   "cell_type": "code",
   "execution_count": 42,
   "metadata": {},
   "outputs": [],
   "source": [
    "dc = ['C1','C10','C11','C12','C13','C14','C2','C3','C4','C5','C6','C7',\n",
    "      'C8','C9','D1','D10','D11','D12','D13','D14','D15','D2','D3','D4','D5','D6','D7','D8',]"
   ]
  },
  {
   "cell_type": "code",
   "execution_count": 43,
   "metadata": {},
   "outputs": [],
   "source": [
    "drop_cols = ['date',\n",
    " 'day','isFraud',\n",
    " 'month',\n",
    " 'year','date_fe1','date_fe2','TransactionDT'] + dc"
   ]
  },
  {
   "cell_type": "code",
   "execution_count": 44,
   "metadata": {},
   "outputs": [],
   "source": [
    "X_cols = [x for x in train.columns if x not in drop_cols]"
   ]
  },
  {
   "cell_type": "code",
   "execution_count": 22,
   "metadata": {},
   "outputs": [],
   "source": [
    "# X_cols = [x for x in X_cols if x not in ['day']+id_cols]"
   ]
  },
  {
   "cell_type": "code",
   "execution_count": 23,
   "metadata": {
    "scrolled": true
   },
   "outputs": [],
   "source": [
    "# X_cols = [x for x in X_cols if x not in ['P_emaildomain_0', 'device_version_fe1', 'N17', 'N9', 'R_emaildomain_0', 'device_name_fe1', 'N7', 'R_emaildomain_1', 'N22', 'N10', 'N12', 'R_emaildomain_0_fe1', 'P_emaildomain_0_fe1', 'proc_id_30_0_fe1', 'N13', 'R_emaildomain_1_fe1', 'R_emaildomain_1_fe2', 'P_emaildomain_0_fe2', 'N21', 'proc_id_30_1_fe1', 'proc_id_31_0_fe1', 'proc_id_31_0_fe2', 'device_name', 'device_version']]"
   ]
  },
  {
   "cell_type": "code",
   "execution_count": 45,
   "metadata": {},
   "outputs": [],
   "source": [
    "X = train[X_cols]#.fillna(imp_dict)\n",
    "y = train.isFraud"
   ]
  },
  {
   "cell_type": "code",
   "execution_count": 46,
   "metadata": {},
   "outputs": [],
   "source": [
    "X_test = test[X_cols]\n",
    "y_test = test.isFraud"
   ]
  },
  {
   "cell_type": "code",
   "execution_count": 47,
   "metadata": {},
   "outputs": [
    {
     "data": {
      "text/plain": [
       "1933"
      ]
     },
     "execution_count": 47,
     "metadata": {},
     "output_type": "execute_result"
    }
   ],
   "source": [
    "gc.collect()"
   ]
  },
  {
   "cell_type": "markdown",
   "metadata": {},
   "source": [
    "### Model"
   ]
  },
  {
   "cell_type": "code",
   "execution_count": 48,
   "metadata": {},
   "outputs": [],
   "source": [
    "logging.warning(\"Used columns: {}\".format(X_cols))\n",
    "k = 6\n",
    "logging.warning(\"Folds number: {}\".format(k))"
   ]
  },
  {
   "cell_type": "code",
   "execution_count": 49,
   "metadata": {},
   "outputs": [],
   "source": [
    "group_kfold = GroupKFold(n_splits=k)"
   ]
  },
  {
   "cell_type": "code",
   "execution_count": 50,
   "metadata": {},
   "outputs": [],
   "source": [
    "train_ids = X.index\n",
    "skf = StratifiedKFold(n_splits=k, shuffle=True, random_state=42)"
   ]
  },
  {
   "cell_type": "code",
   "execution_count": 33,
   "metadata": {},
   "outputs": [],
   "source": [
    "tscv = TimeSeriesSplit(n_splits=k)"
   ]
  },
  {
   "cell_type": "markdown",
   "metadata": {},
   "source": [
    "#### LightGBM"
   ]
  },
  {
   "cell_type": "code",
   "execution_count": 69,
   "metadata": {},
   "outputs": [],
   "source": [
    "params = {\n",
    "    'num_leaves': 256,\n",
    "    'max_depth': 15,\n",
    "    'max_leaf_nodes': 45,\n",
    "    'min_sample_leaf': 20,\n",
    "    'metric': ['AUC'],\n",
    "    'first_metric_only': True,\n",
    "    'n_estimators': 50000,\n",
    "    'num_threads': 56,\n",
    "    'learning_rate': 0.01,\n",
    "    'colsample_bytree': 0.4,\n",
    "    'objective': 'xentropy',\n",
    "#     'n_jobs': -1,\n",
    "    'bagging_fraction': 0.7,\n",
    "    'bagging_freq': 5,\n",
    "    'importance_type': 'gain',\n",
    "#     'lambda_l1': 0.05,\n",
    "#     'lambda_l2': 0.05,\n",
    "    'bagging_seed': 42,\n",
    "    'random_state':42,\n",
    "    'seed': 42,\n",
    "    'feature_fraction_seed': 42,\n",
    "    'drop_seed': 42,\n",
    "    'data_random_seed': 42,\n",
    "}"
   ]
  },
  {
   "cell_type": "markdown",
   "metadata": {},
   "source": [
    "### Best max_depth"
   ]
  },
  {
   "cell_type": "code",
   "execution_count": 165,
   "metadata": {},
   "outputs": [],
   "source": [
    "# logging.warning(\"Searching best max_depth\")\n",
    "\n",
    "# for train_index, test_index in group_kfold.split(X, y, groups):\n",
    "#     X_fit, X_val = X.iloc[train_index, :], X.iloc[test_index, :]\n",
    "#     y_fit, y_val = y.iloc[train_index], y.iloc[test_index]\n",
    "\n",
    "# scores_dict = dict()\n",
    "# for i in range(5, 20):\n",
    "#     print('Max depth = {}'.format(i))\n",
    "#     logging.warning('Max depth = {}'.format(i))\n",
    "#     params['max_depth'] = i\n",
    "#     lgb_model = lgb.LGBMClassifier(**params)\n",
    "#     lgb_model.fit(X_fit,\n",
    "#                   y_fit,\n",
    "#                   eval_set=[(X_val, y_val), (X_fit, y_fit)],\n",
    "#                   verbose=100,\n",
    "#                   early_stopping_rounds=40)\n",
    "#     scores_dict[i] = lgb_model.best_score_['valid_0']['auc']\n",
    "\n",
    "# b = pd.DataFrame({'Depth': [x for x in scores_dict.keys()], 'AUC': [x for x in scores_dict.values()]})\n",
    "# md = b[b.AUC == b.AUC.max()].Depth\n",
    "# md.values[0]\n",
    "\n",
    "# params['max_depth'] = md.values[0]"
   ]
  },
  {
   "cell_type": "code",
   "execution_count": null,
   "metadata": {},
   "outputs": [],
   "source": []
  },
  {
   "cell_type": "code",
   "execution_count": 23,
   "metadata": {},
   "outputs": [],
   "source": [
    "# lgb_model = lgb.LGBMClassifier(**params)"
   ]
  },
  {
   "cell_type": "code",
   "execution_count": 24,
   "metadata": {},
   "outputs": [],
   "source": [
    "# logging.warning(\"Params: {}\".format(str(lgb_model.get_params())))"
   ]
  },
  {
   "cell_type": "code",
   "execution_count": 34,
   "metadata": {},
   "outputs": [],
   "source": [
    "groups_test = test.groupby(group_cols).grouper.group_info[0]"
   ]
  },
  {
   "cell_type": "code",
   "execution_count": 70,
   "metadata": {},
   "outputs": [],
   "source": [
    "fold_strategy_skf = skf.split(train_ids, y)\n",
    "fold_strategy_gkf = group_kfold.split(X, y, train.month)\n",
    "fold_strategy_tss = tscv.split(X=X, y=y)\n",
    "\n",
    "# fold_strategy_test = group_kfold.split(X_test, y_test, groups_test)"
   ]
  },
  {
   "cell_type": "code",
   "execution_count": 71,
   "metadata": {},
   "outputs": [],
   "source": [
    "scaler = MinMaxScaler()"
   ]
  },
  {
   "cell_type": "code",
   "execution_count": 72,
   "metadata": {},
   "outputs": [
    {
     "data": {
      "text/plain": [
       "8"
      ]
     },
     "execution_count": 72,
     "metadata": {},
     "output_type": "execute_result"
    }
   ],
   "source": [
    "gc.collect()"
   ]
  },
  {
   "cell_type": "code",
   "execution_count": 73,
   "metadata": {},
   "outputs": [],
   "source": [
    "def make_predictions(fold_strategy):\n",
    "    lgb_model = lgb.LGBMClassifier(**params)\n",
    "    logging.warning(\"Params: {}\".format(str(lgb_model.get_params())))\n",
    "    counter = 1\n",
    "    auc_score = 0\n",
    "    iterat = 0\n",
    "    list_iter = list()\n",
    "    y_preds = np.zeros(X_test.shape[0])\n",
    "    importances = np.zeros(X_test.shape[1])\n",
    "\n",
    "    for train_index, test_index in fold_strategy:\n",
    "        print('Fold {}'.format(counter))\n",
    "        logging.warning(\"Training fold {}\".format(counter))\n",
    "\n",
    "        X_fit, X_val = X.iloc[train_index, :], X.iloc[test_index, :]\n",
    "        y_fit, y_val = y.iloc[train_index], y.iloc[test_index]\n",
    "\n",
    "        lgb_model.fit(X_fit,\n",
    "                      y_fit,\n",
    "    #                   eval_set=[(X_val, y_val), (X_fit, y_fit)],\n",
    "                      eval_set=[(X_val, y_val)],\n",
    "                      verbose=200,\n",
    "                      early_stopping_rounds=40)\n",
    "\n",
    "        logging.warning(\"Best AUC in this fold: {}\".format(lgb_model.best_score_['valid_0']['auc']))\n",
    "        logging.warning(\"Best iteration in this fold: {}\".format(lgb_model.best_iteration_))\n",
    "        auc_score += lgb_model.best_score_['valid_0']['auc']\n",
    "        it = lgb_model.best_iteration_\n",
    "        iterat += it\n",
    "        list_iter.append(it)\n",
    "        importances += lgb_model.feature_importances_/k\n",
    "        predictions = lgb_model.predict_proba(X_test)[:,1]\n",
    "        predictions = np.array([x[0] for x in scaler.fit_transform(predictions.reshape(-1, 1))])\n",
    "        \n",
    "#         print(predictions)\n",
    "        y_preds += predictions/k\n",
    "\n",
    "\n",
    "        del X_fit\n",
    "        del X_val\n",
    "        del y_fit\n",
    "        del y_val\n",
    "        del train_index\n",
    "        del test_index\n",
    "        gc.collect()\n",
    "\n",
    "        counter += 1\n",
    "\n",
    "\n",
    "    mean_auc_score = auc_score/k\n",
    "    mean_iterat = iterat/k\n",
    "\n",
    "    logging.warning(\"Mean AUC in {0} folds: {1}\".format(k, mean_auc_score))\n",
    "    logging.warning(\"Mean iterations in {0} folds: {1}\".format(k, mean_iterat))\n",
    "    \n",
    "    return y_preds, importances, mean_auc_score"
   ]
  },
  {
   "cell_type": "code",
   "execution_count": 74,
   "metadata": {
    "scrolled": false
   },
   "outputs": [
    {
     "name": "stdout",
     "output_type": "stream",
     "text": [
      "Training with GoupKFold\n",
      "Fold 1\n",
      "Training until validation scores don't improve for 40 rounds.\n",
      "[200]\tvalid_0's auc: 0.8701\n",
      "[400]\tvalid_0's auc: 0.885559\n",
      "[600]\tvalid_0's auc: 0.892581\n",
      "[800]\tvalid_0's auc: 0.896389\n",
      "Early stopping, best iteration is:\n",
      "[872]\tvalid_0's auc: 0.897206\n",
      "[0.00087507 0.00353417 0.0025086  ... 0.01253055 0.00619199 0.01038899]\n",
      "Fold 2\n",
      "Training until validation scores don't improve for 40 rounds.\n",
      "[200]\tvalid_0's auc: 0.908271\n",
      "[400]\tvalid_0's auc: 0.92227\n",
      "[600]\tvalid_0's auc: 0.927592\n",
      "[800]\tvalid_0's auc: 0.929768\n",
      "[1000]\tvalid_0's auc: 0.930809\n",
      "Early stopping, best iteration is:\n",
      "[1081]\tvalid_0's auc: 0.931205\n",
      "[0.00111093 0.00286055 0.00136045 ... 0.00825078 0.00632955 0.00735698]\n",
      "Fold 3\n",
      "Training until validation scores don't improve for 40 rounds.\n",
      "[200]\tvalid_0's auc: 0.903683\n",
      "[400]\tvalid_0's auc: 0.918269\n",
      "[600]\tvalid_0's auc: 0.925454\n",
      "[800]\tvalid_0's auc: 0.928642\n",
      "[1000]\tvalid_0's auc: 0.92991\n",
      "Early stopping, best iteration is:\n",
      "[1148]\tvalid_0's auc: 0.930708\n",
      "[0.00067399 0.00333065 0.00120156 ... 0.00543371 0.00591103 0.0062828 ]\n",
      "Fold 4\n",
      "Training until validation scores don't improve for 40 rounds.\n",
      "[200]\tvalid_0's auc: 0.901966\n",
      "[400]\tvalid_0's auc: 0.917862\n",
      "[600]\tvalid_0's auc: 0.923963\n",
      "[800]\tvalid_0's auc: 0.926967\n",
      "[1000]\tvalid_0's auc: 0.92871\n",
      "Early stopping, best iteration is:\n",
      "[998]\tvalid_0's auc: 0.928737\n",
      "[0.00090305 0.00404481 0.00143963 ... 0.00663846 0.00756729 0.00515981]\n",
      "Fold 5\n",
      "Training until validation scores don't improve for 40 rounds.\n",
      "[200]\tvalid_0's auc: 0.920985\n",
      "[400]\tvalid_0's auc: 0.934427\n",
      "[600]\tvalid_0's auc: 0.938369\n",
      "[800]\tvalid_0's auc: 0.940727\n",
      "[1000]\tvalid_0's auc: 0.941484\n",
      "Early stopping, best iteration is:\n",
      "[965]\tvalid_0's auc: 0.941577\n",
      "[0.00146518 0.0031857  0.00360479 ... 0.00610665 0.00632425 0.00466134]\n",
      "Fold 6\n",
      "Training until validation scores don't improve for 40 rounds.\n",
      "[200]\tvalid_0's auc: 0.909707\n",
      "[400]\tvalid_0's auc: 0.927872\n",
      "[600]\tvalid_0's auc: 0.936601\n",
      "[800]\tvalid_0's auc: 0.940196\n",
      "[1000]\tvalid_0's auc: 0.942277\n",
      "[1200]\tvalid_0's auc: 0.943683\n",
      "[1400]\tvalid_0's auc: 0.944258\n",
      "[1600]\tvalid_0's auc: 0.944818\n",
      "[1800]\tvalid_0's auc: 0.945184\n",
      "Early stopping, best iteration is:\n",
      "[1836]\tvalid_0's auc: 0.945399\n",
      "[0.00043972 0.00139425 0.00083337 ... 0.00481792 0.00236587 0.00266292]\n"
     ]
    }
   ],
   "source": [
    "print('Training with GoupKFold')\n",
    "y_preds_gkf, importances_gkf, mean_auc_score_gkf = make_predictions(fold_strategy_gkf)\n",
    "# print('')\n",
    "# print('Training with TimeSeriesSplit')\n",
    "# y_preds_tss, importances_tss, mean_auc_score_tss = make_predictions(fold_strategy_tss)"
   ]
  },
  {
   "cell_type": "code",
   "execution_count": 75,
   "metadata": {},
   "outputs": [
    {
     "data": {
      "text/plain": [
       "array([0.00129607, 0.70607657, 0.00683997, 0.00655756, 0.00107914])"
      ]
     },
     "execution_count": 75,
     "metadata": {},
     "output_type": "execute_result"
    }
   ],
   "source": [
    "y_preds_gkf[230:235]"
   ]
  },
  {
   "cell_type": "code",
   "execution_count": 77,
   "metadata": {},
   "outputs": [
    {
     "data": {
      "text/html": [
       "<div>\n",
       "<style scoped>\n",
       "    .dataframe tbody tr th:only-of-type {\n",
       "        vertical-align: middle;\n",
       "    }\n",
       "\n",
       "    .dataframe tbody tr th {\n",
       "        vertical-align: top;\n",
       "    }\n",
       "\n",
       "    .dataframe thead th {\n",
       "        text-align: right;\n",
       "    }\n",
       "</style>\n",
       "<table border=\"1\" class=\"dataframe\">\n",
       "  <thead>\n",
       "    <tr style=\"text-align: right;\">\n",
       "      <th></th>\n",
       "      <th>feature</th>\n",
       "      <th>importance</th>\n",
       "    </tr>\n",
       "  </thead>\n",
       "  <tbody>\n",
       "    <tr>\n",
       "      <td>613</td>\n",
       "      <td>R1</td>\n",
       "      <td>377514.795445</td>\n",
       "    </tr>\n",
       "    <tr>\n",
       "      <td>194</td>\n",
       "      <td>V258</td>\n",
       "      <td>212999.745830</td>\n",
       "    </tr>\n",
       "    <tr>\n",
       "      <td>193</td>\n",
       "      <td>V257</td>\n",
       "      <td>93634.979090</td>\n",
       "    </tr>\n",
       "    <tr>\n",
       "      <td>609</td>\n",
       "      <td>N3</td>\n",
       "      <td>78360.733913</td>\n",
       "    </tr>\n",
       "    <tr>\n",
       "      <td>234</td>\n",
       "      <td>V294</td>\n",
       "      <td>71469.572079</td>\n",
       "    </tr>\n",
       "    <tr>\n",
       "      <td>644</td>\n",
       "      <td>R29</td>\n",
       "      <td>66807.979053</td>\n",
       "    </tr>\n",
       "    <tr>\n",
       "      <td>620</td>\n",
       "      <td>R4</td>\n",
       "      <td>65705.002270</td>\n",
       "    </tr>\n",
       "    <tr>\n",
       "      <td>16</td>\n",
       "      <td>TransactionAmt</td>\n",
       "      <td>57894.502839</td>\n",
       "    </tr>\n",
       "    <tr>\n",
       "      <td>132</td>\n",
       "      <td>V201</td>\n",
       "      <td>56233.524995</td>\n",
       "    </tr>\n",
       "    <tr>\n",
       "      <td>664</td>\n",
       "      <td>R50</td>\n",
       "      <td>51395.703869</td>\n",
       "    </tr>\n",
       "  </tbody>\n",
       "</table>\n",
       "</div>"
      ],
      "text/plain": [
       "            feature     importance\n",
       "613              R1  377514.795445\n",
       "194            V258  212999.745830\n",
       "193            V257   93634.979090\n",
       "609              N3   78360.733913\n",
       "234            V294   71469.572079\n",
       "644             R29   66807.979053\n",
       "620              R4   65705.002270\n",
       "16   TransactionAmt   57894.502839\n",
       "132            V201   56233.524995\n",
       "664             R50   51395.703869"
      ]
     },
     "execution_count": 77,
     "metadata": {},
     "output_type": "execute_result"
    }
   ],
   "source": [
    "df_importance = pd.DataFrame({'feature': X.columns, 'importance': importances_gkf})\\\n",
    ".sort_values('importance', ascending = False)\n",
    "df_importance.head(10)"
   ]
  },
  {
   "cell_type": "code",
   "execution_count": 52,
   "metadata": {},
   "outputs": [],
   "source": [
    "y_preds_final = (y_preds_gkf + y_preds_tss) / 2"
   ]
  },
  {
   "cell_type": "code",
   "execution_count": 79,
   "metadata": {},
   "outputs": [],
   "source": [
    "df_sub = pd.read_csv(data_folder+'/sample_submission.csv')"
   ]
  },
  {
   "cell_type": "code",
   "execution_count": 80,
   "metadata": {},
   "outputs": [],
   "source": [
    "df_sub['isFraud'] = y_preds_gkf"
   ]
  },
  {
   "cell_type": "code",
   "execution_count": 81,
   "metadata": {},
   "outputs": [
    {
     "data": {
      "text/html": [
       "<div>\n",
       "<style scoped>\n",
       "    .dataframe tbody tr th:only-of-type {\n",
       "        vertical-align: middle;\n",
       "    }\n",
       "\n",
       "    .dataframe tbody tr th {\n",
       "        vertical-align: top;\n",
       "    }\n",
       "\n",
       "    .dataframe thead th {\n",
       "        text-align: right;\n",
       "    }\n",
       "</style>\n",
       "<table border=\"1\" class=\"dataframe\">\n",
       "  <thead>\n",
       "    <tr style=\"text-align: right;\">\n",
       "      <th></th>\n",
       "      <th>TransactionID</th>\n",
       "      <th>isFraud</th>\n",
       "    </tr>\n",
       "  </thead>\n",
       "  <tbody>\n",
       "    <tr>\n",
       "      <td>0</td>\n",
       "      <td>3663549</td>\n",
       "      <td>0.000911</td>\n",
       "    </tr>\n",
       "    <tr>\n",
       "      <td>1</td>\n",
       "      <td>3663550</td>\n",
       "      <td>0.003058</td>\n",
       "    </tr>\n",
       "    <tr>\n",
       "      <td>2</td>\n",
       "      <td>3663551</td>\n",
       "      <td>0.001825</td>\n",
       "    </tr>\n",
       "    <tr>\n",
       "      <td>3</td>\n",
       "      <td>3663552</td>\n",
       "      <td>0.003406</td>\n",
       "    </tr>\n",
       "    <tr>\n",
       "      <td>4</td>\n",
       "      <td>3663553</td>\n",
       "      <td>0.003128</td>\n",
       "    </tr>\n",
       "  </tbody>\n",
       "</table>\n",
       "</div>"
      ],
      "text/plain": [
       "   TransactionID   isFraud\n",
       "0        3663549  0.000911\n",
       "1        3663550  0.003058\n",
       "2        3663551  0.001825\n",
       "3        3663552  0.003406\n",
       "4        3663553  0.003128"
      ]
     },
     "execution_count": 81,
     "metadata": {},
     "output_type": "execute_result"
    }
   ],
   "source": [
    "df_sub.head()"
   ]
  },
  {
   "cell_type": "code",
   "execution_count": 82,
   "metadata": {},
   "outputs": [],
   "source": [
    "today = datetime.date.today()\n",
    "D = today.strftime('%Y%m%d')"
   ]
  },
  {
   "cell_type": "code",
   "execution_count": 83,
   "metadata": {},
   "outputs": [],
   "source": [
    "submission_name = '{0}_LightGBM_{1}'.format(D, round(mean_auc_score_gkf, 6))"
   ]
  },
  {
   "cell_type": "code",
   "execution_count": 84,
   "metadata": {},
   "outputs": [
    {
     "data": {
      "text/plain": [
       "'20190910_LightGBM_0.929139'"
      ]
     },
     "execution_count": 84,
     "metadata": {},
     "output_type": "execute_result"
    }
   ],
   "source": [
    "submission_name"
   ]
  },
  {
   "cell_type": "code",
   "execution_count": 85,
   "metadata": {},
   "outputs": [],
   "source": [
    "logging.warning(\"Submission name: {}\".format(submission_name))"
   ]
  },
  {
   "cell_type": "code",
   "execution_count": 86,
   "metadata": {},
   "outputs": [],
   "source": [
    "df_sub.to_csv('submissions/{}.csv'.format(submission_name), sep=',', header=True, index=None)"
   ]
  },
  {
   "cell_type": "code",
   "execution_count": 87,
   "metadata": {},
   "outputs": [],
   "source": [
    "df_importance.to_csv('docs/ft_importances_{}.csv'.format(D), index=None, header=True)"
   ]
  },
  {
   "cell_type": "code",
   "execution_count": 88,
   "metadata": {},
   "outputs": [],
   "source": [
    "logging.warning(\"End\")"
   ]
  },
  {
   "cell_type": "code",
   "execution_count": null,
   "metadata": {},
   "outputs": [],
   "source": []
  },
  {
   "cell_type": "code",
   "execution_count": null,
   "metadata": {},
   "outputs": [],
   "source": []
  },
  {
   "cell_type": "code",
   "execution_count": 29,
   "metadata": {
    "scrolled": false
   },
   "outputs": [
    {
     "name": "stdout",
     "output_type": "stream",
     "text": [
      "Fold 1\n",
      "Training until validation scores don't improve for 40 rounds.\n",
      "[200]\tvalid_0's auc: 0.952958\n",
      "[400]\tvalid_0's auc: 0.958528\n",
      "Early stopping, best iteration is:\n",
      "[530]\tvalid_0's auc: 0.959233\n",
      "Fold 2\n",
      "Training until validation scores don't improve for 40 rounds.\n",
      "[200]\tvalid_0's auc: 0.947061\n",
      "[400]\tvalid_0's auc: 0.952863\n",
      "[600]\tvalid_0's auc: 0.953964\n",
      "Early stopping, best iteration is:\n",
      "[637]\tvalid_0's auc: 0.954343\n",
      "Fold 3\n",
      "Training until validation scores don't improve for 40 rounds.\n",
      "[200]\tvalid_0's auc: 0.954049\n",
      "[400]\tvalid_0's auc: 0.958746\n",
      "[600]\tvalid_0's auc: 0.959474\n",
      "Early stopping, best iteration is:\n",
      "[578]\tvalid_0's auc: 0.959689\n",
      "Fold 4\n",
      "Training until validation scores don't improve for 40 rounds.\n",
      "[200]\tvalid_0's auc: 0.951073\n",
      "[400]\tvalid_0's auc: 0.955019\n",
      "[600]\tvalid_0's auc: 0.956798\n",
      "Early stopping, best iteration is:\n",
      "[604]\tvalid_0's auc: 0.956889\n",
      "Fold 5\n",
      "Training until validation scores don't improve for 40 rounds.\n",
      "[200]\tvalid_0's auc: 0.948491\n",
      "[400]\tvalid_0's auc: 0.953397\n",
      "[600]\tvalid_0's auc: 0.95452\n",
      "Early stopping, best iteration is:\n",
      "[671]\tvalid_0's auc: 0.955083\n",
      "Fold 6\n",
      "Training until validation scores don't improve for 40 rounds.\n",
      "[200]\tvalid_0's auc: 0.950828\n",
      "[400]\tvalid_0's auc: 0.955203\n",
      "[600]\tvalid_0's auc: 0.956776\n",
      "Early stopping, best iteration is:\n",
      "[564]\tvalid_0's auc: 0.956891\n",
      "Fold 7\n",
      "Training until validation scores don't improve for 40 rounds.\n",
      "[200]\tvalid_0's auc: 0.957415\n",
      "[400]\tvalid_0's auc: 0.961953\n",
      "[600]\tvalid_0's auc: 0.963541\n",
      "Early stopping, best iteration is:\n",
      "[652]\tvalid_0's auc: 0.963997\n"
     ]
    }
   ],
   "source": [
    "counter = 1\n",
    "auc_score = 0\n",
    "iterat = 0\n",
    "list_iter = list()\n",
    "y_preds = np.zeros(X_test.shape[0])\n",
    "importances = np.zeros(X_test.shape[1])\n",
    "\n",
    "for train_index, test_index in fold_strategy:\n",
    "    print('Fold {}'.format(counter))\n",
    "    logging.warning(\"Training fold {}\".format(counter))\n",
    "\n",
    "    X_fit, X_val = X.iloc[train_index, :], X.iloc[test_index, :]\n",
    "    y_fit, y_val = y.iloc[train_index], y.iloc[test_index]\n",
    "\n",
    "    lgb_model.fit(X_fit,\n",
    "                  y_fit,\n",
    "#                   eval_set=[(X_val, y_val), (X_fit, y_fit)],\n",
    "                  eval_set=[(X_val, y_val)],\n",
    "                  verbose=200,\n",
    "                  early_stopping_rounds=40)\n",
    "    \n",
    "    logging.warning(\"Best AUC in this fold: {}\".format(lgb_model.best_score_['valid_0']['auc']))\n",
    "    logging.warning(\"Best iteration in this fold: {}\".format(lgb_model.best_iteration_))\n",
    "    auc_score += lgb_model.best_score_['valid_0']['auc']\n",
    "#     lgb_model.predict_proba(test[X.columns])\n",
    "#     preds = lgb_model.predict_proba(X_test[X.columns])[:,1]\n",
    "#     preds = lgb_model.predict_proba(X_fit_test[X.columns])[:,1]\n",
    "#     print('AUC test score: {}\\n'.format(roc_auc_score(y_fit_test, preds)))\n",
    "#     print('AUC 20% test score: {}'.format(roc_auc_score(y_test[:int(len(y_test)*0.2)],\n",
    "#                                                         preds[:int(len(y_test)*0.2)])))\n",
    "#     print('AUC 80% test score: {}'.format(roc_auc_score(y_test[int(len(y_test)*0.2):],\n",
    "#                                                         preds[int(len(y_test)*0.2):])))\n",
    "    it = lgb_model.best_iteration_\n",
    "    iterat += it\n",
    "    list_iter.append(it)\n",
    "    importances += lgb_model.feature_importances_/k\n",
    "    y_preds += lgb_model.predict_proba(X_test)[:,1]/k\n",
    "\n",
    "\n",
    "    del X_fit\n",
    "    del X_val\n",
    "    del y_fit\n",
    "    del y_val\n",
    "    del train_index\n",
    "    del test_index\n",
    "    gc.collect()\n",
    "    \n",
    "    counter += 1\n",
    "\n",
    "    \n",
    "mean_auc_score = auc_score/k\n",
    "mean_iterat = iterat/k\n",
    "\n",
    "logging.warning(\"Mean AUC in {0} folds: {1}\".format(k, mean_auc_score))\n",
    "logging.warning(\"Mean iterations in {0} folds: {1}\".format(k, mean_iterat))"
   ]
  },
  {
   "cell_type": "code",
   "execution_count": 31,
   "metadata": {
    "scrolled": true
   },
   "outputs": [
    {
     "data": {
      "text/html": [
       "<div>\n",
       "<style scoped>\n",
       "    .dataframe tbody tr th:only-of-type {\n",
       "        vertical-align: middle;\n",
       "    }\n",
       "\n",
       "    .dataframe tbody tr th {\n",
       "        vertical-align: top;\n",
       "    }\n",
       "\n",
       "    .dataframe thead th {\n",
       "        text-align: right;\n",
       "    }\n",
       "</style>\n",
       "<table border=\"1\" class=\"dataframe\">\n",
       "  <thead>\n",
       "    <tr style=\"text-align: right;\">\n",
       "      <th></th>\n",
       "      <th>feature</th>\n",
       "      <th>importance</th>\n",
       "    </tr>\n",
       "  </thead>\n",
       "  <tbody>\n",
       "    <tr>\n",
       "      <td>0</td>\n",
       "      <td>R1</td>\n",
       "      <td>91065.925002</td>\n",
       "    </tr>\n",
       "    <tr>\n",
       "      <td>1</td>\n",
       "      <td>V257</td>\n",
       "      <td>50031.108368</td>\n",
       "    </tr>\n",
       "    <tr>\n",
       "      <td>2</td>\n",
       "      <td>N3</td>\n",
       "      <td>26082.882709</td>\n",
       "    </tr>\n",
       "    <tr>\n",
       "      <td>3</td>\n",
       "      <td>R12</td>\n",
       "      <td>24254.089073</td>\n",
       "    </tr>\n",
       "    <tr>\n",
       "      <td>4</td>\n",
       "      <td>R4</td>\n",
       "      <td>20582.440879</td>\n",
       "    </tr>\n",
       "    <tr>\n",
       "      <td>5</td>\n",
       "      <td>N6</td>\n",
       "      <td>20300.030602</td>\n",
       "    </tr>\n",
       "    <tr>\n",
       "      <td>6</td>\n",
       "      <td>R11</td>\n",
       "      <td>18503.751742</td>\n",
       "    </tr>\n",
       "    <tr>\n",
       "      <td>7</td>\n",
       "      <td>card2_fe1</td>\n",
       "      <td>17764.991037</td>\n",
       "    </tr>\n",
       "    <tr>\n",
       "      <td>8</td>\n",
       "      <td>TransactionAmt</td>\n",
       "      <td>17752.117065</td>\n",
       "    </tr>\n",
       "    <tr>\n",
       "      <td>9</td>\n",
       "      <td>V294</td>\n",
       "      <td>17534.175283</td>\n",
       "    </tr>\n",
       "    <tr>\n",
       "      <td>10</td>\n",
       "      <td>R7</td>\n",
       "      <td>17030.447100</td>\n",
       "    </tr>\n",
       "    <tr>\n",
       "      <td>11</td>\n",
       "      <td>N1</td>\n",
       "      <td>16827.202808</td>\n",
       "    </tr>\n",
       "    <tr>\n",
       "      <td>12</td>\n",
       "      <td>N5</td>\n",
       "      <td>15593.731761</td>\n",
       "    </tr>\n",
       "    <tr>\n",
       "      <td>13</td>\n",
       "      <td>R9</td>\n",
       "      <td>15504.610400</td>\n",
       "    </tr>\n",
       "    <tr>\n",
       "      <td>14</td>\n",
       "      <td>R28</td>\n",
       "      <td>14613.813548</td>\n",
       "    </tr>\n",
       "    <tr>\n",
       "      <td>15</td>\n",
       "      <td>R3</td>\n",
       "      <td>14444.067987</td>\n",
       "    </tr>\n",
       "    <tr>\n",
       "      <td>16</td>\n",
       "      <td>R29</td>\n",
       "      <td>14007.975708</td>\n",
       "    </tr>\n",
       "    <tr>\n",
       "      <td>17</td>\n",
       "      <td>card1_fe1</td>\n",
       "      <td>13971.570393</td>\n",
       "    </tr>\n",
       "    <tr>\n",
       "      <td>18</td>\n",
       "      <td>R8</td>\n",
       "      <td>13417.728702</td>\n",
       "    </tr>\n",
       "    <tr>\n",
       "      <td>19</td>\n",
       "      <td>R5</td>\n",
       "      <td>13373.204705</td>\n",
       "    </tr>\n",
       "  </tbody>\n",
       "</table>\n",
       "</div>"
      ],
      "text/plain": [
       "           feature    importance\n",
       "0               R1  91065.925002\n",
       "1             V257  50031.108368\n",
       "2               N3  26082.882709\n",
       "3              R12  24254.089073\n",
       "4               R4  20582.440879\n",
       "5               N6  20300.030602\n",
       "6              R11  18503.751742\n",
       "7        card2_fe1  17764.991037\n",
       "8   TransactionAmt  17752.117065\n",
       "9             V294  17534.175283\n",
       "10              R7  17030.447100\n",
       "11              N1  16827.202808\n",
       "12              N5  15593.731761\n",
       "13              R9  15504.610400\n",
       "14             R28  14613.813548\n",
       "15              R3  14444.067987\n",
       "16             R29  14007.975708\n",
       "17       card1_fe1  13971.570393\n",
       "18              R8  13417.728702\n",
       "19              R5  13373.204705"
      ]
     },
     "execution_count": 31,
     "metadata": {},
     "output_type": "execute_result"
    }
   ],
   "source": [
    "df_importaces = pd.DataFrame({'feature': X.columns, 'importance': importances})\\\n",
    ".sort_values('importance', ascending=False).reset_index(drop=True)\n",
    "# df_importaces['cs'] = df_importaces.importance.cumsum()\n",
    "# # df_importaces.cs = df_importaces.cs/df_importaces.cs.max()\n",
    "# df_importaces.importance = df_importaces.importance/df_imp.cs\n",
    "df_importaces.head(20)"
   ]
  },
  {
   "cell_type": "code",
   "execution_count": 38,
   "metadata": {},
   "outputs": [],
   "source": [
    "df_sub = pd.read_csv(data_folder+'/sample_submission.csv')"
   ]
  },
  {
   "cell_type": "code",
   "execution_count": 39,
   "metadata": {},
   "outputs": [],
   "source": [
    "df_sub['isFraud'] = y_preds"
   ]
  },
  {
   "cell_type": "code",
   "execution_count": 40,
   "metadata": {},
   "outputs": [
    {
     "data": {
      "text/html": [
       "<div>\n",
       "<style scoped>\n",
       "    .dataframe tbody tr th:only-of-type {\n",
       "        vertical-align: middle;\n",
       "    }\n",
       "\n",
       "    .dataframe tbody tr th {\n",
       "        vertical-align: top;\n",
       "    }\n",
       "\n",
       "    .dataframe thead th {\n",
       "        text-align: right;\n",
       "    }\n",
       "</style>\n",
       "<table border=\"1\" class=\"dataframe\">\n",
       "  <thead>\n",
       "    <tr style=\"text-align: right;\">\n",
       "      <th></th>\n",
       "      <th>TransactionID</th>\n",
       "      <th>isFraud</th>\n",
       "    </tr>\n",
       "  </thead>\n",
       "  <tbody>\n",
       "    <tr>\n",
       "      <td>0</td>\n",
       "      <td>3663549</td>\n",
       "      <td>0.000247</td>\n",
       "    </tr>\n",
       "    <tr>\n",
       "      <td>1</td>\n",
       "      <td>3663550</td>\n",
       "      <td>0.002492</td>\n",
       "    </tr>\n",
       "    <tr>\n",
       "      <td>2</td>\n",
       "      <td>3663551</td>\n",
       "      <td>0.000582</td>\n",
       "    </tr>\n",
       "    <tr>\n",
       "      <td>3</td>\n",
       "      <td>3663552</td>\n",
       "      <td>0.000902</td>\n",
       "    </tr>\n",
       "    <tr>\n",
       "      <td>4</td>\n",
       "      <td>3663553</td>\n",
       "      <td>0.000977</td>\n",
       "    </tr>\n",
       "  </tbody>\n",
       "</table>\n",
       "</div>"
      ],
      "text/plain": [
       "   TransactionID   isFraud\n",
       "0        3663549  0.000247\n",
       "1        3663550  0.002492\n",
       "2        3663551  0.000582\n",
       "3        3663552  0.000902\n",
       "4        3663553  0.000977"
      ]
     },
     "execution_count": 40,
     "metadata": {},
     "output_type": "execute_result"
    }
   ],
   "source": [
    "df_sub.head()"
   ]
  },
  {
   "cell_type": "code",
   "execution_count": 43,
   "metadata": {},
   "outputs": [],
   "source": [
    "today = datetime.date.today()\n",
    "D = today.strftime('%Y%m%d')"
   ]
  },
  {
   "cell_type": "code",
   "execution_count": 46,
   "metadata": {},
   "outputs": [],
   "source": [
    "submission_name = '{0}_LightGBM_{1}'.format(D, round(mean_auc_score, 6))"
   ]
  },
  {
   "cell_type": "code",
   "execution_count": 47,
   "metadata": {},
   "outputs": [
    {
     "data": {
      "text/plain": [
       "'20190908_LightGBM_0.958018'"
      ]
     },
     "execution_count": 47,
     "metadata": {},
     "output_type": "execute_result"
    }
   ],
   "source": [
    "submission_name"
   ]
  },
  {
   "cell_type": "code",
   "execution_count": 48,
   "metadata": {},
   "outputs": [],
   "source": [
    "logging.warning(\"Submission name: {}\".format(submission_name))"
   ]
  },
  {
   "cell_type": "code",
   "execution_count": 49,
   "metadata": {},
   "outputs": [],
   "source": [
    "df_sub.to_csv('submissions/{}.csv'.format(submission_name), sep=',', header=True, index=None)"
   ]
  },
  {
   "cell_type": "code",
   "execution_count": 50,
   "metadata": {},
   "outputs": [],
   "source": [
    "logging.warning(\"End\")"
   ]
  },
  {
   "cell_type": "code",
   "execution_count": null,
   "metadata": {},
   "outputs": [],
   "source": []
  },
  {
   "cell_type": "code",
   "execution_count": null,
   "metadata": {},
   "outputs": [],
   "source": []
  },
  {
   "cell_type": "code",
   "execution_count": 83,
   "metadata": {},
   "outputs": [],
   "source": [
    "new_groups = new_X.groupby(group_cols).grouper.group_info[0]"
   ]
  },
  {
   "cell_type": "code",
   "execution_count": 84,
   "metadata": {
    "scrolled": false
   },
   "outputs": [
    {
     "name": "stdout",
     "output_type": "stream",
     "text": [
      "Fold 1\n",
      "\n",
      "Training until validation scores don't improve for 100 rounds.\n",
      "[100]\ttraining's auc: 0.895268\tvalid_0's auc: 0.880426\n",
      "[200]\ttraining's auc: 0.930704\tvalid_0's auc: 0.882666\n",
      "Early stopping, best iteration is:\n",
      "[173]\ttraining's auc: 0.923412\tvalid_0's auc: 0.883409\n",
      "AUC test score: 0.864554651319306\n",
      "AUC 20% test score: 0.8795648576345201\n",
      "AUC 80% test score: 0.8593868240892053\n"
     ]
    }
   ],
   "source": [
    "counter = 1\n",
    "auc_score = 0\n",
    "iterat = 0\n",
    "list_iter = list()\n",
    "# for train_index, test_index in skf.split(train_ids, y):\n",
    "for train_index, test_index in group_kfold.split(new_X, new_y, new_groups):\n",
    "# for train_index, test_index in tscv.split(X=X, y=y):\n",
    "    print('Fold {}\\n'.format(counter))\n",
    "    logging.warning(\"Training fold {}\".format(counter))\n",
    "\n",
    "    X_fit, X_val = new_X.iloc[train_index, :], new_X.iloc[test_index, :]\n",
    "    y_fit, y_val = new_y.iloc[train_index], new_y.iloc[test_index]\n",
    "\n",
    "    lgb_model.fit(X_fit,\n",
    "                  y_fit,\n",
    "                  eval_set=[(X_val, y_val), (X_fit, y_fit)],\n",
    "                  verbose=100,\n",
    "                  early_stopping_rounds=100)\n",
    "    \n",
    "    logging.warning(\"Best AUC in this fold: {}\".format(lgb_model.best_score_['valid_0']['auc']))\n",
    "    logging.warning(\"Best iteration in this fold: {}\".format(lgb_model.best_iteration_))\n",
    "    auc_score += lgb_model.best_score_['valid_0']['auc']\n",
    "    preds = lgb_model.predict_proba(X_test[X.columns])[:,1]\n",
    "    print('AUC test score: {}'.format(roc_auc_score(y_test, preds)))\n",
    "    print('AUC 20% test score: {}'.format(roc_auc_score(y_test[:int(len(y_test)*0.2)],\n",
    "                                                        preds[:int(len(y_test)*0.2)])))\n",
    "    print('AUC 80% test score: {}'.format(roc_auc_score(y_test[int(len(y_test)*0.2):],\n",
    "                                                        preds[int(len(y_test)*0.2):])))\n",
    "    it = lgb_model.best_iteration_\n",
    "    iterat += it\n",
    "    list_iter.append(it)\n",
    "\n",
    "    del X_fit\n",
    "    del X_val\n",
    "    del y_fit\n",
    "    del y_val\n",
    "    del train_index\n",
    "    del test_index\n",
    "    gc.collect()\n",
    "    \n",
    "    counter += 1\n",
    "    \n",
    "    break\n",
    "    \n",
    "mean_auc_score = auc_score/k\n",
    "mean_iterat = iterat/k\n",
    "\n",
    "logging.warning(\"Mean AUC in {0} folds: {1}\".format(k, mean_auc_score))\n",
    "logging.warning(\"Mean iterations in {0} folds: {1}\".format(k, mean_iterat))"
   ]
  },
  {
   "cell_type": "code",
   "execution_count": 38,
   "metadata": {},
   "outputs": [
    {
     "data": {
      "text/plain": [
       "2624.6"
      ]
     },
     "execution_count": 38,
     "metadata": {},
     "output_type": "execute_result"
    }
   ],
   "source": [
    "mean_iterat"
   ]
  },
  {
   "cell_type": "code",
   "execution_count": 39,
   "metadata": {},
   "outputs": [
    {
     "data": {
      "text/plain": [
       "2624"
      ]
     },
     "execution_count": 39,
     "metadata": {},
     "output_type": "execute_result"
    }
   ],
   "source": [
    "params['n_estimators'] = int(mean_iterat)\n",
    "params['n_estimators']"
   ]
  },
  {
   "cell_type": "code",
   "execution_count": 43,
   "metadata": {},
   "outputs": [
    {
     "data": {
      "text/plain": [
       "LGBMClassifier(bagging_fraction=0.7, bagging_freq=2, bagging_seed=42,\n",
       "               boosting_type='gbdt', class_weight=None, colsample_bytree=0.3,\n",
       "               data_random_seed=42, drop_seed=42, feature_fraction_seed=42,\n",
       "               first_metric_only=True, importance_type='split', lambda_l1=0,\n",
       "               lambda_l2=0, learning_rate=0.01, max_depth=-1, metric=['AUC'],\n",
       "               min_child_samples=20, min_child_weight=0.001, min_split_gain=0.0,\n",
       "               n_estimators=2624, n_jobs=-1, num_leaves=311, num_threads=64,\n",
       "               objective='xentropy', random_state=42, reg_alpha=0.0,\n",
       "               reg_lambda=0.0, seed=42, silent=True, subsample=1.0, ...)"
      ]
     },
     "execution_count": 43,
     "metadata": {},
     "output_type": "execute_result"
    }
   ],
   "source": [
    "lgb_model = lgb.LGBMClassifier(**params)\n",
    "lgb_model.fit(train[X_cols+drop_cols], train.isFraud)"
   ]
  },
  {
   "cell_type": "code",
   "execution_count": 44,
   "metadata": {},
   "outputs": [],
   "source": [
    "y_preds = lgb_model.predict_proba(test[X.columns])"
   ]
  },
  {
   "cell_type": "code",
   "execution_count": 45,
   "metadata": {},
   "outputs": [],
   "source": [
    "df_sub = pd.read_csv(data_folder+'/sample_submission.csv')"
   ]
  },
  {
   "cell_type": "code",
   "execution_count": 46,
   "metadata": {},
   "outputs": [],
   "source": [
    "df_sub['isFraud'] = y_preds[:,1]"
   ]
  },
  {
   "cell_type": "code",
   "execution_count": 47,
   "metadata": {},
   "outputs": [
    {
     "data": {
      "text/html": [
       "<div>\n",
       "<style scoped>\n",
       "    .dataframe tbody tr th:only-of-type {\n",
       "        vertical-align: middle;\n",
       "    }\n",
       "\n",
       "    .dataframe tbody tr th {\n",
       "        vertical-align: top;\n",
       "    }\n",
       "\n",
       "    .dataframe thead th {\n",
       "        text-align: right;\n",
       "    }\n",
       "</style>\n",
       "<table border=\"1\" class=\"dataframe\">\n",
       "  <thead>\n",
       "    <tr style=\"text-align: right;\">\n",
       "      <th></th>\n",
       "      <th>TransactionID</th>\n",
       "      <th>isFraud</th>\n",
       "    </tr>\n",
       "  </thead>\n",
       "  <tbody>\n",
       "    <tr>\n",
       "      <td>0</td>\n",
       "      <td>3663549</td>\n",
       "      <td>0.000113</td>\n",
       "    </tr>\n",
       "    <tr>\n",
       "      <td>1</td>\n",
       "      <td>3663550</td>\n",
       "      <td>0.000302</td>\n",
       "    </tr>\n",
       "    <tr>\n",
       "      <td>2</td>\n",
       "      <td>3663551</td>\n",
       "      <td>0.000472</td>\n",
       "    </tr>\n",
       "    <tr>\n",
       "      <td>3</td>\n",
       "      <td>3663552</td>\n",
       "      <td>0.000826</td>\n",
       "    </tr>\n",
       "    <tr>\n",
       "      <td>4</td>\n",
       "      <td>3663553</td>\n",
       "      <td>0.000374</td>\n",
       "    </tr>\n",
       "  </tbody>\n",
       "</table>\n",
       "</div>"
      ],
      "text/plain": [
       "   TransactionID   isFraud\n",
       "0        3663549  0.000113\n",
       "1        3663550  0.000302\n",
       "2        3663551  0.000472\n",
       "3        3663552  0.000826\n",
       "4        3663553  0.000374"
      ]
     },
     "execution_count": 47,
     "metadata": {},
     "output_type": "execute_result"
    }
   ],
   "source": [
    "df_sub.head()"
   ]
  },
  {
   "cell_type": "code",
   "execution_count": 48,
   "metadata": {},
   "outputs": [],
   "source": [
    "today = datetime.date.today()\n",
    "D = today.strftime('%Y%m%d')"
   ]
  },
  {
   "cell_type": "code",
   "execution_count": 49,
   "metadata": {},
   "outputs": [],
   "source": [
    "submission_name = '{0}_LightGBM_{1}'.format(D, mean_auc_score)"
   ]
  },
  {
   "cell_type": "code",
   "execution_count": 50,
   "metadata": {},
   "outputs": [
    {
     "data": {
      "text/plain": [
       "'20190903_LightGBM_0.9732650305281695'"
      ]
     },
     "execution_count": 50,
     "metadata": {},
     "output_type": "execute_result"
    }
   ],
   "source": [
    "submission_name"
   ]
  },
  {
   "cell_type": "code",
   "execution_count": 51,
   "metadata": {},
   "outputs": [],
   "source": [
    "logging.warning(\"Submission name: {}\".format(submission_name))"
   ]
  },
  {
   "cell_type": "code",
   "execution_count": 52,
   "metadata": {},
   "outputs": [],
   "source": [
    "df_sub.to_csv('submissions/{}.csv'.format(submission_name), sep=',', header=True, index=None)"
   ]
  },
  {
   "cell_type": "code",
   "execution_count": 53,
   "metadata": {},
   "outputs": [],
   "source": [
    "logging.warning(\"End\")"
   ]
  },
  {
   "cell_type": "code",
   "execution_count": 54,
   "metadata": {},
   "outputs": [
    {
     "data": {
      "text/plain": [
       "(5084, 2)"
      ]
     },
     "execution_count": 54,
     "metadata": {},
     "output_type": "execute_result"
    }
   ],
   "source": [
    "df_sub[df_sub.isFraud>0.9].shape"
   ]
  },
  {
   "cell_type": "code",
   "execution_count": null,
   "metadata": {},
   "outputs": [],
   "source": []
  }
 ],
 "metadata": {
  "kernelspec": {
   "display_name": "Python 3",
   "language": "python",
   "name": "python3"
  },
  "language_info": {
   "codemirror_mode": {
    "name": "ipython",
    "version": 3
   },
   "file_extension": ".py",
   "mimetype": "text/x-python",
   "name": "python",
   "nbconvert_exporter": "python",
   "pygments_lexer": "ipython3",
   "version": "3.6.8"
  }
 },
 "nbformat": 4,
 "nbformat_minor": 2
}
