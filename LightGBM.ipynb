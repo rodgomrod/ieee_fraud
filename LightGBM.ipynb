{
 "cells": [
  {
   "cell_type": "markdown",
   "metadata": {},
   "source": [
    "# LightGBM"
   ]
  },
  {
   "cell_type": "markdown",
   "metadata": {},
   "source": [
    "### Libraries"
   ]
  },
  {
   "cell_type": "code",
   "execution_count": 30,
   "metadata": {},
   "outputs": [],
   "source": [
    "import warnings\n",
    "warnings.filterwarnings('ignore')\n",
    "\n",
    "import pandas as pd\n",
    "import numpy as np\n",
    "import matplotlib.pyplot as plt\n",
    "from collections import Counter, defaultdict\n",
    "import gc\n",
    "import logging\n",
    "import lightgbm as lgb\n",
    "from sklearn.model_selection import StratifiedKFold\n",
    "import datetime\n",
    "\n",
    "from utils.schemas import *\n",
    "from utils.functions import *"
   ]
  },
  {
   "cell_type": "markdown",
   "metadata": {},
   "source": [
    "### Logging"
   ]
  },
  {
   "cell_type": "code",
   "execution_count": 14,
   "metadata": {},
   "outputs": [],
   "source": [
    "LOG_NAME = 'logs/LightGBM.log'\n",
    "logging.basicConfig(filename=LOG_NAME, level=logging.WARNING, format='%(asctime)s %(message)s')\n",
    "logging.warning(\"\")\n",
    "logging.warning(\"##### New LightGBM Model #####\")"
   ]
  },
  {
   "cell_type": "markdown",
   "metadata": {},
   "source": [
    "### Data"
   ]
  },
  {
   "cell_type": "code",
   "execution_count": 15,
   "metadata": {},
   "outputs": [],
   "source": [
    "df_imp = pd.read_csv('docs/ft_importances_20190831.csv')"
   ]
  },
  {
   "cell_type": "code",
   "execution_count": 16,
   "metadata": {},
   "outputs": [],
   "source": [
    "X_cols = df_imp[df_imp.importance > 0.08].feature.to_list()"
   ]
  },
  {
   "cell_type": "code",
   "execution_count": 17,
   "metadata": {},
   "outputs": [
    {
     "data": {
      "text/plain": [
       "227"
      ]
     },
     "execution_count": 17,
     "metadata": {},
     "output_type": "execute_result"
    }
   ],
   "source": [
    "len(X_cols)"
   ]
  },
  {
   "cell_type": "code",
   "execution_count": 18,
   "metadata": {},
   "outputs": [],
   "source": [
    "data_folder = 'input'"
   ]
  },
  {
   "cell_type": "code",
   "execution_count": 19,
   "metadata": {},
   "outputs": [],
   "source": [
    "train = pd.read_csv(data_folder+'/train_ft_eng_1.csv', dtype = schema_ft_eng_1, usecols=X_cols+['isFraud', 'TransactionDT'])\n",
    "test = pd.read_csv(data_folder+'/test_ft_eng_1.csv', dtype = schema_ft_eng_1, usecols=X_cols)"
   ]
  },
  {
   "cell_type": "code",
   "execution_count": 20,
   "metadata": {},
   "outputs": [],
   "source": [
    "X = train[X_cols]\n",
    "y = train.isFraud"
   ]
  },
  {
   "cell_type": "markdown",
   "metadata": {},
   "source": [
    "### Model"
   ]
  },
  {
   "cell_type": "code",
   "execution_count": 21,
   "metadata": {},
   "outputs": [],
   "source": [
    "logging.warning(\"Used columns: {}\".format(X_cols))\n",
    "k = 5\n",
    "logging.warning(\"Folds number: {}\".format(k))"
   ]
  },
  {
   "cell_type": "code",
   "execution_count": 23,
   "metadata": {},
   "outputs": [],
   "source": [
    "train_ids = X.index\n",
    "skf = StratifiedKFold(n_splits=k, shuffle=True, random_state=42)"
   ]
  },
  {
   "cell_type": "markdown",
   "metadata": {},
   "source": [
    "#### LightGBM"
   ]
  },
  {
   "cell_type": "code",
   "execution_count": 24,
   "metadata": {},
   "outputs": [],
   "source": [
    "params = {\n",
    "    'num_leaves': 351,\n",
    "    'metric': ['AUC'],\n",
    "    'first_metric_only': True,\n",
    "    'n_estimators': 20000,\n",
    "    'learning_rate': 0.01,\n",
    "    'colsample_bytree': 0.5,\n",
    "    'objective': 'xentropy',\n",
    "    'n_jobs': -1,\n",
    "    'bagging_fraction': 0.8,\n",
    "    'bagging_freq': 5,\n",
    "    'lambda_l1': 0,\n",
    "    'lambda_l2': 0,\n",
    "    'bagging_seed': 42,\n",
    "    'seed': 42,\n",
    "    'feature_fraction_seed': 42,\n",
    "    'drop_seed': 42,\n",
    "    'data_random_seed': 42,\n",
    "}"
   ]
  },
  {
   "cell_type": "code",
   "execution_count": 25,
   "metadata": {},
   "outputs": [],
   "source": [
    "lgb_model = lgb.LGBMClassifier(**params)"
   ]
  },
  {
   "cell_type": "code",
   "execution_count": 28,
   "metadata": {},
   "outputs": [],
   "source": [
    "logging.warning(\"Params: {}\".format(str(lgb_model.get_params())))"
   ]
  },
  {
   "cell_type": "code",
   "execution_count": 37,
   "metadata": {
    "scrolled": true
   },
   "outputs": [
    {
     "name": "stdout",
     "output_type": "stream",
     "text": [
      "Fold 1\n",
      "\n",
      "Training until validation scores don't improve for 50 rounds.\n",
      "[100]\ttraining's auc: 0.941268\tvalid_0's auc: 0.919339\n",
      "[200]\ttraining's auc: 0.966362\tvalid_0's auc: 0.935667\n",
      "[300]\ttraining's auc: 0.98354\tvalid_0's auc: 0.948619\n",
      "[400]\ttraining's auc: 0.991911\tvalid_0's auc: 0.955736\n",
      "[500]\ttraining's auc: 0.996108\tvalid_0's auc: 0.960154\n",
      "[600]\ttraining's auc: 0.998089\tvalid_0's auc: 0.962689\n",
      "[700]\ttraining's auc: 0.999035\tvalid_0's auc: 0.964604\n",
      "[800]\ttraining's auc: 0.999511\tvalid_0's auc: 0.965947\n",
      "[900]\ttraining's auc: 0.999736\tvalid_0's auc: 0.967118\n",
      "[1000]\ttraining's auc: 0.999855\tvalid_0's auc: 0.968205\n",
      "[1100]\ttraining's auc: 0.999921\tvalid_0's auc: 0.968861\n",
      "[1200]\ttraining's auc: 0.999953\tvalid_0's auc: 0.969519\n",
      "[1300]\ttraining's auc: 0.99997\tvalid_0's auc: 0.970023\n",
      "[1400]\ttraining's auc: 0.999978\tvalid_0's auc: 0.970542\n",
      "[1500]\ttraining's auc: 0.999981\tvalid_0's auc: 0.970929\n",
      "[1600]\ttraining's auc: 0.999983\tvalid_0's auc: 0.97132\n",
      "[1700]\ttraining's auc: 0.999983\tvalid_0's auc: 0.971692\n",
      "Early stopping, best iteration is:\n",
      "[1665]\ttraining's auc: 0.999983\tvalid_0's auc: 0.971576\n",
      "Fold 2\n",
      "\n",
      "Training until validation scores don't improve for 50 rounds.\n",
      "[100]\ttraining's auc: 0.940317\tvalid_0's auc: 0.92269\n",
      "[200]\ttraining's auc: 0.968204\tvalid_0's auc: 0.939472\n",
      "[300]\ttraining's auc: 0.983886\tvalid_0's auc: 0.949917\n",
      "[400]\ttraining's auc: 0.99179\tvalid_0's auc: 0.956875\n",
      "[500]\ttraining's auc: 0.995813\tvalid_0's auc: 0.961004\n",
      "[600]\ttraining's auc: 0.997926\tvalid_0's auc: 0.963707\n",
      "[700]\ttraining's auc: 0.998958\tvalid_0's auc: 0.965611\n",
      "[800]\ttraining's auc: 0.999487\tvalid_0's auc: 0.967011\n",
      "[900]\ttraining's auc: 0.999737\tvalid_0's auc: 0.968189\n",
      "[1000]\ttraining's auc: 0.99986\tvalid_0's auc: 0.969116\n",
      "[1100]\ttraining's auc: 0.999925\tvalid_0's auc: 0.969817\n",
      "[1200]\ttraining's auc: 0.999962\tvalid_0's auc: 0.970367\n",
      "[1300]\ttraining's auc: 0.99998\tvalid_0's auc: 0.970938\n",
      "[1400]\ttraining's auc: 0.999989\tvalid_0's auc: 0.971385\n",
      "[1500]\ttraining's auc: 0.999993\tvalid_0's auc: 0.971745\n",
      "[1600]\ttraining's auc: 0.999994\tvalid_0's auc: 0.972075\n",
      "[1700]\ttraining's auc: 0.999995\tvalid_0's auc: 0.972381\n",
      "[1800]\ttraining's auc: 0.999995\tvalid_0's auc: 0.972569\n",
      "Early stopping, best iteration is:\n",
      "[1834]\ttraining's auc: 0.999996\tvalid_0's auc: 0.972666\n",
      "Fold 3\n",
      "\n",
      "Training until validation scores don't improve for 50 rounds.\n",
      "[100]\ttraining's auc: 0.941505\tvalid_0's auc: 0.924696\n",
      "[200]\ttraining's auc: 0.967455\tvalid_0's auc: 0.939262\n",
      "[300]\ttraining's auc: 0.983965\tvalid_0's auc: 0.950794\n",
      "[400]\ttraining's auc: 0.991663\tvalid_0's auc: 0.957165\n",
      "[500]\ttraining's auc: 0.995794\tvalid_0's auc: 0.961832\n",
      "[600]\ttraining's auc: 0.997944\tvalid_0's auc: 0.964652\n",
      "[700]\ttraining's auc: 0.998969\tvalid_0's auc: 0.966658\n",
      "[800]\ttraining's auc: 0.999468\tvalid_0's auc: 0.968063\n",
      "[900]\ttraining's auc: 0.999727\tvalid_0's auc: 0.969247\n",
      "[1000]\ttraining's auc: 0.999859\tvalid_0's auc: 0.970081\n",
      "[1100]\ttraining's auc: 0.999935\tvalid_0's auc: 0.970859\n",
      "[1200]\ttraining's auc: 0.99997\tvalid_0's auc: 0.971441\n",
      "[1300]\ttraining's auc: 0.999987\tvalid_0's auc: 0.971919\n",
      "[1400]\ttraining's auc: 0.999994\tvalid_0's auc: 0.972374\n",
      "[1500]\ttraining's auc: 0.999998\tvalid_0's auc: 0.972713\n",
      "[1600]\ttraining's auc: 0.999999\tvalid_0's auc: 0.972972\n",
      "[1700]\ttraining's auc: 1\tvalid_0's auc: 0.973263\n",
      "[1800]\ttraining's auc: 1\tvalid_0's auc: 0.973405\n",
      "[1900]\ttraining's auc: 1\tvalid_0's auc: 0.973684\n",
      "[2000]\ttraining's auc: 1\tvalid_0's auc: 0.973951\n",
      "[2100]\ttraining's auc: 1\tvalid_0's auc: 0.974175\n",
      "[2200]\ttraining's auc: 1\tvalid_0's auc: 0.974361\n",
      "Early stopping, best iteration is:\n",
      "[2197]\ttraining's auc: 1\tvalid_0's auc: 0.974361\n",
      "Fold 4\n",
      "\n",
      "Training until validation scores don't improve for 50 rounds.\n",
      "[100]\ttraining's auc: 0.941274\tvalid_0's auc: 0.92083\n",
      "[200]\ttraining's auc: 0.966568\tvalid_0's auc: 0.936579\n",
      "[300]\ttraining's auc: 0.98371\tvalid_0's auc: 0.947552\n",
      "[400]\ttraining's auc: 0.991841\tvalid_0's auc: 0.95434\n",
      "[500]\ttraining's auc: 0.995889\tvalid_0's auc: 0.958836\n",
      "[600]\ttraining's auc: 0.997948\tvalid_0's auc: 0.961568\n",
      "[700]\ttraining's auc: 0.99893\tvalid_0's auc: 0.963638\n",
      "[800]\ttraining's auc: 0.999413\tvalid_0's auc: 0.965177\n",
      "[900]\ttraining's auc: 0.999663\tvalid_0's auc: 0.966359\n",
      "[1000]\ttraining's auc: 0.999816\tvalid_0's auc: 0.967319\n",
      "[1100]\ttraining's auc: 0.999889\tvalid_0's auc: 0.968092\n",
      "[1200]\ttraining's auc: 0.999924\tvalid_0's auc: 0.968727\n",
      "[1300]\ttraining's auc: 0.999941\tvalid_0's auc: 0.969375\n",
      "[1400]\ttraining's auc: 0.99995\tvalid_0's auc: 0.969851\n",
      "[1500]\ttraining's auc: 0.999953\tvalid_0's auc: 0.970434\n",
      "Early stopping, best iteration is:\n",
      "[1542]\ttraining's auc: 0.999954\tvalid_0's auc: 0.970636\n",
      "Fold 5\n",
      "\n",
      "Training until validation scores don't improve for 50 rounds.\n",
      "[100]\ttraining's auc: 0.940941\tvalid_0's auc: 0.918447\n",
      "[200]\ttraining's auc: 0.967156\tvalid_0's auc: 0.936825\n",
      "[300]\ttraining's auc: 0.983512\tvalid_0's auc: 0.949765\n",
      "[400]\ttraining's auc: 0.991904\tvalid_0's auc: 0.957634\n",
      "[500]\ttraining's auc: 0.995907\tvalid_0's auc: 0.96244\n",
      "[600]\ttraining's auc: 0.998019\tvalid_0's auc: 0.965018\n",
      "[700]\ttraining's auc: 0.998983\tvalid_0's auc: 0.966926\n",
      "[800]\ttraining's auc: 0.999478\tvalid_0's auc: 0.968299\n",
      "[900]\ttraining's auc: 0.99971\tvalid_0's auc: 0.96955\n",
      "[1000]\ttraining's auc: 0.999845\tvalid_0's auc: 0.97047\n",
      "[1100]\ttraining's auc: 0.999914\tvalid_0's auc: 0.97117\n",
      "[1200]\ttraining's auc: 0.999949\tvalid_0's auc: 0.971729\n",
      "[1300]\ttraining's auc: 0.999982\tvalid_0's auc: 0.972167\n",
      "[1400]\ttraining's auc: 0.999991\tvalid_0's auc: 0.97264\n",
      "[1500]\ttraining's auc: 0.999996\tvalid_0's auc: 0.973078\n",
      "[1600]\ttraining's auc: 0.999998\tvalid_0's auc: 0.97338\n",
      "[1700]\ttraining's auc: 0.999999\tvalid_0's auc: 0.973691\n",
      "[1800]\ttraining's auc: 0.999999\tvalid_0's auc: 0.973934\n",
      "[1900]\ttraining's auc: 1\tvalid_0's auc: 0.974092\n",
      "[2000]\ttraining's auc: 1\tvalid_0's auc: 0.974312\n",
      "[2100]\ttraining's auc: 1\tvalid_0's auc: 0.974483\n",
      "Early stopping, best iteration is:\n",
      "[2093]\ttraining's auc: 1\tvalid_0's auc: 0.974491\n"
     ]
    }
   ],
   "source": [
    "counter = 1\n",
    "auc_score = 0\n",
    "iterat = 0\n",
    "for train_index, test_index in skf.split(train_ids, y):\n",
    "    print('Fold {}\\n'.format(counter))\n",
    "    logging.warning(\"Training fold {}\".format(counter))\n",
    "\n",
    "    X_fit, X_val = X.iloc[train_index, :], X.iloc[test_index, :]\n",
    "    y_fit, y_val = y.iloc[train_index], y.iloc[test_index]\n",
    "\n",
    "    lgb_model.fit(X_fit,\n",
    "                  y_fit,\n",
    "                  eval_set=[(X_val, y_val), (X_fit, y_fit)],\n",
    "                  verbose=100,\n",
    "                  early_stopping_rounds=50)\n",
    "    \n",
    "    logging.warning(\"Best AUC in this fold: {}\".format(lgb_model.best_score_['valid_0']['auc']))\n",
    "    logging.warning(\"Best iteration in this fold: {}\".format(lgb_model.best_iteration_))\n",
    "    auc_score += lgb_model.best_score_['valid_0']['auc']\n",
    "    iterat += lgb_model.best_iteration_\n",
    "\n",
    "    del X_fit\n",
    "    del X_val\n",
    "    del y_fit\n",
    "    del y_val\n",
    "    del train_index\n",
    "    del test_index\n",
    "    gc.collect()\n",
    "    \n",
    "    counter += 1\n",
    "    \n",
    "mean_auc_score = auc_score/k\n",
    "mean_iterat = iterat/k\n",
    "\n",
    "logging.warning(\"Mean AUC in {0} folds: {1}\".format(k, mean_auc_score))\n",
    "logging.warning(\"Mean iterations in {0} folds: {1}\".format(k, mean_iterat))"
   ]
  },
  {
   "cell_type": "code",
   "execution_count": 38,
   "metadata": {},
   "outputs": [
    {
     "data": {
      "text/plain": [
       "2052"
      ]
     },
     "execution_count": 38,
     "metadata": {},
     "output_type": "execute_result"
    }
   ],
   "source": [
    "params['n_estimators'] = int(mean_iterat*1.1)\n",
    "params['n_estimators']"
   ]
  },
  {
   "cell_type": "code",
   "execution_count": 39,
   "metadata": {},
   "outputs": [
    {
     "data": {
      "text/plain": [
       "LGBMClassifier(bagging_fraction=0.8, bagging_freq=5, bagging_seed=42,\n",
       "               boosting_type='gbdt', class_weight=None, colsample_bytree=0.5,\n",
       "               data_random_seed=42, drop_seed=42, feature_fraction_seed=42,\n",
       "               first_metric_only=True, importance_type='split', lambda_l1=0,\n",
       "               lambda_l2=0, learning_rate=0.01, max_depth=-1, metric=['AUC'],\n",
       "               min_child_samples=20, min_child_weight=0.001, min_split_gain=0.0,\n",
       "               n_estimators=2052, n_jobs=-1, num_leaves=351,\n",
       "               objective='xentropy', random_state=None, reg_alpha=0.0,\n",
       "               reg_lambda=0.0, seed=42, silent=True, subsample=1.0,\n",
       "               subsample_for_bin=200000, ...)"
      ]
     },
     "execution_count": 39,
     "metadata": {},
     "output_type": "execute_result"
    }
   ],
   "source": [
    "lgb_model = lgb.LGBMClassifier(**params)\n",
    "lgb_model.fit(train[X_cols], train.isFraud)"
   ]
  },
  {
   "cell_type": "code",
   "execution_count": 40,
   "metadata": {},
   "outputs": [],
   "source": [
    "y_preds = lgb_model.predict_proba(test[X.columns])"
   ]
  },
  {
   "cell_type": "code",
   "execution_count": 41,
   "metadata": {},
   "outputs": [],
   "source": [
    "df_sub = pd.read_csv(data_folder+'/sample_submission.csv')"
   ]
  },
  {
   "cell_type": "code",
   "execution_count": 42,
   "metadata": {},
   "outputs": [],
   "source": [
    "df_sub['isFraud'] = y_preds[:,1]"
   ]
  },
  {
   "cell_type": "code",
   "execution_count": 43,
   "metadata": {},
   "outputs": [
    {
     "data": {
      "text/html": [
       "<div>\n",
       "<style scoped>\n",
       "    .dataframe tbody tr th:only-of-type {\n",
       "        vertical-align: middle;\n",
       "    }\n",
       "\n",
       "    .dataframe tbody tr th {\n",
       "        vertical-align: top;\n",
       "    }\n",
       "\n",
       "    .dataframe thead th {\n",
       "        text-align: right;\n",
       "    }\n",
       "</style>\n",
       "<table border=\"1\" class=\"dataframe\">\n",
       "  <thead>\n",
       "    <tr style=\"text-align: right;\">\n",
       "      <th></th>\n",
       "      <th>TransactionID</th>\n",
       "      <th>isFraud</th>\n",
       "    </tr>\n",
       "  </thead>\n",
       "  <tbody>\n",
       "    <tr>\n",
       "      <th>0</th>\n",
       "      <td>3663549</td>\n",
       "      <td>0.000243</td>\n",
       "    </tr>\n",
       "    <tr>\n",
       "      <th>1</th>\n",
       "      <td>3663550</td>\n",
       "      <td>0.001092</td>\n",
       "    </tr>\n",
       "    <tr>\n",
       "      <th>2</th>\n",
       "      <td>3663551</td>\n",
       "      <td>0.000159</td>\n",
       "    </tr>\n",
       "    <tr>\n",
       "      <th>3</th>\n",
       "      <td>3663552</td>\n",
       "      <td>0.001502</td>\n",
       "    </tr>\n",
       "    <tr>\n",
       "      <th>4</th>\n",
       "      <td>3663553</td>\n",
       "      <td>0.000712</td>\n",
       "    </tr>\n",
       "  </tbody>\n",
       "</table>\n",
       "</div>"
      ],
      "text/plain": [
       "   TransactionID   isFraud\n",
       "0        3663549  0.000243\n",
       "1        3663550  0.001092\n",
       "2        3663551  0.000159\n",
       "3        3663552  0.001502\n",
       "4        3663553  0.000712"
      ]
     },
     "execution_count": 43,
     "metadata": {},
     "output_type": "execute_result"
    }
   ],
   "source": [
    "df_sub.head()"
   ]
  },
  {
   "cell_type": "code",
   "execution_count": 44,
   "metadata": {},
   "outputs": [],
   "source": [
    "today = datetime.date.today()\n",
    "D = today.strftime('%Y%m%d')"
   ]
  },
  {
   "cell_type": "code",
   "execution_count": 45,
   "metadata": {},
   "outputs": [],
   "source": [
    "submission_name = '{0}_LightGBM_{1}'.format(D, mean_auc_score)"
   ]
  },
  {
   "cell_type": "code",
   "execution_count": 46,
   "metadata": {},
   "outputs": [],
   "source": [
    "logging.warning(\"Submission name: {}\".format(submission_name))"
   ]
  },
  {
   "cell_type": "code",
   "execution_count": 47,
   "metadata": {},
   "outputs": [],
   "source": [
    "df_sub.to_csv('submissions/{}.csv'.format(submission_name), sep=',', header=True, index=None)"
   ]
  },
  {
   "cell_type": "code",
   "execution_count": 48,
   "metadata": {},
   "outputs": [],
   "source": [
    "logging.warning(\"End\")"
   ]
  },
  {
   "cell_type": "code",
   "execution_count": null,
   "metadata": {},
   "outputs": [],
   "source": []
  }
 ],
 "metadata": {
  "kernelspec": {
   "display_name": "Python 3",
   "language": "python",
   "name": "python3"
  },
  "language_info": {
   "codemirror_mode": {
    "name": "ipython",
    "version": 3
   },
   "file_extension": ".py",
   "mimetype": "text/x-python",
   "name": "python",
   "nbconvert_exporter": "python",
   "pygments_lexer": "ipython3",
   "version": "3.6.8"
  }
 },
 "nbformat": 4,
 "nbformat_minor": 2
}
