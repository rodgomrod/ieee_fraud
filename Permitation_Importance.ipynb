{
 "cells": [
  {
   "cell_type": "markdown",
   "metadata": {},
   "source": [
    "# Permitation Importance"
   ]
  },
  {
   "cell_type": "markdown",
   "metadata": {},
   "source": [
    "### Libraries"
   ]
  },
  {
   "cell_type": "code",
   "execution_count": 1,
   "metadata": {},
   "outputs": [],
   "source": [
    "import warnings\n",
    "warnings.filterwarnings('ignore')\n",
    "\n",
    "import pandas as pd\n",
    "import numpy as np\n",
    "import matplotlib.pyplot as plt\n",
    "from collections import Counter, defaultdict\n",
    "import gc\n",
    "import logging\n",
    "from sklearn.ensemble import RandomForestClassifier\n",
    "from eli5.sklearn import PermutationImportance\n",
    "import eli5\n",
    "import datetime\n",
    "\n",
    "from utils.schemas import *\n",
    "from utils.functions import *"
   ]
  },
  {
   "cell_type": "markdown",
   "metadata": {},
   "source": [
    "### Logging"
   ]
  },
  {
   "cell_type": "code",
   "execution_count": 2,
   "metadata": {},
   "outputs": [],
   "source": [
    "LOG_NAME = 'logs/Permutation_importances.log'\n",
    "logging.basicConfig(filename=LOG_NAME, level=logging.WARNING, format='%(asctime)s %(message)s')\n",
    "logging.warning(\"\")\n",
    "logging.warning(\"##### New Permutation Importance Study #####\")"
   ]
  },
  {
   "cell_type": "markdown",
   "metadata": {},
   "source": [
    "### Data"
   ]
  },
  {
   "cell_type": "code",
   "execution_count": 3,
   "metadata": {},
   "outputs": [],
   "source": [
    "df_imp = pd.read_csv('docs/ft_importances_20190831.csv')"
   ]
  },
  {
   "cell_type": "code",
   "execution_count": 4,
   "metadata": {},
   "outputs": [],
   "source": [
    "n = df_imp.shape[0]\n",
    "logging.warning(\"Studying first {0} most important features\".format(n))"
   ]
  },
  {
   "cell_type": "code",
   "execution_count": 3,
   "metadata": {},
   "outputs": [],
   "source": [
    "logging.warning(\"Studying synthetic most important features\")"
   ]
  },
  {
   "cell_type": "code",
   "execution_count": 5,
   "metadata": {},
   "outputs": [],
   "source": [
    "X_cols = df_imp.feature[:n].to_list()"
   ]
  },
  {
   "cell_type": "code",
   "execution_count": 6,
   "metadata": {},
   "outputs": [
    {
     "data": {
      "text/plain": [
       "583"
      ]
     },
     "execution_count": 6,
     "metadata": {},
     "output_type": "execute_result"
    }
   ],
   "source": [
    "len(X_cols)"
   ]
  },
  {
   "cell_type": "code",
   "execution_count": 5,
   "metadata": {},
   "outputs": [],
   "source": [
    "data_folder = 'input'"
   ]
  },
  {
   "cell_type": "code",
   "execution_count": 8,
   "metadata": {},
   "outputs": [],
   "source": [
    "# train = pd.read_csv(data_folder+'/train_ft_eng_1.zip', dtype = schema_ft_eng_1, usecols=X_cols+['isFraud', 'TransactionDT'])\n",
    "# test = pd.read_csv(data_folder+'/test_ft_eng_1.zip', dtype = schema_ft_eng_1, usecols=X_cols)\n",
    "train = pd.read_csv(data_folder+'/train_syn_ft_eng_0.zip', dtype = schema_synthetic_ft_eng_0)\n",
    "test = pd.read_csv(data_folder+'/test_syn_ft_eng_0.zip', dtype = schema_synthetic_ft_eng_0)"
   ]
  },
  {
   "cell_type": "code",
   "execution_count": 9,
   "metadata": {},
   "outputs": [
    {
     "data": {
      "text/plain": [
       "['ProductCD',\n",
       " 'C1',\n",
       " 'C2',\n",
       " 'C3',\n",
       " 'C4',\n",
       " 'C5',\n",
       " 'C6',\n",
       " 'C7',\n",
       " 'C8',\n",
       " 'C9',\n",
       " 'C10',\n",
       " 'C11',\n",
       " 'C12',\n",
       " 'C13',\n",
       " 'C14',\n",
       " 'ProductCD_fe1',\n",
       " 'ProductCD_fe2']"
      ]
     },
     "execution_count": 9,
     "metadata": {},
     "output_type": "execute_result"
    }
   ],
   "source": [
    "[x for x in train.columns if 'C' in x]"
   ]
  },
  {
   "cell_type": "code",
   "execution_count": 10,
   "metadata": {},
   "outputs": [],
   "source": [
    "drop_cols = ['isFraud', 'TransactionDT', 'D1','D10','D11','D12','D13','D14','D15','D2','D3','D4','D5','D6',\n",
    "             'D7','D8','D9','C1','C10','C11','C12','C13','C14','C2','C3','C4','C5','C6','C7','C8','C9',\n",
    "            'addr1', 'addr2', 'card1']"
   ]
  },
  {
   "cell_type": "code",
   "execution_count": 18,
   "metadata": {},
   "outputs": [],
   "source": [
    "drop_cols = ['isFraud', 'TransactionDT', 'Transaction_day_of_week', 'Transaction_hour']"
   ]
  },
  {
   "cell_type": "code",
   "execution_count": 19,
   "metadata": {},
   "outputs": [],
   "source": [
    "X_cols = [x for x in train.columns if x not in drop_cols]"
   ]
  },
  {
   "cell_type": "code",
   "execution_count": 20,
   "metadata": {},
   "outputs": [
    {
     "data": {
      "text/plain": [
       "712"
      ]
     },
     "execution_count": 20,
     "metadata": {},
     "output_type": "execute_result"
    }
   ],
   "source": [
    "len(X_cols)"
   ]
  },
  {
   "cell_type": "code",
   "execution_count": 29,
   "metadata": {},
   "outputs": [
    {
     "data": {
      "text/plain": [
       "472432"
      ]
     },
     "execution_count": 29,
     "metadata": {},
     "output_type": "execute_result"
    }
   ],
   "source": [
    "train_split = int(len(train)*0.8)\n",
    "train_split"
   ]
  },
  {
   "cell_type": "code",
   "execution_count": 30,
   "metadata": {},
   "outputs": [],
   "source": [
    "X_train = train[X_cols].iloc[:train_split,:]\n",
    "y_train = train.isFraud[:train_split]\n",
    "\n",
    "X_test = train[X_cols].iloc[train_split:,:]\n",
    "y_test = train.isFraud[train_split:]"
   ]
  },
  {
   "cell_type": "code",
   "execution_count": 22,
   "metadata": {},
   "outputs": [],
   "source": [
    "X_train = train[X_cols]\n",
    "y_train = train.isFraud\n",
    "\n",
    "X_test = test[X_cols]\n",
    "y_test = test.isFraud"
   ]
  },
  {
   "cell_type": "markdown",
   "metadata": {},
   "source": [
    "### Model"
   ]
  },
  {
   "cell_type": "markdown",
   "metadata": {},
   "source": [
    "#### RandomForest"
   ]
  },
  {
   "cell_type": "code",
   "execution_count": 24,
   "metadata": {},
   "outputs": [],
   "source": [
    "logging.warning(\"Used columns: {}\".format(X_cols))"
   ]
  },
  {
   "cell_type": "code",
   "execution_count": 25,
   "metadata": {},
   "outputs": [],
   "source": [
    "logging.warning(\"Model used to PermitationImportance: {}\".format('Random Forest'))"
   ]
  },
  {
   "cell_type": "code",
   "execution_count": 26,
   "metadata": {},
   "outputs": [],
   "source": [
    "model_rf = RandomForestClassifier(n_estimators=300, oob_score=True, n_jobs=-1, random_state=42, max_depth=7)"
   ]
  },
  {
   "cell_type": "code",
   "execution_count": 27,
   "metadata": {
    "scrolled": true
   },
   "outputs": [
    {
     "data": {
      "text/plain": [
       "{'TransactionAmt': 68.94,\n",
       " 'dist1': 9.0,\n",
       " 'dist2': 30.0,\n",
       " 'C1': 1.0,\n",
       " 'C2': 1.0,\n",
       " 'C3': 0.0,\n",
       " 'C4': 0.0,\n",
       " 'C5': 0.0,\n",
       " 'C6': 1.0,\n",
       " 'C7': 0.0,\n",
       " 'C8': 0.0,\n",
       " 'C9': 1.0,\n",
       " 'C10': 0.0,\n",
       " 'C11': 1.0,\n",
       " 'C12': 0.0,\n",
       " 'C13': 2.0,\n",
       " 'C14': 1.0,\n",
       " 'D1': 0.0,\n",
       " 'D2': 99.0,\n",
       " 'D3': 8.0,\n",
       " 'D4': 20.0,\n",
       " 'D5': 9.0,\n",
       " 'D6': 0.0,\n",
       " 'D7': 0.0,\n",
       " 'D8': 47.12,\n",
       " 'D10': 11.0,\n",
       " 'D11': 26.0,\n",
       " 'D12': 0.0,\n",
       " 'D13': 0.0,\n",
       " 'D14': 0.0,\n",
       " 'D15': 44.0,\n",
       " 'V1': 1.0,\n",
       " 'V2': 1.0,\n",
       " 'V3': 1.0,\n",
       " 'V4': 1.0,\n",
       " 'V5': 1.0,\n",
       " 'V6': 1.0,\n",
       " 'V7': 1.0,\n",
       " 'V8': 1.0,\n",
       " 'V9': 1.0,\n",
       " 'V10': 0.0,\n",
       " 'V11': 0.0,\n",
       " 'V12': 1.0,\n",
       " 'V13': 1.0,\n",
       " 'V14': 1.0,\n",
       " 'V15': 0.0,\n",
       " 'V16': 0.0,\n",
       " 'V17': 0.0,\n",
       " 'V18': 0.0,\n",
       " 'V19': 1.0,\n",
       " 'V20': 1.0,\n",
       " 'V21': 0.0,\n",
       " 'V22': 0.0,\n",
       " 'V23': 1.0,\n",
       " 'V24': 1.0,\n",
       " 'V25': 1.0,\n",
       " 'V26': 1.0,\n",
       " 'V27': 0.0,\n",
       " 'V28': 0.0,\n",
       " 'V29': 0.0,\n",
       " 'V30': 0.0,\n",
       " 'V31': 0.0,\n",
       " 'V32': 0.0,\n",
       " 'V33': 0.0,\n",
       " 'V34': 0.0,\n",
       " 'V35': 0.0,\n",
       " 'V36': 0.0,\n",
       " 'V37': 1.0,\n",
       " 'V38': 1.0,\n",
       " 'V39': 0.0,\n",
       " 'V40': 0.0,\n",
       " 'V41': 1.0,\n",
       " 'V42': 0.0,\n",
       " 'V43': 0.0,\n",
       " 'V44': 1.0,\n",
       " 'V45': 1.0,\n",
       " 'V46': 1.0,\n",
       " 'V47': 1.0,\n",
       " 'V48': 0.0,\n",
       " 'V49': 0.0,\n",
       " 'V50': 0.0,\n",
       " 'V51': 0.0,\n",
       " 'V52': 0.0,\n",
       " 'V53': 1.0,\n",
       " 'V54': 1.0,\n",
       " 'V55': 1.0,\n",
       " 'V56': 1.0,\n",
       " 'V57': 0.0,\n",
       " 'V58': 0.0,\n",
       " 'V59': 0.0,\n",
       " 'V60': 0.0,\n",
       " 'V61': 1.0,\n",
       " 'V62': 1.0,\n",
       " 'V63': 0.0,\n",
       " 'V64': 0.0,\n",
       " 'V65': 1.0,\n",
       " 'V66': 1.0,\n",
       " 'V67': 1.0,\n",
       " 'V68': 0.0,\n",
       " 'V69': 0.0,\n",
       " 'V70': 0.0,\n",
       " 'V71': 0.0,\n",
       " 'V72': 0.0,\n",
       " 'V73': 0.0,\n",
       " 'V74': 0.0,\n",
       " 'V75': 0.0,\n",
       " 'V76': 1.0,\n",
       " 'V77': 1.0,\n",
       " 'V78': 1.0,\n",
       " 'V79': 0.0,\n",
       " 'V80': 0.0,\n",
       " 'V81': 0.0,\n",
       " 'V82': 1.0,\n",
       " 'V83': 1.0,\n",
       " 'V84': 0.0,\n",
       " 'V85': 0.0,\n",
       " 'V86': 1.0,\n",
       " 'V87': 1.0,\n",
       " 'V88': 1.0,\n",
       " 'V89': 0.0,\n",
       " 'V90': 0.0,\n",
       " 'V91': 0.0,\n",
       " 'V92': 0.0,\n",
       " 'V93': 0.0,\n",
       " 'V94': 0.0,\n",
       " 'V95': 0.0,\n",
       " 'V96': 0.0,\n",
       " 'V97': 0.0,\n",
       " 'V98': 0.0,\n",
       " 'V99': 0.0,\n",
       " 'V100': 0.0,\n",
       " 'V101': 0.0,\n",
       " 'V102': 0.0,\n",
       " 'V103': 0.0,\n",
       " 'V104': 0.0,\n",
       " 'V105': 0.0,\n",
       " 'V106': 0.0,\n",
       " 'V107': 1.0,\n",
       " 'V108': 1.0,\n",
       " 'V109': 1.0,\n",
       " 'V110': 1.0,\n",
       " 'V111': 1.0,\n",
       " 'V112': 1.0,\n",
       " 'V113': 1.0,\n",
       " 'V114': 1.0,\n",
       " 'V115': 1.0,\n",
       " 'V116': 1.0,\n",
       " 'V117': 1.0,\n",
       " 'V118': 1.0,\n",
       " 'V119': 1.0,\n",
       " 'V120': 1.0,\n",
       " 'V121': 1.0,\n",
       " 'V122': 1.0,\n",
       " 'V123': 1.0,\n",
       " 'V124': 1.0,\n",
       " 'V125': 1.0,\n",
       " 'V126': 0.0,\n",
       " 'V127': 0.0,\n",
       " 'V128': 0.0,\n",
       " 'V129': 0.0,\n",
       " 'V130': 0.0,\n",
       " 'V131': 0.0,\n",
       " 'V132': 0.0,\n",
       " 'V133': 0.0,\n",
       " 'V134': 0.0,\n",
       " 'V135': 0.0,\n",
       " 'V136': 0.0,\n",
       " 'V137': 0.0,\n",
       " 'V138': 0.0,\n",
       " 'V139': 1.0,\n",
       " 'V140': 1.0,\n",
       " 'V141': 0.0,\n",
       " 'V142': 0.0,\n",
       " 'V143': 0.0,\n",
       " 'V144': 0.0,\n",
       " 'V145': 0.0,\n",
       " 'V146': 0.0,\n",
       " 'V147': 0.0,\n",
       " 'V148': 1.0,\n",
       " 'V149': 1.0,\n",
       " 'V150': 1.0,\n",
       " 'V151': 1.0,\n",
       " 'V152': 1.0,\n",
       " 'V153': 1.0,\n",
       " 'V154': 1.0,\n",
       " 'V155': 1.0,\n",
       " 'V156': 1.0,\n",
       " 'V157': 1.0,\n",
       " 'V158': 1.0,\n",
       " 'V159': 0.0,\n",
       " 'V160': 0.0,\n",
       " 'V161': 0.0,\n",
       " 'V162': 0.0,\n",
       " 'V163': 0.0,\n",
       " 'V164': 0.0,\n",
       " 'V165': 0.0,\n",
       " 'V166': 0.0,\n",
       " 'V167': 0.0,\n",
       " 'V168': 0.0,\n",
       " 'V169': 0.0,\n",
       " 'V170': 1.0,\n",
       " 'V171': 1.0,\n",
       " 'V172': 0.0,\n",
       " 'V173': 0.0,\n",
       " 'V174': 0.0,\n",
       " 'V175': 0.0,\n",
       " 'V176': 1.0,\n",
       " 'V177': 0.0,\n",
       " 'V178': 0.0,\n",
       " 'V179': 0.0,\n",
       " 'V180': 0.0,\n",
       " 'V181': 0.0,\n",
       " 'V182': 0.0,\n",
       " 'V183': 0.0,\n",
       " 'V184': 0.0,\n",
       " 'V185': 0.0,\n",
       " 'V186': 1.0,\n",
       " 'V187': 1.0,\n",
       " 'V188': 1.0,\n",
       " 'V189': 1.0,\n",
       " 'V190': 1.0,\n",
       " 'V191': 1.0,\n",
       " 'V192': 1.0,\n",
       " 'V193': 1.0,\n",
       " 'V194': 1.0,\n",
       " 'V195': 1.0,\n",
       " 'V196': 1.0,\n",
       " 'V197': 1.0,\n",
       " 'V198': 1.0,\n",
       " 'V199': 1.0,\n",
       " 'V200': 1.0,\n",
       " 'V201': 1.0,\n",
       " 'V202': 0.0,\n",
       " 'V203': 0.0,\n",
       " 'V204': 0.0,\n",
       " 'V205': 0.0,\n",
       " 'V206': 0.0,\n",
       " 'V207': 0.0,\n",
       " 'V208': 0.0,\n",
       " 'V209': 0.0,\n",
       " 'V210': 0.0,\n",
       " 'V211': 0.0,\n",
       " 'V212': 0.0,\n",
       " 'V213': 0.0,\n",
       " 'V214': 0.0,\n",
       " 'V215': 0.0,\n",
       " 'V216': 0.0,\n",
       " 'V217': 0.0,\n",
       " 'V218': 0.0,\n",
       " 'V219': 0.0,\n",
       " 'V220': 0.0,\n",
       " 'V221': 1.0,\n",
       " 'V222': 1.0,\n",
       " 'V223': 0.0,\n",
       " 'V224': 0.0,\n",
       " 'V225': 0.0,\n",
       " 'V226': 0.0,\n",
       " 'V227': 0.0,\n",
       " 'V228': 1.0,\n",
       " 'V229': 1.0,\n",
       " 'V230': 1.0,\n",
       " 'V231': 0.0,\n",
       " 'V232': 0.0,\n",
       " 'V233': 0.0,\n",
       " 'V234': 0.0,\n",
       " 'V235': 0.0,\n",
       " 'V236': 0.0,\n",
       " 'V237': 0.0,\n",
       " 'V238': 0.0,\n",
       " 'V239': 0.0,\n",
       " 'V240': 1.0,\n",
       " 'V241': 1.0,\n",
       " 'V242': 1.0,\n",
       " 'V243': 1.0,\n",
       " 'V244': 1.0,\n",
       " 'V245': 1.0,\n",
       " 'V246': 1.0,\n",
       " 'V247': 1.0,\n",
       " 'V248': 1.0,\n",
       " 'V249': 1.0,\n",
       " 'V250': 1.0,\n",
       " 'V251': 1.0,\n",
       " 'V252': 1.0,\n",
       " 'V253': 1.0,\n",
       " 'V254': 1.0,\n",
       " 'V255': 1.0,\n",
       " 'V256': 1.0,\n",
       " 'V257': 1.0,\n",
       " 'V258': 1.0,\n",
       " 'V259': 1.0,\n",
       " 'V260': 1.0,\n",
       " 'V261': 1.0,\n",
       " 'V262': 1.0,\n",
       " 'V263': 0.0,\n",
       " 'V264': 0.0,\n",
       " 'V265': 0.0,\n",
       " 'V266': 0.0,\n",
       " 'V267': 0.0,\n",
       " 'V268': 0.0,\n",
       " 'V269': 0.0,\n",
       " 'V270': 0.0,\n",
       " 'V271': 0.0,\n",
       " 'V272': 0.0,\n",
       " 'V273': 0.0,\n",
       " 'V274': 0.0,\n",
       " 'V275': 0.0,\n",
       " 'V276': 0.0,\n",
       " 'V277': 0.0,\n",
       " 'V278': 0.0,\n",
       " 'V279': 0.0,\n",
       " 'V280': 0.0,\n",
       " 'V281': 0.0,\n",
       " 'V282': 1.0,\n",
       " 'V283': 1.0,\n",
       " 'V284': 0.0,\n",
       " 'V285': 0.0,\n",
       " 'V286': 0.0,\n",
       " 'V287': 0.0,\n",
       " 'V288': 0.0,\n",
       " 'V289': 0.0,\n",
       " 'V290': 1.0,\n",
       " 'V291': 1.0,\n",
       " 'V292': 1.0,\n",
       " 'V293': 0.0,\n",
       " 'V294': 0.0,\n",
       " 'V295': 0.0,\n",
       " 'V296': 0.0,\n",
       " 'V297': 0.0,\n",
       " 'V298': 0.0,\n",
       " 'V299': 0.0,\n",
       " 'V300': 0.0,\n",
       " 'V301': 0.0,\n",
       " 'V302': 0.0,\n",
       " 'V303': 0.0,\n",
       " 'V304': 0.0,\n",
       " 'V305': 1.0,\n",
       " 'V306': 0.0,\n",
       " 'V307': 0.0,\n",
       " 'V308': 0.0,\n",
       " 'V309': 0.0,\n",
       " 'V310': 0.0,\n",
       " 'V311': 0.0,\n",
       " 'V312': 0.0,\n",
       " 'V313': 0.0,\n",
       " 'V314': 0.0,\n",
       " 'V315': 0.0,\n",
       " 'V316': 0.0,\n",
       " 'V317': 0.0,\n",
       " 'V318': 0.0,\n",
       " 'V319': 0.0,\n",
       " 'V320': 0.0,\n",
       " 'V321': 0.0,\n",
       " 'V322': 0.0,\n",
       " 'V323': 0.0,\n",
       " 'V324': 0.0,\n",
       " 'V325': 0.0,\n",
       " 'V326': 0.0,\n",
       " 'V327': 0.0,\n",
       " 'V328': 0.0,\n",
       " 'V329': 0.0,\n",
       " 'V330': 0.0,\n",
       " 'V331': 0.0,\n",
       " 'V332': 0.0,\n",
       " 'V333': 0.0,\n",
       " 'V334': 0.0,\n",
       " 'V335': 0.0,\n",
       " 'V336': 0.0,\n",
       " 'V337': 0.0,\n",
       " 'V338': 0.0,\n",
       " 'V339': 0.0,\n",
       " 'id_01': -5.0,\n",
       " 'id_02': 113618.0,\n",
       " 'id_03': 0.0,\n",
       " 'id_04': 0.0,\n",
       " 'id_05': 0.0,\n",
       " 'id_06': 0.0,\n",
       " 'id_07': 15.0,\n",
       " 'id_08': -34.0,\n",
       " 'id_09': 0.0,\n",
       " 'id_10': 0.0,\n",
       " 'id_11': 100.0,\n",
       " 'DeviceType_0': 0.0,\n",
       " 'DeviceType_1': 0.0,\n",
       " 'DeviceType_2': 1.0,\n",
       " 'proc_id_30_0_0': 0.0,\n",
       " 'proc_id_30_0_1': 0.0,\n",
       " 'proc_id_30_0_2': 0.0,\n",
       " 'proc_id_30_0_3': 0.0,\n",
       " 'proc_id_30_0_4': 0.0,\n",
       " 'proc_id_30_0_5': 0.0,\n",
       " 'proc_id_30_0_6': 1.0,\n",
       " 'proc_id_30_1_0': 0.0,\n",
       " 'proc_id_30_1_1': 0.0,\n",
       " 'proc_id_30_1_2': 0.0,\n",
       " 'proc_id_30_1_3': 1.0,\n",
       " 'proc_id_31_0_0': 0.0,\n",
       " 'proc_id_31_0_1': 0.0,\n",
       " 'proc_id_31_0_2': 0.0,\n",
       " 'proc_id_31_0_3': 0.0,\n",
       " 'proc_id_31_0_4': 1.0,\n",
       " 'M_0': 0.0,\n",
       " 'M_1': 0.0,\n",
       " 'M_2': 0.0,\n",
       " 'M_3': 0.0,\n",
       " 'M_4': 0.0,\n",
       " 'M_5': 0.0,\n",
       " 'M_6': 0.0,\n",
       " 'M_7': 1.0,\n",
       " 'M_8': 0.0,\n",
       " 'M_9': 1.0,\n",
       " 'card_0': 0.0,\n",
       " 'card_1': 0.0,\n",
       " 'card_2': 0.0,\n",
       " 'card_3': 0.0,\n",
       " 'card_4': 0.0,\n",
       " 'card_5': 0.0,\n",
       " 'card_6': 0.0,\n",
       " 'card_7': 0.0,\n",
       " 'card_8': 0.0,\n",
       " 'card_9': 0.0,\n",
       " 'card_10': 0.0,\n",
       " 'card_11': 1.0,\n",
       " 'card_12': 0.0,\n",
       " 'card_13': 0.0,\n",
       " 'card_14': 0.0,\n",
       " 'email_0': 0.0,\n",
       " 'email_1': 0.0,\n",
       " 'email_2': 0.0,\n",
       " 'email_3': 0.0,\n",
       " 'email_4': 0.0,\n",
       " 'email_5': 0.0,\n",
       " 'email_6': 0.0,\n",
       " 'email_7': 0.0,\n",
       " 'email_8': 0.0,\n",
       " 'email_9': 1.0,\n",
       " 'email_10': 0.0,\n",
       " 'Transaction_day_of_week_0': 0.0,\n",
       " 'Transaction_day_of_week_1': 1.0,\n",
       " 'Transaction_day_of_week_2': 1.0,\n",
       " 'Transaction_day_of_week_3': 1.0,\n",
       " 'Transaction_hour_0': 0.0,\n",
       " 'Transaction_hour_1': 1.0,\n",
       " 'Transaction_hour_2': 0.0,\n",
       " 'Transaction_hour_3': 0.0,\n",
       " 'Transaction_hour_4': 1.0,\n",
       " 'Transaction_hour_5': 0.0,\n",
       " 'N1': 836.0,\n",
       " 'N2': 9493.0,\n",
       " 'N3': 62.0,\n",
       " 'N4': 38516.0,\n",
       " 'N5': 958.0,\n",
       " 'N6': 10.0,\n",
       " 'N7': 13.0,\n",
       " 'N8': 0.7944,\n",
       " 'N9': 0.529,\n",
       " 'N10': 0.6426,\n",
       " 'N11': 0.5063,\n",
       " 'N12': 0.6035,\n",
       " 'N13': 1.0,\n",
       " 'N14': 1.0,\n",
       " 'N15': 1.0,\n",
       " 'N16': 1.0,\n",
       " 'N17': 0.375,\n",
       " 'N18': 1.0,\n",
       " 'N19': 1.0,\n",
       " 'N20': 0.55,\n",
       " 'N21': 0.561,\n",
       " 'N22': 0.549,\n",
       " 'N23': 0.562,\n",
       " 'R1': 0.6934,\n",
       " 'R2': 0.6904,\n",
       " 'R3': 0.4214,\n",
       " 'R4': 0.0818,\n",
       " 'R5': 0.464,\n",
       " 'R6': 0.372,\n",
       " 'R7': 1.967,\n",
       " 'R8': 0.6567,\n",
       " 'R9': 1.074,\n",
       " 'R10': 1.69,\n",
       " 'R11': 1.053,\n",
       " 'R12': 8636.0,\n",
       " 'R13': 0.6655,\n",
       " 'R14': 0.6772,\n",
       " 'R15': 0.0,\n",
       " 'R16': 2.332,\n",
       " 'R17': 0.677,\n",
       " 'R18': 0.7183,\n",
       " 'R19': 0.822,\n",
       " 'R20': 0.3347,\n",
       " 'R21': 0.527,\n",
       " 'R22': 0.2345,\n",
       " 'R23': 0.0,\n",
       " 'R24': 0.0,\n",
       " 'R25': 0.0,\n",
       " 'R26': 0.0,\n",
       " 'R27': 0.00475,\n",
       " 'R28': 0.0,\n",
       " 'R29': 2581777.0,\n",
       " 'R30': 0.0,\n",
       " 'R31': 0.0,\n",
       " 'R32': 0.4436,\n",
       " 'R33': 0.49,\n",
       " 'R34': 0.0,\n",
       " 'R35': 0.0,\n",
       " 'R36': 0.0,\n",
       " 'R37': 0.243,\n",
       " 'R38': 0.00411,\n",
       " 'R39': 0.0,\n",
       " 'R40': 0.2157,\n",
       " 'R41': 0.0,\n",
       " 'R42': 0.3757,\n",
       " 'R43': 0.0,\n",
       " 'R44': 0.306,\n",
       " 'R45': 0.4058,\n",
       " 'R46': 0.9,\n",
       " 'R47': 0.9,\n",
       " 'R48': 0.0,\n",
       " 'R49': 0.0,\n",
       " 'R50': 0.08484,\n",
       " 'R51': 0.9126,\n",
       " 'R52': 0.04108,\n",
       " 'R53': 0.0,\n",
       " 'R54': 0.8,\n",
       " 'R55': 0.0,\n",
       " 'R56': 0.956,\n",
       " 'R57': 0.0,\n",
       " 'R58': 0.7915,\n",
       " 'R59': 0.9165,\n",
       " 'R60': 1.444,\n",
       " 'R61': 1.47,\n",
       " 'R62': 0.0,\n",
       " 'R63': 0.0,\n",
       " 'R64': 0.0,\n",
       " 'R65': 1.025,\n",
       " 'R66': 0.1478,\n",
       " 'R67': 0.0,\n",
       " 'R68': 0.793,\n",
       " 'R69': 0.0,\n",
       " 'R70': 1.215,\n",
       " 'R71': 0.0,\n",
       " 'R72': 2.254,\n",
       " 'R73': 1.195}"
      ]
     },
     "execution_count": 27,
     "metadata": {},
     "output_type": "execute_result"
    }
   ],
   "source": [
    "fill_num = dict()\n",
    "for c in X_train.columns:\n",
    "    if c not in cat_ft:\n",
    "        fill_num[c] = X_train[c].median()\n",
    "fill_num"
   ]
  },
  {
   "cell_type": "code",
   "execution_count": 28,
   "metadata": {},
   "outputs": [
    {
     "data": {
      "text/plain": [
       "RandomForestClassifier(bootstrap=True, class_weight=None, criterion='gini',\n",
       "                       max_depth=7, max_features='auto', max_leaf_nodes=None,\n",
       "                       min_impurity_decrease=0.0, min_impurity_split=None,\n",
       "                       min_samples_leaf=1, min_samples_split=2,\n",
       "                       min_weight_fraction_leaf=0.0, n_estimators=300,\n",
       "                       n_jobs=-1, oob_score=True, random_state=42, verbose=0,\n",
       "                       warm_start=False)"
      ]
     },
     "execution_count": 28,
     "metadata": {},
     "output_type": "execute_result"
    }
   ],
   "source": [
    "model_rf.fit(X_train.fillna(fill_num), y_train)"
   ]
  },
  {
   "cell_type": "code",
   "execution_count": null,
   "metadata": {},
   "outputs": [],
   "source": [
    "logging.warning(\"Params: {}\".format(str(model_rf.get_params())))"
   ]
  },
  {
   "cell_type": "markdown",
   "metadata": {},
   "source": [
    "### Permitation Importance"
   ]
  },
  {
   "cell_type": "code",
   "execution_count": null,
   "metadata": {},
   "outputs": [],
   "source": [
    "perm_rf = PermutationImportance(model_rf).fit(X_test.fillna(fill_num), y_test)"
   ]
  },
  {
   "cell_type": "code",
   "execution_count": null,
   "metadata": {
    "scrolled": false
   },
   "outputs": [],
   "source": [
    "eli5.show_weights(perm_rf,feature_names=X_train.columns.tolist(),\n",
    "                  top=n)"
   ]
  },
  {
   "cell_type": "code",
   "execution_count": null,
   "metadata": {},
   "outputs": [],
   "source": [
    "logging.warning(\"Importances: {}\".format(str(perm_rf.feature_importances_)))"
   ]
  },
  {
   "cell_type": "code",
   "execution_count": null,
   "metadata": {},
   "outputs": [],
   "source": [
    "df_perm = pd.DataFrame({'feature': X_train.columns, 'Importance': perm_rf.feature_importances_}).sort_values('Importance', ascending=False)\n",
    "df_perm.head(20)"
   ]
  },
  {
   "cell_type": "code",
   "execution_count": null,
   "metadata": {},
   "outputs": [],
   "source": [
    "today = datetime.date.today()\n",
    "D = today.strftime('%Y%m%d')\n",
    "\n",
    "file_name = 'docs/{0}_PermitationImportance_Rf5.csv'.format(D)"
   ]
  },
  {
   "cell_type": "code",
   "execution_count": null,
   "metadata": {},
   "outputs": [],
   "source": [
    "df_perm.to_csv(file_name, header=True, index=None)"
   ]
  },
  {
   "cell_type": "code",
   "execution_count": null,
   "metadata": {},
   "outputs": [],
   "source": [
    "logging.warning(\"End\")"
   ]
  },
  {
   "cell_type": "code",
   "execution_count": null,
   "metadata": {},
   "outputs": [],
   "source": []
  }
 ],
 "metadata": {
  "kernelspec": {
   "display_name": "Python 3",
   "language": "python",
   "name": "python3"
  },
  "language_info": {
   "codemirror_mode": {
    "name": "ipython",
    "version": 3
   },
   "file_extension": ".py",
   "mimetype": "text/x-python",
   "name": "python",
   "nbconvert_exporter": "python",
   "pygments_lexer": "ipython3",
   "version": "3.6.8"
  }
 },
 "nbformat": 4,
 "nbformat_minor": 2
}
