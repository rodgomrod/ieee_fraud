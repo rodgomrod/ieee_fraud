{
 "cells": [
  {
   "cell_type": "markdown",
   "metadata": {},
   "source": [
    "# Permitation Importance"
   ]
  },
  {
   "cell_type": "markdown",
   "metadata": {},
   "source": [
    "### Libraries"
   ]
  },
  {
   "cell_type": "code",
   "execution_count": 1,
   "metadata": {},
   "outputs": [],
   "source": [
    "import warnings\n",
    "warnings.filterwarnings('ignore')\n",
    "\n",
    "import pandas as pd\n",
    "import numpy as np\n",
    "import matplotlib.pyplot as plt\n",
    "from collections import Counter, defaultdict\n",
    "import gc\n",
    "import logging\n",
    "from sklearn.ensemble import RandomForestClassifier\n",
    "from eli5.sklearn import PermutationImportance\n",
    "import lightgbm as lgb\n",
    "import eli5\n",
    "import datetime"
   ]
  },
  {
   "cell_type": "markdown",
   "metadata": {},
   "source": [
    "### Logging"
   ]
  },
  {
   "cell_type": "code",
   "execution_count": 2,
   "metadata": {},
   "outputs": [],
   "source": [
    "LOG_NAME = 'logs/Permutation_importances.log'\n",
    "logging.basicConfig(filename=LOG_NAME, level=logging.WARNING, format='%(asctime)s %(message)s')\n",
    "logging.warning(\"\")\n",
    "logging.warning(\"##### New Permutation Importance Study #####\")"
   ]
  },
  {
   "cell_type": "code",
   "execution_count": 3,
   "metadata": {},
   "outputs": [],
   "source": [
    "df_impt_first = pd.read_csv('docs/20190921_FeatureImportance_LGB.csv')"
   ]
  },
  {
   "cell_type": "code",
   "execution_count": 4,
   "metadata": {},
   "outputs": [],
   "source": [
    "X_cols=df_impt_first.feature[:900].tolist()"
   ]
  },
  {
   "cell_type": "code",
   "execution_count": 5,
   "metadata": {},
   "outputs": [],
   "source": [
    "def reduce_memory2(df):\n",
    "    print(\"Reduce_memory...\");\n",
    "    dict_types = dict()\n",
    "    for col in df.columns:\n",
    "        col_type = df[col].dtype\n",
    "        if col_type != object:\n",
    "            c_min = df[col].min()\n",
    "            c_max = df[col].max()\n",
    "            if str(col_type)[:3] == 'int':\n",
    "                if c_min > np.iinfo(np.int8).min and c_max < np.iinfo(np.int8).max:\n",
    "                    dict_types[col] = 'int8'\n",
    "                elif c_min > np.iinfo(np.int16).min and c_max < np.iinfo(np.int16).max:\n",
    "                    dict_types[col] = 'int16'\n",
    "                elif c_min > np.iinfo(np.int32).min and c_max < np.iinfo(np.int32).max:\n",
    "                    dict_types[col] = 'int32'\n",
    "                elif c_min > np.iinfo(np.int64).min and c_max < np.iinfo(np.int64).max:\n",
    "                    dict_types[col] = 'int64'\n",
    "            else:\n",
    "                if c_min > np.finfo(np.float16).min and c_max < np.finfo(np.float16).max:\n",
    "                    dict_types[col] = 'float16'\n",
    "                elif c_min > np.finfo(np.float32).min and c_max < np.finfo(np.float32).max:\n",
    "                    dict_types[col] = 'float32'\n",
    "                else:\n",
    "                    dict_types[col] = 'float64'\n",
    "    return dict_types"
   ]
  },
  {
   "cell_type": "markdown",
   "metadata": {},
   "source": [
    "### Data"
   ]
  },
  {
   "cell_type": "code",
   "execution_count": 6,
   "metadata": {},
   "outputs": [],
   "source": [
    "logging.warning(\"Studying synthetic most important features\")"
   ]
  },
  {
   "cell_type": "code",
   "execution_count": 7,
   "metadata": {},
   "outputs": [],
   "source": [
    "# train = pd.read_csv('input/train_ft_eng_6.csv.gz')"
   ]
  },
  {
   "cell_type": "code",
   "execution_count": 8,
   "metadata": {},
   "outputs": [
    {
     "name": "stdout",
     "output_type": "stream",
     "text": [
      "Reading chunk no: 0\n",
      "Reduce_memory...\n",
      "Reading chunk no: 1\n",
      "Reduce_memory...\n",
      "Reading chunk no: 2\n",
      "Reduce_memory...\n",
      "Reading chunk no: 3\n",
      "Reduce_memory...\n",
      "Reading chunk no: 4\n",
      "Reduce_memory...\n",
      "Reading chunk no: 5\n",
      "Reduce_memory...\n"
     ]
    }
   ],
   "source": [
    "train = pd.DataFrame()\n",
    "chunksize = 10 ** 5\n",
    "n = 0\n",
    "for chunk in pd.read_csv('input/train_ft_eng_6.csv.gz', chunksize=chunksize, usecols=X_cols+['isFraud','month']):\n",
    "    print('Reading chunk no: {}'.format(n))\n",
    "    chunk = chunk[chunk.month != 4]\n",
    "    train = pd.concat([train, chunk], axis=0)\n",
    "    dtyp = reduce_memory2(train)\n",
    "    train = train.astype(dtyp)\n",
    "    n+=1"
   ]
  },
  {
   "cell_type": "code",
   "execution_count": 9,
   "metadata": {},
   "outputs": [],
   "source": [
    "# train.to_csv('input/ft_eng_6_perm_imp.csv', header=True, index=None)"
   ]
  },
  {
   "cell_type": "code",
   "execution_count": 10,
   "metadata": {},
   "outputs": [],
   "source": [
    "# dict_types = reduce_memory2(train)\n",
    "# train = train.astype(dict_types)"
   ]
  },
  {
   "cell_type": "code",
   "execution_count": 11,
   "metadata": {},
   "outputs": [
    {
     "data": {
      "text/plain": [
       "0"
      ]
     },
     "execution_count": 11,
     "metadata": {},
     "output_type": "execute_result"
    }
   ],
   "source": [
    "gc.collect()"
   ]
  },
  {
   "cell_type": "code",
   "execution_count": 12,
   "metadata": {},
   "outputs": [],
   "source": [
    "first_drop_col = ['D9','id_24','id_25','id_07','id_08','id_21','id_26','id_27','id_23','id_22','dist2']"
   ]
  },
  {
   "cell_type": "code",
   "execution_count": 13,
   "metadata": {},
   "outputs": [],
   "source": [
    "drop_cols_new = ['TransactionDT', 'date', 'month','isFraud', 'date_fe1',\n",
    "#                  'addr1',\n",
    "#                  'addr2',\n",
    "#                  'card1',\n",
    "#                  'card2',\n",
    "#                  'card3',\n",
    "#                  'card4',\n",
    "#                  'card5',\n",
    "#                  'card6',\n",
    "                 'card1_fe1',\n",
    "                 'card2_fe1',\n",
    "                 'card3_fe1',\n",
    "                 'card4_fe1',\n",
    "                 'card5_fe1',\n",
    "                 'card6_fe1',\n",
    "                 'addr1_fe1',\n",
    "                 'addr2_fe1',\n",
    "                 'M1_fe1',\n",
    "                 'M2_fe1',\n",
    "                 'M3_fe1',\n",
    "                 'M4_fe1',\n",
    "                 'M5_fe1',\n",
    "                 'M6_fe1',\n",
    "                 'M7_fe1',\n",
    "                 'M8_fe1',\n",
    "                 'M9_fe1'\n",
    "                ] + first_drop_col"
   ]
  },
  {
   "cell_type": "code",
   "execution_count": 14,
   "metadata": {},
   "outputs": [],
   "source": [
    "select_cols = [x for x in train.columns if x not in drop_cols_new]"
   ]
  },
  {
   "cell_type": "code",
   "execution_count": 15,
   "metadata": {},
   "outputs": [],
   "source": [
    "# X = train[select_cols].replace(np.inf, np.nan)\n",
    "# y = train.isFraud\n",
    "# gc.collect()"
   ]
  },
  {
   "cell_type": "code",
   "execution_count": 16,
   "metadata": {},
   "outputs": [],
   "source": [
    "# cut_train_1 = train[(train.month < 4) | (train.month == 12)].shape[0]\n",
    "# cut_train_2 = train[(train.month > 4) & (train.month != 12)].index[0]\n",
    "# cut_train_1, cut_train_2"
   ]
  },
  {
   "cell_type": "code",
   "execution_count": 17,
   "metadata": {},
   "outputs": [
    {
     "data": {
      "text/plain": [
       "0"
      ]
     },
     "execution_count": 17,
     "metadata": {},
     "output_type": "execute_result"
    }
   ],
   "source": [
    "X_train = train[(train.month < 4) | (train.month == 12)][select_cols].replace(np.inf, np.nan)\n",
    "y_train = train[(train.month < 4) | (train.month == 12)]['isFraud']\n",
    "\n",
    "X_test = train[(train.month > 4) & (train.month != 12)][select_cols].replace(np.inf, np.nan)\n",
    "y_test = train[(train.month > 4) & (train.month != 12)]['isFraud']\n",
    "gc.collect()"
   ]
  },
  {
   "cell_type": "code",
   "execution_count": 18,
   "metadata": {},
   "outputs": [
    {
     "data": {
      "text/plain": [
       "((417559, 900), (89326, 900))"
      ]
     },
     "execution_count": 18,
     "metadata": {},
     "output_type": "execute_result"
    }
   ],
   "source": [
    "X_train.shape, X_test.shape"
   ]
  },
  {
   "cell_type": "code",
   "execution_count": 19,
   "metadata": {},
   "outputs": [
    {
     "data": {
      "text/plain": [
       "0"
      ]
     },
     "execution_count": 19,
     "metadata": {},
     "output_type": "execute_result"
    }
   ],
   "source": [
    "del train\n",
    "gc.collect()"
   ]
  },
  {
   "cell_type": "markdown",
   "metadata": {},
   "source": [
    "### Model"
   ]
  },
  {
   "cell_type": "markdown",
   "metadata": {},
   "source": [
    "#### LightGBM"
   ]
  },
  {
   "cell_type": "code",
   "execution_count": 20,
   "metadata": {},
   "outputs": [],
   "source": [
    "logging.warning(\"Model used to PermitationImportance: {}\".format('LightGBM'))"
   ]
  },
  {
   "cell_type": "code",
   "execution_count": 21,
   "metadata": {},
   "outputs": [],
   "source": [
    "params = {\n",
    "    'num_leaves': 191,\n",
    "    'max_depth': 12,\n",
    "    'max_leaf_nodes': 45,\n",
    "    'min_sample_leaf': 20,\n",
    "    'metric': ['AUC'],\n",
    "    'first_metric_only': True,\n",
    "    'n_estimators': 800,\n",
    "    'num_threads': -1,\n",
    "    'learning_rate': 0.01,\n",
    "    'colsample_bytree': 0.4,\n",
    "    'objective': 'xentropy',\n",
    "    'bagging_fraction': 0.7,\n",
    "    'bagging_freq': 5,\n",
    "    'importance_type': 'gain',\n",
    "    'bagging_seed': 42,\n",
    "    'random_state':42,\n",
    "    'seed': 42,\n",
    "    'feature_fraction_seed': 42,\n",
    "    'drop_seed': 42,\n",
    "    'data_random_seed': 42,\n",
    "}"
   ]
  },
  {
   "cell_type": "code",
   "execution_count": 22,
   "metadata": {},
   "outputs": [],
   "source": [
    "lgb_model = lgb.LGBMClassifier(**params)"
   ]
  },
  {
   "cell_type": "code",
   "execution_count": 23,
   "metadata": {},
   "outputs": [
    {
     "data": {
      "text/plain": [
       "LGBMClassifier(bagging_fraction=0.7, bagging_freq=5, bagging_seed=42,\n",
       "               boosting_type='gbdt', class_weight=None, colsample_bytree=0.4,\n",
       "               data_random_seed=42, drop_seed=42, feature_fraction_seed=42,\n",
       "               first_metric_only=True, importance_type='gain',\n",
       "               learning_rate=0.01, max_depth=12, max_leaf_nodes=45,\n",
       "               metric=['AUC'], min_child_samples=20, min_child_weight=0.001,\n",
       "               min_sample_leaf=20, min_split_gain=0.0, n_estimators=800,\n",
       "               n_jobs=-1, num_leaves=191, num_threads=-1, objective='xentropy',\n",
       "               random_state=42, reg_alpha=0.0, reg_lambda=0.0, seed=42,\n",
       "               silent=True, subsample=1.0, ...)"
      ]
     },
     "execution_count": 23,
     "metadata": {},
     "output_type": "execute_result"
    }
   ],
   "source": [
    "lgb_model.fit(X_train.fillna(-1), y_train)"
   ]
  },
  {
   "cell_type": "code",
   "execution_count": 24,
   "metadata": {},
   "outputs": [],
   "source": [
    "logging.warning(\"Params: {}\".format(str(lgb_model.get_params())))"
   ]
  },
  {
   "cell_type": "code",
   "execution_count": 25,
   "metadata": {},
   "outputs": [
    {
     "data": {
      "text/html": [
       "<div>\n",
       "<style scoped>\n",
       "    .dataframe tbody tr th:only-of-type {\n",
       "        vertical-align: middle;\n",
       "    }\n",
       "\n",
       "    .dataframe tbody tr th {\n",
       "        vertical-align: top;\n",
       "    }\n",
       "\n",
       "    .dataframe thead th {\n",
       "        text-align: right;\n",
       "    }\n",
       "</style>\n",
       "<table border=\"1\" class=\"dataframe\">\n",
       "  <thead>\n",
       "    <tr style=\"text-align: right;\">\n",
       "      <th></th>\n",
       "      <th>feature</th>\n",
       "      <th>Importance</th>\n",
       "    </tr>\n",
       "  </thead>\n",
       "  <tbody>\n",
       "    <tr>\n",
       "      <td>25</td>\n",
       "      <td>PCA_27</td>\n",
       "      <td>357286.566106</td>\n",
       "    </tr>\n",
       "    <tr>\n",
       "      <td>273</td>\n",
       "      <td>C13_div_C2</td>\n",
       "      <td>133802.421958</td>\n",
       "    </tr>\n",
       "    <tr>\n",
       "      <td>237</td>\n",
       "      <td>C1_div_C10</td>\n",
       "      <td>108821.923609</td>\n",
       "    </tr>\n",
       "    <tr>\n",
       "      <td>240</td>\n",
       "      <td>C1_div_C13</td>\n",
       "      <td>86346.992113</td>\n",
       "    </tr>\n",
       "    <tr>\n",
       "      <td>241</td>\n",
       "      <td>C1_div_C14</td>\n",
       "      <td>81697.283666</td>\n",
       "    </tr>\n",
       "    <tr>\n",
       "      <td>280</td>\n",
       "      <td>C14_div_C2</td>\n",
       "      <td>65022.896727</td>\n",
       "    </tr>\n",
       "    <tr>\n",
       "      <td>26</td>\n",
       "      <td>C1</td>\n",
       "      <td>60518.989244</td>\n",
       "    </tr>\n",
       "    <tr>\n",
       "      <td>21</td>\n",
       "      <td>PCA_23</td>\n",
       "      <td>38846.463498</td>\n",
       "    </tr>\n",
       "    <tr>\n",
       "      <td>126</td>\n",
       "      <td>V294</td>\n",
       "      <td>36622.421739</td>\n",
       "    </tr>\n",
       "    <tr>\n",
       "      <td>141</td>\n",
       "      <td>V317</td>\n",
       "      <td>35946.754977</td>\n",
       "    </tr>\n",
       "    <tr>\n",
       "      <td>283</td>\n",
       "      <td>C14_div_C6</td>\n",
       "      <td>27970.334550</td>\n",
       "    </tr>\n",
       "    <tr>\n",
       "      <td>259</td>\n",
       "      <td>C11_div_C13</td>\n",
       "      <td>27918.651939</td>\n",
       "    </tr>\n",
       "    <tr>\n",
       "      <td>60</td>\n",
       "      <td>TransactionAmt</td>\n",
       "      <td>25936.680979</td>\n",
       "    </tr>\n",
       "    <tr>\n",
       "      <td>133</td>\n",
       "      <td>V308</td>\n",
       "      <td>25799.784473</td>\n",
       "    </tr>\n",
       "    <tr>\n",
       "      <td>184</td>\n",
       "      <td>addr1</td>\n",
       "      <td>24349.088025</td>\n",
       "    </tr>\n",
       "    <tr>\n",
       "      <td>243</td>\n",
       "      <td>C1_div_C4</td>\n",
       "      <td>23987.049037</td>\n",
       "    </tr>\n",
       "    <tr>\n",
       "      <td>245</td>\n",
       "      <td>C1_div_C6</td>\n",
       "      <td>23407.150422</td>\n",
       "    </tr>\n",
       "    <tr>\n",
       "      <td>276</td>\n",
       "      <td>C13_div_C6</td>\n",
       "      <td>20761.731293</td>\n",
       "    </tr>\n",
       "    <tr>\n",
       "      <td>107</td>\n",
       "      <td>V258</td>\n",
       "      <td>20071.093494</td>\n",
       "    </tr>\n",
       "    <tr>\n",
       "      <td>756</td>\n",
       "      <td>TransactionAmt_std_mean_full</td>\n",
       "      <td>18830.208103</td>\n",
       "    </tr>\n",
       "  </tbody>\n",
       "</table>\n",
       "</div>"
      ],
      "text/plain": [
       "                          feature     Importance\n",
       "25                         PCA_27  357286.566106\n",
       "273                    C13_div_C2  133802.421958\n",
       "237                    C1_div_C10  108821.923609\n",
       "240                    C1_div_C13   86346.992113\n",
       "241                    C1_div_C14   81697.283666\n",
       "280                    C14_div_C2   65022.896727\n",
       "26                             C1   60518.989244\n",
       "21                         PCA_23   38846.463498\n",
       "126                          V294   36622.421739\n",
       "141                          V317   35946.754977\n",
       "283                    C14_div_C6   27970.334550\n",
       "259                   C11_div_C13   27918.651939\n",
       "60                 TransactionAmt   25936.680979\n",
       "133                          V308   25799.784473\n",
       "184                         addr1   24349.088025\n",
       "243                     C1_div_C4   23987.049037\n",
       "245                     C1_div_C6   23407.150422\n",
       "276                    C13_div_C6   20761.731293\n",
       "107                          V258   20071.093494\n",
       "756  TransactionAmt_std_mean_full   18830.208103"
      ]
     },
     "execution_count": 25,
     "metadata": {},
     "output_type": "execute_result"
    }
   ],
   "source": [
    "df_perm = pd.DataFrame({'feature': X_train.columns, 'Importance': lgb_model.feature_importances_}).sort_values('Importance', ascending=False)\n",
    "df_perm.head(20)"
   ]
  },
  {
   "cell_type": "code",
   "execution_count": 26,
   "metadata": {},
   "outputs": [],
   "source": [
    "today = datetime.date.today()\n",
    "D = today.strftime('%Y%m%d')\n",
    "\n",
    "file_name = 'docs/{0}_FeatureImportance_LGB_v2.csv'.format(D)\n",
    "df_perm.to_csv(file_name, header=True, index=None)"
   ]
  },
  {
   "cell_type": "markdown",
   "metadata": {},
   "source": [
    "#### RandomForest"
   ]
  },
  {
   "cell_type": "code",
   "execution_count": 23,
   "metadata": {},
   "outputs": [],
   "source": [
    "# logging.warning(\"Used columns: {}\".format(X_cols))"
   ]
  },
  {
   "cell_type": "code",
   "execution_count": 24,
   "metadata": {},
   "outputs": [],
   "source": [
    "logging.warning(\"Model used to PermitationImportance: {}\".format('Random Forest'))"
   ]
  },
  {
   "cell_type": "code",
   "execution_count": 25,
   "metadata": {},
   "outputs": [],
   "source": [
    "model_rf = RandomForestClassifier(n_estimators=200, oob_score=True, n_jobs=-1, random_state=42, max_depth=7)"
   ]
  },
  {
   "cell_type": "code",
   "execution_count": 26,
   "metadata": {
    "scrolled": true
   },
   "outputs": [],
   "source": [
    "fill_num = dict()\n",
    "for c in X_train.columns:\n",
    "    fill_num[c] = X_train[c].median()"
   ]
  },
  {
   "cell_type": "code",
   "execution_count": 27,
   "metadata": {},
   "outputs": [
    {
     "data": {
      "text/plain": [
       "RandomForestClassifier(bootstrap=True, class_weight=None, criterion='gini',\n",
       "                       max_depth=7, max_features='auto', max_leaf_nodes=None,\n",
       "                       min_impurity_decrease=0.0, min_impurity_split=None,\n",
       "                       min_samples_leaf=1, min_samples_split=2,\n",
       "                       min_weight_fraction_leaf=0.0, n_estimators=200,\n",
       "                       n_jobs=-1, oob_score=True, random_state=42, verbose=0,\n",
       "                       warm_start=False)"
      ]
     },
     "execution_count": 27,
     "metadata": {},
     "output_type": "execute_result"
    }
   ],
   "source": [
    "model_rf.fit(X_train.fillna(fill_num), y_train)"
   ]
  },
  {
   "cell_type": "code",
   "execution_count": 28,
   "metadata": {},
   "outputs": [],
   "source": [
    "logging.warning(\"Params: {}\".format(str(model_rf.get_params())))"
   ]
  },
  {
   "cell_type": "markdown",
   "metadata": {},
   "source": [
    "### Permitation Importance"
   ]
  },
  {
   "cell_type": "code",
   "execution_count": null,
   "metadata": {},
   "outputs": [],
   "source": [
    "perm_rf = PermutationImportance(lgb_model).fit(X_test.fillna(-1), y_test)"
   ]
  },
  {
   "cell_type": "code",
   "execution_count": null,
   "metadata": {
    "scrolled": false
   },
   "outputs": [],
   "source": [
    "# eli5.show_weights(perm_rf,feature_names=X_train.columns.tolist(),\n",
    "#                   top=500)"
   ]
  },
  {
   "cell_type": "code",
   "execution_count": null,
   "metadata": {},
   "outputs": [],
   "source": [
    "logging.warning(\"Importances: {}\".format(str(perm_rf.feature_importances_)))"
   ]
  },
  {
   "cell_type": "code",
   "execution_count": null,
   "metadata": {},
   "outputs": [],
   "source": [
    "df_perm = pd.DataFrame({'feature': X_train.columns, 'Importance': perm_rf.feature_importances_}).sort_values('Importance', ascending=False)\n",
    "df_perm.head(20)"
   ]
  },
  {
   "cell_type": "code",
   "execution_count": null,
   "metadata": {},
   "outputs": [],
   "source": [
    "today = datetime.date.today()\n",
    "D = today.strftime('%Y%m%d')\n",
    "\n",
    "file_name = 'docs/{0}_PermitationImportance_LGB.csv'.format(D)"
   ]
  },
  {
   "cell_type": "code",
   "execution_count": null,
   "metadata": {},
   "outputs": [],
   "source": [
    "df_perm.to_csv(file_name, header=True, index=None)"
   ]
  },
  {
   "cell_type": "code",
   "execution_count": null,
   "metadata": {},
   "outputs": [],
   "source": [
    "logging.warning(\"End\")"
   ]
  },
  {
   "cell_type": "code",
   "execution_count": null,
   "metadata": {},
   "outputs": [],
   "source": []
  }
 ],
 "metadata": {
  "kernelspec": {
   "display_name": "Python 3",
   "language": "python",
   "name": "python3"
  },
  "language_info": {
   "codemirror_mode": {
    "name": "ipython",
    "version": 3
   },
   "file_extension": ".py",
   "mimetype": "text/x-python",
   "name": "python",
   "nbconvert_exporter": "python",
   "pygments_lexer": "ipython3",
   "version": "3.6.8"
  }
 },
 "nbformat": 4,
 "nbformat_minor": 1
}
