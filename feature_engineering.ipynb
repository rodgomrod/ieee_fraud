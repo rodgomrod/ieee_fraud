{
 "cells": [
  {
   "cell_type": "code",
   "execution_count": 5,
   "metadata": {},
   "outputs": [],
   "source": [
    "import warnings\n",
    "warnings.filterwarnings('ignore')\n",
    "\n",
    "# import pandas as pd\n",
    "# import ray\n",
    "# ray.init(num_cpus=4)\n",
    "import modin.pandas as pd\n",
    "import numpy as np\n",
    "import matplotlib.pyplot as plt\n",
    "from collections import Counter, defaultdict\n",
    "import gc\n",
    "\n",
    "from utils.schemas import *\n",
    "from utils.functions import *"
   ]
  },
  {
   "cell_type": "code",
   "execution_count": 2,
   "metadata": {},
   "outputs": [],
   "source": [
    "data_folder = 'input'"
   ]
  },
  {
   "cell_type": "code",
   "execution_count": 3,
   "metadata": {},
   "outputs": [],
   "source": [
    "train = pd.read_csv(data_folder+'/train_generated_1.csv', dtype = schema_generated_1)#.sort_values('TransactionDT')\n",
    "test = pd.read_csv(data_folder+'/test_generated_1.csv', dtype = schema_generated_1)#.sort_values('TransactionDT')"
   ]
  },
  {
   "cell_type": "code",
   "execution_count": 4,
   "metadata": {},
   "outputs": [
    {
     "data": {
      "text/plain": [
       "((590540, 558), (506691, 558))"
      ]
     },
     "execution_count": 4,
     "metadata": {},
     "output_type": "execute_result"
    }
   ],
   "source": [
    "train.shape, test.shape"
   ]
  },
  {
   "cell_type": "code",
   "execution_count": 6,
   "metadata": {},
   "outputs": [
    {
     "data": {
      "text/plain": [
       "(1097231, 558)"
      ]
     },
     "execution_count": 6,
     "metadata": {},
     "output_type": "execute_result"
    }
   ],
   "source": [
    "train_index = train.shape[0]\n",
    "test_index = test.shape[0]\n",
    "df = pd.concat([train, test], axis=0)\n",
    "df.shape"
   ]
  },
  {
   "cell_type": "code",
   "execution_count": 7,
   "metadata": {},
   "outputs": [],
   "source": [
    "old_cols = df.columns"
   ]
  },
  {
   "cell_type": "code",
   "execution_count": 8,
   "metadata": {},
   "outputs": [
    {
     "data": {
      "text/plain": [
       "7"
      ]
     },
     "execution_count": 8,
     "metadata": {},
     "output_type": "execute_result"
    }
   ],
   "source": [
    "del train\n",
    "del test\n",
    "gc.collect()"
   ]
  },
  {
   "cell_type": "code",
   "execution_count": 9,
   "metadata": {},
   "outputs": [],
   "source": [
    "id_cols = ['addr1', 'addr2', 'card1', 'P_emaildomain']"
   ]
  },
  {
   "cell_type": "code",
   "execution_count": 10,
   "metadata": {},
   "outputs": [
    {
     "data": {
      "text/html": [
       "<div>\n",
       "<style scoped>\n",
       "    .dataframe tbody tr th:only-of-type {\n",
       "        vertical-align: middle;\n",
       "    }\n",
       "\n",
       "    .dataframe tbody tr th {\n",
       "        vertical-align: top;\n",
       "    }\n",
       "\n",
       "    .dataframe thead th {\n",
       "        text-align: right;\n",
       "    }\n",
       "</style>\n",
       "<table border=\"1\" class=\"dataframe\">\n",
       "  <thead>\n",
       "    <tr style=\"text-align: right;\">\n",
       "      <th></th>\n",
       "      <th>C1</th>\n",
       "      <th>C10</th>\n",
       "      <th>C11</th>\n",
       "      <th>C12</th>\n",
       "      <th>C13</th>\n",
       "      <th>C14</th>\n",
       "      <th>C2</th>\n",
       "      <th>C3</th>\n",
       "      <th>C4</th>\n",
       "      <th>C5</th>\n",
       "      <th>...</th>\n",
       "      <th>id_38_fe2</th>\n",
       "      <th>R_emaildomain_0_fe2</th>\n",
       "      <th>device_version_fe2</th>\n",
       "      <th>device_name_fe2</th>\n",
       "      <th>P_emaildomain_0_fe2</th>\n",
       "      <th>P_emaildomain_1_fe2</th>\n",
       "      <th>proc_id_30_0_fe2</th>\n",
       "      <th>proc_id_30_1_fe2</th>\n",
       "      <th>R_emaildomain_1_fe2</th>\n",
       "      <th>proc_id_31_0_fe2</th>\n",
       "    </tr>\n",
       "  </thead>\n",
       "  <tbody>\n",
       "    <tr>\n",
       "      <td>0</td>\n",
       "      <td>1.0</td>\n",
       "      <td>0.0</td>\n",
       "      <td>2.0</td>\n",
       "      <td>0.0</td>\n",
       "      <td>1.0</td>\n",
       "      <td>1.0</td>\n",
       "      <td>1.0</td>\n",
       "      <td>0.0</td>\n",
       "      <td>0.0</td>\n",
       "      <td>0.0</td>\n",
       "      <td>...</td>\n",
       "      <td>0</td>\n",
       "      <td>0</td>\n",
       "      <td>0</td>\n",
       "      <td>0</td>\n",
       "      <td>2</td>\n",
       "      <td>1</td>\n",
       "      <td>0</td>\n",
       "      <td>0</td>\n",
       "      <td>0</td>\n",
       "      <td>0</td>\n",
       "    </tr>\n",
       "    <tr>\n",
       "      <td>1</td>\n",
       "      <td>1.0</td>\n",
       "      <td>0.0</td>\n",
       "      <td>1.0</td>\n",
       "      <td>0.0</td>\n",
       "      <td>1.0</td>\n",
       "      <td>1.0</td>\n",
       "      <td>1.0</td>\n",
       "      <td>0.0</td>\n",
       "      <td>0.0</td>\n",
       "      <td>0.0</td>\n",
       "      <td>...</td>\n",
       "      <td>0</td>\n",
       "      <td>0</td>\n",
       "      <td>0</td>\n",
       "      <td>0</td>\n",
       "      <td>0</td>\n",
       "      <td>0</td>\n",
       "      <td>0</td>\n",
       "      <td>0</td>\n",
       "      <td>0</td>\n",
       "      <td>0</td>\n",
       "    </tr>\n",
       "    <tr>\n",
       "      <td>2</td>\n",
       "      <td>1.0</td>\n",
       "      <td>0.0</td>\n",
       "      <td>1.0</td>\n",
       "      <td>0.0</td>\n",
       "      <td>1.0</td>\n",
       "      <td>1.0</td>\n",
       "      <td>1.0</td>\n",
       "      <td>0.0</td>\n",
       "      <td>0.0</td>\n",
       "      <td>0.0</td>\n",
       "      <td>...</td>\n",
       "      <td>0</td>\n",
       "      <td>0</td>\n",
       "      <td>0</td>\n",
       "      <td>0</td>\n",
       "      <td>8</td>\n",
       "      <td>0</td>\n",
       "      <td>0</td>\n",
       "      <td>0</td>\n",
       "      <td>0</td>\n",
       "      <td>0</td>\n",
       "    </tr>\n",
       "    <tr>\n",
       "      <td>3</td>\n",
       "      <td>2.0</td>\n",
       "      <td>0.0</td>\n",
       "      <td>1.0</td>\n",
       "      <td>0.0</td>\n",
       "      <td>25.0</td>\n",
       "      <td>1.0</td>\n",
       "      <td>5.0</td>\n",
       "      <td>0.0</td>\n",
       "      <td>0.0</td>\n",
       "      <td>0.0</td>\n",
       "      <td>...</td>\n",
       "      <td>0</td>\n",
       "      <td>0</td>\n",
       "      <td>0</td>\n",
       "      <td>0</td>\n",
       "      <td>1</td>\n",
       "      <td>0</td>\n",
       "      <td>0</td>\n",
       "      <td>0</td>\n",
       "      <td>0</td>\n",
       "      <td>0</td>\n",
       "    </tr>\n",
       "    <tr>\n",
       "      <td>4</td>\n",
       "      <td>1.0</td>\n",
       "      <td>1.0</td>\n",
       "      <td>1.0</td>\n",
       "      <td>0.0</td>\n",
       "      <td>1.0</td>\n",
       "      <td>1.0</td>\n",
       "      <td>1.0</td>\n",
       "      <td>0.0</td>\n",
       "      <td>0.0</td>\n",
       "      <td>0.0</td>\n",
       "      <td>...</td>\n",
       "      <td>2</td>\n",
       "      <td>0</td>\n",
       "      <td>2</td>\n",
       "      <td>3</td>\n",
       "      <td>0</td>\n",
       "      <td>0</td>\n",
       "      <td>7</td>\n",
       "      <td>4</td>\n",
       "      <td>0</td>\n",
       "      <td>8</td>\n",
       "    </tr>\n",
       "  </tbody>\n",
       "</table>\n",
       "<p>5 rows × 558 columns</p>\n",
       "</div>"
      ],
      "text/plain": [
       "    C1  C10  C11  C12   C13  C14   C2   C3   C4   C5  ...  id_38_fe2  \\\n",
       "0  1.0  0.0  2.0  0.0   1.0  1.0  1.0  0.0  0.0  0.0  ...          0   \n",
       "1  1.0  0.0  1.0  0.0   1.0  1.0  1.0  0.0  0.0  0.0  ...          0   \n",
       "2  1.0  0.0  1.0  0.0   1.0  1.0  1.0  0.0  0.0  0.0  ...          0   \n",
       "3  2.0  0.0  1.0  0.0  25.0  1.0  5.0  0.0  0.0  0.0  ...          0   \n",
       "4  1.0  1.0  1.0  0.0   1.0  1.0  1.0  0.0  0.0  0.0  ...          2   \n",
       "\n",
       "   R_emaildomain_0_fe2  device_version_fe2  device_name_fe2  \\\n",
       "0                    0                   0                0   \n",
       "1                    0                   0                0   \n",
       "2                    0                   0                0   \n",
       "3                    0                   0                0   \n",
       "4                    0                   2                3   \n",
       "\n",
       "   P_emaildomain_0_fe2  P_emaildomain_1_fe2  proc_id_30_0_fe2  \\\n",
       "0                    2                    1                 0   \n",
       "1                    0                    0                 0   \n",
       "2                    8                    0                 0   \n",
       "3                    1                    0                 0   \n",
       "4                    0                    0                 7   \n",
       "\n",
       "   proc_id_30_1_fe2  R_emaildomain_1_fe2  proc_id_31_0_fe2  \n",
       "0                 0                    0                 0  \n",
       "1                 0                    0                 0  \n",
       "2                 0                    0                 0  \n",
       "3                 0                    0                 0  \n",
       "4                 4                    0                 8  \n",
       "\n",
       "[5 rows x 558 columns]"
      ]
     },
     "execution_count": 10,
     "metadata": {},
     "output_type": "execute_result"
    }
   ],
   "source": [
    "df.head()"
   ]
  },
  {
   "cell_type": "code",
   "execution_count": 17,
   "metadata": {},
   "outputs": [
    {
     "data": {
      "text/plain": [
       "0"
      ]
     },
     "execution_count": 17,
     "metadata": {},
     "output_type": "execute_result"
    }
   ],
   "source": [
    "gc.collect()"
   ]
  },
  {
   "cell_type": "code",
   "execution_count": 18,
   "metadata": {},
   "outputs": [],
   "source": [
    "def plot_col(col):\n",
    "    fig, ax = plt.subplots()\n",
    "    fig.set_size_inches(15, 6)\n",
    "    ax.plot(df[df.isFraud == 0].TransactionDT, df[df.isFraud == 0][col])\n",
    "    ax.plot(df[df.isFraud == 1].TransactionDT, df[df.isFraud == 1][col])\n",
    "    \n",
    "    ax.plot(df[df.isFraud.isna()].TransactionDT, df[df.isFraud.isna()][col])\n",
    "    ax.plot(df[df.isFraud.isna()].TransactionDT, df[df.isFraud.isna()][col])\n",
    "    plt.show()\n",
    "    gc.collect()"
   ]
  },
  {
   "cell_type": "code",
   "execution_count": 11,
   "metadata": {},
   "outputs": [],
   "source": [
    "df['Transaction_day_of_week'] = np.floor((df['TransactionDT'] / (3600 * 24) - 1) % 7)\n",
    "df['Transaction_hour'] = np.floor(df['TransactionDT'] / 3600) % 24"
   ]
  },
  {
   "cell_type": "code",
   "execution_count": 12,
   "metadata": {},
   "outputs": [],
   "source": [
    "cols1 = [x for x in df.columns if 'card' in x and 'fe' not in x]\n",
    "df['N1'] = df.groupby(cols1)['TransactionDT'].transform('count').astype(np.uint32)"
   ]
  },
  {
   "cell_type": "code",
   "execution_count": 13,
   "metadata": {},
   "outputs": [],
   "source": [
    "cols1 = [x for x in df.columns if 'addr' in x]\n",
    "df['N2'] = df.groupby(cols1)['TransactionDT'].transform('count').astype(np.uint32)"
   ]
  },
  {
   "cell_type": "code",
   "execution_count": 14,
   "metadata": {},
   "outputs": [],
   "source": [
    "cols1 = [x for x in df.columns if 'C' in x and 'Product' not in x]\n",
    "df['N3'] = df.groupby(cols1)['TransactionDT'].transform('count').fillna(df.groupby(cols1)['TransactionDT'].transform('count').isna().sum()).astype(np.uint32)"
   ]
  },
  {
   "cell_type": "code",
   "execution_count": 15,
   "metadata": {},
   "outputs": [],
   "source": [
    "cols1 = [x for x in df.columns if 'mail' in x]\n",
    "df['N4'] = df.groupby(cols1)['TransactionDT'].transform('count').astype(np.uint32)"
   ]
  },
  {
   "cell_type": "code",
   "execution_count": 16,
   "metadata": {},
   "outputs": [],
   "source": [
    "cols1 = ['P_emaildomain', 'R_emaildomain', 'addr1']\n",
    "df['N5'] = df.groupby(cols1)['TransactionDT'].transform('count').astype(np.uint32)"
   ]
  },
  {
   "cell_type": "code",
   "execution_count": 17,
   "metadata": {},
   "outputs": [],
   "source": [
    "cols1 = ['P_emaildomain', 'R_emaildomain', 'addr1', 'card1']\n",
    "df['N6'] = df.groupby(cols1)['TransactionDT'].transform('count').astype(np.uint32)"
   ]
  },
  {
   "cell_type": "code",
   "execution_count": 29,
   "metadata": {},
   "outputs": [],
   "source": [
    "cols1 = ['addr1', 'addr2', 'card1', 'P_emaildomain']\n",
    "df['N7'] = df.groupby(cols1)['TransactionDT'].transform('count').astype(np.uint16)"
   ]
  },
  {
   "cell_type": "markdown",
   "metadata": {},
   "source": [
    "#### V columns"
   ]
  },
  {
   "cell_type": "code",
   "execution_count": 53,
   "metadata": {},
   "outputs": [],
   "source": [
    "# groups V\n",
    "cols1 = ['V{}'.format(x) for x in range(1,12)]\n",
    "cols2 = ['V{}'.format(x) for x in range(12,35)]\n",
    "cols3 = ['V{}'.format(x) for x in range(35,53)]\n",
    "cols4 = ['V{}'.format(x) for x in range(53,75)]\n",
    "cols5 = ['V{}'.format(x) for x in range(75,95)]\n",
    "cols6 = ['V{}'.format(x) for x in range(95,138)]\n",
    "cols7 = ['V{}'.format(x) for x in range(138,167)]\n",
    "cols8 = ['V{}'.format(x) for x in range(167,217)]\n",
    "cols9 = ['V{}'.format(x) for x in range(217,279)]\n",
    "cols10 = ['V{}'.format(x) for x in range(279,322)]\n",
    "cols11 = ['V{}'.format(x) for x in range(322,340)]"
   ]
  },
  {
   "cell_type": "code",
   "execution_count": 54,
   "metadata": {},
   "outputs": [],
   "source": [
    "# Binary V\n",
    "bin_v = ['V1', 'V14', 'V41', 'V65', 'V88', 'V107', 'V305']"
   ]
  },
  {
   "cell_type": "code",
   "execution_count": 55,
   "metadata": {},
   "outputs": [
    {
     "data": {
      "text/plain": [
       "0"
      ]
     },
     "execution_count": 55,
     "metadata": {},
     "output_type": "execute_result"
    }
   ],
   "source": [
    "df['N8'] = df.groupby(cols1)['TransactionDT'].transform('count')\n",
    "df['N9'] = df.groupby(cols2)['TransactionDT'].transform('count')\n",
    "df['N10'] = df.groupby(cols3)['TransactionDT'].transform('count')\n",
    "df['N11'] = df.groupby(cols4)['TransactionDT'].transform('count')\n",
    "df['N12'] = df.groupby(cols5)['TransactionDT'].transform('count')\n",
    "df['N13'] = df.groupby(cols6)['TransactionDT'].transform('count')\n",
    "df['N14'] = df.groupby(cols7)['TransactionDT'].transform('count')\n",
    "df['N15'] = df.groupby(cols8)['TransactionDT'].transform('count')\n",
    "df['N16'] = df.groupby(cols9)['TransactionDT'].transform('count')\n",
    "df['N17'] = df.groupby(cols10)['TransactionDT'].transform('count')\n",
    "df['N18'] = df.groupby(cols11)['TransactionDT'].transform('count')\n",
    "df['N19'] = df.groupby(bin_v)['TransactionDT'].transform('count')\n",
    "gc.collect()"
   ]
  },
  {
   "cell_type": "code",
   "execution_count": 70,
   "metadata": {},
   "outputs": [
    {
     "data": {
      "text/plain": [
       "0         1.0\n",
       "1         1.0\n",
       "2         1.0\n",
       "3         1.0\n",
       "4         NaN\n",
       "         ... \n",
       "506686    1.0\n",
       "506687    1.0\n",
       "506688    1.0\n",
       "506689    1.0\n",
       "506690    1.0\n",
       "Name: V14, Length: 1097231, dtype: float16"
      ]
     },
     "execution_count": 70,
     "metadata": {},
     "output_type": "execute_result"
    }
   ],
   "source": [
    "df.V14"
   ]
  },
  {
   "cell_type": "code",
   "execution_count": 68,
   "metadata": {},
   "outputs": [
    {
     "data": {
      "text/html": [
       "<div>\n",
       "<style scoped>\n",
       "    .dataframe tbody tr th:only-of-type {\n",
       "        vertical-align: middle;\n",
       "    }\n",
       "\n",
       "    .dataframe tbody tr th {\n",
       "        vertical-align: top;\n",
       "    }\n",
       "\n",
       "    .dataframe thead th {\n",
       "        text-align: right;\n",
       "    }\n",
       "</style>\n",
       "<table border=\"1\" class=\"dataframe\">\n",
       "  <thead>\n",
       "    <tr style=\"text-align: right;\">\n",
       "      <th></th>\n",
       "      <th>C1</th>\n",
       "      <th>C10</th>\n",
       "      <th>C11</th>\n",
       "      <th>C12</th>\n",
       "      <th>C13</th>\n",
       "      <th>C14</th>\n",
       "      <th>C2</th>\n",
       "      <th>C3</th>\n",
       "      <th>C4</th>\n",
       "      <th>C5</th>\n",
       "      <th>...</th>\n",
       "      <th>N10</th>\n",
       "      <th>N11</th>\n",
       "      <th>N12</th>\n",
       "      <th>N13</th>\n",
       "      <th>N14</th>\n",
       "      <th>N15</th>\n",
       "      <th>N16</th>\n",
       "      <th>N17</th>\n",
       "      <th>N18</th>\n",
       "      <th>N19</th>\n",
       "    </tr>\n",
       "  </thead>\n",
       "  <tbody>\n",
       "    <tr>\n",
       "      <td>0</td>\n",
       "      <td>1.0</td>\n",
       "      <td>0.0</td>\n",
       "      <td>2.0</td>\n",
       "      <td>0.0</td>\n",
       "      <td>1.0</td>\n",
       "      <td>1.0</td>\n",
       "      <td>1.0</td>\n",
       "      <td>0.0</td>\n",
       "      <td>0.0</td>\n",
       "      <td>0.0</td>\n",
       "      <td>...</td>\n",
       "      <td>NaN</td>\n",
       "      <td>225048.0</td>\n",
       "      <td>42088.0</td>\n",
       "      <td>142.0</td>\n",
       "      <td>NaN</td>\n",
       "      <td>NaN</td>\n",
       "      <td>NaN</td>\n",
       "      <td>46.0</td>\n",
       "      <td>NaN</td>\n",
       "      <td>NaN</td>\n",
       "    </tr>\n",
       "    <tr>\n",
       "      <td>1</td>\n",
       "      <td>1.0</td>\n",
       "      <td>0.0</td>\n",
       "      <td>1.0</td>\n",
       "      <td>0.0</td>\n",
       "      <td>1.0</td>\n",
       "      <td>1.0</td>\n",
       "      <td>1.0</td>\n",
       "      <td>0.0</td>\n",
       "      <td>0.0</td>\n",
       "      <td>0.0</td>\n",
       "      <td>...</td>\n",
       "      <td>79639.0</td>\n",
       "      <td>64087.0</td>\n",
       "      <td>77715.0</td>\n",
       "      <td>674969.0</td>\n",
       "      <td>NaN</td>\n",
       "      <td>NaN</td>\n",
       "      <td>NaN</td>\n",
       "      <td>261168.0</td>\n",
       "      <td>NaN</td>\n",
       "      <td>NaN</td>\n",
       "    </tr>\n",
       "    <tr>\n",
       "      <td>2</td>\n",
       "      <td>1.0</td>\n",
       "      <td>0.0</td>\n",
       "      <td>1.0</td>\n",
       "      <td>0.0</td>\n",
       "      <td>1.0</td>\n",
       "      <td>1.0</td>\n",
       "      <td>1.0</td>\n",
       "      <td>0.0</td>\n",
       "      <td>0.0</td>\n",
       "      <td>0.0</td>\n",
       "      <td>...</td>\n",
       "      <td>214173.0</td>\n",
       "      <td>225048.0</td>\n",
       "      <td>198236.0</td>\n",
       "      <td>674969.0</td>\n",
       "      <td>NaN</td>\n",
       "      <td>NaN</td>\n",
       "      <td>NaN</td>\n",
       "      <td>261168.0</td>\n",
       "      <td>NaN</td>\n",
       "      <td>534000.0</td>\n",
       "    </tr>\n",
       "    <tr>\n",
       "      <td>3</td>\n",
       "      <td>2.0</td>\n",
       "      <td>0.0</td>\n",
       "      <td>1.0</td>\n",
       "      <td>0.0</td>\n",
       "      <td>25.0</td>\n",
       "      <td>1.0</td>\n",
       "      <td>5.0</td>\n",
       "      <td>0.0</td>\n",
       "      <td>0.0</td>\n",
       "      <td>0.0</td>\n",
       "      <td>...</td>\n",
       "      <td>214173.0</td>\n",
       "      <td>225048.0</td>\n",
       "      <td>198236.0</td>\n",
       "      <td>1.0</td>\n",
       "      <td>NaN</td>\n",
       "      <td>NaN</td>\n",
       "      <td>NaN</td>\n",
       "      <td>1.0</td>\n",
       "      <td>NaN</td>\n",
       "      <td>NaN</td>\n",
       "    </tr>\n",
       "    <tr>\n",
       "      <td>4</td>\n",
       "      <td>1.0</td>\n",
       "      <td>1.0</td>\n",
       "      <td>1.0</td>\n",
       "      <td>0.0</td>\n",
       "      <td>1.0</td>\n",
       "      <td>1.0</td>\n",
       "      <td>1.0</td>\n",
       "      <td>0.0</td>\n",
       "      <td>0.0</td>\n",
       "      <td>0.0</td>\n",
       "      <td>...</td>\n",
       "      <td>NaN</td>\n",
       "      <td>NaN</td>\n",
       "      <td>NaN</td>\n",
       "      <td>674969.0</td>\n",
       "      <td>1.0</td>\n",
       "      <td>182689.0</td>\n",
       "      <td>137708.0</td>\n",
       "      <td>176639.0</td>\n",
       "      <td>118260.0</td>\n",
       "      <td>NaN</td>\n",
       "    </tr>\n",
       "  </tbody>\n",
       "</table>\n",
       "<p>5 rows × 571 columns</p>\n",
       "</div>"
      ],
      "text/plain": [
       "    C1  C10  C11  C12   C13  C14   C2   C3   C4   C5  ...       N10       N11  \\\n",
       "0  1.0  0.0  2.0  0.0   1.0  1.0  1.0  0.0  0.0  0.0  ...       NaN  225048.0   \n",
       "1  1.0  0.0  1.0  0.0   1.0  1.0  1.0  0.0  0.0  0.0  ...   79639.0   64087.0   \n",
       "2  1.0  0.0  1.0  0.0   1.0  1.0  1.0  0.0  0.0  0.0  ...  214173.0  225048.0   \n",
       "3  2.0  0.0  1.0  0.0  25.0  1.0  5.0  0.0  0.0  0.0  ...  214173.0  225048.0   \n",
       "4  1.0  1.0  1.0  0.0   1.0  1.0  1.0  0.0  0.0  0.0  ...       NaN       NaN   \n",
       "\n",
       "        N12       N13  N14       N15       N16       N17       N18       N19  \n",
       "0   42088.0     142.0  NaN       NaN       NaN      46.0       NaN       NaN  \n",
       "1   77715.0  674969.0  NaN       NaN       NaN  261168.0       NaN       NaN  \n",
       "2  198236.0  674969.0  NaN       NaN       NaN  261168.0       NaN  534000.0  \n",
       "3  198236.0       1.0  NaN       NaN       NaN       1.0       NaN       NaN  \n",
       "4       NaN  674969.0  1.0  182689.0  137708.0  176639.0  118260.0       NaN  \n",
       "\n",
       "[5 rows x 571 columns]"
      ]
     },
     "execution_count": 68,
     "metadata": {},
     "output_type": "execute_result"
    }
   ],
   "source": [
    "df.head()"
   ]
  },
  {
   "cell_type": "markdown",
   "metadata": {},
   "source": [
    "KMeans"
   ]
  },
  {
   "cell_type": "code",
   "execution_count": 32,
   "metadata": {},
   "outputs": [],
   "source": [
    "# from sklearn.cluster import KMeans"
   ]
  },
  {
   "cell_type": "code",
   "execution_count": 33,
   "metadata": {},
   "outputs": [],
   "source": [
    "# n_cls = [2, 4, 8, 16, 32, 64]"
   ]
  },
  {
   "cell_type": "code",
   "execution_count": 34,
   "metadata": {},
   "outputs": [],
   "source": [
    "# cols1 = [x for x in df.columns if 'C' in x and 'Product' not in x]\n",
    "# cols2 = [x for x in df.columns if 'card' in x and 'fe' not in x]\n",
    "# cols3 = [x for x in df.columns if 'V' in x]\n",
    "\n",
    "# cols_group = [cols1, cols2, cols3]"
   ]
  },
  {
   "cell_type": "code",
   "execution_count": 35,
   "metadata": {},
   "outputs": [],
   "source": [
    "# for n in n_cls:\n",
    "#     m = 1\n",
    "#     for cols in cols_group:\n",
    "#         print('Generation feature:\\tgroup_{0}_n_{1}'.format(m, n))\n",
    "#         kmeans = KMeans(n_clusters=n, random_state=42).fit(df[cols].fillna(-1))\n",
    "#         df['group_{0}_n_{1}'.format(m, n)] = kmeans.labels_\n",
    "#         m += 1"
   ]
  },
  {
   "cell_type": "markdown",
   "metadata": {},
   "source": [
    "New features"
   ]
  },
  {
   "cell_type": "code",
   "execution_count": 122,
   "metadata": {},
   "outputs": [],
   "source": [
    "# df['R28'] = np.log1p(df.TransactionAmt - df.groupby(id_cols)['TransactionAmt'].shift(1))\n",
    "\n",
    "df['R29'] = df.TransactionDT - df.groupby(id_cols)['TransactionDT'].shift(1)"
   ]
  },
  {
   "cell_type": "code",
   "execution_count": 130,
   "metadata": {},
   "outputs": [
    {
     "data": {
      "text/plain": [
       "0                NaN\n",
       "1                NaN\n",
       "2                NaN\n",
       "3                NaN\n",
       "4                NaN\n",
       "             ...    \n",
       "506686    34188341.0\n",
       "506687    34214271.0\n",
       "506688    33513008.0\n",
       "506689           NaN\n",
       "506690    29374265.0\n",
       "Name: TransactionDT, Length: 1097231, dtype: float64"
      ]
     },
     "execution_count": 130,
     "metadata": {},
     "output_type": "execute_result"
    }
   ],
   "source": [
    "df.groupby(id_cols)['TransactionDT'].shift(1)"
   ]
  },
  {
   "cell_type": "code",
   "execution_count": 133,
   "metadata": {},
   "outputs": [
    {
     "data": {
      "text/plain": [
       "0               NaN\n",
       "1               NaN\n",
       "2               NaN\n",
       "3               NaN\n",
       "4               NaN\n",
       "            ...    \n",
       "506686      25938.0\n",
       "506687         16.0\n",
       "506688     701318.0\n",
       "506689          NaN\n",
       "506690    4840080.0\n",
       "Name: R29, Length: 1097231, dtype: float64"
      ]
     },
     "execution_count": 133,
     "metadata": {},
     "output_type": "execute_result"
    }
   ],
   "source": [
    "df['R29']"
   ]
  },
  {
   "cell_type": "code",
   "execution_count": 129,
   "metadata": {},
   "outputs": [
    {
     "data": {
      "text/plain": [
       "3317455.033406168"
      ]
     },
     "execution_count": 129,
     "metadata": {},
     "output_type": "execute_result"
    }
   ],
   "source": [
    "np.std(df['R29'], axis=0)"
   ]
  },
  {
   "cell_type": "code",
   "execution_count": 123,
   "metadata": {},
   "outputs": [
    {
     "data": {
      "image/png": "[encoded data removed]",
      "text/plain": [
       "<Figure size 1080x432 with 1 Axes>"
      ]
     },
     "metadata": {
      "needs_background": "light"
     },
     "output_type": "display_data"
    }
   ],
   "source": [
    "plot_col('R29')"
   ]
  },
  {
   "cell_type": "code",
   "execution_count": 81,
   "metadata": {},
   "outputs": [
    {
     "data": {
      "text/plain": [
       "0.9906517664629382"
      ]
     },
     "execution_count": 81,
     "metadata": {},
     "output_type": "execute_result"
    }
   ],
   "source": [
    "slope = (df.R29.max() - df.R29.min())/(df.TransactionDT.max()-df.TransactionDT.min())\n",
    "slope"
   ]
  },
  {
   "cell_type": "code",
   "execution_count": 80,
   "metadata": {},
   "outputs": [
    {
     "data": {
      "image/png": "[encoded data removed]",
      "text/plain": [
       "<Figure size 1080x432 with 1 Axes>"
      ]
     },
     "metadata": {
      "needs_background": "light"
     },
     "output_type": "display_data"
    }
   ],
   "source": [
    "plot_col('R28')"
   ]
  },
  {
   "cell_type": "code",
   "execution_count": 92,
   "metadata": {},
   "outputs": [],
   "source": [
    "df['R30'] = df.groupby(id_cols)['TransactionDT'].transform('mean')"
   ]
  },
  {
   "cell_type": "code",
   "execution_count": 93,
   "metadata": {},
   "outputs": [
    {
     "data": {
      "image/png": "[encoded data removed]",
      "text/plain": [
       "<Figure size 1080x432 with 1 Axes>"
      ]
     },
     "metadata": {
      "needs_background": "light"
     },
     "output_type": "display_data"
    }
   ],
   "source": [
    "plot_col('R30')"
   ]
  },
  {
   "cell_type": "code",
   "execution_count": 111,
   "metadata": {},
   "outputs": [],
   "source": [
    "df['R31'] = df.groupby(cols6)['TransactionDT'].transform('std')\n",
    "df['R31'] = (df['R31']/df['R31'].max()).astype(np.float16)"
   ]
  },
  {
   "cell_type": "code",
   "execution_count": 112,
   "metadata": {},
   "outputs": [
    {
     "data": {
      "image/png": "[encoded data removed]",
      "text/plain": [
       "<Figure size 1080x432 with 1 Axes>"
      ]
     },
     "metadata": {
      "needs_background": "light"
     },
     "output_type": "display_data"
    }
   ],
   "source": [
    "plot_col('R31')"
   ]
  },
  {
   "cell_type": "code",
   "execution_count": 131,
   "metadata": {},
   "outputs": [],
   "source": [
    "df['R22'] = df.D5 / df.groupby(id_cols)['D5'].transform('std')"
   ]
  },
  {
   "cell_type": "code",
   "execution_count": 132,
   "metadata": {},
   "outputs": [
    {
     "data": {
      "image/png": "[encoded data removed]",
      "text/plain": [
       "<Figure size 1080x432 with 1 Axes>"
      ]
     },
     "metadata": {
      "needs_background": "light"
     },
     "output_type": "display_data"
    }
   ],
   "source": [
    "plot_col('R22')"
   ]
  },
  {
   "cell_type": "code",
   "execution_count": 19,
   "metadata": {},
   "outputs": [],
   "source": [
    "df['R1'] = np.log1p(df.C13/df.C1)\n",
    "\n",
    "df['R2'] = np.log1p(df.D1/df.D15)\n",
    "\n",
    "df['R3'] = np.log1p(df.TransactionAmt/df.TransactionAmt.values.mean())\n",
    "\n",
    "df['R4'] = np.log1p(df.N3/df.N1)\n",
    "\n",
    "df['R5'] = df['D15'] / df.groupby(['card1', 'addr1'])['D15'].transform('std')\n",
    "\n",
    "df['R6'] = df['D15'] / df.groupby(['TransactionDT'])['D15'].transform('std')\n",
    "\n",
    "df['R7'] = df.TransactionAmt / df.Transaction_hour / df.Transaction_day_of_week\n",
    "\n",
    "df['R8'] = df['TransactionAmt'] / df.groupby(['card1', 'addr1'])['TransactionAmt'].transform('std')\n",
    "\n",
    "df['R9'] = df['TransactionAmt'] / df.groupby(['card1','C13','C1','card2','addr1'])['TransactionAmt'].transform('std')\n",
    "\n",
    "df['R10'] = df['TransactionAmt'] / df.groupby(['card1','addr1','id_01','V258','D1', 'P_emaildomain', 'R_emaildomain'])['TransactionAmt'].transform('std')\n",
    "\n",
    "df['R11'] = df['TransactionAmt'] / df.groupby(['card1','addr1','P_emaildomain', 'R_emaildomain'])['TransactionAmt'].transform('std')\n",
    "\n",
    "df['R12'] = df.groupby(['card1','addr1'])['card1'].transform('mean') * df.groupby(['card1','addr1'])['card1'].transform('count')\n",
    "\n",
    "df['R13'] = df.TransactionAmt / df.groupby(['card1', 'card2','addr1'])['TransactionAmt'].transform('std')\n",
    "\n",
    "df['R14'] = df.C2 / df.groupby(['card1', 'V258', 'D10'])['C2'].transform('mean')\n",
    "\n",
    "df['R15'] = df.V130 / df.groupby(['addr1', 'card1', 'C10', 'Transaction_hour', 'Transaction_day_of_week'])['V130'].transform('std')\n",
    "\n",
    "df['R16'] = df.V258 / df.groupby(['addr1', 'card1', 'C10', 'Transaction_hour', 'Transaction_day_of_week'])['V258'].transform('std')\n",
    "\n",
    "df['R17'] = df.D10 / df.groupby(id_cols)['D10'].transform('std')\n",
    "\n",
    "df['R18'] = df.D11 / df.groupby(id_cols)['D11'].transform('std')\n",
    "\n",
    "df['R19'] = df.D15 / df.groupby(id_cols)['D15'].transform('std')\n",
    "\n",
    "df['R20'] = df.D3 / df.groupby(id_cols)['D3'].transform('std')\n",
    "\n",
    "df['R21'] = df.D4 / df.groupby(id_cols)['D4'].transform('std')\n",
    "\n",
    "df['R22'] = df.D5 / df.groupby(id_cols)['D5'].transform('std')\n",
    "\n",
    "df['R23'] = df.D6 / df.groupby(id_cols)['D6'].transform('std')\n",
    "\n",
    "df['R24'] = df.D7 * df.groupby(id_cols)['D7'].transform('std')\n",
    "df['R24'] = df['R24'].replace(np.inf, np.nan)\n",
    "df['R24'] = df['R24']/df['R24'].max()\n",
    "\n",
    "df['R25'] = df.D12 * df.groupby(id_cols)['D12'].transform('std')\n",
    "df['R25'] = df['R25'].replace(np.inf, np.nan)\n",
    "df['R25'] = df['R25']/df['R25'].max()\n",
    "\n",
    "df['R26'] = df.D6 * df.groupby(id_cols)['D6'].transform('std')\n",
    "df['R26'] = df['R26'].replace(np.inf, np.nan)\n",
    "df['R26'] = df['R26']/df['R26'].max()\n",
    "\n",
    "df['R27'] = df.D8 * df.groupby(id_cols)['D8'].transform('std')\n",
    "df['R27'] = df['R27'].replace(np.inf, np.nan)\n",
    "df['R27'] = df['R27']/df['R27'].max()\n",
    "\n",
    "df['R28'] = df.TransactionAmt - df.groupby(id_cols)['TransactionAmt'].shift(1)\n",
    "\n",
    "df['R29'] = np.log1p(df.TransactionDT - df.groupby(id_cols)['TransactionDT'].shift(1))"
   ]
  },
  {
   "cell_type": "code",
   "execution_count": 5,
   "metadata": {},
   "outputs": [],
   "source": [
    "# train = pd.read_csv(data_folder+'/train_ft_eng_0.csv', dtype = schema_generated_0)\n",
    "# test = pd.read_csv(data_folder+'/test_ft_eng_0.csv', dtype = schema_generated_0)"
   ]
  },
  {
   "cell_type": "code",
   "execution_count": 59,
   "metadata": {},
   "outputs": [
    {
     "data": {
      "text/plain": [
       "{'C1': dtype('float16'),\n",
       " 'C10': dtype('float16'),\n",
       " 'C11': dtype('float16'),\n",
       " 'C12': dtype('float16'),\n",
       " 'C13': dtype('float16'),\n",
       " 'C14': dtype('float16'),\n",
       " 'C2': dtype('float16'),\n",
       " 'C3': dtype('float16'),\n",
       " 'C4': dtype('float16'),\n",
       " 'C5': dtype('float16'),\n",
       " 'C6': dtype('float16'),\n",
       " 'C7': dtype('float16'),\n",
       " 'C8': dtype('float16'),\n",
       " 'C9': dtype('float16'),\n",
       " 'D1': dtype('float16'),\n",
       " 'D10': dtype('float16'),\n",
       " 'D11': dtype('float16'),\n",
       " 'D12': dtype('float16'),\n",
       " 'D13': dtype('float16'),\n",
       " 'D14': dtype('float16'),\n",
       " 'D15': dtype('float16'),\n",
       " 'D2': dtype('float16'),\n",
       " 'D3': dtype('float16'),\n",
       " 'D4': dtype('float16'),\n",
       " 'D5': dtype('float16'),\n",
       " 'D6': dtype('float16'),\n",
       " 'D7': dtype('float16'),\n",
       " 'D8': dtype('float16'),\n",
       " 'D9': dtype('float16'),\n",
       " 'DeviceInfo': dtype('uint16'),\n",
       " 'DeviceType': dtype('uint8'),\n",
       " 'M1': dtype('uint8'),\n",
       " 'M2': dtype('uint8'),\n",
       " 'M3': dtype('uint8'),\n",
       " 'M4': dtype('uint8'),\n",
       " 'M5': dtype('uint8'),\n",
       " 'M6': dtype('uint8'),\n",
       " 'M7': dtype('uint8'),\n",
       " 'M8': dtype('uint8'),\n",
       " 'M9': dtype('uint8'),\n",
       " 'P_emaildomain': dtype('uint8'),\n",
       " 'ProductCD': dtype('uint8'),\n",
       " 'R_emaildomain': dtype('uint8'),\n",
       " 'TransactionAmt': dtype('float16'),\n",
       " 'TransactionDT': dtype('int32'),\n",
       " 'V1': dtype('float16'),\n",
       " 'V10': dtype('float16'),\n",
       " 'V100': dtype('float16'),\n",
       " 'V101': dtype('float16'),\n",
       " 'V102': dtype('float16'),\n",
       " 'V103': dtype('float16'),\n",
       " 'V104': dtype('float16'),\n",
       " 'V105': dtype('float16'),\n",
       " 'V106': dtype('float16'),\n",
       " 'V107': dtype('float16'),\n",
       " 'V108': dtype('float16'),\n",
       " 'V109': dtype('float16'),\n",
       " 'V11': dtype('float16'),\n",
       " 'V110': dtype('float16'),\n",
       " 'V111': dtype('float16'),\n",
       " 'V112': dtype('float16'),\n",
       " 'V113': dtype('float16'),\n",
       " 'V114': dtype('float16'),\n",
       " 'V115': dtype('float16'),\n",
       " 'V116': dtype('float16'),\n",
       " 'V117': dtype('float16'),\n",
       " 'V118': dtype('float16'),\n",
       " 'V119': dtype('float16'),\n",
       " 'V12': dtype('float16'),\n",
       " 'V120': dtype('float16'),\n",
       " 'V121': dtype('float16'),\n",
       " 'V122': dtype('float16'),\n",
       " 'V123': dtype('float16'),\n",
       " 'V124': dtype('float16'),\n",
       " 'V125': dtype('float16'),\n",
       " 'V126': dtype('float32'),\n",
       " 'V127': dtype('float32'),\n",
       " 'V128': dtype('float32'),\n",
       " 'V129': dtype('float16'),\n",
       " 'V13': dtype('float16'),\n",
       " 'V130': dtype('float32'),\n",
       " 'V131': dtype('float32'),\n",
       " 'V132': dtype('float32'),\n",
       " 'V133': dtype('float32'),\n",
       " 'V134': dtype('float32'),\n",
       " 'V135': dtype('float32'),\n",
       " 'V136': dtype('float32'),\n",
       " 'V137': dtype('float32'),\n",
       " 'V138': dtype('float16'),\n",
       " 'V139': dtype('float16'),\n",
       " 'V14': dtype('float16'),\n",
       " 'V140': dtype('float16'),\n",
       " 'V141': dtype('float16'),\n",
       " 'V142': dtype('float16'),\n",
       " 'V143': dtype('float16'),\n",
       " 'V144': dtype('float16'),\n",
       " 'V145': dtype('float16'),\n",
       " 'V146': dtype('float16'),\n",
       " 'V147': dtype('float16'),\n",
       " 'V148': dtype('float16'),\n",
       " 'V149': dtype('float16'),\n",
       " 'V15': dtype('float16'),\n",
       " 'V150': dtype('float16'),\n",
       " 'V151': dtype('float16'),\n",
       " 'V152': dtype('float16'),\n",
       " 'V153': dtype('float16'),\n",
       " 'V154': dtype('float16'),\n",
       " 'V155': dtype('float16'),\n",
       " 'V156': dtype('float16'),\n",
       " 'V157': dtype('float16'),\n",
       " 'V158': dtype('float16'),\n",
       " 'V159': dtype('float32'),\n",
       " 'V16': dtype('float16'),\n",
       " 'V160': dtype('float32'),\n",
       " 'V161': dtype('float16'),\n",
       " 'V162': dtype('float16'),\n",
       " 'V163': dtype('float16'),\n",
       " 'V164': dtype('float32'),\n",
       " 'V165': dtype('float32'),\n",
       " 'V166': dtype('float32'),\n",
       " 'V167': dtype('float16'),\n",
       " 'V168': dtype('float16'),\n",
       " 'V169': dtype('float16'),\n",
       " 'V17': dtype('float16'),\n",
       " 'V170': dtype('float16'),\n",
       " 'V171': dtype('float16'),\n",
       " 'V172': dtype('float16'),\n",
       " 'V173': dtype('float16'),\n",
       " 'V174': dtype('float16'),\n",
       " 'V175': dtype('float16'),\n",
       " 'V176': dtype('float16'),\n",
       " 'V177': dtype('float16'),\n",
       " 'V178': dtype('float16'),\n",
       " 'V179': dtype('float16'),\n",
       " 'V18': dtype('float16'),\n",
       " 'V180': dtype('float16'),\n",
       " 'V181': dtype('float16'),\n",
       " 'V182': dtype('float16'),\n",
       " 'V183': dtype('float16'),\n",
       " 'V184': dtype('float16'),\n",
       " 'V185': dtype('float16'),\n",
       " 'V186': dtype('float16'),\n",
       " 'V187': dtype('float16'),\n",
       " 'V188': dtype('float16'),\n",
       " 'V189': dtype('float16'),\n",
       " 'V19': dtype('float16'),\n",
       " 'V190': dtype('float16'),\n",
       " 'V191': dtype('float16'),\n",
       " 'V192': dtype('float16'),\n",
       " 'V193': dtype('float16'),\n",
       " 'V194': dtype('float16'),\n",
       " 'V195': dtype('float16'),\n",
       " 'V196': dtype('float16'),\n",
       " 'V197': dtype('float16'),\n",
       " 'V198': dtype('float16'),\n",
       " 'V199': dtype('float16'),\n",
       " 'V2': dtype('float16'),\n",
       " 'V20': dtype('float16'),\n",
       " 'V200': dtype('float16'),\n",
       " 'V201': dtype('float16'),\n",
       " 'V202': dtype('float32'),\n",
       " 'V203': dtype('float32'),\n",
       " 'V204': dtype('float32'),\n",
       " 'V205': dtype('float16'),\n",
       " 'V206': dtype('float16'),\n",
       " 'V207': dtype('float32'),\n",
       " 'V208': dtype('float16'),\n",
       " 'V209': dtype('float16'),\n",
       " 'V21': dtype('float16'),\n",
       " 'V210': dtype('float16'),\n",
       " 'V211': dtype('float32'),\n",
       " 'V212': dtype('float32'),\n",
       " 'V213': dtype('float32'),\n",
       " 'V214': dtype('float32'),\n",
       " 'V215': dtype('float32'),\n",
       " 'V216': dtype('float32'),\n",
       " 'V217': dtype('float16'),\n",
       " 'V218': dtype('float16'),\n",
       " 'V219': dtype('float16'),\n",
       " 'V22': dtype('float16'),\n",
       " 'V220': dtype('float16'),\n",
       " 'V221': dtype('float16'),\n",
       " 'V222': dtype('float16'),\n",
       " 'V223': dtype('float16'),\n",
       " 'V224': dtype('float16'),\n",
       " 'V225': dtype('float16'),\n",
       " 'V226': dtype('float16'),\n",
       " 'V227': dtype('float16'),\n",
       " 'V228': dtype('float16'),\n",
       " 'V229': dtype('float16'),\n",
       " 'V23': dtype('float16'),\n",
       " 'V230': dtype('float16'),\n",
       " 'V231': dtype('float16'),\n",
       " 'V232': dtype('float16'),\n",
       " 'V233': dtype('float16'),\n",
       " 'V234': dtype('float16'),\n",
       " 'V235': dtype('float16'),\n",
       " 'V236': dtype('float16'),\n",
       " 'V237': dtype('float16'),\n",
       " 'V238': dtype('float16'),\n",
       " 'V239': dtype('float16'),\n",
       " 'V24': dtype('float16'),\n",
       " 'V240': dtype('float16'),\n",
       " 'V241': dtype('float16'),\n",
       " 'V242': dtype('float16'),\n",
       " 'V243': dtype('float16'),\n",
       " 'V244': dtype('float16'),\n",
       " 'V245': dtype('float16'),\n",
       " 'V246': dtype('float16'),\n",
       " 'V247': dtype('float16'),\n",
       " 'V248': dtype('float16'),\n",
       " 'V249': dtype('float16'),\n",
       " 'V25': dtype('float16'),\n",
       " 'V250': dtype('float16'),\n",
       " 'V251': dtype('float16'),\n",
       " 'V252': dtype('float16'),\n",
       " 'V253': dtype('float16'),\n",
       " 'V254': dtype('float16'),\n",
       " 'V255': dtype('float16'),\n",
       " 'V256': dtype('float16'),\n",
       " 'V257': dtype('float16'),\n",
       " 'V258': dtype('float16'),\n",
       " 'V259': dtype('float16'),\n",
       " 'V26': dtype('float16'),\n",
       " 'V260': dtype('float16'),\n",
       " 'V261': dtype('float16'),\n",
       " 'V262': dtype('float16'),\n",
       " 'V263': dtype('float32'),\n",
       " 'V264': dtype('float32'),\n",
       " 'V265': dtype('float32'),\n",
       " 'V266': dtype('float16'),\n",
       " 'V267': dtype('float16'),\n",
       " 'V268': dtype('float16'),\n",
       " 'V269': dtype('float16'),\n",
       " 'V27': dtype('float16'),\n",
       " 'V270': dtype('float16'),\n",
       " 'V271': dtype('float16'),\n",
       " 'V272': dtype('float16'),\n",
       " 'V273': dtype('float32'),\n",
       " 'V274': dtype('float32'),\n",
       " 'V275': dtype('float32'),\n",
       " 'V276': dtype('float32'),\n",
       " 'V277': dtype('float32'),\n",
       " 'V278': dtype('float32'),\n",
       " 'V279': dtype('float16'),\n",
       " 'V28': dtype('float16'),\n",
       " 'V280': dtype('float16'),\n",
       " 'V281': dtype('float16'),\n",
       " 'V282': dtype('float16'),\n",
       " 'V283': dtype('float16'),\n",
       " 'V284': dtype('float16'),\n",
       " 'V285': dtype('float16'),\n",
       " 'V286': dtype('float16'),\n",
       " 'V287': dtype('float16'),\n",
       " 'V288': dtype('float16'),\n",
       " 'V289': dtype('float16'),\n",
       " 'V29': dtype('float16'),\n",
       " 'V290': dtype('float16'),\n",
       " 'V291': dtype('float16'),\n",
       " 'V292': dtype('float16'),\n",
       " 'V293': dtype('float16'),\n",
       " 'V294': dtype('float16'),\n",
       " 'V295': dtype('float16'),\n",
       " 'V296': dtype('float16'),\n",
       " 'V297': dtype('float16'),\n",
       " 'V298': dtype('float16'),\n",
       " 'V299': dtype('float16'),\n",
       " 'V3': dtype('float16'),\n",
       " 'V30': dtype('float16'),\n",
       " 'V300': dtype('float16'),\n",
       " 'V301': dtype('float16'),\n",
       " 'V302': dtype('float16'),\n",
       " 'V303': dtype('float16'),\n",
       " 'V304': dtype('float16'),\n",
       " 'V305': dtype('float16'),\n",
       " 'V306': dtype('float32'),\n",
       " 'V307': dtype('float32'),\n",
       " 'V308': dtype('float32'),\n",
       " 'V309': dtype('float16'),\n",
       " 'V31': dtype('float16'),\n",
       " 'V310': dtype('float32'),\n",
       " 'V311': dtype('float16'),\n",
       " 'V312': dtype('float32'),\n",
       " 'V313': dtype('float16'),\n",
       " 'V314': dtype('float16'),\n",
       " 'V315': dtype('float16'),\n",
       " 'V316': dtype('float32'),\n",
       " 'V317': dtype('float32'),\n",
       " 'V318': dtype('float32'),\n",
       " 'V319': dtype('float32'),\n",
       " 'V32': dtype('float16'),\n",
       " 'V320': dtype('float32'),\n",
       " 'V321': dtype('float32'),\n",
       " 'V322': dtype('float16'),\n",
       " 'V323': dtype('float16'),\n",
       " 'V324': dtype('float16'),\n",
       " 'V325': dtype('float16'),\n",
       " 'V326': dtype('float16'),\n",
       " 'V327': dtype('float16'),\n",
       " 'V328': dtype('float16'),\n",
       " 'V329': dtype('float16'),\n",
       " 'V33': dtype('float16'),\n",
       " 'V330': dtype('float16'),\n",
       " 'V331': dtype('float32'),\n",
       " 'V332': dtype('float32'),\n",
       " 'V333': dtype('float32'),\n",
       " 'V334': dtype('float16'),\n",
       " 'V335': dtype('float16'),\n",
       " 'V336': dtype('float16'),\n",
       " 'V337': dtype('float32'),\n",
       " 'V338': dtype('float32'),\n",
       " 'V339': dtype('float32'),\n",
       " 'V34': dtype('float16'),\n",
       " 'V35': dtype('float16'),\n",
       " 'V36': dtype('float16'),\n",
       " 'V37': dtype('float16'),\n",
       " 'V38': dtype('float16'),\n",
       " 'V39': dtype('float16'),\n",
       " 'V4': dtype('float16'),\n",
       " 'V40': dtype('float16'),\n",
       " 'V41': dtype('float16'),\n",
       " 'V42': dtype('float16'),\n",
       " 'V43': dtype('float16'),\n",
       " 'V44': dtype('float16'),\n",
       " 'V45': dtype('float16'),\n",
       " 'V46': dtype('float16'),\n",
       " 'V47': dtype('float16'),\n",
       " 'V48': dtype('float16'),\n",
       " 'V49': dtype('float16'),\n",
       " 'V5': dtype('float16'),\n",
       " 'V50': dtype('float16'),\n",
       " 'V51': dtype('float16'),\n",
       " 'V52': dtype('float16'),\n",
       " 'V53': dtype('float16'),\n",
       " 'V54': dtype('float16'),\n",
       " 'V55': dtype('float16'),\n",
       " 'V56': dtype('float16'),\n",
       " 'V57': dtype('float16'),\n",
       " 'V58': dtype('float16'),\n",
       " 'V59': dtype('float16'),\n",
       " 'V6': dtype('float16'),\n",
       " 'V60': dtype('float16'),\n",
       " 'V61': dtype('float16'),\n",
       " 'V62': dtype('float16'),\n",
       " 'V63': dtype('float16'),\n",
       " 'V64': dtype('float16'),\n",
       " 'V65': dtype('float16'),\n",
       " 'V66': dtype('float16'),\n",
       " 'V67': dtype('float16'),\n",
       " 'V68': dtype('float16'),\n",
       " 'V69': dtype('float16'),\n",
       " 'V7': dtype('float16'),\n",
       " 'V70': dtype('float16'),\n",
       " 'V71': dtype('float16'),\n",
       " 'V72': dtype('float16'),\n",
       " 'V73': dtype('float16'),\n",
       " 'V74': dtype('float16'),\n",
       " 'V75': dtype('float16'),\n",
       " 'V76': dtype('float16'),\n",
       " 'V77': dtype('float16'),\n",
       " 'V78': dtype('float16'),\n",
       " 'V79': dtype('float16'),\n",
       " 'V8': dtype('float16'),\n",
       " 'V80': dtype('float16'),\n",
       " 'V81': dtype('float16'),\n",
       " 'V82': dtype('float16'),\n",
       " 'V83': dtype('float16'),\n",
       " 'V84': dtype('float16'),\n",
       " 'V85': dtype('float16'),\n",
       " 'V86': dtype('float16'),\n",
       " 'V87': dtype('float16'),\n",
       " 'V88': dtype('float16'),\n",
       " 'V89': dtype('float16'),\n",
       " 'V9': dtype('float16'),\n",
       " 'V90': dtype('float16'),\n",
       " 'V91': dtype('float16'),\n",
       " 'V92': dtype('float16'),\n",
       " 'V93': dtype('float16'),\n",
       " 'V94': dtype('float16'),\n",
       " 'V95': dtype('float16'),\n",
       " 'V96': dtype('float16'),\n",
       " 'V97': dtype('float16'),\n",
       " 'V98': dtype('float16'),\n",
       " 'V99': dtype('float16'),\n",
       " 'addr1': dtype('uint16'),\n",
       " 'addr2': dtype('uint8'),\n",
       " 'card1': dtype('uint16'),\n",
       " 'card2': dtype('uint16'),\n",
       " 'card3': dtype('uint8'),\n",
       " 'card4': dtype('uint8'),\n",
       " 'card5': dtype('uint8'),\n",
       " 'card6': dtype('uint8'),\n",
       " 'dist1': dtype('float16'),\n",
       " 'dist2': dtype('float16'),\n",
       " 'id_01': dtype('float16'),\n",
       " 'id_02': dtype('float32'),\n",
       " 'id_03': dtype('float16'),\n",
       " 'id_04': dtype('float16'),\n",
       " 'id_05': dtype('float16'),\n",
       " 'id_06': dtype('float16'),\n",
       " 'id_07': dtype('float16'),\n",
       " 'id_08': dtype('float16'),\n",
       " 'id_09': dtype('float16'),\n",
       " 'id_10': dtype('float16'),\n",
       " 'id_11': dtype('float16'),\n",
       " 'id_12': dtype('uint8'),\n",
       " 'id_13': dtype('uint8'),\n",
       " 'id_14': dtype('uint8'),\n",
       " 'id_15': dtype('uint8'),\n",
       " 'id_16': dtype('uint8'),\n",
       " 'id_17': dtype('uint8'),\n",
       " 'id_18': dtype('uint8'),\n",
       " 'id_19': dtype('uint16'),\n",
       " 'id_20': dtype('uint16'),\n",
       " 'id_21': dtype('uint16'),\n",
       " 'id_22': dtype('uint8'),\n",
       " 'id_23': dtype('uint8'),\n",
       " 'id_24': dtype('uint8'),\n",
       " 'id_25': dtype('uint16'),\n",
       " 'id_26': dtype('uint8'),\n",
       " 'id_27': dtype('uint8'),\n",
       " 'id_28': dtype('uint8'),\n",
       " 'id_29': dtype('uint8'),\n",
       " 'id_30': dtype('uint8'),\n",
       " 'id_31': dtype('uint8'),\n",
       " 'id_32': dtype('uint8'),\n",
       " 'id_33': dtype('uint16'),\n",
       " 'id_34': dtype('uint8'),\n",
       " 'id_35': dtype('uint8'),\n",
       " 'id_36': dtype('uint8'),\n",
       " 'id_37': dtype('uint8'),\n",
       " 'id_38': dtype('uint8'),\n",
       " 'isFraud': dtype('float64'),\n",
       " 'P_emaildomain_0': dtype('uint8'),\n",
       " 'P_emaildomain_1': dtype('uint8'),\n",
       " 'R_emaildomain_0': dtype('uint8'),\n",
       " 'R_emaildomain_1': dtype('uint8'),\n",
       " 'proc_id_30_0': dtype('uint8'),\n",
       " 'proc_id_30_1': dtype('uint8'),\n",
       " 'proc_id_31_0': dtype('uint8'),\n",
       " 'device_name': dtype('uint8'),\n",
       " 'device_version': dtype('uint16'),\n",
       " 'ProductCD_fe1': dtype('uint8'),\n",
       " 'P_emaildomain_fe1': dtype('uint8'),\n",
       " 'R_emaildomain_fe1': dtype('uint8'),\n",
       " 'card1_fe1': dtype('uint16'),\n",
       " 'card2_fe1': dtype('uint8'),\n",
       " 'card3_fe1': dtype('uint8'),\n",
       " 'card4_fe1': dtype('uint8'),\n",
       " 'card5_fe1': dtype('uint8'),\n",
       " 'card6_fe1': dtype('uint8'),\n",
       " 'addr1_fe1': dtype('uint8'),\n",
       " 'addr2_fe1': dtype('uint8'),\n",
       " 'M1_fe1': dtype('uint8'),\n",
       " 'M2_fe1': dtype('uint8'),\n",
       " 'M3_fe1': dtype('uint8'),\n",
       " 'M4_fe1': dtype('uint8'),\n",
       " 'M5_fe1': dtype('uint8'),\n",
       " 'M6_fe1': dtype('uint8'),\n",
       " 'M7_fe1': dtype('uint8'),\n",
       " 'M8_fe1': dtype('uint8'),\n",
       " 'M9_fe1': dtype('uint8'),\n",
       " 'DeviceType_fe1': dtype('uint8'),\n",
       " 'DeviceInfo_fe1': dtype('uint8'),\n",
       " 'id_12_fe1': dtype('uint8'),\n",
       " 'id_13_fe1': dtype('uint8'),\n",
       " 'id_14_fe1': dtype('uint8'),\n",
       " 'id_15_fe1': dtype('uint8'),\n",
       " 'id_16_fe1': dtype('uint8'),\n",
       " 'id_17_fe1': dtype('uint8'),\n",
       " 'id_18_fe1': dtype('uint8'),\n",
       " 'id_19_fe1': dtype('uint8'),\n",
       " 'id_20_fe1': dtype('uint8'),\n",
       " 'id_21_fe1': dtype('uint8'),\n",
       " 'id_22_fe1': dtype('uint8'),\n",
       " 'id_23_fe1': dtype('uint8'),\n",
       " 'id_24_fe1': dtype('uint8'),\n",
       " 'id_25_fe1': dtype('uint8'),\n",
       " 'id_26_fe1': dtype('uint8'),\n",
       " 'id_27_fe1': dtype('uint8'),\n",
       " 'id_28_fe1': dtype('uint8'),\n",
       " 'id_29_fe1': dtype('uint8'),\n",
       " 'id_30_fe1': dtype('uint8'),\n",
       " 'id_31_fe1': dtype('uint8'),\n",
       " 'id_32_fe1': dtype('uint8'),\n",
       " 'id_33_fe1': dtype('uint8'),\n",
       " 'id_34_fe1': dtype('uint8'),\n",
       " 'id_35_fe1': dtype('uint8'),\n",
       " 'id_36_fe1': dtype('uint8'),\n",
       " 'id_37_fe1': dtype('uint8'),\n",
       " 'id_38_fe1': dtype('uint8'),\n",
       " 'R_emaildomain_0_fe1': dtype('uint8'),\n",
       " 'device_version_fe1': dtype('uint8'),\n",
       " 'device_name_fe1': dtype('uint8'),\n",
       " 'P_emaildomain_0_fe1': dtype('uint8'),\n",
       " 'P_emaildomain_1_fe1': dtype('uint8'),\n",
       " 'proc_id_30_0_fe1': dtype('uint8'),\n",
       " 'proc_id_30_1_fe1': dtype('uint8'),\n",
       " 'R_emaildomain_1_fe1': dtype('uint8'),\n",
       " 'proc_id_31_0_fe1': dtype('uint8'),\n",
       " 'ProductCD_fe2': dtype('uint8'),\n",
       " 'P_emaildomain_fe2': dtype('uint8'),\n",
       " 'R_emaildomain_fe2': dtype('uint8'),\n",
       " 'card1_fe2': dtype('uint8'),\n",
       " 'card2_fe2': dtype('uint8'),\n",
       " 'card3_fe2': dtype('uint8'),\n",
       " 'card4_fe2': dtype('uint8'),\n",
       " 'card5_fe2': dtype('uint8'),\n",
       " 'card6_fe2': dtype('uint8'),\n",
       " 'addr1_fe2': dtype('uint8'),\n",
       " 'addr2_fe2': dtype('uint8'),\n",
       " 'M1_fe2': dtype('uint8'),\n",
       " 'M2_fe2': dtype('uint8'),\n",
       " 'M3_fe2': dtype('uint8'),\n",
       " 'M4_fe2': dtype('uint8'),\n",
       " 'M5_fe2': dtype('uint8'),\n",
       " 'M6_fe2': dtype('uint8'),\n",
       " 'M7_fe2': dtype('uint8'),\n",
       " 'M8_fe2': dtype('uint8'),\n",
       " 'M9_fe2': dtype('uint8'),\n",
       " 'DeviceType_fe2': dtype('uint8'),\n",
       " 'DeviceInfo_fe2': dtype('uint8'),\n",
       " 'id_12_fe2': dtype('uint8'),\n",
       " 'id_13_fe2': dtype('uint8'),\n",
       " 'id_14_fe2': dtype('uint8'),\n",
       " 'id_15_fe2': dtype('uint8'),\n",
       " 'id_16_fe2': dtype('uint8'),\n",
       " 'id_17_fe2': dtype('uint8'),\n",
       " 'id_18_fe2': dtype('uint8'),\n",
       " 'id_19_fe2': dtype('uint8'),\n",
       " 'id_20_fe2': dtype('uint8'),\n",
       " 'id_21_fe2': dtype('uint8'),\n",
       " 'id_22_fe2': dtype('uint8'),\n",
       " 'id_23_fe2': dtype('uint8'),\n",
       " 'id_24_fe2': dtype('uint8'),\n",
       " 'id_25_fe2': dtype('uint8'),\n",
       " 'id_26_fe2': dtype('uint8'),\n",
       " 'id_27_fe2': dtype('uint8'),\n",
       " 'id_28_fe2': dtype('uint8'),\n",
       " 'id_29_fe2': dtype('uint8'),\n",
       " 'id_30_fe2': dtype('uint8'),\n",
       " 'id_31_fe2': dtype('uint8'),\n",
       " 'id_32_fe2': dtype('uint8'),\n",
       " 'id_33_fe2': dtype('uint8'),\n",
       " 'id_34_fe2': dtype('uint8'),\n",
       " 'id_35_fe2': dtype('uint8'),\n",
       " 'id_36_fe2': dtype('uint8'),\n",
       " 'id_37_fe2': dtype('uint8'),\n",
       " 'id_38_fe2': dtype('uint8'),\n",
       " 'R_emaildomain_0_fe2': dtype('uint8'),\n",
       " 'device_version_fe2': dtype('uint8'),\n",
       " 'device_name_fe2': dtype('uint8'),\n",
       " 'P_emaildomain_0_fe2': dtype('uint8'),\n",
       " 'P_emaildomain_1_fe2': dtype('uint8'),\n",
       " 'proc_id_30_0_fe2': dtype('uint8'),\n",
       " 'proc_id_30_1_fe2': dtype('uint8'),\n",
       " 'R_emaildomain_1_fe2': dtype('uint8'),\n",
       " 'proc_id_31_0_fe2': dtype('uint8'),\n",
       " 'Transaction_day_of_week': dtype('float64'),\n",
       " 'Transaction_hour': dtype('float64'),\n",
       " 'N1': dtype('uint32'),\n",
       " 'N2': dtype('uint32'),\n",
       " 'N3': dtype('uint32'),\n",
       " 'N4': dtype('uint32'),\n",
       " 'N5': dtype('uint32'),\n",
       " 'N6': dtype('uint32'),\n",
       " 'R1': dtype('float16'),\n",
       " 'R2': dtype('float16'),\n",
       " 'R3': dtype('float16'),\n",
       " 'R4': dtype('float64'),\n",
       " 'R5': dtype('float16'),\n",
       " 'R6': dtype('float16'),\n",
       " 'R7': dtype('float64'),\n",
       " 'R8': dtype('float16'),\n",
       " 'R9': dtype('float16'),\n",
       " 'R10': dtype('float16'),\n",
       " 'R11': dtype('float16'),\n",
       " 'R12': dtype('int64'),\n",
       " 'R13': dtype('float16'),\n",
       " 'R14': dtype('float16'),\n",
       " 'R15': dtype('float32'),\n",
       " 'R16': dtype('float16'),\n",
       " 'R17': dtype('float16'),\n",
       " 'R18': dtype('float16'),\n",
       " 'R19': dtype('float16'),\n",
       " 'R20': dtype('float16'),\n",
       " 'R21': dtype('float16'),\n",
       " 'R22': dtype('float16'),\n",
       " 'R23': dtype('float16'),\n",
       " 'R24': dtype('float16'),\n",
       " 'R25': dtype('float16'),\n",
       " 'R26': dtype('float16'),\n",
       " 'R27': dtype('float16'),\n",
       " 'R28': dtype('float16'),\n",
       " 'R29': dtype('float64')}"
      ]
     },
     "execution_count": 59,
     "metadata": {},
     "output_type": "execute_result"
    }
   ],
   "source": [
    "dict(df.dtypes)"
   ]
  },
  {
   "cell_type": "code",
   "execution_count": 63,
   "metadata": {},
   "outputs": [
    {
     "data": {
      "text/plain": [
       "(1097231, 595)"
      ]
     },
     "execution_count": 63,
     "metadata": {},
     "output_type": "execute_result"
    }
   ],
   "source": [
    "df.shape"
   ]
  },
  {
   "cell_type": "code",
   "execution_count": 64,
   "metadata": {},
   "outputs": [],
   "source": [
    "drop_cols = ['D10', 'D11', 'D12', 'D15', 'D3', 'D4',\n",
    "            'D5', 'D6', 'D7', 'D8']"
   ]
  },
  {
   "cell_type": "code",
   "execution_count": 65,
   "metadata": {},
   "outputs": [],
   "source": [
    "df = df[[x for x in df.columns if x not in drop_cols]]"
   ]
  },
  {
   "cell_type": "code",
   "execution_count": 66,
   "metadata": {},
   "outputs": [
    {
     "data": {
      "text/plain": [
       "(1097231, 585)"
      ]
     },
     "execution_count": 66,
     "metadata": {},
     "output_type": "execute_result"
    }
   ],
   "source": [
    "df.shape"
   ]
  },
  {
   "cell_type": "code",
   "execution_count": 67,
   "metadata": {},
   "outputs": [],
   "source": [
    "df = df.replace(np.inf, np.nan)"
   ]
  },
  {
   "cell_type": "code",
   "execution_count": 69,
   "metadata": {},
   "outputs": [],
   "source": [
    "train = df.iloc[:train_index, :]\n",
    "test = df.iloc[train_index:, :]"
   ]
  },
  {
   "cell_type": "code",
   "execution_count": 70,
   "metadata": {},
   "outputs": [
    {
     "name": "stdout",
     "output_type": "stream",
     "text": [
      "train guardado\n",
      "test guardado\n"
     ]
    }
   ],
   "source": [
    "train.to_csv(data_folder+'/train_ft_eng_2.csv', header=True, index=None, compression='zip')\n",
    "print('train guardado')\n",
    "test.to_csv(data_folder+'/test_ft_eng_2.csv', header=True, index=None, compression='zip')\n",
    "print('test guardado')"
   ]
  },
  {
   "cell_type": "code",
   "execution_count": 71,
   "metadata": {},
   "outputs": [
    {
     "data": {
      "text/plain": [
       "((590540, 585), (506691, 585))"
      ]
     },
     "execution_count": 71,
     "metadata": {},
     "output_type": "execute_result"
    }
   ],
   "source": [
    "train.shape, test.shape"
   ]
  },
  {
   "cell_type": "code",
   "execution_count": 72,
   "metadata": {},
   "outputs": [
    {
     "data": {
      "text/html": [
       "<div>\n",
       "<style scoped>\n",
       "    .dataframe tbody tr th:only-of-type {\n",
       "        vertical-align: middle;\n",
       "    }\n",
       "\n",
       "    .dataframe tbody tr th {\n",
       "        vertical-align: top;\n",
       "    }\n",
       "\n",
       "    .dataframe thead th {\n",
       "        text-align: right;\n",
       "    }\n",
       "</style>\n",
       "<table border=\"1\" class=\"dataframe\">\n",
       "  <thead>\n",
       "    <tr style=\"text-align: right;\">\n",
       "      <th></th>\n",
       "      <th>C1</th>\n",
       "      <th>C10</th>\n",
       "      <th>C11</th>\n",
       "      <th>C12</th>\n",
       "      <th>C13</th>\n",
       "      <th>C14</th>\n",
       "      <th>C2</th>\n",
       "      <th>C3</th>\n",
       "      <th>C4</th>\n",
       "      <th>C5</th>\n",
       "      <th>...</th>\n",
       "      <th>R20</th>\n",
       "      <th>R21</th>\n",
       "      <th>R22</th>\n",
       "      <th>R23</th>\n",
       "      <th>R24</th>\n",
       "      <th>R25</th>\n",
       "      <th>R26</th>\n",
       "      <th>R27</th>\n",
       "      <th>R28</th>\n",
       "      <th>R29</th>\n",
       "    </tr>\n",
       "  </thead>\n",
       "  <tbody>\n",
       "    <tr>\n",
       "      <th>0</th>\n",
       "      <td>1.0</td>\n",
       "      <td>0.0</td>\n",
       "      <td>2.0</td>\n",
       "      <td>0.0</td>\n",
       "      <td>1.0</td>\n",
       "      <td>1.0</td>\n",
       "      <td>1.0</td>\n",
       "      <td>0.0</td>\n",
       "      <td>0.0</td>\n",
       "      <td>0.0</td>\n",
       "      <td>...</td>\n",
       "      <td>NaN</td>\n",
       "      <td>NaN</td>\n",
       "      <td>NaN</td>\n",
       "      <td>NaN</td>\n",
       "      <td>NaN</td>\n",
       "      <td>NaN</td>\n",
       "      <td>NaN</td>\n",
       "      <td>NaN</td>\n",
       "      <td>NaN</td>\n",
       "      <td>NaN</td>\n",
       "    </tr>\n",
       "    <tr>\n",
       "      <th>1</th>\n",
       "      <td>1.0</td>\n",
       "      <td>0.0</td>\n",
       "      <td>1.0</td>\n",
       "      <td>0.0</td>\n",
       "      <td>1.0</td>\n",
       "      <td>1.0</td>\n",
       "      <td>1.0</td>\n",
       "      <td>0.0</td>\n",
       "      <td>0.0</td>\n",
       "      <td>0.0</td>\n",
       "      <td>...</td>\n",
       "      <td>NaN</td>\n",
       "      <td>0.000000</td>\n",
       "      <td>NaN</td>\n",
       "      <td>NaN</td>\n",
       "      <td>NaN</td>\n",
       "      <td>NaN</td>\n",
       "      <td>NaN</td>\n",
       "      <td>NaN</td>\n",
       "      <td>NaN</td>\n",
       "      <td>NaN</td>\n",
       "    </tr>\n",
       "    <tr>\n",
       "      <th>2</th>\n",
       "      <td>1.0</td>\n",
       "      <td>0.0</td>\n",
       "      <td>1.0</td>\n",
       "      <td>0.0</td>\n",
       "      <td>1.0</td>\n",
       "      <td>1.0</td>\n",
       "      <td>1.0</td>\n",
       "      <td>0.0</td>\n",
       "      <td>0.0</td>\n",
       "      <td>0.0</td>\n",
       "      <td>...</td>\n",
       "      <td>NaN</td>\n",
       "      <td>0.000000</td>\n",
       "      <td>NaN</td>\n",
       "      <td>NaN</td>\n",
       "      <td>NaN</td>\n",
       "      <td>NaN</td>\n",
       "      <td>NaN</td>\n",
       "      <td>NaN</td>\n",
       "      <td>NaN</td>\n",
       "      <td>NaN</td>\n",
       "    </tr>\n",
       "    <tr>\n",
       "      <th>3</th>\n",
       "      <td>2.0</td>\n",
       "      <td>0.0</td>\n",
       "      <td>1.0</td>\n",
       "      <td>0.0</td>\n",
       "      <td>25.0</td>\n",
       "      <td>1.0</td>\n",
       "      <td>5.0</td>\n",
       "      <td>0.0</td>\n",
       "      <td>0.0</td>\n",
       "      <td>0.0</td>\n",
       "      <td>...</td>\n",
       "      <td>0.0</td>\n",
       "      <td>0.483887</td>\n",
       "      <td>0.0</td>\n",
       "      <td>NaN</td>\n",
       "      <td>NaN</td>\n",
       "      <td>NaN</td>\n",
       "      <td>NaN</td>\n",
       "      <td>NaN</td>\n",
       "      <td>NaN</td>\n",
       "      <td>NaN</td>\n",
       "    </tr>\n",
       "    <tr>\n",
       "      <th>4</th>\n",
       "      <td>1.0</td>\n",
       "      <td>1.0</td>\n",
       "      <td>1.0</td>\n",
       "      <td>0.0</td>\n",
       "      <td>1.0</td>\n",
       "      <td>1.0</td>\n",
       "      <td>1.0</td>\n",
       "      <td>0.0</td>\n",
       "      <td>0.0</td>\n",
       "      <td>0.0</td>\n",
       "      <td>...</td>\n",
       "      <td>NaN</td>\n",
       "      <td>NaN</td>\n",
       "      <td>NaN</td>\n",
       "      <td>NaN</td>\n",
       "      <td>NaN</td>\n",
       "      <td>NaN</td>\n",
       "      <td>NaN</td>\n",
       "      <td>NaN</td>\n",
       "      <td>NaN</td>\n",
       "      <td>NaN</td>\n",
       "    </tr>\n",
       "  </tbody>\n",
       "</table>\n",
       "<p>5 rows × 585 columns</p>\n",
       "</div>"
      ],
      "text/plain": [
       "    C1  C10  C11  C12   C13  C14   C2   C3   C4   C5  ...  R20       R21  R22  \\\n",
       "0  1.0  0.0  2.0  0.0   1.0  1.0  1.0  0.0  0.0  0.0  ...  NaN       NaN  NaN   \n",
       "1  1.0  0.0  1.0  0.0   1.0  1.0  1.0  0.0  0.0  0.0  ...  NaN  0.000000  NaN   \n",
       "2  1.0  0.0  1.0  0.0   1.0  1.0  1.0  0.0  0.0  0.0  ...  NaN  0.000000  NaN   \n",
       "3  2.0  0.0  1.0  0.0  25.0  1.0  5.0  0.0  0.0  0.0  ...  0.0  0.483887  0.0   \n",
       "4  1.0  1.0  1.0  0.0   1.0  1.0  1.0  0.0  0.0  0.0  ...  NaN       NaN  NaN   \n",
       "\n",
       "   R23  R24  R25  R26  R27  R28  R29  \n",
       "0  NaN  NaN  NaN  NaN  NaN  NaN  NaN  \n",
       "1  NaN  NaN  NaN  NaN  NaN  NaN  NaN  \n",
       "2  NaN  NaN  NaN  NaN  NaN  NaN  NaN  \n",
       "3  NaN  NaN  NaN  NaN  NaN  NaN  NaN  \n",
       "4  NaN  NaN  NaN  NaN  NaN  NaN  NaN  \n",
       "\n",
       "[5 rows x 585 columns]"
      ]
     },
     "execution_count": 72,
     "metadata": {},
     "output_type": "execute_result"
    }
   ],
   "source": [
    "train.head()"
   ]
  },
  {
   "cell_type": "code",
   "execution_count": null,
   "metadata": {},
   "outputs": [],
   "source": []
  }
 ],
 "metadata": {
  "kernelspec": {
   "display_name": "Python 3",
   "language": "python",
   "name": "python3"
  },
  "language_info": {
   "codemirror_mode": {
    "name": "ipython",
    "version": 3
   },
   "file_extension": ".py",
   "mimetype": "text/x-python",
   "name": "python",
   "nbconvert_exporter": "python",
   "pygments_lexer": "ipython3",
   "version": "3.6.8"
  }
 },
 "nbformat": 4,
 "nbformat_minor": 2
}
