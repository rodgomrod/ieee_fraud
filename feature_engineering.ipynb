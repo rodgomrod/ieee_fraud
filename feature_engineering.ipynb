{
 "cells": [
  {
   "cell_type": "code",
   "execution_count": 1,
   "metadata": {},
   "outputs": [],
   "source": [
    "import warnings\n",
    "warnings.filterwarnings('ignore')\n",
    "\n",
    "import pandas as pd\n",
    "import numpy as np\n",
    "import matplotlib.pyplot as plt\n",
    "from collections import Counter, defaultdict\n",
    "import gc\n",
    "\n",
    "from utils.schemas import *\n",
    "from utils.functions import *"
   ]
  },
  {
   "cell_type": "code",
   "execution_count": 2,
   "metadata": {},
   "outputs": [],
   "source": [
    "data_folder = 'input'"
   ]
  },
  {
   "cell_type": "code",
   "execution_count": 3,
   "metadata": {},
   "outputs": [],
   "source": [
    "train = pd.read_csv(data_folder+'/train_generated_0.csv', dtype = schema_generated_0)\n",
    "test = pd.read_csv(data_folder+'/test_generated_0.csv', dtype = schema_generated_0)"
   ]
  },
  {
   "cell_type": "code",
   "execution_count": 4,
   "metadata": {},
   "outputs": [
    {
     "data": {
      "text/plain": [
       "((590540, 552), (506691, 552))"
      ]
     },
     "execution_count": 4,
     "metadata": {},
     "output_type": "execute_result"
    }
   ],
   "source": [
    "train.shape, test.shape"
   ]
  },
  {
   "cell_type": "code",
   "execution_count": 5,
   "metadata": {},
   "outputs": [
    {
     "data": {
      "text/plain": [
       "(1097231, 552)"
      ]
     },
     "execution_count": 5,
     "metadata": {},
     "output_type": "execute_result"
    }
   ],
   "source": [
    "train_index = train.shape[0]\n",
    "test_index = test.shape[0]\n",
    "df = pd.concat([train, test], axis=0)\n",
    "df.shape"
   ]
  },
  {
   "cell_type": "code",
   "execution_count": 6,
   "metadata": {},
   "outputs": [
    {
     "data": {
      "text/plain": [
       "7"
      ]
     },
     "execution_count": 6,
     "metadata": {},
     "output_type": "execute_result"
    }
   ],
   "source": [
    "del train\n",
    "del test\n",
    "gc.collect()"
   ]
  },
  {
   "cell_type": "code",
   "execution_count": 7,
   "metadata": {},
   "outputs": [],
   "source": [
    "df['Transaction_day_of_week'] = np.floor((df['TransactionDT'] / (3600 * 24) - 1) % 7)\n",
    "df['Transaction_hour'] = np.floor(df['TransactionDT'] / 3600) % 24"
   ]
  },
  {
   "cell_type": "code",
   "execution_count": 8,
   "metadata": {},
   "outputs": [],
   "source": [
    "cols1 = [x for x in df.columns if 'card' in x and 'fe' not in x]\n",
    "group1 = df.groupby(cols1).count()['TransactionDT']\n",
    "group1.name = 'N1'\n",
    "df = df.join(group1, on=cols1)"
   ]
  },
  {
   "cell_type": "code",
   "execution_count": 9,
   "metadata": {},
   "outputs": [],
   "source": [
    "cols1 = [x for x in df.columns if 'addr' in x]\n",
    "group1 = df.groupby(cols1).count()['TransactionDT']\n",
    "group1.name = 'N2'\n",
    "df = df.join(group1, on=cols1)"
   ]
  },
  {
   "cell_type": "code",
   "execution_count": 10,
   "metadata": {},
   "outputs": [],
   "source": [
    "cols1 = [x for x in df.columns if 'C' in x and 'Product' not in x]\n",
    "group1 = df.groupby(cols1).count()['TransactionDT'].astype('int64')\n",
    "group1.name = 'N3'\n",
    "df = df.join(group1, on=cols1)"
   ]
  },
  {
   "cell_type": "code",
   "execution_count": 11,
   "metadata": {},
   "outputs": [],
   "source": [
    "cols1 = [x for x in df.columns if 'mail' in x]\n",
    "group1 = df.groupby(cols1).count()['TransactionDT']\n",
    "group1.name = 'N4'\n",
    "df = df.join(group1, on=cols1)"
   ]
  },
  {
   "cell_type": "code",
   "execution_count": 12,
   "metadata": {},
   "outputs": [],
   "source": [
    "# df = df.drop(['N1', 'N2', 'N3', 'N4'], axis=1)"
   ]
  },
  {
   "cell_type": "code",
   "execution_count": 13,
   "metadata": {
    "scrolled": true
   },
   "outputs": [],
   "source": [
    "# for c in ['N1', 'N2', 'N3', 'N4']:\n",
    "#     df = freq_encoder(df, c, c, 0.005)"
   ]
  },
  {
   "cell_type": "code",
   "execution_count": 12,
   "metadata": {},
   "outputs": [],
   "source": [
    "from sklearn.cluster import KMeans"
   ]
  },
  {
   "cell_type": "code",
   "execution_count": 13,
   "metadata": {},
   "outputs": [],
   "source": [
    "n_cls = [2, 4, 8, 16, 32, 64]"
   ]
  },
  {
   "cell_type": "code",
   "execution_count": 14,
   "metadata": {},
   "outputs": [],
   "source": [
    "cols1 = [x for x in df.columns if 'C' in x and 'Product' not in x]\n",
    "cols2 = [x for x in df.columns if 'card' in x and 'fe' not in x]\n",
    "cols3 = [x for x in df.columns if 'V' in x]\n",
    "\n",
    "cols_group = [cols1, cols2, cols3]"
   ]
  },
  {
   "cell_type": "code",
   "execution_count": 15,
   "metadata": {},
   "outputs": [
    {
     "name": "stdout",
     "output_type": "stream",
     "text": [
      "Generation feature:\tgroup_1_n_2\n",
      "Generation feature:\tgroup_2_n_2\n",
      "Generation feature:\tgroup_3_n_2\n",
      "Generation feature:\tgroup_1_n_4\n",
      "Generation feature:\tgroup_2_n_4\n",
      "Generation feature:\tgroup_3_n_4\n",
      "Generation feature:\tgroup_1_n_8\n",
      "Generation feature:\tgroup_2_n_8\n",
      "Generation feature:\tgroup_3_n_8\n",
      "Generation feature:\tgroup_1_n_16\n",
      "Generation feature:\tgroup_2_n_16\n",
      "Generation feature:\tgroup_3_n_16\n",
      "Generation feature:\tgroup_1_n_32\n",
      "Generation feature:\tgroup_2_n_32\n",
      "Generation feature:\tgroup_3_n_32\n",
      "Generation feature:\tgroup_1_n_64\n",
      "Generation feature:\tgroup_2_n_64\n",
      "Generation feature:\tgroup_3_n_64\n"
     ]
    }
   ],
   "source": [
    "for n in n_cls:\n",
    "    m = 1\n",
    "    for cols in cols_group:\n",
    "        print('Generation feature:\\tgroup_{0}_n_{1}'.format(m, n))\n",
    "        kmeans = KMeans(n_clusters=n, random_state=42).fit(df[cols].fillna(-1))\n",
    "        df['group_{0}_n_{1}'.format(m, n)] = kmeans.labels_\n",
    "        m += 1"
   ]
  },
  {
   "cell_type": "code",
   "execution_count": 17,
   "metadata": {},
   "outputs": [],
   "source": [
    "train = df.iloc[:train_index, :]\n",
    "test = df.iloc[train_index:, :]"
   ]
  },
  {
   "cell_type": "code",
   "execution_count": 18,
   "metadata": {},
   "outputs": [
    {
     "name": "stdout",
     "output_type": "stream",
     "text": [
      "train guardado\n",
      "test guardado\n"
     ]
    }
   ],
   "source": [
    "train.to_csv(data_folder+'/train_ft_eng_0.csv', header=True, index=None)\n",
    "print('train guardado')\n",
    "test.to_csv(data_folder+'/test_ft_eng_0.csv', header=True, index=None)\n",
    "print('test guardado')"
   ]
  },
  {
   "cell_type": "code",
   "execution_count": null,
   "metadata": {},
   "outputs": [],
   "source": []
  }
 ],
 "metadata": {
  "kernelspec": {
   "display_name": "Python 3",
   "language": "python",
   "name": "python3"
  },
  "language_info": {
   "codemirror_mode": {
    "name": "ipython",
    "version": 3
   },
   "file_extension": ".py",
   "mimetype": "text/x-python",
   "name": "python",
   "nbconvert_exporter": "python",
   "pygments_lexer": "ipython3",
   "version": "3.6.8"
  }
 },
 "nbformat": 4,
 "nbformat_minor": 2
}
