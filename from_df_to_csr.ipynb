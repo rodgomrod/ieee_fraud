{
 "cells": [
  {
   "cell_type": "code",
   "execution_count": 1,
   "metadata": {},
   "outputs": [
    {
     "name": "stderr",
     "output_type": "stream",
     "text": [
      "/usr/lib/python3.6/importlib/_bootstrap.py:219: RuntimeWarning: numpy.ufunc size changed, may indicate binary incompatibility. Expected 216, got 192\n",
      "  return f(*args, **kwds)\n",
      "/usr/lib/python3.6/importlib/_bootstrap.py:219: RuntimeWarning: numpy.ufunc size changed, may indicate binary incompatibility. Expected 216, got 192\n",
      "  return f(*args, **kwds)\n",
      "/usr/lib/python3.6/importlib/_bootstrap.py:219: RuntimeWarning: numpy.ufunc size changed, may indicate binary incompatibility. Expected 192 from C header, got 216 from PyObject\n",
      "  return f(*args, **kwds)\n"
     ]
    }
   ],
   "source": [
    "import pandas as pd\n",
    "import numpy as np\n",
    "import matplotlib.pyplot as plt\n",
    "from collections import Counter, defaultdict\n",
    "import seaborn as sns\n",
    "from scipy.sparse import vstack, hstack, csr_matrix, save_npz, load_npz\n",
    "sns.set()\n",
    "import gc\n",
    "from sklearn.preprocessing import MinMaxScaler\n",
    "\n",
    "from utils.schemas import *\n",
    "from utils.functions import *"
   ]
  },
  {
   "cell_type": "code",
   "execution_count": 2,
   "metadata": {},
   "outputs": [],
   "source": [
    "df_imp = pd.read_csv('docs/ft_importances_20190831.csv')"
   ]
  },
  {
   "cell_type": "code",
   "execution_count": 3,
   "metadata": {},
   "outputs": [
    {
     "data": {
      "text/html": [
       "<div>\n",
       "<style scoped>\n",
       "    .dataframe tbody tr th:only-of-type {\n",
       "        vertical-align: middle;\n",
       "    }\n",
       "\n",
       "    .dataframe tbody tr th {\n",
       "        vertical-align: top;\n",
       "    }\n",
       "\n",
       "    .dataframe thead th {\n",
       "        text-align: right;\n",
       "    }\n",
       "</style>\n",
       "<table border=\"1\" class=\"dataframe\">\n",
       "  <thead>\n",
       "    <tr style=\"text-align: right;\">\n",
       "      <th></th>\n",
       "      <th>feature</th>\n",
       "      <th>importance</th>\n",
       "    </tr>\n",
       "  </thead>\n",
       "  <tbody>\n",
       "    <tr>\n",
       "      <th>0</th>\n",
       "      <td>R1</td>\n",
       "      <td>2.415106</td>\n",
       "    </tr>\n",
       "    <tr>\n",
       "      <th>1</th>\n",
       "      <td>card1</td>\n",
       "      <td>1.695437</td>\n",
       "    </tr>\n",
       "    <tr>\n",
       "      <th>2</th>\n",
       "      <td>R12</td>\n",
       "      <td>1.606923</td>\n",
       "    </tr>\n",
       "    <tr>\n",
       "      <th>3</th>\n",
       "      <td>TransactionAmt</td>\n",
       "      <td>1.595195</td>\n",
       "    </tr>\n",
       "    <tr>\n",
       "      <th>4</th>\n",
       "      <td>N6</td>\n",
       "      <td>1.575507</td>\n",
       "    </tr>\n",
       "    <tr>\n",
       "      <th>5</th>\n",
       "      <td>C1</td>\n",
       "      <td>1.232615</td>\n",
       "    </tr>\n",
       "    <tr>\n",
       "      <th>6</th>\n",
       "      <td>N1</td>\n",
       "      <td>1.203357</td>\n",
       "    </tr>\n",
       "    <tr>\n",
       "      <th>7</th>\n",
       "      <td>N5</td>\n",
       "      <td>1.167223</td>\n",
       "    </tr>\n",
       "    <tr>\n",
       "      <th>8</th>\n",
       "      <td>card2</td>\n",
       "      <td>1.147620</td>\n",
       "    </tr>\n",
       "    <tr>\n",
       "      <th>9</th>\n",
       "      <td>R4</td>\n",
       "      <td>1.136447</td>\n",
       "    </tr>\n",
       "  </tbody>\n",
       "</table>\n",
       "</div>"
      ],
      "text/plain": [
       "          feature  importance\n",
       "0              R1    2.415106\n",
       "1           card1    1.695437\n",
       "2             R12    1.606923\n",
       "3  TransactionAmt    1.595195\n",
       "4              N6    1.575507\n",
       "5              C1    1.232615\n",
       "6              N1    1.203357\n",
       "7              N5    1.167223\n",
       "8           card2    1.147620\n",
       "9              R4    1.136447"
      ]
     },
     "execution_count": 3,
     "metadata": {},
     "output_type": "execute_result"
    }
   ],
   "source": [
    "df_imp.head(10)"
   ]
  },
  {
   "cell_type": "code",
   "execution_count": 4,
   "metadata": {},
   "outputs": [],
   "source": [
    "# X_cols = df_imp[df_imp.importance > 0.1].feature.to_list()\n",
    "X_cols = df_imp.feature[:100].to_list()"
   ]
  },
  {
   "cell_type": "code",
   "execution_count": 5,
   "metadata": {},
   "outputs": [],
   "source": [
    "data_folder = 'input'"
   ]
  },
  {
   "cell_type": "code",
   "execution_count": 6,
   "metadata": {},
   "outputs": [],
   "source": [
    "train = pd.read_csv(data_folder+'/train_ft_eng_1.csv', dtype = schema_ft_eng_1, usecols=X_cols)\n",
    "test = pd.read_csv(data_folder+'/test_ft_eng_1.csv', dtype = schema_ft_eng_1, usecols=X_cols)"
   ]
  },
  {
   "cell_type": "code",
   "execution_count": 7,
   "metadata": {},
   "outputs": [],
   "source": [
    "# train = csr_matrix(train)\n",
    "# test = csr_matrix(test)\n",
    "# gc.collect()"
   ]
  },
  {
   "cell_type": "code",
   "execution_count": 8,
   "metadata": {},
   "outputs": [
    {
     "data": {
      "text/plain": [
       "(590540, 100)"
      ]
     },
     "execution_count": 8,
     "metadata": {},
     "output_type": "execute_result"
    }
   ],
   "source": [
    "train.shape"
   ]
  },
  {
   "cell_type": "code",
   "execution_count": 9,
   "metadata": {},
   "outputs": [
    {
     "data": {
      "text/html": [
       "<div>\n",
       "<style scoped>\n",
       "    .dataframe tbody tr th:only-of-type {\n",
       "        vertical-align: middle;\n",
       "    }\n",
       "\n",
       "    .dataframe tbody tr th {\n",
       "        vertical-align: top;\n",
       "    }\n",
       "\n",
       "    .dataframe thead th {\n",
       "        text-align: right;\n",
       "    }\n",
       "</style>\n",
       "<table border=\"1\" class=\"dataframe\">\n",
       "  <thead>\n",
       "    <tr style=\"text-align: right;\">\n",
       "      <th></th>\n",
       "      <th>C1</th>\n",
       "      <th>C10</th>\n",
       "      <th>C11</th>\n",
       "      <th>C12</th>\n",
       "      <th>C13</th>\n",
       "      <th>C14</th>\n",
       "      <th>C2</th>\n",
       "      <th>C4</th>\n",
       "      <th>C6</th>\n",
       "      <th>C7</th>\n",
       "      <th>...</th>\n",
       "      <th>R14</th>\n",
       "      <th>R17</th>\n",
       "      <th>R18</th>\n",
       "      <th>R19</th>\n",
       "      <th>R20</th>\n",
       "      <th>R21</th>\n",
       "      <th>R22</th>\n",
       "      <th>R27</th>\n",
       "      <th>R28</th>\n",
       "      <th>R29</th>\n",
       "    </tr>\n",
       "  </thead>\n",
       "  <tbody>\n",
       "    <tr>\n",
       "      <th>0</th>\n",
       "      <td>1.0</td>\n",
       "      <td>0.0</td>\n",
       "      <td>2.0</td>\n",
       "      <td>0.0</td>\n",
       "      <td>1.0</td>\n",
       "      <td>1.0</td>\n",
       "      <td>1.0</td>\n",
       "      <td>0.0</td>\n",
       "      <td>1.0</td>\n",
       "      <td>0.0</td>\n",
       "      <td>...</td>\n",
       "      <td>NaN</td>\n",
       "      <td>1.414062</td>\n",
       "      <td>NaN</td>\n",
       "      <td>NaN</td>\n",
       "      <td>NaN</td>\n",
       "      <td>NaN</td>\n",
       "      <td>NaN</td>\n",
       "      <td>NaN</td>\n",
       "      <td>NaN</td>\n",
       "      <td>NaN</td>\n",
       "    </tr>\n",
       "    <tr>\n",
       "      <th>1</th>\n",
       "      <td>1.0</td>\n",
       "      <td>0.0</td>\n",
       "      <td>1.0</td>\n",
       "      <td>0.0</td>\n",
       "      <td>1.0</td>\n",
       "      <td>1.0</td>\n",
       "      <td>1.0</td>\n",
       "      <td>0.0</td>\n",
       "      <td>1.0</td>\n",
       "      <td>0.0</td>\n",
       "      <td>...</td>\n",
       "      <td>NaN</td>\n",
       "      <td>0.000000</td>\n",
       "      <td>NaN</td>\n",
       "      <td>0.000000</td>\n",
       "      <td>NaN</td>\n",
       "      <td>0.000000</td>\n",
       "      <td>NaN</td>\n",
       "      <td>NaN</td>\n",
       "      <td>NaN</td>\n",
       "      <td>NaN</td>\n",
       "    </tr>\n",
       "    <tr>\n",
       "      <th>2</th>\n",
       "      <td>1.0</td>\n",
       "      <td>0.0</td>\n",
       "      <td>1.0</td>\n",
       "      <td>0.0</td>\n",
       "      <td>1.0</td>\n",
       "      <td>1.0</td>\n",
       "      <td>1.0</td>\n",
       "      <td>0.0</td>\n",
       "      <td>1.0</td>\n",
       "      <td>0.0</td>\n",
       "      <td>...</td>\n",
       "      <td>NaN</td>\n",
       "      <td>0.000000</td>\n",
       "      <td>1.546875</td>\n",
       "      <td>1.499023</td>\n",
       "      <td>NaN</td>\n",
       "      <td>0.000000</td>\n",
       "      <td>NaN</td>\n",
       "      <td>NaN</td>\n",
       "      <td>NaN</td>\n",
       "      <td>NaN</td>\n",
       "    </tr>\n",
       "    <tr>\n",
       "      <th>3</th>\n",
       "      <td>2.0</td>\n",
       "      <td>0.0</td>\n",
       "      <td>1.0</td>\n",
       "      <td>0.0</td>\n",
       "      <td>25.0</td>\n",
       "      <td>1.0</td>\n",
       "      <td>5.0</td>\n",
       "      <td>0.0</td>\n",
       "      <td>4.0</td>\n",
       "      <td>0.0</td>\n",
       "      <td>...</td>\n",
       "      <td>NaN</td>\n",
       "      <td>0.568359</td>\n",
       "      <td>NaN</td>\n",
       "      <td>0.563965</td>\n",
       "      <td>0.0</td>\n",
       "      <td>0.483887</td>\n",
       "      <td>0.0</td>\n",
       "      <td>NaN</td>\n",
       "      <td>NaN</td>\n",
       "      <td>NaN</td>\n",
       "    </tr>\n",
       "    <tr>\n",
       "      <th>4</th>\n",
       "      <td>1.0</td>\n",
       "      <td>1.0</td>\n",
       "      <td>1.0</td>\n",
       "      <td>0.0</td>\n",
       "      <td>1.0</td>\n",
       "      <td>1.0</td>\n",
       "      <td>1.0</td>\n",
       "      <td>0.0</td>\n",
       "      <td>1.0</td>\n",
       "      <td>0.0</td>\n",
       "      <td>...</td>\n",
       "      <td>NaN</td>\n",
       "      <td>NaN</td>\n",
       "      <td>NaN</td>\n",
       "      <td>NaN</td>\n",
       "      <td>NaN</td>\n",
       "      <td>NaN</td>\n",
       "      <td>NaN</td>\n",
       "      <td>NaN</td>\n",
       "      <td>NaN</td>\n",
       "      <td>NaN</td>\n",
       "    </tr>\n",
       "  </tbody>\n",
       "</table>\n",
       "<p>5 rows × 100 columns</p>\n",
       "</div>"
      ],
      "text/plain": [
       "    C1  C10  C11  C12   C13  C14   C2   C4   C6   C7  ...  R14       R17  \\\n",
       "0  1.0  0.0  2.0  0.0   1.0  1.0  1.0  0.0  1.0  0.0  ...  NaN  1.414062   \n",
       "1  1.0  0.0  1.0  0.0   1.0  1.0  1.0  0.0  1.0  0.0  ...  NaN  0.000000   \n",
       "2  1.0  0.0  1.0  0.0   1.0  1.0  1.0  0.0  1.0  0.0  ...  NaN  0.000000   \n",
       "3  2.0  0.0  1.0  0.0  25.0  1.0  5.0  0.0  4.0  0.0  ...  NaN  0.568359   \n",
       "4  1.0  1.0  1.0  0.0   1.0  1.0  1.0  0.0  1.0  0.0  ...  NaN       NaN   \n",
       "\n",
       "        R18       R19  R20       R21  R22  R27  R28  R29  \n",
       "0       NaN       NaN  NaN       NaN  NaN  NaN  NaN  NaN  \n",
       "1       NaN  0.000000  NaN  0.000000  NaN  NaN  NaN  NaN  \n",
       "2  1.546875  1.499023  NaN  0.000000  NaN  NaN  NaN  NaN  \n",
       "3       NaN  0.563965  0.0  0.483887  0.0  NaN  NaN  NaN  \n",
       "4       NaN       NaN  NaN       NaN  NaN  NaN  NaN  NaN  \n",
       "\n",
       "[5 rows x 100 columns]"
      ]
     },
     "execution_count": 9,
     "metadata": {},
     "output_type": "execute_result"
    }
   ],
   "source": [
    "train.head()"
   ]
  },
  {
   "cell_type": "code",
   "execution_count": 10,
   "metadata": {},
   "outputs": [
    {
     "data": {
      "text/plain": [
       "(1097231, 100)"
      ]
     },
     "execution_count": 10,
     "metadata": {},
     "output_type": "execute_result"
    }
   ],
   "source": [
    "# test['isFraud'] = np.nan\n",
    "train_index = train.shape[0]\n",
    "test_index = test.shape[0]\n",
    "df = pd.concat([train, test], axis=0)\n",
    "df.shape"
   ]
  },
  {
   "cell_type": "code",
   "execution_count": 11,
   "metadata": {},
   "outputs": [
    {
     "data": {
      "text/plain": [
       "7"
      ]
     },
     "execution_count": 11,
     "metadata": {},
     "output_type": "execute_result"
    }
   ],
   "source": [
    "del train\n",
    "del test\n",
    "gc.collect()"
   ]
  },
  {
   "cell_type": "code",
   "execution_count": 12,
   "metadata": {},
   "outputs": [
    {
     "data": {
      "text/plain": [
       "['DeviceInfo', 'M4', 'M5', 'M6']"
      ]
     },
     "execution_count": 12,
     "metadata": {},
     "output_type": "execute_result"
    }
   ],
   "source": [
    "cat_ft_sel = list()\n",
    "for c in df.columns:\n",
    "    if c in cat_ft:\n",
    "        cat_ft_sel.append(c)\n",
    "cat_ft_sel[:4]"
   ]
  },
  {
   "cell_type": "code",
   "execution_count": 13,
   "metadata": {},
   "outputs": [
    {
     "data": {
      "text/plain": [
       "['C1', 'C10', 'C11', 'C12', 'C13']"
      ]
     },
     "execution_count": 13,
     "metadata": {},
     "output_type": "execute_result"
    }
   ],
   "source": [
    "num_cols = list()\n",
    "for c in df.columns:\n",
    "    if c not in cat_ft:\n",
    "        num_cols.append(c)\n",
    "num_cols[:5]"
   ]
  },
  {
   "cell_type": "code",
   "execution_count": 14,
   "metadata": {},
   "outputs": [],
   "source": [
    "mms = MinMaxScaler()"
   ]
  },
  {
   "cell_type": "code",
   "execution_count": 15,
   "metadata": {},
   "outputs": [],
   "source": [
    "df[num_cols] = mms.fit_transform(df[num_cols])"
   ]
  },
  {
   "cell_type": "code",
   "execution_count": 16,
   "metadata": {},
   "outputs": [
    {
     "data": {
      "text/html": [
       "<div>\n",
       "<style scoped>\n",
       "    .dataframe tbody tr th:only-of-type {\n",
       "        vertical-align: middle;\n",
       "    }\n",
       "\n",
       "    .dataframe tbody tr th {\n",
       "        vertical-align: top;\n",
       "    }\n",
       "\n",
       "    .dataframe thead th {\n",
       "        text-align: right;\n",
       "    }\n",
       "</style>\n",
       "<table border=\"1\" class=\"dataframe\">\n",
       "  <thead>\n",
       "    <tr style=\"text-align: right;\">\n",
       "      <th></th>\n",
       "      <th>C1</th>\n",
       "      <th>C10</th>\n",
       "      <th>C11</th>\n",
       "      <th>C12</th>\n",
       "      <th>C13</th>\n",
       "    </tr>\n",
       "  </thead>\n",
       "  <tbody>\n",
       "    <tr>\n",
       "      <th>0</th>\n",
       "      <td>0.000213</td>\n",
       "      <td>0.000000</td>\n",
       "      <td>0.000627</td>\n",
       "      <td>0.0</td>\n",
       "      <td>0.000343</td>\n",
       "    </tr>\n",
       "    <tr>\n",
       "      <th>1</th>\n",
       "      <td>0.000213</td>\n",
       "      <td>0.000000</td>\n",
       "      <td>0.000314</td>\n",
       "      <td>0.0</td>\n",
       "      <td>0.000343</td>\n",
       "    </tr>\n",
       "    <tr>\n",
       "      <th>2</th>\n",
       "      <td>0.000213</td>\n",
       "      <td>0.000000</td>\n",
       "      <td>0.000314</td>\n",
       "      <td>0.0</td>\n",
       "      <td>0.000343</td>\n",
       "    </tr>\n",
       "    <tr>\n",
       "      <th>3</th>\n",
       "      <td>0.000427</td>\n",
       "      <td>0.000000</td>\n",
       "      <td>0.000314</td>\n",
       "      <td>0.0</td>\n",
       "      <td>0.008568</td>\n",
       "    </tr>\n",
       "    <tr>\n",
       "      <th>4</th>\n",
       "      <td>0.000213</td>\n",
       "      <td>0.000307</td>\n",
       "      <td>0.000314</td>\n",
       "      <td>0.0</td>\n",
       "      <td>0.000343</td>\n",
       "    </tr>\n",
       "  </tbody>\n",
       "</table>\n",
       "</div>"
      ],
      "text/plain": [
       "         C1       C10       C11  C12       C13\n",
       "0  0.000213  0.000000  0.000627  0.0  0.000343\n",
       "1  0.000213  0.000000  0.000314  0.0  0.000343\n",
       "2  0.000213  0.000000  0.000314  0.0  0.000343\n",
       "3  0.000427  0.000000  0.000314  0.0  0.008568\n",
       "4  0.000213  0.000307  0.000314  0.0  0.000343"
      ]
     },
     "execution_count": 16,
     "metadata": {},
     "output_type": "execute_result"
    }
   ],
   "source": [
    "df[num_cols[:5]].head()"
   ]
  },
  {
   "cell_type": "code",
   "execution_count": 17,
   "metadata": {},
   "outputs": [],
   "source": [
    "df_csr_num = csr_matrix(df[num_cols])"
   ]
  },
  {
   "cell_type": "code",
   "execution_count": 18,
   "metadata": {},
   "outputs": [
    {
     "data": {
      "text/plain": [
       "(1097231, 68)"
      ]
     },
     "execution_count": 18,
     "metadata": {},
     "output_type": "execute_result"
    }
   ],
   "source": [
    "df_csr_num.shape"
   ]
  },
  {
   "cell_type": "code",
   "execution_count": 19,
   "metadata": {},
   "outputs": [],
   "source": [
    "def del_col_same_value(df):\n",
    "    new_sel_cols = list()\n",
    "    for c in df.columns:\n",
    "        if len(df[c].unique()) > 1:\n",
    "            new_sel_cols.append(c)\n",
    "    return df[new_sel_cols]"
   ]
  },
  {
   "cell_type": "code",
   "execution_count": 20,
   "metadata": {},
   "outputs": [],
   "source": [
    "def from_df_to_sparse(df):\n",
    "    df_dummies = csr_matrix(pd.DataFrame())\n",
    "    for c in df.columns:\n",
    "        if c in cat_ft and c not in ['isFraud', 'TransactionDT']:\n",
    "            print('Transform col: {}'.format(c))\n",
    "            try:\n",
    "                dums = csr_matrix(del_col_same_value(pd.get_dummies(df[c], prefix=c, dummy_na=False)))\n",
    "                df_dummies = hstack([df_dummies, dums])\n",
    "#                 dums = csr_matrix(pd.get_dummies(df[c], prefix=c, dummy_na=False))\n",
    "#                 df_dummies = hstack([df_dummies, dums])\n",
    "            except:\n",
    "                print('Error in {}'.format(c))\n",
    "        else:\n",
    "            pass\n",
    "            \n",
    "    return df_dummies"
   ]
  },
  {
   "cell_type": "code",
   "execution_count": 21,
   "metadata": {},
   "outputs": [],
   "source": [
    "# def from_df_to_sparse(df):\n",
    "    \n",
    "#     df_dummies = csr_matrix(pd.DataFrame())\n",
    "    \n",
    "#     for c in df.columns:\n",
    "#         print('Transform col: {}'.format(c))\n",
    "#         if c in cat_ft and c not in ['isFraud', 'TransactionDT']:\n",
    "# #             if len(df[c].unique()) > 1000:\n",
    "# #                 try:\n",
    "# #                     dums = csr_matrix(del_col_same_value(pd.get_dummies(pd.cut(df[c], 256), prefix=c, dummy_na=False)))\n",
    "# #                     df_dummies = hstack([df_dummies, dums])\n",
    "# #                 except:\n",
    "# #                     print('Error in {}'.format(c))\n",
    "# #             else:\n",
    "#             try:\n",
    "# #                 dums = csr_matrix(del_col_same_value(pd.get_dummies(df[c], prefix=c, dummy_na=False)))\n",
    "# #                 df_dummies = hstack([df_dummies, dums])\n",
    "#                 dums = csr_matrix(pd.get_dummies(df[c], prefix=c, dummy_na=False))\n",
    "#                 df_dummies = hstack([df_dummies, dums])\n",
    "#             except:\n",
    "#                 print('Error in {}'.format(c))\n",
    "#         elif c not in cat_ft + ['isFraud', 'TransactionDT']:\n",
    "#             try:\n",
    "#                 dums = csr_matrix(df[c].fillna(0))\n",
    "#                 df_dummies = hstack([df_dummies, dums])\n",
    "#             except:\n",
    "#                 print('Error in {}'.format(c))\n",
    "# #             if df[c].isna().sum() == 0:\n",
    "# #                 dums = csr_matrix(pd.get_dummies(pd.cut(df[c], 256), prefix=c, dummy_na=False))\n",
    "# #                 df_dummies = hstack([df_dummies, dums])\n",
    "# #             else:\n",
    "# #                 dums = csr_matrix(del_col_same_value(pd.get_dummies(pd.cut(df[c], 256), prefix=c, dummy_na=True)))\n",
    "# #                 df_dummies = hstack([df_dummies, dums])\n",
    "#         else:\n",
    "#             pass\n",
    "            \n",
    "#     return df_dummies"
   ]
  },
  {
   "cell_type": "code",
   "execution_count": 22,
   "metadata": {},
   "outputs": [
    {
     "name": "stdout",
     "output_type": "stream",
     "text": [
      "Transform col: DeviceInfo\n",
      "Transform col: M4\n",
      "Transform col: M5\n",
      "Transform col: M6\n",
      "Transform col: P_emaildomain\n",
      "Transform col: addr1\n",
      "Transform col: card1\n",
      "Error in card1\n",
      "Transform col: card2\n",
      "Transform col: card5\n",
      "Transform col: card6\n",
      "Transform col: id_19\n",
      "Transform col: id_20\n",
      "Transform col: id_31\n",
      "Transform col: P_emaildomain_0\n",
      "Transform col: R_emaildomain_0\n",
      "Transform col: P_emaildomain_fe1\n",
      "Transform col: card1_fe1\n",
      "Transform col: card2_fe1\n",
      "Transform col: card5_fe1\n",
      "Transform col: card6_fe1\n",
      "Transform col: addr1_fe1\n",
      "Transform col: M6_fe1\n",
      "Transform col: P_emaildomain_0_fe1\n",
      "Transform col: P_emaildomain_fe2\n",
      "Transform col: card1_fe2\n",
      "Transform col: card2_fe2\n",
      "Transform col: card5_fe2\n",
      "Transform col: card6_fe2\n",
      "Transform col: addr1_fe2\n",
      "Transform col: M4_fe2\n",
      "Transform col: M5_fe2\n",
      "Transform col: P_emaildomain_0_fe2\n"
     ]
    },
    {
     "data": {
      "text/plain": [
       "(1097231, 6372)"
      ]
     },
     "execution_count": 22,
     "metadata": {},
     "output_type": "execute_result"
    }
   ],
   "source": [
    "df_csr_cat = from_df_to_sparse(df)\n",
    "df_csr_cat.shape"
   ]
  },
  {
   "cell_type": "code",
   "execution_count": 23,
   "metadata": {},
   "outputs": [
    {
     "data": {
      "text/plain": [
       "(1097231, 6440)"
      ]
     },
     "execution_count": 23,
     "metadata": {},
     "output_type": "execute_result"
    }
   ],
   "source": [
    "df_final = hstack([df_csr_cat, df_csr_num])\n",
    "df_final.shape"
   ]
  },
  {
   "cell_type": "code",
   "execution_count": 24,
   "metadata": {
    "scrolled": true
   },
   "outputs": [],
   "source": [
    "# df_final = from_df_to_sparse(df)\n",
    "# df_final.shape"
   ]
  },
  {
   "cell_type": "code",
   "execution_count": 25,
   "metadata": {},
   "outputs": [
    {
     "name": "stdout",
     "output_type": "stream",
     "text": [
      "Saving train data...\n",
      "Saving test data...\n",
      "Completed!\n"
     ]
    }
   ],
   "source": [
    "print('Saving train data...')\n",
    "save_npz(data_folder+'/compressed_train_ft_eng_1.npz', df_final.tocsr()[:train_index], compressed=True)\n",
    "print('Saving test data...')\n",
    "save_npz(data_folder+'/compressed_test_ft_eng_1.npz',  df_final.tocsr()[train_index:],  compressed=True)\n",
    "print('Completed!')"
   ]
  },
  {
   "cell_type": "code",
   "execution_count": 26,
   "metadata": {},
   "outputs": [
    {
     "data": {
      "text/plain": [
       "(590540, 6440)"
      ]
     },
     "execution_count": 26,
     "metadata": {},
     "output_type": "execute_result"
    }
   ],
   "source": [
    "df_final.tocsr()[:train_index].shape"
   ]
  },
  {
   "cell_type": "code",
   "execution_count": 13,
   "metadata": {},
   "outputs": [
    {
     "name": "stdout",
     "output_type": "stream",
     "text": [
      "Saving train data...\n",
      "Saving test data...\n",
      "Completed!\n"
     ]
    }
   ],
   "source": [
    "# #Transform data using small groups to reduce memory usage\n",
    "# # m = 50000\n",
    "# # train_sparse = vstack([csr_matrix(train[X_cols].iloc[i*m:(i+1)*m,:]) for i in range(train.shape[0] // m + 1)])\n",
    "# print('Saving train data...')\n",
    "# save_npz(data_folder+'/train.npz', df_final.tocsr()[:train_index], compressed=True)\n",
    "# print('Saving test data...')\n",
    "# save_npz(data_folder+'/test.npz',  df_final.tocsr()[train_index:],  compressed=True)\n",
    "# print('Completed!')"
   ]
  },
  {
   "cell_type": "code",
   "execution_count": 78,
   "metadata": {},
   "outputs": [
    {
     "data": {
      "text/plain": [
       "(590540, 243)"
      ]
     },
     "execution_count": 78,
     "metadata": {},
     "output_type": "execute_result"
    }
   ],
   "source": [
    "train_sparse.shape"
   ]
  }
 ],
 "metadata": {
  "kernelspec": {
   "display_name": "Python 3",
   "language": "python",
   "name": "python3"
  },
  "language_info": {
   "codemirror_mode": {
    "name": "ipython",
    "version": 3
   },
   "file_extension": ".py",
   "mimetype": "text/x-python",
   "name": "python",
   "nbconvert_exporter": "python",
   "pygments_lexer": "ipython3",
   "version": "3.6.8"
  }
 },
 "nbformat": 4,
 "nbformat_minor": 2
}
