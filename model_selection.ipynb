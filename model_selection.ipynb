{
 "cells": [
  {
   "cell_type": "code",
   "execution_count": 1,
   "metadata": {},
   "outputs": [],
   "source": [
    "import warnings\n",
    "warnings.filterwarnings('ignore')\n",
    "\n",
    "import pandas as pd\n",
    "import numpy as np\n",
    "import matplotlib.pyplot as plt\n",
    "from collections import Counter, defaultdict\n",
    "import gc\n",
    "import eli5\n",
    "from eli5.sklearn import PermutationImportance\n",
    "from sklearn.ensemble import RandomForestClassifier\n",
    "from sklearn.model_selection import train_test_split\n",
    "\n",
    "from utils.schemas import *\n",
    "from utils.functions import *"
   ]
  },
  {
   "cell_type": "code",
   "execution_count": 2,
   "metadata": {},
   "outputs": [],
   "source": [
    "df_imp = pd.read_csv('docs/ft_importances_20190811.csv')"
   ]
  },
  {
   "cell_type": "code",
   "execution_count": 3,
   "metadata": {},
   "outputs": [],
   "source": [
    "X_cols = df_imp[df_imp.importance > 0.1].feature.to_list()"
   ]
  },
  {
   "cell_type": "code",
   "execution_count": 4,
   "metadata": {},
   "outputs": [],
   "source": [
    "data_folder = 'input'"
   ]
  },
  {
   "cell_type": "code",
   "execution_count": 5,
   "metadata": {},
   "outputs": [],
   "source": [
    "train = pd.read_csv(data_folder+'/train_ft_eng_0.csv', dtype = schema_generated_0, usecols=X_cols+['isFraud', 'TransactionDT'])\n",
    "test = pd.read_csv(data_folder+'/test_ft_eng_0.csv', dtype = schema_generated_0, usecols=X_cols)"
   ]
  },
  {
   "cell_type": "code",
   "execution_count": 11,
   "metadata": {},
   "outputs": [],
   "source": [
    "mini_train = train.sample(120000, random_state = 42)#.fillna(train.median())"
   ]
  },
  {
   "cell_type": "code",
   "execution_count": 6,
   "metadata": {},
   "outputs": [],
   "source": [
    "X = train.sort_values('TransactionDT')[X_cols]#.reset_index(drop=True)\n",
    "y = train.sort_values('TransactionDT').isFraud"
   ]
  },
  {
   "cell_type": "code",
   "execution_count": 15,
   "metadata": {},
   "outputs": [],
   "source": [
    "from sklearn.model_selection import RandomizedSearchCV\n",
    "from sklearn.metrics import roc_auc_score\n",
    "import lightgbm as lgb"
   ]
  },
  {
   "cell_type": "code",
   "execution_count": 7,
   "metadata": {},
   "outputs": [],
   "source": [
    "# X_train, X_test, y_train, y_test = train_test_split(X, y, test_size=0.2, random_state=42)\n",
    "X_train = X.iloc[:int(X.shape[0]*0.8), :]\n",
    "X_test = X.iloc[int(X.shape[0]*0.8):, :]\n",
    "y_train = y[:int(X.shape[0]*0.8)]\n",
    "y_test = y[int(X.shape[0]*0.8):]"
   ]
  },
  {
   "cell_type": "markdown",
   "metadata": {},
   "source": [
    "# LightGBM"
   ]
  },
  {
   "cell_type": "code",
   "execution_count": 23,
   "metadata": {},
   "outputs": [],
   "source": [
    "# Optimize max_depth\n",
    "params = {\n",
    "    'num_leaves': 491,\n",
    "    'metric': ['AUC'],\n",
    "    'first_metric_only': True,\n",
    "    'n_estimators': 20000,\n",
    "    'learning_rate': 0.008,\n",
    "    'colsample_bytree': 0.85,\n",
    "    'objective': 'xentropy',\n",
    "    'n_jobs': -1,\n",
    "    'bagging_fraction': 0.8,\n",
    "    'bagging_freq': 5,\n",
    "    'lambda_l1': 0,\n",
    "    'lambda_l2': 0,\n",
    "    'bagging_seed': 42,\n",
    "    'seed': 42,\n",
    "    'feature_fraction_seed': 42,\n",
    "    'drop_seed': 42,\n",
    "    'data_random_seed': 42,\n",
    "}"
   ]
  },
  {
   "cell_type": "code",
   "execution_count": null,
   "metadata": {},
   "outputs": [],
   "source": [
    "np.arange(0.001, 0.05, 0.001)"
   ]
  },
  {
   "cell_type": "code",
   "execution_count": 26,
   "metadata": {},
   "outputs": [
    {
     "name": "stdout",
     "output_type": "stream",
     "text": [
      "Max_Depth: 21\n",
      "Training until validation scores don't improve for 40 rounds.\n",
      "[100]\tvalid_0's auc: 0.892142\n",
      "[200]\tvalid_0's auc: 0.895234\n",
      "[300]\tvalid_0's auc: 0.89865\n",
      "Early stopping, best iteration is:\n",
      "[328]\tvalid_0's auc: 0.900333\n",
      "\n",
      "\n",
      "Max_Depth: 22\n",
      "Training until validation scores don't improve for 40 rounds.\n",
      "[100]\tvalid_0's auc: 0.8933\n",
      "[200]\tvalid_0's auc: 0.897393\n",
      "[300]\tvalid_0's auc: 0.901701\n",
      "Early stopping, best iteration is:\n",
      "[311]\tvalid_0's auc: 0.902474\n",
      "\n",
      "\n",
      "Max_Depth: 23\n",
      "Training until validation scores don't improve for 40 rounds.\n",
      "[100]\tvalid_0's auc: 0.890424\n",
      "[200]\tvalid_0's auc: 0.897478\n",
      "[300]\tvalid_0's auc: 0.898031\n",
      "Early stopping, best iteration is:\n",
      "[265]\tvalid_0's auc: 0.898698\n",
      "\n",
      "\n",
      "Max_Depth: 24\n",
      "Training until validation scores don't improve for 40 rounds.\n",
      "[100]\tvalid_0's auc: 0.894404\n",
      "[200]\tvalid_0's auc: 0.897921\n",
      "Early stopping, best iteration is:\n",
      "[161]\tvalid_0's auc: 0.898709\n",
      "\n",
      "\n",
      "Max_Depth: 25\n",
      "Training until validation scores don't improve for 40 rounds.\n",
      "[100]\tvalid_0's auc: 0.896674\n",
      "[200]\tvalid_0's auc: 0.903463\n",
      "Early stopping, best iteration is:\n",
      "[200]\tvalid_0's auc: 0.903463\n",
      "\n",
      "\n",
      "Max_Depth: 26\n",
      "Training until validation scores don't improve for 40 rounds.\n",
      "[100]\tvalid_0's auc: 0.895048\n",
      "[200]\tvalid_0's auc: 0.902083\n",
      "Early stopping, best iteration is:\n",
      "[214]\tvalid_0's auc: 0.902797\n",
      "\n",
      "\n",
      "Max_Depth: 27\n",
      "Training until validation scores don't improve for 40 rounds.\n",
      "[100]\tvalid_0's auc: 0.895796\n",
      "[200]\tvalid_0's auc: 0.901056\n",
      "Early stopping, best iteration is:\n",
      "[203]\tvalid_0's auc: 0.901432\n",
      "\n",
      "\n",
      "Max_Depth: 28\n",
      "Training until validation scores don't improve for 40 rounds.\n",
      "[100]\tvalid_0's auc: 0.894183\n",
      "[200]\tvalid_0's auc: 0.900337\n",
      "[300]\tvalid_0's auc: 0.900933\n",
      "Early stopping, best iteration is:\n",
      "[331]\tvalid_0's auc: 0.902125\n",
      "\n",
      "\n",
      "Max_Depth: 29\n",
      "Training until validation scores don't improve for 40 rounds.\n",
      "[100]\tvalid_0's auc: 0.895227\n",
      "[200]\tvalid_0's auc: 0.902492\n",
      "[300]\tvalid_0's auc: 0.901685\n",
      "Early stopping, best iteration is:\n",
      "[268]\tvalid_0's auc: 0.903404\n",
      "\n",
      "\n"
     ]
    },
    {
     "data": {
      "text/html": [
       "<div>\n",
       "<style scoped>\n",
       "    .dataframe tbody tr th:only-of-type {\n",
       "        vertical-align: middle;\n",
       "    }\n",
       "\n",
       "    .dataframe tbody tr th {\n",
       "        vertical-align: top;\n",
       "    }\n",
       "\n",
       "    .dataframe thead th {\n",
       "        text-align: right;\n",
       "    }\n",
       "</style>\n",
       "<table border=\"1\" class=\"dataframe\">\n",
       "  <thead>\n",
       "    <tr style=\"text-align: right;\">\n",
       "      <th></th>\n",
       "      <th>depth</th>\n",
       "      <th>auc</th>\n",
       "    </tr>\n",
       "  </thead>\n",
       "  <tbody>\n",
       "    <tr>\n",
       "      <th>18</th>\n",
       "      <td>25</td>\n",
       "      <td>0.903463</td>\n",
       "    </tr>\n",
       "    <tr>\n",
       "      <th>22</th>\n",
       "      <td>29</td>\n",
       "      <td>0.903404</td>\n",
       "    </tr>\n",
       "    <tr>\n",
       "      <th>19</th>\n",
       "      <td>26</td>\n",
       "      <td>0.902797</td>\n",
       "    </tr>\n",
       "    <tr>\n",
       "      <th>15</th>\n",
       "      <td>22</td>\n",
       "      <td>0.902474</td>\n",
       "    </tr>\n",
       "    <tr>\n",
       "      <th>21</th>\n",
       "      <td>28</td>\n",
       "      <td>0.902125</td>\n",
       "    </tr>\n",
       "  </tbody>\n",
       "</table>\n",
       "</div>"
      ],
      "text/plain": [
       "    depth       auc\n",
       "18     25  0.903463\n",
       "22     29  0.903404\n",
       "19     26  0.902797\n",
       "15     22  0.902474\n",
       "21     28  0.902125"
      ]
     },
     "execution_count": 26,
     "metadata": {},
     "output_type": "execute_result"
    }
   ],
   "source": [
    "#max_depth_list = list(range(7, 21))\n",
    "# aucs_list = list()\n",
    "# depth_list = list()\n",
    "max_depth_list = list(range(21, 30))\n",
    "for max_depth in max_depth_list:\n",
    "    print('Max_Depth:', max_depth)\n",
    "    params['max_depth'] = max_depth\n",
    "    lgb_model = lgb.LGBMClassifier(**params)\n",
    "    lgb_model.fit(X_train,\n",
    "                   y_train,\n",
    "                   eval_set=[(X_test, y_test)],\n",
    "                   verbose=100,\n",
    "                   early_stopping_rounds=40,\n",
    "#                    eval_metric=custom_loss\n",
    "                  )\n",
    "    depth_list.append(max_depth)\n",
    "    aucs_list.append(roc_auc_score(y_test, lgb_model.predict_proba(X_test)[:,1]))\n",
    "    print('\\n')\n",
    "    \n",
    "df_depth = pd.DataFrame({'depth': depth_list, 'auc': aucs_list}).sort_values('auc', ascending = False)\n",
    "df_depth.head()"
   ]
  },
  {
   "cell_type": "code",
   "execution_count": null,
   "metadata": {},
   "outputs": [],
   "source": []
  },
  {
   "cell_type": "code",
   "execution_count": 28,
   "metadata": {},
   "outputs": [],
   "source": [
    "# Optimize max_depth\n",
    "params = {\n",
    "    'num_leaves': 491,\n",
    "    'max_depth': 25,\n",
    "    'metric': ['AUC'],\n",
    "    'first_metric_only': True,\n",
    "    'n_estimators': 20000,\n",
    "    'learning_rate': 0.008,\n",
    "    'colsample_bytree': 0.85,\n",
    "    'objective': 'xentropy',\n",
    "    'n_jobs': -1,\n",
    "    'bagging_fraction': 0.8,\n",
    "    'bagging_freq': 5,\n",
    "    'lambda_l1': 0,\n",
    "    'lambda_l2': 0,\n",
    "    'bagging_seed': 42,\n",
    "    'seed': 42,\n",
    "    'feature_fraction_seed': 42,\n",
    "    'drop_seed': 42,\n",
    "    'data_random_seed': 42,\n",
    "}"
   ]
  },
  {
   "cell_type": "code",
   "execution_count": 27,
   "metadata": {},
   "outputs": [
    {
     "data": {
      "text/plain": [
       "array([0.001, 0.002, 0.003, 0.004, 0.005, 0.006, 0.007, 0.008, 0.009,\n",
       "       0.01 , 0.011, 0.012, 0.013, 0.014, 0.015, 0.016, 0.017, 0.018,\n",
       "       0.019, 0.02 , 0.021, 0.022, 0.023, 0.024, 0.025, 0.026, 0.027,\n",
       "       0.028, 0.029, 0.03 , 0.031, 0.032, 0.033, 0.034, 0.035, 0.036,\n",
       "       0.037, 0.038, 0.039, 0.04 , 0.041, 0.042, 0.043, 0.044, 0.045,\n",
       "       0.046, 0.047, 0.048, 0.049])"
      ]
     },
     "execution_count": 27,
     "metadata": {},
     "output_type": "execute_result"
    }
   ],
   "source": [
    "np.arange(0.001, 0.05, 0.001)"
   ]
  },
  {
   "cell_type": "code",
   "execution_count": 29,
   "metadata": {},
   "outputs": [
    {
     "name": "stdout",
     "output_type": "stream",
     "text": [
      "Training until validation scores don't improve for 40 rounds.\n",
      "[100]\tvalid_0's auc: 0.880895\n",
      "[200]\tvalid_0's auc: 0.889505\n",
      "[300]\tvalid_0's auc: 0.894199\n",
      "[400]\tvalid_0's auc: 0.897251\n",
      "[500]\tvalid_0's auc: 0.899565\n",
      "[600]\tvalid_0's auc: 0.901131\n",
      "Early stopping, best iteration is:\n",
      "[645]\tvalid_0's auc: 0.901972\n"
     ]
    },
    {
     "data": {
      "text/plain": [
       "LGBMClassifier(bagging_fraction=0.8, bagging_freq=5, bagging_seed=42,\n",
       "               boosting_type='gbdt', class_weight=None, colsample_bytree=0.85,\n",
       "               data_random_seed=42, drop_seed=42, feature_fraction_seed=42,\n",
       "               first_metric_only=True, importance_type='split', lambda_l1=0,\n",
       "               lambda_l2=0, learning_rate=0.008, max_depth=25, metric=['AUC'],\n",
       "               min_child_samples=20, min_child_weight=0.001, min_split_gain=0.0,\n",
       "               n_estimators=20000, n_jobs=-1, num_leaves=491,\n",
       "               objective='xentropy', random_state=None, reg_alpha=0.0,\n",
       "               reg_lambda=0.0, seed=42, silent=True, subsample=1.0,\n",
       "               subsample_for_bin=200000, ...)"
      ]
     },
     "execution_count": 29,
     "metadata": {},
     "output_type": "execute_result"
    }
   ],
   "source": [
    "lgb_model = lgb.LGBMClassifier(**params)\n",
    "lgb_model.fit(X_train,\n",
    "               y_train,\n",
    "               eval_set=[(X_test, y_test)],\n",
    "               verbose=100,\n",
    "               early_stopping_rounds=40,\n",
    "              )"
   ]
  },
  {
   "cell_type": "code",
   "execution_count": 39,
   "metadata": {},
   "outputs": [],
   "source": [
    "lgb_model.best_iteration_"
   ]
  },
  {
   "cell_type": "code",
   "execution_count": 52,
   "metadata": {},
   "outputs": [
    {
     "data": {
      "text/plain": [
       "1257"
      ]
     },
     "execution_count": 52,
     "metadata": {},
     "output_type": "execute_result"
    }
   ],
   "source": [
    "params['n_estimators']"
   ]
  },
  {
   "cell_type": "code",
   "execution_count": 50,
   "metadata": {},
   "outputs": [],
   "source": [
    "params['n_estimators'] = int(967*1.3)"
   ]
  },
  {
   "cell_type": "code",
   "execution_count": 53,
   "metadata": {},
   "outputs": [
    {
     "data": {
      "text/plain": [
       "LGBMClassifier(bagging_fraction=0.8, bagging_freq=5, bagging_seed=42,\n",
       "               boosting_type='gbdt', class_weight=None, colsample_bytree=0.85,\n",
       "               data_random_seed=42, drop_seed=42, feature_fraction_seed=42,\n",
       "               first_metric_only=True, importance_type='split', lambda_l1=0,\n",
       "               lambda_l2=0, learning_rate=0.008, max_depth=25, metric=['AUC'],\n",
       "               min_child_samples=20, min_child_weight=0.001, min_split_gain=0.0,\n",
       "               n_estimators=1257, n_jobs=-1, num_leaves=491,\n",
       "               objective='xentropy', random_state=None, reg_alpha=0.0,\n",
       "               reg_lambda=0.0, seed=42, silent=True, subsample=1.0,\n",
       "               subsample_for_bin=200000, ...)"
      ]
     },
     "execution_count": 53,
     "metadata": {},
     "output_type": "execute_result"
    }
   ],
   "source": [
    "lgb_model = lgb.LGBMClassifier(**params)\n",
    "lgb_model.fit(train[X_cols], train.isFraud)"
   ]
  },
  {
   "cell_type": "code",
   "execution_count": 54,
   "metadata": {},
   "outputs": [],
   "source": [
    "X_test = test[X.columns]"
   ]
  },
  {
   "cell_type": "code",
   "execution_count": 55,
   "metadata": {},
   "outputs": [],
   "source": [
    "y_preds = lgb_model.predict_proba(X_test)"
   ]
  },
  {
   "cell_type": "code",
   "execution_count": 56,
   "metadata": {},
   "outputs": [],
   "source": [
    "df_sub = pd.read_csv(data_folder+'/sample_submission.csv')"
   ]
  },
  {
   "cell_type": "code",
   "execution_count": 57,
   "metadata": {},
   "outputs": [],
   "source": [
    "df_sub['isFraud'] = y_preds[:,1]"
   ]
  },
  {
   "cell_type": "code",
   "execution_count": 58,
   "metadata": {},
   "outputs": [],
   "source": [
    "df_sub.to_csv('submissions/benchmark_ft_selection_ft_eng_0_1257_rounds.csv', sep=',', header=True, index=None)"
   ]
  },
  {
   "cell_type": "code",
   "execution_count": null,
   "metadata": {},
   "outputs": [],
   "source": []
  },
  {
   "cell_type": "markdown",
   "metadata": {},
   "source": [
    "# CatBoost"
   ]
  },
  {
   "cell_type": "code",
   "execution_count": 10,
   "metadata": {},
   "outputs": [],
   "source": [
    "from catboost import CatBoostClassifier"
   ]
  },
  {
   "cell_type": "code",
   "execution_count": 11,
   "metadata": {},
   "outputs": [],
   "source": [
    "cat_ft_id = list()\n",
    "n = 0\n",
    "for c in X_cols:\n",
    "    if c in cat_ft:\n",
    "        cat_ft_id.append(n)\n",
    "    n += 1"
   ]
  },
  {
   "cell_type": "code",
   "execution_count": 12,
   "metadata": {},
   "outputs": [],
   "source": [
    "params = {'depth':11,\n",
    "          'iterations':20000,\n",
    "          'eval_metric':'AUC',\n",
    "          'random_seed':42,\n",
    "          'logging_level':'Verbose',\n",
    "          'allow_writing_files':False,\n",
    "          'early_stopping_rounds':20,\n",
    "          'learning_rate':0.01,\n",
    "          'thread_count':8,\n",
    "          'boosting_type':'Plain',\n",
    "          'bootstrap_type':'Bernoulli',\n",
    "          'rsm':0.6}"
   ]
  },
  {
   "cell_type": "code",
   "execution_count": 13,
   "metadata": {},
   "outputs": [],
   "source": [
    "model_cb = CatBoostClassifier(**params)"
   ]
  },
  {
   "cell_type": "code",
   "execution_count": 14,
   "metadata": {
    "scrolled": true
   },
   "outputs": [
    {
     "name": "stdout",
     "output_type": "stream",
     "text": [
      "0:\ttest: 0.7419593\tbest: 0.7419593 (0)\ttotal: 5.13s\tremaining: 1d 4h 28m 23s\n",
      "50:\ttest: 0.8405590\tbest: 0.8405590 (50)\ttotal: 3m 43s\tremaining: 1d 16m 48s\n",
      "100:\ttest: 0.8566219\tbest: 0.8566219 (100)\ttotal: 8m 19s\tremaining: 1d 3h 20m 55s\n",
      "150:\ttest: 0.8785868\tbest: 0.8785868 (150)\ttotal: 13m 45s\tremaining: 1d 6h 9m 17s\n",
      "200:\ttest: 0.8945481\tbest: 0.8945481 (200)\ttotal: 20m 19s\tremaining: 1d 9h 21m 55s\n",
      "250:\ttest: 0.8979413\tbest: 0.8979606 (249)\ttotal: 27m 7s\tremaining: 1d 11h 34m 29s\n",
      "300:\ttest: 0.9006662\tbest: 0.9006662 (300)\ttotal: 33m 5s\tremaining: 1d 12h 6m 4s\n",
      "350:\ttest: 0.9033150\tbest: 0.9033150 (350)\ttotal: 38m 52s\tremaining: 1d 12h 15m 46s\n",
      "400:\ttest: 0.9055165\tbest: 0.9055165 (400)\ttotal: 44m 21s\tremaining: 1d 12h 7m 46s\n",
      "450:\ttest: 0.9077800\tbest: 0.9077800 (450)\ttotal: 49m 53s\tremaining: 1d 12h 2m 54s\n",
      "500:\ttest: 0.9093310\tbest: 0.9093310 (500)\ttotal: 55m 25s\tremaining: 1d 11h 56m 59s\n",
      "550:\ttest: 0.9110644\tbest: 0.9110644 (550)\ttotal: 1h 1m 5s\tremaining: 1d 11h 56m 40s\n",
      "600:\ttest: 0.9129465\tbest: 0.9129540 (597)\ttotal: 1h 6m 19s\tremaining: 1d 11h 41m 2s\n",
      "650:\ttest: 0.9141980\tbest: 0.9141980 (650)\ttotal: 1h 11m 48s\tremaining: 1d 11h 34m 30s\n",
      "700:\ttest: 0.9153096\tbest: 0.9153096 (700)\ttotal: 1h 17m 21s\tremaining: 1d 11h 29m 33s\n",
      "750:\ttest: 0.9162646\tbest: 0.9162650 (749)\ttotal: 1h 22m 45s\tremaining: 1d 11h 21m 15s\n",
      "800:\ttest: 0.9169494\tbest: 0.9169494 (800)\ttotal: 1h 28m 27s\tremaining: 1d 11h 20m 13s\n",
      "850:\ttest: 0.9176942\tbest: 0.9176942 (850)\ttotal: 1h 33m 56s\tremaining: 1d 11h 14m\n",
      "900:\ttest: 0.9184687\tbest: 0.9184687 (900)\ttotal: 1h 39m 15s\tremaining: 1d 11h 4m 3s\n",
      "950:\ttest: 0.9191723\tbest: 0.9191723 (950)\ttotal: 1h 44m 53s\tremaining: 1d 11h 55s\n",
      "1000:\ttest: 0.9196873\tbest: 0.9196873 (1000)\ttotal: 1h 50m 3s\tremaining: 1d 10h 48m 58s\n",
      "1050:\ttest: 0.9202703\tbest: 0.9202703 (1050)\ttotal: 1h 55m 22s\tremaining: 1d 10h 40m 15s\n",
      "1100:\ttest: 0.9208669\tbest: 0.9208669 (1100)\ttotal: 2h 43s\tremaining: 1d 10h 32m 17s\n",
      "1150:\ttest: 0.9213710\tbest: 0.9213767 (1149)\ttotal: 2h 6m 4s\tremaining: 1d 10h 24m 32s\n",
      "1200:\ttest: 0.9217985\tbest: 0.9217985 (1200)\ttotal: 2h 11m 26s\tremaining: 1d 10h 17m 17s\n",
      "1250:\ttest: 0.9222045\tbest: 0.9222045 (1250)\ttotal: 2h 16m 34s\tremaining: 1d 10h 6m 52s\n",
      "1300:\ttest: 0.9225693\tbest: 0.9225702 (1299)\ttotal: 2h 21m 51s\tremaining: 1d 9h 58m 57s\n",
      "1350:\ttest: 0.9229427\tbest: 0.9229427 (1350)\ttotal: 2h 26m 59s\tremaining: 1d 9h 48m 57s\n",
      "1400:\ttest: 0.9234475\tbest: 0.9234475 (1400)\ttotal: 2h 32m 20s\tremaining: 1d 9h 42m 24s\n",
      "1450:\ttest: 0.9238794\tbest: 0.9238794 (1450)\ttotal: 2h 37m 52s\tremaining: 1d 9h 38m 15s\n",
      "1500:\ttest: 0.9241935\tbest: 0.9242014 (1498)\ttotal: 2h 43m 33s\tremaining: 1d 9h 35m 44s\n",
      "1550:\ttest: 0.9244451\tbest: 0.9244520 (1548)\ttotal: 2h 49m 14s\tremaining: 1d 9h 33m 6s\n",
      "1600:\ttest: 0.9247959\tbest: 0.9247959 (1600)\ttotal: 2h 54m 49s\tremaining: 1d 9h 29m 7s\n",
      "1650:\ttest: 0.9250598\tbest: 0.9250598 (1650)\ttotal: 3h 18s\tremaining: 1d 9h 23m 59s\n",
      "1700:\ttest: 0.9253532\tbest: 0.9253549 (1699)\ttotal: 3h 5m 42s\tremaining: 1d 9h 17m 48s\n",
      "1750:\ttest: 0.9255670\tbest: 0.9255671 (1749)\ttotal: 3h 11m 20s\tremaining: 1d 9h 14m 11s\n",
      "1800:\ttest: 0.9258141\tbest: 0.9258141 (1800)\ttotal: 3h 16m 45s\tremaining: 1d 9h 8m 13s\n",
      "1850:\ttest: 0.9259591\tbest: 0.9259591 (1850)\ttotal: 3h 22m 31s\tremaining: 1d 9h 5m 48s\n",
      "1900:\ttest: 0.9262272\tbest: 0.9262292 (1899)\ttotal: 3h 28m 4s\tremaining: 1d 9h 58s\n",
      "1950:\ttest: 0.9265439\tbest: 0.9265445 (1949)\ttotal: 3h 33m 44s\tremaining: 1d 8h 57m 22s\n",
      "2000:\ttest: 0.9266610\tbest: 0.9266636 (1984)\ttotal: 3h 39m 18s\tremaining: 1d 8h 52m 36s\n",
      "2050:\ttest: 0.9268974\tbest: 0.9268974 (2050)\ttotal: 3h 44m 39s\tremaining: 1d 8h 46m 1s\n",
      "2100:\ttest: 0.9270994\tbest: 0.9271052 (2092)\ttotal: 3h 50m 13s\tremaining: 1d 8h 41m 17s\n",
      "2150:\ttest: 0.9272372\tbest: 0.9272372 (2150)\ttotal: 3h 55m 43s\tremaining: 1d 8h 36m 3s\n",
      "2200:\ttest: 0.9273473\tbest: 0.9273617 (2192)\ttotal: 4h 1m 15s\tremaining: 1d 8h 31m 1s\n",
      "2250:\ttest: 0.9275805\tbest: 0.9275805 (2250)\ttotal: 4h 6m 46s\tremaining: 1d 8h 25m 50s\n",
      "2300:\ttest: 0.9277764\tbest: 0.9277764 (2300)\ttotal: 4h 12m 9s\tremaining: 1d 8h 19m 37s\n",
      "2350:\ttest: 0.9279420\tbest: 0.9279424 (2348)\ttotal: 4h 17m 33s\tremaining: 1d 8h 13m 27s\n",
      "2400:\ttest: 0.9280860\tbest: 0.9280860 (2400)\ttotal: 4h 23m 7s\tremaining: 1d 8h 8m 39s\n",
      "2450:\ttest: 0.9281617\tbest: 0.9281617 (2450)\ttotal: 4h 28m 35s\tremaining: 1d 8h 3m 7s\n",
      "2500:\ttest: 0.9282276\tbest: 0.9282427 (2486)\ttotal: 4h 34m 18s\tremaining: 1d 7h 59m 18s\n",
      "Stopped by overfitting detector  (20 iterations wait)\n",
      "\n",
      "bestTest = 0.9282427031\n",
      "bestIteration = 2486\n",
      "\n",
      "Shrink model to first 2487 iterations.\n"
     ]
    },
    {
     "data": {
      "text/plain": [
       "<catboost.core.CatBoostClassifier at 0x7fb84edadcc0>"
      ]
     },
     "execution_count": 14,
     "metadata": {},
     "output_type": "execute_result"
    }
   ],
   "source": [
    "gc.collect()\n",
    "model_cb.fit(X_train,\n",
    "             y_train,\n",
    "             cat_features=cat_ft_id,\n",
    "             eval_set=(X_test, y_test),\n",
    "             verbose=50\n",
    "             )"
   ]
  },
  {
   "cell_type": "code",
   "execution_count": 15,
   "metadata": {},
   "outputs": [],
   "source": [
    "params['iterations'] = int(model_cb.best_iteration_*1.1)"
   ]
  },
  {
   "cell_type": "code",
   "execution_count": 16,
   "metadata": {},
   "outputs": [
    {
     "name": "stdout",
     "output_type": "stream",
     "text": [
      "0:\ttotal: 744ms\tremaining: 33m 52s\n",
      "200:\ttotal: 2m 34s\tremaining: 32m 25s\n",
      "400:\ttotal: 5m 8s\tremaining: 29m 56s\n",
      "600:\ttotal: 7m 43s\tremaining: 27m 23s\n",
      "800:\ttotal: 10m 17s\tremaining: 24m 50s\n",
      "1000:\ttotal: 12m 52s\tremaining: 22m 16s\n",
      "1200:\ttotal: 15m 26s\tremaining: 19m 42s\n",
      "1400:\ttotal: 18m 1s\tremaining: 17m 8s\n",
      "1600:\ttotal: 20m 35s\tremaining: 14m 34s\n",
      "1800:\ttotal: 23m 10s\tremaining: 12m\n",
      "2000:\ttotal: 25m 45s\tremaining: 9m 25s\n",
      "2200:\ttotal: 28m 19s\tremaining: 6m 51s\n",
      "2400:\ttotal: 30m 53s\tremaining: 4m 17s\n",
      "2600:\ttotal: 33m 27s\tremaining: 1m 42s\n",
      "2733:\ttotal: 35m 10s\tremaining: 0us\n"
     ]
    },
    {
     "data": {
      "text/plain": [
       "<catboost.core.CatBoostClassifier at 0x7fb84e784c88>"
      ]
     },
     "execution_count": 16,
     "metadata": {},
     "output_type": "execute_result"
    }
   ],
   "source": [
    "model_cb = CatBoostClassifier(**params)\n",
    "model_cb.fit(train[X_cols], train.isFraud, verbose = 200)"
   ]
  },
  {
   "cell_type": "code",
   "execution_count": 17,
   "metadata": {},
   "outputs": [],
   "source": [
    "X_test = test[X.columns]"
   ]
  },
  {
   "cell_type": "code",
   "execution_count": 18,
   "metadata": {},
   "outputs": [],
   "source": [
    "y_preds = model_cb.predict_proba(X_test)"
   ]
  },
  {
   "cell_type": "code",
   "execution_count": 19,
   "metadata": {},
   "outputs": [],
   "source": [
    "df_sub = pd.read_csv(data_folder+'/sample_submission.csv')"
   ]
  },
  {
   "cell_type": "code",
   "execution_count": 20,
   "metadata": {},
   "outputs": [],
   "source": [
    "df_sub['isFraud'] = y_preds[:,1]"
   ]
  },
  {
   "cell_type": "code",
   "execution_count": 21,
   "metadata": {},
   "outputs": [],
   "source": [
    "df_sub.to_csv('submissions/benchmark_ft_selection_ft_eng_0_catboost.csv', sep=',', header=True, index=None)"
   ]
  },
  {
   "cell_type": "code",
   "execution_count": null,
   "metadata": {},
   "outputs": [],
   "source": []
  }
 ],
 "metadata": {
  "kernelspec": {
   "display_name": "Python 3",
   "language": "python",
   "name": "python3"
  },
  "language_info": {
   "codemirror_mode": {
    "name": "ipython",
    "version": 3
   },
   "file_extension": ".py",
   "mimetype": "text/x-python",
   "name": "python",
   "nbconvert_exporter": "python",
   "pygments_lexer": "ipython3",
   "version": "3.6.8"
  }
 },
 "nbformat": 4,
 "nbformat_minor": 2
}
